{
 "cells": [
  {
   "cell_type": "markdown",
   "metadata": {},
   "source": [
    "# Plotly and Cufflinks"
   ]
  },
  {
   "cell_type": "markdown",
   "metadata": {},
   "source": [
    "Plotly is a library that allows you to create interactive plots that you can use in dashboards or websites (you can save them as html files or static images).\n",
    "\n",
    "\n",
    "## Imports and Set-up"
   ]
  },
  {
   "cell_type": "code",
   "execution_count": 1,
   "metadata": {},
   "outputs": [],
   "source": [
    "import pandas as pd\n",
    "import numpy as np\n",
    "%matplotlib inline"
   ]
  },
  {
   "cell_type": "code",
   "execution_count": 4,
   "metadata": {},
   "outputs": [
    {
     "name": "stdout",
     "output_type": "stream",
     "text": [
      "4.7.1\n"
     ]
    }
   ],
   "source": [
    "from plotly import __version__\n",
    "from plotly.offline import download_plotlyjs, init_notebook_mode, plot, iplot\n",
    "\n",
    "print(__version__) # requires version >= 1.9.0"
   ]
  },
  {
   "cell_type": "code",
   "execution_count": 6,
   "metadata": {},
   "outputs": [],
   "source": [
    "import cufflinks as cf"
   ]
  },
  {
   "cell_type": "code",
   "execution_count": 7,
   "metadata": {},
   "outputs": [
    {
     "data": {
      "text/html": [
       "        <script type=\"text/javascript\">\n",
       "        window.PlotlyConfig = {MathJaxConfig: 'local'};\n",
       "        if (window.MathJax) {MathJax.Hub.Config({SVG: {font: \"STIX-Web\"}});}\n",
       "        if (typeof require !== 'undefined') {\n",
       "        require.undef(\"plotly\");\n",
       "        requirejs.config({\n",
       "            paths: {\n",
       "                'plotly': ['https://cdn.plot.ly/plotly-latest.min']\n",
       "            }\n",
       "        });\n",
       "        require(['plotly'], function(Plotly) {\n",
       "            window._Plotly = Plotly;\n",
       "        });\n",
       "        }\n",
       "        </script>\n",
       "        "
      ]
     },
     "metadata": {},
     "output_type": "display_data"
    }
   ],
   "source": [
    "# For Notebooks\n",
    "init_notebook_mode(connected=True)"
   ]
  },
  {
   "cell_type": "code",
   "execution_count": 8,
   "metadata": {},
   "outputs": [
    {
     "data": {
      "text/html": [
       "        <script type=\"text/javascript\">\n",
       "        window.PlotlyConfig = {MathJaxConfig: 'local'};\n",
       "        if (window.MathJax) {MathJax.Hub.Config({SVG: {font: \"STIX-Web\"}});}\n",
       "        if (typeof require !== 'undefined') {\n",
       "        require.undef(\"plotly\");\n",
       "        requirejs.config({\n",
       "            paths: {\n",
       "                'plotly': ['https://cdn.plot.ly/plotly-latest.min']\n",
       "            }\n",
       "        });\n",
       "        require(['plotly'], function(Plotly) {\n",
       "            window._Plotly = Plotly;\n",
       "        });\n",
       "        }\n",
       "        </script>\n",
       "        "
      ]
     },
     "metadata": {},
     "output_type": "display_data"
    }
   ],
   "source": [
    "# For offline use\n",
    "cf.go_offline()"
   ]
  },
  {
   "cell_type": "markdown",
   "metadata": {},
   "source": [
    "### Fake Data"
   ]
  },
  {
   "cell_type": "code",
   "execution_count": 9,
   "metadata": {},
   "outputs": [],
   "source": [
    "df = pd.DataFrame(np.random.randn(100,4),columns='A B C D'.split())"
   ]
  },
  {
   "cell_type": "code",
   "execution_count": 10,
   "metadata": {},
   "outputs": [
    {
     "data": {
      "text/html": [
       "<div>\n",
       "<style scoped>\n",
       "    .dataframe tbody tr th:only-of-type {\n",
       "        vertical-align: middle;\n",
       "    }\n",
       "\n",
       "    .dataframe tbody tr th {\n",
       "        vertical-align: top;\n",
       "    }\n",
       "\n",
       "    .dataframe thead th {\n",
       "        text-align: right;\n",
       "    }\n",
       "</style>\n",
       "<table border=\"1\" class=\"dataframe\">\n",
       "  <thead>\n",
       "    <tr style=\"text-align: right;\">\n",
       "      <th></th>\n",
       "      <th>A</th>\n",
       "      <th>B</th>\n",
       "      <th>C</th>\n",
       "      <th>D</th>\n",
       "    </tr>\n",
       "  </thead>\n",
       "  <tbody>\n",
       "    <tr>\n",
       "      <th>0</th>\n",
       "      <td>1.022864</td>\n",
       "      <td>1.514107</td>\n",
       "      <td>0.693379</td>\n",
       "      <td>0.056190</td>\n",
       "    </tr>\n",
       "    <tr>\n",
       "      <th>1</th>\n",
       "      <td>2.078102</td>\n",
       "      <td>1.317092</td>\n",
       "      <td>0.863140</td>\n",
       "      <td>0.369428</td>\n",
       "    </tr>\n",
       "    <tr>\n",
       "      <th>2</th>\n",
       "      <td>0.515876</td>\n",
       "      <td>-1.251360</td>\n",
       "      <td>0.208161</td>\n",
       "      <td>0.980239</td>\n",
       "    </tr>\n",
       "    <tr>\n",
       "      <th>3</th>\n",
       "      <td>-1.485723</td>\n",
       "      <td>-0.202754</td>\n",
       "      <td>2.027767</td>\n",
       "      <td>0.962700</td>\n",
       "    </tr>\n",
       "    <tr>\n",
       "      <th>4</th>\n",
       "      <td>1.107790</td>\n",
       "      <td>0.042839</td>\n",
       "      <td>-0.430397</td>\n",
       "      <td>1.300455</td>\n",
       "    </tr>\n",
       "  </tbody>\n",
       "</table>\n",
       "</div>"
      ],
      "text/plain": [
       "          A         B         C         D\n",
       "0  1.022864  1.514107  0.693379  0.056190\n",
       "1  2.078102  1.317092  0.863140  0.369428\n",
       "2  0.515876 -1.251360  0.208161  0.980239\n",
       "3 -1.485723 -0.202754  2.027767  0.962700\n",
       "4  1.107790  0.042839 -0.430397  1.300455"
      ]
     },
     "execution_count": 10,
     "metadata": {},
     "output_type": "execute_result"
    }
   ],
   "source": [
    "df.head()"
   ]
  },
  {
   "cell_type": "code",
   "execution_count": 11,
   "metadata": {},
   "outputs": [],
   "source": [
    "df2 = pd.DataFrame({'Category':['A','B','C'],'Values':[32,43,50]})"
   ]
  },
  {
   "cell_type": "code",
   "execution_count": 12,
   "metadata": {},
   "outputs": [
    {
     "data": {
      "text/html": [
       "<div>\n",
       "<style scoped>\n",
       "    .dataframe tbody tr th:only-of-type {\n",
       "        vertical-align: middle;\n",
       "    }\n",
       "\n",
       "    .dataframe tbody tr th {\n",
       "        vertical-align: top;\n",
       "    }\n",
       "\n",
       "    .dataframe thead th {\n",
       "        text-align: right;\n",
       "    }\n",
       "</style>\n",
       "<table border=\"1\" class=\"dataframe\">\n",
       "  <thead>\n",
       "    <tr style=\"text-align: right;\">\n",
       "      <th></th>\n",
       "      <th>Category</th>\n",
       "      <th>Values</th>\n",
       "    </tr>\n",
       "  </thead>\n",
       "  <tbody>\n",
       "    <tr>\n",
       "      <th>0</th>\n",
       "      <td>A</td>\n",
       "      <td>32</td>\n",
       "    </tr>\n",
       "    <tr>\n",
       "      <th>1</th>\n",
       "      <td>B</td>\n",
       "      <td>43</td>\n",
       "    </tr>\n",
       "    <tr>\n",
       "      <th>2</th>\n",
       "      <td>C</td>\n",
       "      <td>50</td>\n",
       "    </tr>\n",
       "  </tbody>\n",
       "</table>\n",
       "</div>"
      ],
      "text/plain": [
       "  Category  Values\n",
       "0        A      32\n",
       "1        B      43\n",
       "2        C      50"
      ]
     },
     "execution_count": 12,
     "metadata": {},
     "output_type": "execute_result"
    }
   ],
   "source": [
    "df2.head()"
   ]
  },
  {
   "cell_type": "markdown",
   "metadata": {},
   "source": [
    "## Using Cufflinks and iplot()\n",
    "\n",
    "* scatter\n",
    "* bar\n",
    "* box\n",
    "* spread\n",
    "* ratio\n",
    "* heatmap\n",
    "* surface\n",
    "* histogram\n",
    "* bubble"
   ]
  },
  {
   "cell_type": "markdown",
   "metadata": {},
   "source": [
    "## Scatter"
   ]
  },
  {
   "cell_type": "code",
   "execution_count": 13,
   "metadata": {},
   "outputs": [
    {
     "data": {
      "application/vnd.plotly.v1+json": {
       "config": {
        "linkText": "Export to plot.ly",
        "plotlyServerURL": "https://plot.ly",
        "showLink": true
       },
       "data": [
        {
         "line": {
          "color": "rgba(255, 153, 51, 1.0)",
          "dash": "solid",
          "shape": "linear",
          "width": 1.3
         },
         "marker": {
          "size": 10,
          "symbol": "circle"
         },
         "mode": "markers",
         "name": "B",
         "text": "",
         "type": "scatter",
         "x": [
          1.0228643665915085,
          2.078102285193514,
          0.5158761667916655,
          -1.4857226758011213,
          1.1077899573724663,
          0.2928304928477981,
          0.08180311043452258,
          -0.8398530251478752,
          1.3175894476736056,
          1.2978189929523019,
          0.17520201513727157,
          0.13470956074463153,
          -0.018281469699972675,
          0.8636862501760922,
          0.854931415770735,
          -2.31890408029755,
          -0.28203176898922466,
          -0.4174329968596667,
          -1.503218670415323,
          -0.18860321509438102,
          -0.7529022721721581,
          -2.570027995821825,
          -1.2277556562626448,
          1.1348793153157908,
          0.6875961744242264,
          -0.2753527351696327,
          -1.1690704197924868,
          -0.08904043768740891,
          -0.7045947505690036,
          0.7853038385361636,
          -1.8662616235543097,
          -0.6715946774492092,
          0.14140540623443235,
          1.3745450625176414,
          -0.4591638710115532,
          -1.5319228881869125,
          1.2028181597771725,
          1.2393746284609601,
          -0.6500507894760755,
          -0.21417262573551185,
          -0.9313021954607845,
          1.4704143399240799,
          -0.19491831985513233,
          -0.9638924891142663,
          -0.5602620061156413,
          1.068653338611267,
          -0.28644653661110253,
          -1.297988288985895,
          0.6231907143360257,
          0.16444560852194856,
          -2.932907068675399,
          0.3219885191550619,
          -0.028948928296179757,
          1.5784640369464342,
          -1.0274983429401636,
          -0.43916117057086185,
          -0.426287302067674,
          -0.6092424312797955,
          -0.964214418090293,
          0.746369898931979,
          0.7237930721167293,
          -0.10665138799427454,
          1.0654356336753241,
          0.4150648593531338,
          0.5325737757365044,
          1.1434825925461756,
          0.19354088689971932,
          0.9721115249390958,
          0.01669477482715258,
          -0.5505029172817046,
          0.7152130788861849,
          -0.2245739409808382,
          -1.442887718560802,
          0.7569709318575875,
          -0.47768834110432884,
          -0.29411149822300764,
          0.12293170873575046,
          2.6946585797040616,
          0.6374185448442311,
          1.2952490195484176,
          0.02672722368465936,
          0.6707412178690879,
          0.6261665975706423,
          0.9897175184180778,
          -0.6206278701414436,
          -0.39026888701340817,
          0.4893873581585123,
          -1.846657196452513,
          -1.5247262152509458,
          2.3050474743024325,
          -0.8013803613983328,
          0.07982339735858235,
          -1.3690892621838988,
          -0.9644454717774649,
          0.5352164593595689,
          0.94834773112565,
          -1.8003266447589534,
          -1.0044384424427626,
          0.8333440027795855,
          -0.8904685620304708
         ],
         "y": [
          1.5141072432731078,
          1.3170923237060794,
          -1.2513598809475768,
          -0.20275432049873324,
          0.04283920687179462,
          -0.08198349502163418,
          -0.17527587292137195,
          -0.16422933085451655,
          -0.10949108877275467,
          0.01078502521025764,
          -0.142156670759665,
          0.535117716801839,
          0.11086446473816583,
          -1.2936877961444537,
          -0.4375644008191952,
          -0.17897112491722345,
          -1.024123352271027,
          -0.33933873174526424,
          0.4260696746455677,
          -0.5625645460881664,
          0.5594555584770827,
          -0.7278302611994535,
          0.2810175524087304,
          0.9491286356166035,
          0.6243073965868807,
          -0.4771339712795888,
          0.3902324728016761,
          -1.0658694939365105,
          -0.49638173288238013,
          -0.7723608586748788,
          -0.3583424525867705,
          1.0109681194818183,
          0.30756936188984574,
          1.439887634410778,
          2.7589740571186803,
          0.013419866304679555,
          -0.8381998836780817,
          0.2809158709836502,
          -0.04285707840302234,
          1.1894315670021485,
          0.4541141891865138,
          0.7365427955903368,
          0.7615628554124507,
          0.7593673768097888,
          -1.456476130196915,
          -0.04274711258224199,
          -1.1169373827498756,
          0.26397190431587925,
          0.267896444013153,
          0.9503102026463995,
          -0.6109902535336791,
          0.9889541101801155,
          0.5394973692501939,
          0.06037484857144976,
          0.9395003143245638,
          1.0746673198039558,
          -1.8919124007160064,
          0.8911063236978104,
          0.7206902756080743,
          -0.05381056467822287,
          -0.07977933156171538,
          1.71482576145405,
          -0.5043033782351627,
          -1.629661959427632,
          0.6808764508865055,
          1.1696252116148629,
          -1.0520992102224875,
          0.687739553848473,
          -0.849204644269452,
          0.4511280211640707,
          -0.20689846332809914,
          -0.9098463581849429,
          1.6987065729946769,
          -0.16512570553715297,
          -0.256922359989604,
          1.7432405215820297,
          1.2967704364685568,
          1.4583072575830145,
          -1.4210266514879522,
          0.1331227414103682,
          1.3085817597898504,
          -0.3959354674886219,
          -1.4911834610915695,
          1.2706198453298128,
          0.6093484061842721,
          0.7111587835583064,
          1.0459312680400894,
          -0.9627794132590002,
          0.04234451007099024,
          2.253503873221812,
          -1.3102931449745447,
          -0.7049178036933245,
          0.32964633934100174,
          0.35516682842767844,
          1.6832239408703678,
          -0.21291187277689125,
          -0.04556588313452348,
          -0.34362920185315665,
          1.8283057057526904,
          -0.6443763600103907
         ]
        }
       ],
       "layout": {
        "legend": {
         "bgcolor": "#F5F6F9",
         "font": {
          "color": "#4D5663"
         }
        },
        "paper_bgcolor": "#F5F6F9",
        "plot_bgcolor": "#F5F6F9",
        "template": {
         "data": {
          "bar": [
           {
            "error_x": {
             "color": "#2a3f5f"
            },
            "error_y": {
             "color": "#2a3f5f"
            },
            "marker": {
             "line": {
              "color": "#E5ECF6",
              "width": 0.5
             }
            },
            "type": "bar"
           }
          ],
          "barpolar": [
           {
            "marker": {
             "line": {
              "color": "#E5ECF6",
              "width": 0.5
             }
            },
            "type": "barpolar"
           }
          ],
          "carpet": [
           {
            "aaxis": {
             "endlinecolor": "#2a3f5f",
             "gridcolor": "white",
             "linecolor": "white",
             "minorgridcolor": "white",
             "startlinecolor": "#2a3f5f"
            },
            "baxis": {
             "endlinecolor": "#2a3f5f",
             "gridcolor": "white",
             "linecolor": "white",
             "minorgridcolor": "white",
             "startlinecolor": "#2a3f5f"
            },
            "type": "carpet"
           }
          ],
          "choropleth": [
           {
            "colorbar": {
             "outlinewidth": 0,
             "ticks": ""
            },
            "type": "choropleth"
           }
          ],
          "contour": [
           {
            "colorbar": {
             "outlinewidth": 0,
             "ticks": ""
            },
            "colorscale": [
             [
              0,
              "#0d0887"
             ],
             [
              0.1111111111111111,
              "#46039f"
             ],
             [
              0.2222222222222222,
              "#7201a8"
             ],
             [
              0.3333333333333333,
              "#9c179e"
             ],
             [
              0.4444444444444444,
              "#bd3786"
             ],
             [
              0.5555555555555556,
              "#d8576b"
             ],
             [
              0.6666666666666666,
              "#ed7953"
             ],
             [
              0.7777777777777778,
              "#fb9f3a"
             ],
             [
              0.8888888888888888,
              "#fdca26"
             ],
             [
              1,
              "#f0f921"
             ]
            ],
            "type": "contour"
           }
          ],
          "contourcarpet": [
           {
            "colorbar": {
             "outlinewidth": 0,
             "ticks": ""
            },
            "type": "contourcarpet"
           }
          ],
          "heatmap": [
           {
            "colorbar": {
             "outlinewidth": 0,
             "ticks": ""
            },
            "colorscale": [
             [
              0,
              "#0d0887"
             ],
             [
              0.1111111111111111,
              "#46039f"
             ],
             [
              0.2222222222222222,
              "#7201a8"
             ],
             [
              0.3333333333333333,
              "#9c179e"
             ],
             [
              0.4444444444444444,
              "#bd3786"
             ],
             [
              0.5555555555555556,
              "#d8576b"
             ],
             [
              0.6666666666666666,
              "#ed7953"
             ],
             [
              0.7777777777777778,
              "#fb9f3a"
             ],
             [
              0.8888888888888888,
              "#fdca26"
             ],
             [
              1,
              "#f0f921"
             ]
            ],
            "type": "heatmap"
           }
          ],
          "heatmapgl": [
           {
            "colorbar": {
             "outlinewidth": 0,
             "ticks": ""
            },
            "colorscale": [
             [
              0,
              "#0d0887"
             ],
             [
              0.1111111111111111,
              "#46039f"
             ],
             [
              0.2222222222222222,
              "#7201a8"
             ],
             [
              0.3333333333333333,
              "#9c179e"
             ],
             [
              0.4444444444444444,
              "#bd3786"
             ],
             [
              0.5555555555555556,
              "#d8576b"
             ],
             [
              0.6666666666666666,
              "#ed7953"
             ],
             [
              0.7777777777777778,
              "#fb9f3a"
             ],
             [
              0.8888888888888888,
              "#fdca26"
             ],
             [
              1,
              "#f0f921"
             ]
            ],
            "type": "heatmapgl"
           }
          ],
          "histogram": [
           {
            "marker": {
             "colorbar": {
              "outlinewidth": 0,
              "ticks": ""
             }
            },
            "type": "histogram"
           }
          ],
          "histogram2d": [
           {
            "colorbar": {
             "outlinewidth": 0,
             "ticks": ""
            },
            "colorscale": [
             [
              0,
              "#0d0887"
             ],
             [
              0.1111111111111111,
              "#46039f"
             ],
             [
              0.2222222222222222,
              "#7201a8"
             ],
             [
              0.3333333333333333,
              "#9c179e"
             ],
             [
              0.4444444444444444,
              "#bd3786"
             ],
             [
              0.5555555555555556,
              "#d8576b"
             ],
             [
              0.6666666666666666,
              "#ed7953"
             ],
             [
              0.7777777777777778,
              "#fb9f3a"
             ],
             [
              0.8888888888888888,
              "#fdca26"
             ],
             [
              1,
              "#f0f921"
             ]
            ],
            "type": "histogram2d"
           }
          ],
          "histogram2dcontour": [
           {
            "colorbar": {
             "outlinewidth": 0,
             "ticks": ""
            },
            "colorscale": [
             [
              0,
              "#0d0887"
             ],
             [
              0.1111111111111111,
              "#46039f"
             ],
             [
              0.2222222222222222,
              "#7201a8"
             ],
             [
              0.3333333333333333,
              "#9c179e"
             ],
             [
              0.4444444444444444,
              "#bd3786"
             ],
             [
              0.5555555555555556,
              "#d8576b"
             ],
             [
              0.6666666666666666,
              "#ed7953"
             ],
             [
              0.7777777777777778,
              "#fb9f3a"
             ],
             [
              0.8888888888888888,
              "#fdca26"
             ],
             [
              1,
              "#f0f921"
             ]
            ],
            "type": "histogram2dcontour"
           }
          ],
          "mesh3d": [
           {
            "colorbar": {
             "outlinewidth": 0,
             "ticks": ""
            },
            "type": "mesh3d"
           }
          ],
          "parcoords": [
           {
            "line": {
             "colorbar": {
              "outlinewidth": 0,
              "ticks": ""
             }
            },
            "type": "parcoords"
           }
          ],
          "pie": [
           {
            "automargin": true,
            "type": "pie"
           }
          ],
          "scatter": [
           {
            "marker": {
             "colorbar": {
              "outlinewidth": 0,
              "ticks": ""
             }
            },
            "type": "scatter"
           }
          ],
          "scatter3d": [
           {
            "line": {
             "colorbar": {
              "outlinewidth": 0,
              "ticks": ""
             }
            },
            "marker": {
             "colorbar": {
              "outlinewidth": 0,
              "ticks": ""
             }
            },
            "type": "scatter3d"
           }
          ],
          "scattercarpet": [
           {
            "marker": {
             "colorbar": {
              "outlinewidth": 0,
              "ticks": ""
             }
            },
            "type": "scattercarpet"
           }
          ],
          "scattergeo": [
           {
            "marker": {
             "colorbar": {
              "outlinewidth": 0,
              "ticks": ""
             }
            },
            "type": "scattergeo"
           }
          ],
          "scattergl": [
           {
            "marker": {
             "colorbar": {
              "outlinewidth": 0,
              "ticks": ""
             }
            },
            "type": "scattergl"
           }
          ],
          "scattermapbox": [
           {
            "marker": {
             "colorbar": {
              "outlinewidth": 0,
              "ticks": ""
             }
            },
            "type": "scattermapbox"
           }
          ],
          "scatterpolar": [
           {
            "marker": {
             "colorbar": {
              "outlinewidth": 0,
              "ticks": ""
             }
            },
            "type": "scatterpolar"
           }
          ],
          "scatterpolargl": [
           {
            "marker": {
             "colorbar": {
              "outlinewidth": 0,
              "ticks": ""
             }
            },
            "type": "scatterpolargl"
           }
          ],
          "scatterternary": [
           {
            "marker": {
             "colorbar": {
              "outlinewidth": 0,
              "ticks": ""
             }
            },
            "type": "scatterternary"
           }
          ],
          "surface": [
           {
            "colorbar": {
             "outlinewidth": 0,
             "ticks": ""
            },
            "colorscale": [
             [
              0,
              "#0d0887"
             ],
             [
              0.1111111111111111,
              "#46039f"
             ],
             [
              0.2222222222222222,
              "#7201a8"
             ],
             [
              0.3333333333333333,
              "#9c179e"
             ],
             [
              0.4444444444444444,
              "#bd3786"
             ],
             [
              0.5555555555555556,
              "#d8576b"
             ],
             [
              0.6666666666666666,
              "#ed7953"
             ],
             [
              0.7777777777777778,
              "#fb9f3a"
             ],
             [
              0.8888888888888888,
              "#fdca26"
             ],
             [
              1,
              "#f0f921"
             ]
            ],
            "type": "surface"
           }
          ],
          "table": [
           {
            "cells": {
             "fill": {
              "color": "#EBF0F8"
             },
             "line": {
              "color": "white"
             }
            },
            "header": {
             "fill": {
              "color": "#C8D4E3"
             },
             "line": {
              "color": "white"
             }
            },
            "type": "table"
           }
          ]
         },
         "layout": {
          "annotationdefaults": {
           "arrowcolor": "#2a3f5f",
           "arrowhead": 0,
           "arrowwidth": 1
          },
          "coloraxis": {
           "colorbar": {
            "outlinewidth": 0,
            "ticks": ""
           }
          },
          "colorscale": {
           "diverging": [
            [
             0,
             "#8e0152"
            ],
            [
             0.1,
             "#c51b7d"
            ],
            [
             0.2,
             "#de77ae"
            ],
            [
             0.3,
             "#f1b6da"
            ],
            [
             0.4,
             "#fde0ef"
            ],
            [
             0.5,
             "#f7f7f7"
            ],
            [
             0.6,
             "#e6f5d0"
            ],
            [
             0.7,
             "#b8e186"
            ],
            [
             0.8,
             "#7fbc41"
            ],
            [
             0.9,
             "#4d9221"
            ],
            [
             1,
             "#276419"
            ]
           ],
           "sequential": [
            [
             0,
             "#0d0887"
            ],
            [
             0.1111111111111111,
             "#46039f"
            ],
            [
             0.2222222222222222,
             "#7201a8"
            ],
            [
             0.3333333333333333,
             "#9c179e"
            ],
            [
             0.4444444444444444,
             "#bd3786"
            ],
            [
             0.5555555555555556,
             "#d8576b"
            ],
            [
             0.6666666666666666,
             "#ed7953"
            ],
            [
             0.7777777777777778,
             "#fb9f3a"
            ],
            [
             0.8888888888888888,
             "#fdca26"
            ],
            [
             1,
             "#f0f921"
            ]
           ],
           "sequentialminus": [
            [
             0,
             "#0d0887"
            ],
            [
             0.1111111111111111,
             "#46039f"
            ],
            [
             0.2222222222222222,
             "#7201a8"
            ],
            [
             0.3333333333333333,
             "#9c179e"
            ],
            [
             0.4444444444444444,
             "#bd3786"
            ],
            [
             0.5555555555555556,
             "#d8576b"
            ],
            [
             0.6666666666666666,
             "#ed7953"
            ],
            [
             0.7777777777777778,
             "#fb9f3a"
            ],
            [
             0.8888888888888888,
             "#fdca26"
            ],
            [
             1,
             "#f0f921"
            ]
           ]
          },
          "colorway": [
           "#636efa",
           "#EF553B",
           "#00cc96",
           "#ab63fa",
           "#FFA15A",
           "#19d3f3",
           "#FF6692",
           "#B6E880",
           "#FF97FF",
           "#FECB52"
          ],
          "font": {
           "color": "#2a3f5f"
          },
          "geo": {
           "bgcolor": "white",
           "lakecolor": "white",
           "landcolor": "#E5ECF6",
           "showlakes": true,
           "showland": true,
           "subunitcolor": "white"
          },
          "hoverlabel": {
           "align": "left"
          },
          "hovermode": "closest",
          "mapbox": {
           "style": "light"
          },
          "paper_bgcolor": "white",
          "plot_bgcolor": "#E5ECF6",
          "polar": {
           "angularaxis": {
            "gridcolor": "white",
            "linecolor": "white",
            "ticks": ""
           },
           "bgcolor": "#E5ECF6",
           "radialaxis": {
            "gridcolor": "white",
            "linecolor": "white",
            "ticks": ""
           }
          },
          "scene": {
           "xaxis": {
            "backgroundcolor": "#E5ECF6",
            "gridcolor": "white",
            "gridwidth": 2,
            "linecolor": "white",
            "showbackground": true,
            "ticks": "",
            "zerolinecolor": "white"
           },
           "yaxis": {
            "backgroundcolor": "#E5ECF6",
            "gridcolor": "white",
            "gridwidth": 2,
            "linecolor": "white",
            "showbackground": true,
            "ticks": "",
            "zerolinecolor": "white"
           },
           "zaxis": {
            "backgroundcolor": "#E5ECF6",
            "gridcolor": "white",
            "gridwidth": 2,
            "linecolor": "white",
            "showbackground": true,
            "ticks": "",
            "zerolinecolor": "white"
           }
          },
          "shapedefaults": {
           "line": {
            "color": "#2a3f5f"
           }
          },
          "ternary": {
           "aaxis": {
            "gridcolor": "white",
            "linecolor": "white",
            "ticks": ""
           },
           "baxis": {
            "gridcolor": "white",
            "linecolor": "white",
            "ticks": ""
           },
           "bgcolor": "#E5ECF6",
           "caxis": {
            "gridcolor": "white",
            "linecolor": "white",
            "ticks": ""
           }
          },
          "title": {
           "x": 0.05
          },
          "xaxis": {
           "automargin": true,
           "gridcolor": "white",
           "linecolor": "white",
           "ticks": "",
           "title": {
            "standoff": 15
           },
           "zerolinecolor": "white",
           "zerolinewidth": 2
          },
          "yaxis": {
           "automargin": true,
           "gridcolor": "white",
           "linecolor": "white",
           "ticks": "",
           "title": {
            "standoff": 15
           },
           "zerolinecolor": "white",
           "zerolinewidth": 2
          }
         }
        },
        "title": {
         "font": {
          "color": "#4D5663"
         }
        },
        "xaxis": {
         "gridcolor": "#E1E5ED",
         "showgrid": true,
         "tickfont": {
          "color": "#4D5663"
         },
         "title": {
          "font": {
           "color": "#4D5663"
          },
          "text": ""
         },
         "zerolinecolor": "#E1E5ED"
        },
        "yaxis": {
         "gridcolor": "#E1E5ED",
         "showgrid": true,
         "tickfont": {
          "color": "#4D5663"
         },
         "title": {
          "font": {
           "color": "#4D5663"
          },
          "text": ""
         },
         "zerolinecolor": "#E1E5ED"
        }
       }
      },
      "text/html": [
       "<div>\n",
       "        \n",
       "        \n",
       "            <div id=\"844931b4-c82b-445f-aabd-fb1958e5ee58\" class=\"plotly-graph-div\" style=\"height:525px; width:100%;\"></div>\n",
       "            <script type=\"text/javascript\">\n",
       "                require([\"plotly\"], function(Plotly) {\n",
       "                    window.PLOTLYENV=window.PLOTLYENV || {};\n",
       "                    window.PLOTLYENV.BASE_URL='https://plot.ly';\n",
       "                    \n",
       "                if (document.getElementById(\"844931b4-c82b-445f-aabd-fb1958e5ee58\")) {\n",
       "                    Plotly.newPlot(\n",
       "                        '844931b4-c82b-445f-aabd-fb1958e5ee58',\n",
       "                        [{\"line\": {\"color\": \"rgba(255, 153, 51, 1.0)\", \"dash\": \"solid\", \"shape\": \"linear\", \"width\": 1.3}, \"marker\": {\"size\": 10, \"symbol\": \"circle\"}, \"mode\": \"markers\", \"name\": \"B\", \"text\": \"\", \"type\": \"scatter\", \"x\": [1.0228643665915085, 2.078102285193514, 0.5158761667916655, -1.4857226758011213, 1.1077899573724663, 0.2928304928477981, 0.08180311043452258, -0.8398530251478752, 1.3175894476736056, 1.2978189929523019, 0.17520201513727157, 0.13470956074463153, -0.018281469699972675, 0.8636862501760922, 0.854931415770735, -2.31890408029755, -0.28203176898922466, -0.4174329968596667, -1.503218670415323, -0.18860321509438102, -0.7529022721721581, -2.570027995821825, -1.2277556562626448, 1.1348793153157908, 0.6875961744242264, -0.2753527351696327, -1.1690704197924868, -0.08904043768740891, -0.7045947505690036, 0.7853038385361636, -1.8662616235543097, -0.6715946774492092, 0.14140540623443235, 1.3745450625176414, -0.4591638710115532, -1.5319228881869125, 1.2028181597771725, 1.2393746284609601, -0.6500507894760755, -0.21417262573551185, -0.9313021954607845, 1.4704143399240799, -0.19491831985513233, -0.9638924891142663, -0.5602620061156413, 1.068653338611267, -0.28644653661110253, -1.297988288985895, 0.6231907143360257, 0.16444560852194856, -2.932907068675399, 0.3219885191550619, -0.028948928296179757, 1.5784640369464342, -1.0274983429401636, -0.43916117057086185, -0.426287302067674, -0.6092424312797955, -0.964214418090293, 0.746369898931979, 0.7237930721167293, -0.10665138799427454, 1.0654356336753241, 0.4150648593531338, 0.5325737757365044, 1.1434825925461756, 0.19354088689971932, 0.9721115249390958, 0.01669477482715258, -0.5505029172817046, 0.7152130788861849, -0.2245739409808382, -1.442887718560802, 0.7569709318575875, -0.47768834110432884, -0.29411149822300764, 0.12293170873575046, 2.6946585797040616, 0.6374185448442311, 1.2952490195484176, 0.02672722368465936, 0.6707412178690879, 0.6261665975706423, 0.9897175184180778, -0.6206278701414436, -0.39026888701340817, 0.4893873581585123, -1.846657196452513, -1.5247262152509458, 2.3050474743024325, -0.8013803613983328, 0.07982339735858235, -1.3690892621838988, -0.9644454717774649, 0.5352164593595689, 0.94834773112565, -1.8003266447589534, -1.0044384424427626, 0.8333440027795855, -0.8904685620304708], \"y\": [1.5141072432731078, 1.3170923237060794, -1.2513598809475768, -0.20275432049873324, 0.04283920687179462, -0.08198349502163418, -0.17527587292137195, -0.16422933085451655, -0.10949108877275467, 0.01078502521025764, -0.142156670759665, 0.535117716801839, 0.11086446473816583, -1.2936877961444537, -0.4375644008191952, -0.17897112491722345, -1.024123352271027, -0.33933873174526424, 0.4260696746455677, -0.5625645460881664, 0.5594555584770827, -0.7278302611994535, 0.2810175524087304, 0.9491286356166035, 0.6243073965868807, -0.4771339712795888, 0.3902324728016761, -1.0658694939365105, -0.49638173288238013, -0.7723608586748788, -0.3583424525867705, 1.0109681194818183, 0.30756936188984574, 1.439887634410778, 2.7589740571186803, 0.013419866304679555, -0.8381998836780817, 0.2809158709836502, -0.04285707840302234, 1.1894315670021485, 0.4541141891865138, 0.7365427955903368, 0.7615628554124507, 0.7593673768097888, -1.456476130196915, -0.04274711258224199, -1.1169373827498756, 0.26397190431587925, 0.267896444013153, 0.9503102026463995, -0.6109902535336791, 0.9889541101801155, 0.5394973692501939, 0.06037484857144976, 0.9395003143245638, 1.0746673198039558, -1.8919124007160064, 0.8911063236978104, 0.7206902756080743, -0.05381056467822287, -0.07977933156171538, 1.71482576145405, -0.5043033782351627, -1.629661959427632, 0.6808764508865055, 1.1696252116148629, -1.0520992102224875, 0.687739553848473, -0.849204644269452, 0.4511280211640707, -0.20689846332809914, -0.9098463581849429, 1.6987065729946769, -0.16512570553715297, -0.256922359989604, 1.7432405215820297, 1.2967704364685568, 1.4583072575830145, -1.4210266514879522, 0.1331227414103682, 1.3085817597898504, -0.3959354674886219, -1.4911834610915695, 1.2706198453298128, 0.6093484061842721, 0.7111587835583064, 1.0459312680400894, -0.9627794132590002, 0.04234451007099024, 2.253503873221812, -1.3102931449745447, -0.7049178036933245, 0.32964633934100174, 0.35516682842767844, 1.6832239408703678, -0.21291187277689125, -0.04556588313452348, -0.34362920185315665, 1.8283057057526904, -0.6443763600103907]}],\n",
       "                        {\"legend\": {\"bgcolor\": \"#F5F6F9\", \"font\": {\"color\": \"#4D5663\"}}, \"paper_bgcolor\": \"#F5F6F9\", \"plot_bgcolor\": \"#F5F6F9\", \"template\": {\"data\": {\"bar\": [{\"error_x\": {\"color\": \"#2a3f5f\"}, \"error_y\": {\"color\": \"#2a3f5f\"}, \"marker\": {\"line\": {\"color\": \"#E5ECF6\", \"width\": 0.5}}, \"type\": \"bar\"}], \"barpolar\": [{\"marker\": {\"line\": {\"color\": \"#E5ECF6\", \"width\": 0.5}}, \"type\": \"barpolar\"}], \"carpet\": [{\"aaxis\": {\"endlinecolor\": \"#2a3f5f\", \"gridcolor\": \"white\", \"linecolor\": \"white\", \"minorgridcolor\": \"white\", \"startlinecolor\": \"#2a3f5f\"}, \"baxis\": {\"endlinecolor\": \"#2a3f5f\", \"gridcolor\": \"white\", \"linecolor\": \"white\", \"minorgridcolor\": \"white\", \"startlinecolor\": \"#2a3f5f\"}, \"type\": \"carpet\"}], \"choropleth\": [{\"colorbar\": {\"outlinewidth\": 0, \"ticks\": \"\"}, \"type\": \"choropleth\"}], \"contour\": [{\"colorbar\": {\"outlinewidth\": 0, \"ticks\": \"\"}, \"colorscale\": [[0.0, \"#0d0887\"], [0.1111111111111111, \"#46039f\"], [0.2222222222222222, \"#7201a8\"], [0.3333333333333333, \"#9c179e\"], [0.4444444444444444, \"#bd3786\"], [0.5555555555555556, \"#d8576b\"], [0.6666666666666666, \"#ed7953\"], [0.7777777777777778, \"#fb9f3a\"], [0.8888888888888888, \"#fdca26\"], [1.0, \"#f0f921\"]], \"type\": \"contour\"}], \"contourcarpet\": [{\"colorbar\": {\"outlinewidth\": 0, \"ticks\": \"\"}, \"type\": \"contourcarpet\"}], \"heatmap\": [{\"colorbar\": {\"outlinewidth\": 0, \"ticks\": \"\"}, \"colorscale\": [[0.0, \"#0d0887\"], [0.1111111111111111, \"#46039f\"], [0.2222222222222222, \"#7201a8\"], [0.3333333333333333, \"#9c179e\"], [0.4444444444444444, \"#bd3786\"], [0.5555555555555556, \"#d8576b\"], [0.6666666666666666, \"#ed7953\"], [0.7777777777777778, \"#fb9f3a\"], [0.8888888888888888, \"#fdca26\"], [1.0, \"#f0f921\"]], \"type\": \"heatmap\"}], \"heatmapgl\": [{\"colorbar\": {\"outlinewidth\": 0, \"ticks\": \"\"}, \"colorscale\": [[0.0, \"#0d0887\"], [0.1111111111111111, \"#46039f\"], [0.2222222222222222, \"#7201a8\"], [0.3333333333333333, \"#9c179e\"], [0.4444444444444444, \"#bd3786\"], [0.5555555555555556, \"#d8576b\"], [0.6666666666666666, \"#ed7953\"], [0.7777777777777778, \"#fb9f3a\"], [0.8888888888888888, \"#fdca26\"], [1.0, \"#f0f921\"]], \"type\": \"heatmapgl\"}], \"histogram\": [{\"marker\": {\"colorbar\": {\"outlinewidth\": 0, \"ticks\": \"\"}}, \"type\": \"histogram\"}], \"histogram2d\": [{\"colorbar\": {\"outlinewidth\": 0, \"ticks\": \"\"}, \"colorscale\": [[0.0, \"#0d0887\"], [0.1111111111111111, \"#46039f\"], [0.2222222222222222, \"#7201a8\"], [0.3333333333333333, \"#9c179e\"], [0.4444444444444444, \"#bd3786\"], [0.5555555555555556, \"#d8576b\"], [0.6666666666666666, \"#ed7953\"], [0.7777777777777778, \"#fb9f3a\"], [0.8888888888888888, \"#fdca26\"], [1.0, \"#f0f921\"]], \"type\": \"histogram2d\"}], \"histogram2dcontour\": [{\"colorbar\": {\"outlinewidth\": 0, \"ticks\": \"\"}, \"colorscale\": [[0.0, \"#0d0887\"], [0.1111111111111111, \"#46039f\"], [0.2222222222222222, \"#7201a8\"], [0.3333333333333333, \"#9c179e\"], [0.4444444444444444, \"#bd3786\"], [0.5555555555555556, \"#d8576b\"], [0.6666666666666666, \"#ed7953\"], [0.7777777777777778, \"#fb9f3a\"], [0.8888888888888888, \"#fdca26\"], [1.0, \"#f0f921\"]], \"type\": \"histogram2dcontour\"}], \"mesh3d\": [{\"colorbar\": {\"outlinewidth\": 0, \"ticks\": \"\"}, \"type\": \"mesh3d\"}], \"parcoords\": [{\"line\": {\"colorbar\": {\"outlinewidth\": 0, \"ticks\": \"\"}}, \"type\": \"parcoords\"}], \"pie\": [{\"automargin\": true, \"type\": \"pie\"}], \"scatter\": [{\"marker\": {\"colorbar\": {\"outlinewidth\": 0, \"ticks\": \"\"}}, \"type\": \"scatter\"}], \"scatter3d\": [{\"line\": {\"colorbar\": {\"outlinewidth\": 0, \"ticks\": \"\"}}, \"marker\": {\"colorbar\": {\"outlinewidth\": 0, \"ticks\": \"\"}}, \"type\": \"scatter3d\"}], \"scattercarpet\": [{\"marker\": {\"colorbar\": {\"outlinewidth\": 0, \"ticks\": \"\"}}, \"type\": \"scattercarpet\"}], \"scattergeo\": [{\"marker\": {\"colorbar\": {\"outlinewidth\": 0, \"ticks\": \"\"}}, \"type\": \"scattergeo\"}], \"scattergl\": [{\"marker\": {\"colorbar\": {\"outlinewidth\": 0, \"ticks\": \"\"}}, \"type\": \"scattergl\"}], \"scattermapbox\": [{\"marker\": {\"colorbar\": {\"outlinewidth\": 0, \"ticks\": \"\"}}, \"type\": \"scattermapbox\"}], \"scatterpolar\": [{\"marker\": {\"colorbar\": {\"outlinewidth\": 0, \"ticks\": \"\"}}, \"type\": \"scatterpolar\"}], \"scatterpolargl\": [{\"marker\": {\"colorbar\": {\"outlinewidth\": 0, \"ticks\": \"\"}}, \"type\": \"scatterpolargl\"}], \"scatterternary\": [{\"marker\": {\"colorbar\": {\"outlinewidth\": 0, \"ticks\": \"\"}}, \"type\": \"scatterternary\"}], \"surface\": [{\"colorbar\": {\"outlinewidth\": 0, \"ticks\": \"\"}, \"colorscale\": [[0.0, \"#0d0887\"], [0.1111111111111111, \"#46039f\"], [0.2222222222222222, \"#7201a8\"], [0.3333333333333333, \"#9c179e\"], [0.4444444444444444, \"#bd3786\"], [0.5555555555555556, \"#d8576b\"], [0.6666666666666666, \"#ed7953\"], [0.7777777777777778, \"#fb9f3a\"], [0.8888888888888888, \"#fdca26\"], [1.0, \"#f0f921\"]], \"type\": \"surface\"}], \"table\": [{\"cells\": {\"fill\": {\"color\": \"#EBF0F8\"}, \"line\": {\"color\": \"white\"}}, \"header\": {\"fill\": {\"color\": \"#C8D4E3\"}, \"line\": {\"color\": \"white\"}}, \"type\": \"table\"}]}, \"layout\": {\"annotationdefaults\": {\"arrowcolor\": \"#2a3f5f\", \"arrowhead\": 0, \"arrowwidth\": 1}, \"coloraxis\": {\"colorbar\": {\"outlinewidth\": 0, \"ticks\": \"\"}}, \"colorscale\": {\"diverging\": [[0, \"#8e0152\"], [0.1, \"#c51b7d\"], [0.2, \"#de77ae\"], [0.3, \"#f1b6da\"], [0.4, \"#fde0ef\"], [0.5, \"#f7f7f7\"], [0.6, \"#e6f5d0\"], [0.7, \"#b8e186\"], [0.8, \"#7fbc41\"], [0.9, \"#4d9221\"], [1, \"#276419\"]], \"sequential\": [[0.0, \"#0d0887\"], [0.1111111111111111, \"#46039f\"], [0.2222222222222222, \"#7201a8\"], [0.3333333333333333, \"#9c179e\"], [0.4444444444444444, \"#bd3786\"], [0.5555555555555556, \"#d8576b\"], [0.6666666666666666, \"#ed7953\"], [0.7777777777777778, \"#fb9f3a\"], [0.8888888888888888, \"#fdca26\"], [1.0, \"#f0f921\"]], \"sequentialminus\": [[0.0, \"#0d0887\"], [0.1111111111111111, \"#46039f\"], [0.2222222222222222, \"#7201a8\"], [0.3333333333333333, \"#9c179e\"], [0.4444444444444444, \"#bd3786\"], [0.5555555555555556, \"#d8576b\"], [0.6666666666666666, \"#ed7953\"], [0.7777777777777778, \"#fb9f3a\"], [0.8888888888888888, \"#fdca26\"], [1.0, \"#f0f921\"]]}, \"colorway\": [\"#636efa\", \"#EF553B\", \"#00cc96\", \"#ab63fa\", \"#FFA15A\", \"#19d3f3\", \"#FF6692\", \"#B6E880\", \"#FF97FF\", \"#FECB52\"], \"font\": {\"color\": \"#2a3f5f\"}, \"geo\": {\"bgcolor\": \"white\", \"lakecolor\": \"white\", \"landcolor\": \"#E5ECF6\", \"showlakes\": true, \"showland\": true, \"subunitcolor\": \"white\"}, \"hoverlabel\": {\"align\": \"left\"}, \"hovermode\": \"closest\", \"mapbox\": {\"style\": \"light\"}, \"paper_bgcolor\": \"white\", \"plot_bgcolor\": \"#E5ECF6\", \"polar\": {\"angularaxis\": {\"gridcolor\": \"white\", \"linecolor\": \"white\", \"ticks\": \"\"}, \"bgcolor\": \"#E5ECF6\", \"radialaxis\": {\"gridcolor\": \"white\", \"linecolor\": \"white\", \"ticks\": \"\"}}, \"scene\": {\"xaxis\": {\"backgroundcolor\": \"#E5ECF6\", \"gridcolor\": \"white\", \"gridwidth\": 2, \"linecolor\": \"white\", \"showbackground\": true, \"ticks\": \"\", \"zerolinecolor\": \"white\"}, \"yaxis\": {\"backgroundcolor\": \"#E5ECF6\", \"gridcolor\": \"white\", \"gridwidth\": 2, \"linecolor\": \"white\", \"showbackground\": true, \"ticks\": \"\", \"zerolinecolor\": \"white\"}, \"zaxis\": {\"backgroundcolor\": \"#E5ECF6\", \"gridcolor\": \"white\", \"gridwidth\": 2, \"linecolor\": \"white\", \"showbackground\": true, \"ticks\": \"\", \"zerolinecolor\": \"white\"}}, \"shapedefaults\": {\"line\": {\"color\": \"#2a3f5f\"}}, \"ternary\": {\"aaxis\": {\"gridcolor\": \"white\", \"linecolor\": \"white\", \"ticks\": \"\"}, \"baxis\": {\"gridcolor\": \"white\", \"linecolor\": \"white\", \"ticks\": \"\"}, \"bgcolor\": \"#E5ECF6\", \"caxis\": {\"gridcolor\": \"white\", \"linecolor\": \"white\", \"ticks\": \"\"}}, \"title\": {\"x\": 0.05}, \"xaxis\": {\"automargin\": true, \"gridcolor\": \"white\", \"linecolor\": \"white\", \"ticks\": \"\", \"title\": {\"standoff\": 15}, \"zerolinecolor\": \"white\", \"zerolinewidth\": 2}, \"yaxis\": {\"automargin\": true, \"gridcolor\": \"white\", \"linecolor\": \"white\", \"ticks\": \"\", \"title\": {\"standoff\": 15}, \"zerolinecolor\": \"white\", \"zerolinewidth\": 2}}}, \"title\": {\"font\": {\"color\": \"#4D5663\"}}, \"xaxis\": {\"gridcolor\": \"#E1E5ED\", \"showgrid\": true, \"tickfont\": {\"color\": \"#4D5663\"}, \"title\": {\"font\": {\"color\": \"#4D5663\"}, \"text\": \"\"}, \"zerolinecolor\": \"#E1E5ED\"}, \"yaxis\": {\"gridcolor\": \"#E1E5ED\", \"showgrid\": true, \"tickfont\": {\"color\": \"#4D5663\"}, \"title\": {\"font\": {\"color\": \"#4D5663\"}, \"text\": \"\"}, \"zerolinecolor\": \"#E1E5ED\"}},\n",
       "                        {\"showLink\": true, \"linkText\": \"Export to plot.ly\", \"plotlyServerURL\": \"https://plot.ly\", \"responsive\": true}\n",
       "                    ).then(function(){\n",
       "                            \n",
       "var gd = document.getElementById('844931b4-c82b-445f-aabd-fb1958e5ee58');\n",
       "var x = new MutationObserver(function (mutations, observer) {{\n",
       "        var display = window.getComputedStyle(gd).display;\n",
       "        if (!display || display === 'none') {{\n",
       "            console.log([gd, 'removed!']);\n",
       "            Plotly.purge(gd);\n",
       "            observer.disconnect();\n",
       "        }}\n",
       "}});\n",
       "\n",
       "// Listen for the removal of the full notebook cells\n",
       "var notebookContainer = gd.closest('#notebook-container');\n",
       "if (notebookContainer) {{\n",
       "    x.observe(notebookContainer, {childList: true});\n",
       "}}\n",
       "\n",
       "// Listen for the clearing of the current output cell\n",
       "var outputEl = gd.closest('.output');\n",
       "if (outputEl) {{\n",
       "    x.observe(outputEl, {childList: true});\n",
       "}}\n",
       "\n",
       "                        })\n",
       "                };\n",
       "                });\n",
       "            </script>\n",
       "        </div>"
      ]
     },
     "metadata": {},
     "output_type": "display_data"
    }
   ],
   "source": [
    "df.iplot(kind='scatter',x='A',y='B',mode='markers',size=10)"
   ]
  },
  {
   "cell_type": "markdown",
   "metadata": {},
   "source": [
    "## Bar Plots"
   ]
  },
  {
   "cell_type": "code",
   "execution_count": 14,
   "metadata": {},
   "outputs": [
    {
     "data": {
      "application/vnd.plotly.v1+json": {
       "config": {
        "linkText": "Export to plot.ly",
        "plotlyServerURL": "https://plot.ly",
        "showLink": true
       },
       "data": [
        {
         "marker": {
          "color": "rgba(255, 153, 51, 0.6)",
          "line": {
           "color": "rgba(255, 153, 51, 1.0)",
           "width": 1
          }
         },
         "name": "Values",
         "orientation": "v",
         "text": "",
         "type": "bar",
         "x": [
          "A",
          "B",
          "C"
         ],
         "y": [
          32,
          43,
          50
         ]
        }
       ],
       "layout": {
        "legend": {
         "bgcolor": "#F5F6F9",
         "font": {
          "color": "#4D5663"
         }
        },
        "paper_bgcolor": "#F5F6F9",
        "plot_bgcolor": "#F5F6F9",
        "template": {
         "data": {
          "bar": [
           {
            "error_x": {
             "color": "#2a3f5f"
            },
            "error_y": {
             "color": "#2a3f5f"
            },
            "marker": {
             "line": {
              "color": "#E5ECF6",
              "width": 0.5
             }
            },
            "type": "bar"
           }
          ],
          "barpolar": [
           {
            "marker": {
             "line": {
              "color": "#E5ECF6",
              "width": 0.5
             }
            },
            "type": "barpolar"
           }
          ],
          "carpet": [
           {
            "aaxis": {
             "endlinecolor": "#2a3f5f",
             "gridcolor": "white",
             "linecolor": "white",
             "minorgridcolor": "white",
             "startlinecolor": "#2a3f5f"
            },
            "baxis": {
             "endlinecolor": "#2a3f5f",
             "gridcolor": "white",
             "linecolor": "white",
             "minorgridcolor": "white",
             "startlinecolor": "#2a3f5f"
            },
            "type": "carpet"
           }
          ],
          "choropleth": [
           {
            "colorbar": {
             "outlinewidth": 0,
             "ticks": ""
            },
            "type": "choropleth"
           }
          ],
          "contour": [
           {
            "colorbar": {
             "outlinewidth": 0,
             "ticks": ""
            },
            "colorscale": [
             [
              0,
              "#0d0887"
             ],
             [
              0.1111111111111111,
              "#46039f"
             ],
             [
              0.2222222222222222,
              "#7201a8"
             ],
             [
              0.3333333333333333,
              "#9c179e"
             ],
             [
              0.4444444444444444,
              "#bd3786"
             ],
             [
              0.5555555555555556,
              "#d8576b"
             ],
             [
              0.6666666666666666,
              "#ed7953"
             ],
             [
              0.7777777777777778,
              "#fb9f3a"
             ],
             [
              0.8888888888888888,
              "#fdca26"
             ],
             [
              1,
              "#f0f921"
             ]
            ],
            "type": "contour"
           }
          ],
          "contourcarpet": [
           {
            "colorbar": {
             "outlinewidth": 0,
             "ticks": ""
            },
            "type": "contourcarpet"
           }
          ],
          "heatmap": [
           {
            "colorbar": {
             "outlinewidth": 0,
             "ticks": ""
            },
            "colorscale": [
             [
              0,
              "#0d0887"
             ],
             [
              0.1111111111111111,
              "#46039f"
             ],
             [
              0.2222222222222222,
              "#7201a8"
             ],
             [
              0.3333333333333333,
              "#9c179e"
             ],
             [
              0.4444444444444444,
              "#bd3786"
             ],
             [
              0.5555555555555556,
              "#d8576b"
             ],
             [
              0.6666666666666666,
              "#ed7953"
             ],
             [
              0.7777777777777778,
              "#fb9f3a"
             ],
             [
              0.8888888888888888,
              "#fdca26"
             ],
             [
              1,
              "#f0f921"
             ]
            ],
            "type": "heatmap"
           }
          ],
          "heatmapgl": [
           {
            "colorbar": {
             "outlinewidth": 0,
             "ticks": ""
            },
            "colorscale": [
             [
              0,
              "#0d0887"
             ],
             [
              0.1111111111111111,
              "#46039f"
             ],
             [
              0.2222222222222222,
              "#7201a8"
             ],
             [
              0.3333333333333333,
              "#9c179e"
             ],
             [
              0.4444444444444444,
              "#bd3786"
             ],
             [
              0.5555555555555556,
              "#d8576b"
             ],
             [
              0.6666666666666666,
              "#ed7953"
             ],
             [
              0.7777777777777778,
              "#fb9f3a"
             ],
             [
              0.8888888888888888,
              "#fdca26"
             ],
             [
              1,
              "#f0f921"
             ]
            ],
            "type": "heatmapgl"
           }
          ],
          "histogram": [
           {
            "marker": {
             "colorbar": {
              "outlinewidth": 0,
              "ticks": ""
             }
            },
            "type": "histogram"
           }
          ],
          "histogram2d": [
           {
            "colorbar": {
             "outlinewidth": 0,
             "ticks": ""
            },
            "colorscale": [
             [
              0,
              "#0d0887"
             ],
             [
              0.1111111111111111,
              "#46039f"
             ],
             [
              0.2222222222222222,
              "#7201a8"
             ],
             [
              0.3333333333333333,
              "#9c179e"
             ],
             [
              0.4444444444444444,
              "#bd3786"
             ],
             [
              0.5555555555555556,
              "#d8576b"
             ],
             [
              0.6666666666666666,
              "#ed7953"
             ],
             [
              0.7777777777777778,
              "#fb9f3a"
             ],
             [
              0.8888888888888888,
              "#fdca26"
             ],
             [
              1,
              "#f0f921"
             ]
            ],
            "type": "histogram2d"
           }
          ],
          "histogram2dcontour": [
           {
            "colorbar": {
             "outlinewidth": 0,
             "ticks": ""
            },
            "colorscale": [
             [
              0,
              "#0d0887"
             ],
             [
              0.1111111111111111,
              "#46039f"
             ],
             [
              0.2222222222222222,
              "#7201a8"
             ],
             [
              0.3333333333333333,
              "#9c179e"
             ],
             [
              0.4444444444444444,
              "#bd3786"
             ],
             [
              0.5555555555555556,
              "#d8576b"
             ],
             [
              0.6666666666666666,
              "#ed7953"
             ],
             [
              0.7777777777777778,
              "#fb9f3a"
             ],
             [
              0.8888888888888888,
              "#fdca26"
             ],
             [
              1,
              "#f0f921"
             ]
            ],
            "type": "histogram2dcontour"
           }
          ],
          "mesh3d": [
           {
            "colorbar": {
             "outlinewidth": 0,
             "ticks": ""
            },
            "type": "mesh3d"
           }
          ],
          "parcoords": [
           {
            "line": {
             "colorbar": {
              "outlinewidth": 0,
              "ticks": ""
             }
            },
            "type": "parcoords"
           }
          ],
          "pie": [
           {
            "automargin": true,
            "type": "pie"
           }
          ],
          "scatter": [
           {
            "marker": {
             "colorbar": {
              "outlinewidth": 0,
              "ticks": ""
             }
            },
            "type": "scatter"
           }
          ],
          "scatter3d": [
           {
            "line": {
             "colorbar": {
              "outlinewidth": 0,
              "ticks": ""
             }
            },
            "marker": {
             "colorbar": {
              "outlinewidth": 0,
              "ticks": ""
             }
            },
            "type": "scatter3d"
           }
          ],
          "scattercarpet": [
           {
            "marker": {
             "colorbar": {
              "outlinewidth": 0,
              "ticks": ""
             }
            },
            "type": "scattercarpet"
           }
          ],
          "scattergeo": [
           {
            "marker": {
             "colorbar": {
              "outlinewidth": 0,
              "ticks": ""
             }
            },
            "type": "scattergeo"
           }
          ],
          "scattergl": [
           {
            "marker": {
             "colorbar": {
              "outlinewidth": 0,
              "ticks": ""
             }
            },
            "type": "scattergl"
           }
          ],
          "scattermapbox": [
           {
            "marker": {
             "colorbar": {
              "outlinewidth": 0,
              "ticks": ""
             }
            },
            "type": "scattermapbox"
           }
          ],
          "scatterpolar": [
           {
            "marker": {
             "colorbar": {
              "outlinewidth": 0,
              "ticks": ""
             }
            },
            "type": "scatterpolar"
           }
          ],
          "scatterpolargl": [
           {
            "marker": {
             "colorbar": {
              "outlinewidth": 0,
              "ticks": ""
             }
            },
            "type": "scatterpolargl"
           }
          ],
          "scatterternary": [
           {
            "marker": {
             "colorbar": {
              "outlinewidth": 0,
              "ticks": ""
             }
            },
            "type": "scatterternary"
           }
          ],
          "surface": [
           {
            "colorbar": {
             "outlinewidth": 0,
             "ticks": ""
            },
            "colorscale": [
             [
              0,
              "#0d0887"
             ],
             [
              0.1111111111111111,
              "#46039f"
             ],
             [
              0.2222222222222222,
              "#7201a8"
             ],
             [
              0.3333333333333333,
              "#9c179e"
             ],
             [
              0.4444444444444444,
              "#bd3786"
             ],
             [
              0.5555555555555556,
              "#d8576b"
             ],
             [
              0.6666666666666666,
              "#ed7953"
             ],
             [
              0.7777777777777778,
              "#fb9f3a"
             ],
             [
              0.8888888888888888,
              "#fdca26"
             ],
             [
              1,
              "#f0f921"
             ]
            ],
            "type": "surface"
           }
          ],
          "table": [
           {
            "cells": {
             "fill": {
              "color": "#EBF0F8"
             },
             "line": {
              "color": "white"
             }
            },
            "header": {
             "fill": {
              "color": "#C8D4E3"
             },
             "line": {
              "color": "white"
             }
            },
            "type": "table"
           }
          ]
         },
         "layout": {
          "annotationdefaults": {
           "arrowcolor": "#2a3f5f",
           "arrowhead": 0,
           "arrowwidth": 1
          },
          "coloraxis": {
           "colorbar": {
            "outlinewidth": 0,
            "ticks": ""
           }
          },
          "colorscale": {
           "diverging": [
            [
             0,
             "#8e0152"
            ],
            [
             0.1,
             "#c51b7d"
            ],
            [
             0.2,
             "#de77ae"
            ],
            [
             0.3,
             "#f1b6da"
            ],
            [
             0.4,
             "#fde0ef"
            ],
            [
             0.5,
             "#f7f7f7"
            ],
            [
             0.6,
             "#e6f5d0"
            ],
            [
             0.7,
             "#b8e186"
            ],
            [
             0.8,
             "#7fbc41"
            ],
            [
             0.9,
             "#4d9221"
            ],
            [
             1,
             "#276419"
            ]
           ],
           "sequential": [
            [
             0,
             "#0d0887"
            ],
            [
             0.1111111111111111,
             "#46039f"
            ],
            [
             0.2222222222222222,
             "#7201a8"
            ],
            [
             0.3333333333333333,
             "#9c179e"
            ],
            [
             0.4444444444444444,
             "#bd3786"
            ],
            [
             0.5555555555555556,
             "#d8576b"
            ],
            [
             0.6666666666666666,
             "#ed7953"
            ],
            [
             0.7777777777777778,
             "#fb9f3a"
            ],
            [
             0.8888888888888888,
             "#fdca26"
            ],
            [
             1,
             "#f0f921"
            ]
           ],
           "sequentialminus": [
            [
             0,
             "#0d0887"
            ],
            [
             0.1111111111111111,
             "#46039f"
            ],
            [
             0.2222222222222222,
             "#7201a8"
            ],
            [
             0.3333333333333333,
             "#9c179e"
            ],
            [
             0.4444444444444444,
             "#bd3786"
            ],
            [
             0.5555555555555556,
             "#d8576b"
            ],
            [
             0.6666666666666666,
             "#ed7953"
            ],
            [
             0.7777777777777778,
             "#fb9f3a"
            ],
            [
             0.8888888888888888,
             "#fdca26"
            ],
            [
             1,
             "#f0f921"
            ]
           ]
          },
          "colorway": [
           "#636efa",
           "#EF553B",
           "#00cc96",
           "#ab63fa",
           "#FFA15A",
           "#19d3f3",
           "#FF6692",
           "#B6E880",
           "#FF97FF",
           "#FECB52"
          ],
          "font": {
           "color": "#2a3f5f"
          },
          "geo": {
           "bgcolor": "white",
           "lakecolor": "white",
           "landcolor": "#E5ECF6",
           "showlakes": true,
           "showland": true,
           "subunitcolor": "white"
          },
          "hoverlabel": {
           "align": "left"
          },
          "hovermode": "closest",
          "mapbox": {
           "style": "light"
          },
          "paper_bgcolor": "white",
          "plot_bgcolor": "#E5ECF6",
          "polar": {
           "angularaxis": {
            "gridcolor": "white",
            "linecolor": "white",
            "ticks": ""
           },
           "bgcolor": "#E5ECF6",
           "radialaxis": {
            "gridcolor": "white",
            "linecolor": "white",
            "ticks": ""
           }
          },
          "scene": {
           "xaxis": {
            "backgroundcolor": "#E5ECF6",
            "gridcolor": "white",
            "gridwidth": 2,
            "linecolor": "white",
            "showbackground": true,
            "ticks": "",
            "zerolinecolor": "white"
           },
           "yaxis": {
            "backgroundcolor": "#E5ECF6",
            "gridcolor": "white",
            "gridwidth": 2,
            "linecolor": "white",
            "showbackground": true,
            "ticks": "",
            "zerolinecolor": "white"
           },
           "zaxis": {
            "backgroundcolor": "#E5ECF6",
            "gridcolor": "white",
            "gridwidth": 2,
            "linecolor": "white",
            "showbackground": true,
            "ticks": "",
            "zerolinecolor": "white"
           }
          },
          "shapedefaults": {
           "line": {
            "color": "#2a3f5f"
           }
          },
          "ternary": {
           "aaxis": {
            "gridcolor": "white",
            "linecolor": "white",
            "ticks": ""
           },
           "baxis": {
            "gridcolor": "white",
            "linecolor": "white",
            "ticks": ""
           },
           "bgcolor": "#E5ECF6",
           "caxis": {
            "gridcolor": "white",
            "linecolor": "white",
            "ticks": ""
           }
          },
          "title": {
           "x": 0.05
          },
          "xaxis": {
           "automargin": true,
           "gridcolor": "white",
           "linecolor": "white",
           "ticks": "",
           "title": {
            "standoff": 15
           },
           "zerolinecolor": "white",
           "zerolinewidth": 2
          },
          "yaxis": {
           "automargin": true,
           "gridcolor": "white",
           "linecolor": "white",
           "ticks": "",
           "title": {
            "standoff": 15
           },
           "zerolinecolor": "white",
           "zerolinewidth": 2
          }
         }
        },
        "title": {
         "font": {
          "color": "#4D5663"
         }
        },
        "xaxis": {
         "gridcolor": "#E1E5ED",
         "showgrid": true,
         "tickfont": {
          "color": "#4D5663"
         },
         "title": {
          "font": {
           "color": "#4D5663"
          },
          "text": ""
         },
         "zerolinecolor": "#E1E5ED"
        },
        "yaxis": {
         "gridcolor": "#E1E5ED",
         "showgrid": true,
         "tickfont": {
          "color": "#4D5663"
         },
         "title": {
          "font": {
           "color": "#4D5663"
          },
          "text": ""
         },
         "zerolinecolor": "#E1E5ED"
        }
       }
      },
      "text/html": [
       "<div>\n",
       "        \n",
       "        \n",
       "            <div id=\"eabe69a3-b580-4e03-bbe3-0143e19c1123\" class=\"plotly-graph-div\" style=\"height:525px; width:100%;\"></div>\n",
       "            <script type=\"text/javascript\">\n",
       "                require([\"plotly\"], function(Plotly) {\n",
       "                    window.PLOTLYENV=window.PLOTLYENV || {};\n",
       "                    window.PLOTLYENV.BASE_URL='https://plot.ly';\n",
       "                    \n",
       "                if (document.getElementById(\"eabe69a3-b580-4e03-bbe3-0143e19c1123\")) {\n",
       "                    Plotly.newPlot(\n",
       "                        'eabe69a3-b580-4e03-bbe3-0143e19c1123',\n",
       "                        [{\"marker\": {\"color\": \"rgba(255, 153, 51, 0.6)\", \"line\": {\"color\": \"rgba(255, 153, 51, 1.0)\", \"width\": 1}}, \"name\": \"Values\", \"orientation\": \"v\", \"text\": \"\", \"type\": \"bar\", \"x\": [\"A\", \"B\", \"C\"], \"y\": [32, 43, 50]}],\n",
       "                        {\"legend\": {\"bgcolor\": \"#F5F6F9\", \"font\": {\"color\": \"#4D5663\"}}, \"paper_bgcolor\": \"#F5F6F9\", \"plot_bgcolor\": \"#F5F6F9\", \"template\": {\"data\": {\"bar\": [{\"error_x\": {\"color\": \"#2a3f5f\"}, \"error_y\": {\"color\": \"#2a3f5f\"}, \"marker\": {\"line\": {\"color\": \"#E5ECF6\", \"width\": 0.5}}, \"type\": \"bar\"}], \"barpolar\": [{\"marker\": {\"line\": {\"color\": \"#E5ECF6\", \"width\": 0.5}}, \"type\": \"barpolar\"}], \"carpet\": [{\"aaxis\": {\"endlinecolor\": \"#2a3f5f\", \"gridcolor\": \"white\", \"linecolor\": \"white\", \"minorgridcolor\": \"white\", \"startlinecolor\": \"#2a3f5f\"}, \"baxis\": {\"endlinecolor\": \"#2a3f5f\", \"gridcolor\": \"white\", \"linecolor\": \"white\", \"minorgridcolor\": \"white\", \"startlinecolor\": \"#2a3f5f\"}, \"type\": \"carpet\"}], \"choropleth\": [{\"colorbar\": {\"outlinewidth\": 0, \"ticks\": \"\"}, \"type\": \"choropleth\"}], \"contour\": [{\"colorbar\": {\"outlinewidth\": 0, \"ticks\": \"\"}, \"colorscale\": [[0.0, \"#0d0887\"], [0.1111111111111111, \"#46039f\"], [0.2222222222222222, \"#7201a8\"], [0.3333333333333333, \"#9c179e\"], [0.4444444444444444, \"#bd3786\"], [0.5555555555555556, \"#d8576b\"], [0.6666666666666666, \"#ed7953\"], [0.7777777777777778, \"#fb9f3a\"], [0.8888888888888888, \"#fdca26\"], [1.0, \"#f0f921\"]], \"type\": \"contour\"}], \"contourcarpet\": [{\"colorbar\": {\"outlinewidth\": 0, \"ticks\": \"\"}, \"type\": \"contourcarpet\"}], \"heatmap\": [{\"colorbar\": {\"outlinewidth\": 0, \"ticks\": \"\"}, \"colorscale\": [[0.0, \"#0d0887\"], [0.1111111111111111, \"#46039f\"], [0.2222222222222222, \"#7201a8\"], [0.3333333333333333, \"#9c179e\"], [0.4444444444444444, \"#bd3786\"], [0.5555555555555556, \"#d8576b\"], [0.6666666666666666, \"#ed7953\"], [0.7777777777777778, \"#fb9f3a\"], [0.8888888888888888, \"#fdca26\"], [1.0, \"#f0f921\"]], \"type\": \"heatmap\"}], \"heatmapgl\": [{\"colorbar\": {\"outlinewidth\": 0, \"ticks\": \"\"}, \"colorscale\": [[0.0, \"#0d0887\"], [0.1111111111111111, \"#46039f\"], [0.2222222222222222, \"#7201a8\"], [0.3333333333333333, \"#9c179e\"], [0.4444444444444444, \"#bd3786\"], [0.5555555555555556, \"#d8576b\"], [0.6666666666666666, \"#ed7953\"], [0.7777777777777778, \"#fb9f3a\"], [0.8888888888888888, \"#fdca26\"], [1.0, \"#f0f921\"]], \"type\": \"heatmapgl\"}], \"histogram\": [{\"marker\": {\"colorbar\": {\"outlinewidth\": 0, \"ticks\": \"\"}}, \"type\": \"histogram\"}], \"histogram2d\": [{\"colorbar\": {\"outlinewidth\": 0, \"ticks\": \"\"}, \"colorscale\": [[0.0, \"#0d0887\"], [0.1111111111111111, \"#46039f\"], [0.2222222222222222, \"#7201a8\"], [0.3333333333333333, \"#9c179e\"], [0.4444444444444444, \"#bd3786\"], [0.5555555555555556, \"#d8576b\"], [0.6666666666666666, \"#ed7953\"], [0.7777777777777778, \"#fb9f3a\"], [0.8888888888888888, \"#fdca26\"], [1.0, \"#f0f921\"]], \"type\": \"histogram2d\"}], \"histogram2dcontour\": [{\"colorbar\": {\"outlinewidth\": 0, \"ticks\": \"\"}, \"colorscale\": [[0.0, \"#0d0887\"], [0.1111111111111111, \"#46039f\"], [0.2222222222222222, \"#7201a8\"], [0.3333333333333333, \"#9c179e\"], [0.4444444444444444, \"#bd3786\"], [0.5555555555555556, \"#d8576b\"], [0.6666666666666666, \"#ed7953\"], [0.7777777777777778, \"#fb9f3a\"], [0.8888888888888888, \"#fdca26\"], [1.0, \"#f0f921\"]], \"type\": \"histogram2dcontour\"}], \"mesh3d\": [{\"colorbar\": {\"outlinewidth\": 0, \"ticks\": \"\"}, \"type\": \"mesh3d\"}], \"parcoords\": [{\"line\": {\"colorbar\": {\"outlinewidth\": 0, \"ticks\": \"\"}}, \"type\": \"parcoords\"}], \"pie\": [{\"automargin\": true, \"type\": \"pie\"}], \"scatter\": [{\"marker\": {\"colorbar\": {\"outlinewidth\": 0, \"ticks\": \"\"}}, \"type\": \"scatter\"}], \"scatter3d\": [{\"line\": {\"colorbar\": {\"outlinewidth\": 0, \"ticks\": \"\"}}, \"marker\": {\"colorbar\": {\"outlinewidth\": 0, \"ticks\": \"\"}}, \"type\": \"scatter3d\"}], \"scattercarpet\": [{\"marker\": {\"colorbar\": {\"outlinewidth\": 0, \"ticks\": \"\"}}, \"type\": \"scattercarpet\"}], \"scattergeo\": [{\"marker\": {\"colorbar\": {\"outlinewidth\": 0, \"ticks\": \"\"}}, \"type\": \"scattergeo\"}], \"scattergl\": [{\"marker\": {\"colorbar\": {\"outlinewidth\": 0, \"ticks\": \"\"}}, \"type\": \"scattergl\"}], \"scattermapbox\": [{\"marker\": {\"colorbar\": {\"outlinewidth\": 0, \"ticks\": \"\"}}, \"type\": \"scattermapbox\"}], \"scatterpolar\": [{\"marker\": {\"colorbar\": {\"outlinewidth\": 0, \"ticks\": \"\"}}, \"type\": \"scatterpolar\"}], \"scatterpolargl\": [{\"marker\": {\"colorbar\": {\"outlinewidth\": 0, \"ticks\": \"\"}}, \"type\": \"scatterpolargl\"}], \"scatterternary\": [{\"marker\": {\"colorbar\": {\"outlinewidth\": 0, \"ticks\": \"\"}}, \"type\": \"scatterternary\"}], \"surface\": [{\"colorbar\": {\"outlinewidth\": 0, \"ticks\": \"\"}, \"colorscale\": [[0.0, \"#0d0887\"], [0.1111111111111111, \"#46039f\"], [0.2222222222222222, \"#7201a8\"], [0.3333333333333333, \"#9c179e\"], [0.4444444444444444, \"#bd3786\"], [0.5555555555555556, \"#d8576b\"], [0.6666666666666666, \"#ed7953\"], [0.7777777777777778, \"#fb9f3a\"], [0.8888888888888888, \"#fdca26\"], [1.0, \"#f0f921\"]], \"type\": \"surface\"}], \"table\": [{\"cells\": {\"fill\": {\"color\": \"#EBF0F8\"}, \"line\": {\"color\": \"white\"}}, \"header\": {\"fill\": {\"color\": \"#C8D4E3\"}, \"line\": {\"color\": \"white\"}}, \"type\": \"table\"}]}, \"layout\": {\"annotationdefaults\": {\"arrowcolor\": \"#2a3f5f\", \"arrowhead\": 0, \"arrowwidth\": 1}, \"coloraxis\": {\"colorbar\": {\"outlinewidth\": 0, \"ticks\": \"\"}}, \"colorscale\": {\"diverging\": [[0, \"#8e0152\"], [0.1, \"#c51b7d\"], [0.2, \"#de77ae\"], [0.3, \"#f1b6da\"], [0.4, \"#fde0ef\"], [0.5, \"#f7f7f7\"], [0.6, \"#e6f5d0\"], [0.7, \"#b8e186\"], [0.8, \"#7fbc41\"], [0.9, \"#4d9221\"], [1, \"#276419\"]], \"sequential\": [[0.0, \"#0d0887\"], [0.1111111111111111, \"#46039f\"], [0.2222222222222222, \"#7201a8\"], [0.3333333333333333, \"#9c179e\"], [0.4444444444444444, \"#bd3786\"], [0.5555555555555556, \"#d8576b\"], [0.6666666666666666, \"#ed7953\"], [0.7777777777777778, \"#fb9f3a\"], [0.8888888888888888, \"#fdca26\"], [1.0, \"#f0f921\"]], \"sequentialminus\": [[0.0, \"#0d0887\"], [0.1111111111111111, \"#46039f\"], [0.2222222222222222, \"#7201a8\"], [0.3333333333333333, \"#9c179e\"], [0.4444444444444444, \"#bd3786\"], [0.5555555555555556, \"#d8576b\"], [0.6666666666666666, \"#ed7953\"], [0.7777777777777778, \"#fb9f3a\"], [0.8888888888888888, \"#fdca26\"], [1.0, \"#f0f921\"]]}, \"colorway\": [\"#636efa\", \"#EF553B\", \"#00cc96\", \"#ab63fa\", \"#FFA15A\", \"#19d3f3\", \"#FF6692\", \"#B6E880\", \"#FF97FF\", \"#FECB52\"], \"font\": {\"color\": \"#2a3f5f\"}, \"geo\": {\"bgcolor\": \"white\", \"lakecolor\": \"white\", \"landcolor\": \"#E5ECF6\", \"showlakes\": true, \"showland\": true, \"subunitcolor\": \"white\"}, \"hoverlabel\": {\"align\": \"left\"}, \"hovermode\": \"closest\", \"mapbox\": {\"style\": \"light\"}, \"paper_bgcolor\": \"white\", \"plot_bgcolor\": \"#E5ECF6\", \"polar\": {\"angularaxis\": {\"gridcolor\": \"white\", \"linecolor\": \"white\", \"ticks\": \"\"}, \"bgcolor\": \"#E5ECF6\", \"radialaxis\": {\"gridcolor\": \"white\", \"linecolor\": \"white\", \"ticks\": \"\"}}, \"scene\": {\"xaxis\": {\"backgroundcolor\": \"#E5ECF6\", \"gridcolor\": \"white\", \"gridwidth\": 2, \"linecolor\": \"white\", \"showbackground\": true, \"ticks\": \"\", \"zerolinecolor\": \"white\"}, \"yaxis\": {\"backgroundcolor\": \"#E5ECF6\", \"gridcolor\": \"white\", \"gridwidth\": 2, \"linecolor\": \"white\", \"showbackground\": true, \"ticks\": \"\", \"zerolinecolor\": \"white\"}, \"zaxis\": {\"backgroundcolor\": \"#E5ECF6\", \"gridcolor\": \"white\", \"gridwidth\": 2, \"linecolor\": \"white\", \"showbackground\": true, \"ticks\": \"\", \"zerolinecolor\": \"white\"}}, \"shapedefaults\": {\"line\": {\"color\": \"#2a3f5f\"}}, \"ternary\": {\"aaxis\": {\"gridcolor\": \"white\", \"linecolor\": \"white\", \"ticks\": \"\"}, \"baxis\": {\"gridcolor\": \"white\", \"linecolor\": \"white\", \"ticks\": \"\"}, \"bgcolor\": \"#E5ECF6\", \"caxis\": {\"gridcolor\": \"white\", \"linecolor\": \"white\", \"ticks\": \"\"}}, \"title\": {\"x\": 0.05}, \"xaxis\": {\"automargin\": true, \"gridcolor\": \"white\", \"linecolor\": \"white\", \"ticks\": \"\", \"title\": {\"standoff\": 15}, \"zerolinecolor\": \"white\", \"zerolinewidth\": 2}, \"yaxis\": {\"automargin\": true, \"gridcolor\": \"white\", \"linecolor\": \"white\", \"ticks\": \"\", \"title\": {\"standoff\": 15}, \"zerolinecolor\": \"white\", \"zerolinewidth\": 2}}}, \"title\": {\"font\": {\"color\": \"#4D5663\"}}, \"xaxis\": {\"gridcolor\": \"#E1E5ED\", \"showgrid\": true, \"tickfont\": {\"color\": \"#4D5663\"}, \"title\": {\"font\": {\"color\": \"#4D5663\"}, \"text\": \"\"}, \"zerolinecolor\": \"#E1E5ED\"}, \"yaxis\": {\"gridcolor\": \"#E1E5ED\", \"showgrid\": true, \"tickfont\": {\"color\": \"#4D5663\"}, \"title\": {\"font\": {\"color\": \"#4D5663\"}, \"text\": \"\"}, \"zerolinecolor\": \"#E1E5ED\"}},\n",
       "                        {\"showLink\": true, \"linkText\": \"Export to plot.ly\", \"plotlyServerURL\": \"https://plot.ly\", \"responsive\": true}\n",
       "                    ).then(function(){\n",
       "                            \n",
       "var gd = document.getElementById('eabe69a3-b580-4e03-bbe3-0143e19c1123');\n",
       "var x = new MutationObserver(function (mutations, observer) {{\n",
       "        var display = window.getComputedStyle(gd).display;\n",
       "        if (!display || display === 'none') {{\n",
       "            console.log([gd, 'removed!']);\n",
       "            Plotly.purge(gd);\n",
       "            observer.disconnect();\n",
       "        }}\n",
       "}});\n",
       "\n",
       "// Listen for the removal of the full notebook cells\n",
       "var notebookContainer = gd.closest('#notebook-container');\n",
       "if (notebookContainer) {{\n",
       "    x.observe(notebookContainer, {childList: true});\n",
       "}}\n",
       "\n",
       "// Listen for the clearing of the current output cell\n",
       "var outputEl = gd.closest('.output');\n",
       "if (outputEl) {{\n",
       "    x.observe(outputEl, {childList: true});\n",
       "}}\n",
       "\n",
       "                        })\n",
       "                };\n",
       "                });\n",
       "            </script>\n",
       "        </div>"
      ]
     },
     "metadata": {},
     "output_type": "display_data"
    }
   ],
   "source": [
    "df2.iplot(kind='bar',x='Category',y='Values')"
   ]
  },
  {
   "cell_type": "code",
   "execution_count": 15,
   "metadata": {},
   "outputs": [
    {
     "data": {
      "application/vnd.plotly.v1+json": {
       "config": {
        "linkText": "Export to plot.ly",
        "plotlyServerURL": "https://plot.ly",
        "showLink": true
       },
       "data": [
        {
         "marker": {
          "color": "rgba(255, 153, 51, 0.6)",
          "line": {
           "color": "rgba(255, 153, 51, 1.0)",
           "width": 1
          }
         },
         "name": "None",
         "orientation": "v",
         "text": "",
         "type": "bar",
         "x": [
          "A",
          "B",
          "C",
          "D"
         ],
         "y": [
          100,
          100,
          100,
          100
         ]
        }
       ],
       "layout": {
        "legend": {
         "bgcolor": "#F5F6F9",
         "font": {
          "color": "#4D5663"
         }
        },
        "paper_bgcolor": "#F5F6F9",
        "plot_bgcolor": "#F5F6F9",
        "template": {
         "data": {
          "bar": [
           {
            "error_x": {
             "color": "#2a3f5f"
            },
            "error_y": {
             "color": "#2a3f5f"
            },
            "marker": {
             "line": {
              "color": "#E5ECF6",
              "width": 0.5
             }
            },
            "type": "bar"
           }
          ],
          "barpolar": [
           {
            "marker": {
             "line": {
              "color": "#E5ECF6",
              "width": 0.5
             }
            },
            "type": "barpolar"
           }
          ],
          "carpet": [
           {
            "aaxis": {
             "endlinecolor": "#2a3f5f",
             "gridcolor": "white",
             "linecolor": "white",
             "minorgridcolor": "white",
             "startlinecolor": "#2a3f5f"
            },
            "baxis": {
             "endlinecolor": "#2a3f5f",
             "gridcolor": "white",
             "linecolor": "white",
             "minorgridcolor": "white",
             "startlinecolor": "#2a3f5f"
            },
            "type": "carpet"
           }
          ],
          "choropleth": [
           {
            "colorbar": {
             "outlinewidth": 0,
             "ticks": ""
            },
            "type": "choropleth"
           }
          ],
          "contour": [
           {
            "colorbar": {
             "outlinewidth": 0,
             "ticks": ""
            },
            "colorscale": [
             [
              0,
              "#0d0887"
             ],
             [
              0.1111111111111111,
              "#46039f"
             ],
             [
              0.2222222222222222,
              "#7201a8"
             ],
             [
              0.3333333333333333,
              "#9c179e"
             ],
             [
              0.4444444444444444,
              "#bd3786"
             ],
             [
              0.5555555555555556,
              "#d8576b"
             ],
             [
              0.6666666666666666,
              "#ed7953"
             ],
             [
              0.7777777777777778,
              "#fb9f3a"
             ],
             [
              0.8888888888888888,
              "#fdca26"
             ],
             [
              1,
              "#f0f921"
             ]
            ],
            "type": "contour"
           }
          ],
          "contourcarpet": [
           {
            "colorbar": {
             "outlinewidth": 0,
             "ticks": ""
            },
            "type": "contourcarpet"
           }
          ],
          "heatmap": [
           {
            "colorbar": {
             "outlinewidth": 0,
             "ticks": ""
            },
            "colorscale": [
             [
              0,
              "#0d0887"
             ],
             [
              0.1111111111111111,
              "#46039f"
             ],
             [
              0.2222222222222222,
              "#7201a8"
             ],
             [
              0.3333333333333333,
              "#9c179e"
             ],
             [
              0.4444444444444444,
              "#bd3786"
             ],
             [
              0.5555555555555556,
              "#d8576b"
             ],
             [
              0.6666666666666666,
              "#ed7953"
             ],
             [
              0.7777777777777778,
              "#fb9f3a"
             ],
             [
              0.8888888888888888,
              "#fdca26"
             ],
             [
              1,
              "#f0f921"
             ]
            ],
            "type": "heatmap"
           }
          ],
          "heatmapgl": [
           {
            "colorbar": {
             "outlinewidth": 0,
             "ticks": ""
            },
            "colorscale": [
             [
              0,
              "#0d0887"
             ],
             [
              0.1111111111111111,
              "#46039f"
             ],
             [
              0.2222222222222222,
              "#7201a8"
             ],
             [
              0.3333333333333333,
              "#9c179e"
             ],
             [
              0.4444444444444444,
              "#bd3786"
             ],
             [
              0.5555555555555556,
              "#d8576b"
             ],
             [
              0.6666666666666666,
              "#ed7953"
             ],
             [
              0.7777777777777778,
              "#fb9f3a"
             ],
             [
              0.8888888888888888,
              "#fdca26"
             ],
             [
              1,
              "#f0f921"
             ]
            ],
            "type": "heatmapgl"
           }
          ],
          "histogram": [
           {
            "marker": {
             "colorbar": {
              "outlinewidth": 0,
              "ticks": ""
             }
            },
            "type": "histogram"
           }
          ],
          "histogram2d": [
           {
            "colorbar": {
             "outlinewidth": 0,
             "ticks": ""
            },
            "colorscale": [
             [
              0,
              "#0d0887"
             ],
             [
              0.1111111111111111,
              "#46039f"
             ],
             [
              0.2222222222222222,
              "#7201a8"
             ],
             [
              0.3333333333333333,
              "#9c179e"
             ],
             [
              0.4444444444444444,
              "#bd3786"
             ],
             [
              0.5555555555555556,
              "#d8576b"
             ],
             [
              0.6666666666666666,
              "#ed7953"
             ],
             [
              0.7777777777777778,
              "#fb9f3a"
             ],
             [
              0.8888888888888888,
              "#fdca26"
             ],
             [
              1,
              "#f0f921"
             ]
            ],
            "type": "histogram2d"
           }
          ],
          "histogram2dcontour": [
           {
            "colorbar": {
             "outlinewidth": 0,
             "ticks": ""
            },
            "colorscale": [
             [
              0,
              "#0d0887"
             ],
             [
              0.1111111111111111,
              "#46039f"
             ],
             [
              0.2222222222222222,
              "#7201a8"
             ],
             [
              0.3333333333333333,
              "#9c179e"
             ],
             [
              0.4444444444444444,
              "#bd3786"
             ],
             [
              0.5555555555555556,
              "#d8576b"
             ],
             [
              0.6666666666666666,
              "#ed7953"
             ],
             [
              0.7777777777777778,
              "#fb9f3a"
             ],
             [
              0.8888888888888888,
              "#fdca26"
             ],
             [
              1,
              "#f0f921"
             ]
            ],
            "type": "histogram2dcontour"
           }
          ],
          "mesh3d": [
           {
            "colorbar": {
             "outlinewidth": 0,
             "ticks": ""
            },
            "type": "mesh3d"
           }
          ],
          "parcoords": [
           {
            "line": {
             "colorbar": {
              "outlinewidth": 0,
              "ticks": ""
             }
            },
            "type": "parcoords"
           }
          ],
          "pie": [
           {
            "automargin": true,
            "type": "pie"
           }
          ],
          "scatter": [
           {
            "marker": {
             "colorbar": {
              "outlinewidth": 0,
              "ticks": ""
             }
            },
            "type": "scatter"
           }
          ],
          "scatter3d": [
           {
            "line": {
             "colorbar": {
              "outlinewidth": 0,
              "ticks": ""
             }
            },
            "marker": {
             "colorbar": {
              "outlinewidth": 0,
              "ticks": ""
             }
            },
            "type": "scatter3d"
           }
          ],
          "scattercarpet": [
           {
            "marker": {
             "colorbar": {
              "outlinewidth": 0,
              "ticks": ""
             }
            },
            "type": "scattercarpet"
           }
          ],
          "scattergeo": [
           {
            "marker": {
             "colorbar": {
              "outlinewidth": 0,
              "ticks": ""
             }
            },
            "type": "scattergeo"
           }
          ],
          "scattergl": [
           {
            "marker": {
             "colorbar": {
              "outlinewidth": 0,
              "ticks": ""
             }
            },
            "type": "scattergl"
           }
          ],
          "scattermapbox": [
           {
            "marker": {
             "colorbar": {
              "outlinewidth": 0,
              "ticks": ""
             }
            },
            "type": "scattermapbox"
           }
          ],
          "scatterpolar": [
           {
            "marker": {
             "colorbar": {
              "outlinewidth": 0,
              "ticks": ""
             }
            },
            "type": "scatterpolar"
           }
          ],
          "scatterpolargl": [
           {
            "marker": {
             "colorbar": {
              "outlinewidth": 0,
              "ticks": ""
             }
            },
            "type": "scatterpolargl"
           }
          ],
          "scatterternary": [
           {
            "marker": {
             "colorbar": {
              "outlinewidth": 0,
              "ticks": ""
             }
            },
            "type": "scatterternary"
           }
          ],
          "surface": [
           {
            "colorbar": {
             "outlinewidth": 0,
             "ticks": ""
            },
            "colorscale": [
             [
              0,
              "#0d0887"
             ],
             [
              0.1111111111111111,
              "#46039f"
             ],
             [
              0.2222222222222222,
              "#7201a8"
             ],
             [
              0.3333333333333333,
              "#9c179e"
             ],
             [
              0.4444444444444444,
              "#bd3786"
             ],
             [
              0.5555555555555556,
              "#d8576b"
             ],
             [
              0.6666666666666666,
              "#ed7953"
             ],
             [
              0.7777777777777778,
              "#fb9f3a"
             ],
             [
              0.8888888888888888,
              "#fdca26"
             ],
             [
              1,
              "#f0f921"
             ]
            ],
            "type": "surface"
           }
          ],
          "table": [
           {
            "cells": {
             "fill": {
              "color": "#EBF0F8"
             },
             "line": {
              "color": "white"
             }
            },
            "header": {
             "fill": {
              "color": "#C8D4E3"
             },
             "line": {
              "color": "white"
             }
            },
            "type": "table"
           }
          ]
         },
         "layout": {
          "annotationdefaults": {
           "arrowcolor": "#2a3f5f",
           "arrowhead": 0,
           "arrowwidth": 1
          },
          "coloraxis": {
           "colorbar": {
            "outlinewidth": 0,
            "ticks": ""
           }
          },
          "colorscale": {
           "diverging": [
            [
             0,
             "#8e0152"
            ],
            [
             0.1,
             "#c51b7d"
            ],
            [
             0.2,
             "#de77ae"
            ],
            [
             0.3,
             "#f1b6da"
            ],
            [
             0.4,
             "#fde0ef"
            ],
            [
             0.5,
             "#f7f7f7"
            ],
            [
             0.6,
             "#e6f5d0"
            ],
            [
             0.7,
             "#b8e186"
            ],
            [
             0.8,
             "#7fbc41"
            ],
            [
             0.9,
             "#4d9221"
            ],
            [
             1,
             "#276419"
            ]
           ],
           "sequential": [
            [
             0,
             "#0d0887"
            ],
            [
             0.1111111111111111,
             "#46039f"
            ],
            [
             0.2222222222222222,
             "#7201a8"
            ],
            [
             0.3333333333333333,
             "#9c179e"
            ],
            [
             0.4444444444444444,
             "#bd3786"
            ],
            [
             0.5555555555555556,
             "#d8576b"
            ],
            [
             0.6666666666666666,
             "#ed7953"
            ],
            [
             0.7777777777777778,
             "#fb9f3a"
            ],
            [
             0.8888888888888888,
             "#fdca26"
            ],
            [
             1,
             "#f0f921"
            ]
           ],
           "sequentialminus": [
            [
             0,
             "#0d0887"
            ],
            [
             0.1111111111111111,
             "#46039f"
            ],
            [
             0.2222222222222222,
             "#7201a8"
            ],
            [
             0.3333333333333333,
             "#9c179e"
            ],
            [
             0.4444444444444444,
             "#bd3786"
            ],
            [
             0.5555555555555556,
             "#d8576b"
            ],
            [
             0.6666666666666666,
             "#ed7953"
            ],
            [
             0.7777777777777778,
             "#fb9f3a"
            ],
            [
             0.8888888888888888,
             "#fdca26"
            ],
            [
             1,
             "#f0f921"
            ]
           ]
          },
          "colorway": [
           "#636efa",
           "#EF553B",
           "#00cc96",
           "#ab63fa",
           "#FFA15A",
           "#19d3f3",
           "#FF6692",
           "#B6E880",
           "#FF97FF",
           "#FECB52"
          ],
          "font": {
           "color": "#2a3f5f"
          },
          "geo": {
           "bgcolor": "white",
           "lakecolor": "white",
           "landcolor": "#E5ECF6",
           "showlakes": true,
           "showland": true,
           "subunitcolor": "white"
          },
          "hoverlabel": {
           "align": "left"
          },
          "hovermode": "closest",
          "mapbox": {
           "style": "light"
          },
          "paper_bgcolor": "white",
          "plot_bgcolor": "#E5ECF6",
          "polar": {
           "angularaxis": {
            "gridcolor": "white",
            "linecolor": "white",
            "ticks": ""
           },
           "bgcolor": "#E5ECF6",
           "radialaxis": {
            "gridcolor": "white",
            "linecolor": "white",
            "ticks": ""
           }
          },
          "scene": {
           "xaxis": {
            "backgroundcolor": "#E5ECF6",
            "gridcolor": "white",
            "gridwidth": 2,
            "linecolor": "white",
            "showbackground": true,
            "ticks": "",
            "zerolinecolor": "white"
           },
           "yaxis": {
            "backgroundcolor": "#E5ECF6",
            "gridcolor": "white",
            "gridwidth": 2,
            "linecolor": "white",
            "showbackground": true,
            "ticks": "",
            "zerolinecolor": "white"
           },
           "zaxis": {
            "backgroundcolor": "#E5ECF6",
            "gridcolor": "white",
            "gridwidth": 2,
            "linecolor": "white",
            "showbackground": true,
            "ticks": "",
            "zerolinecolor": "white"
           }
          },
          "shapedefaults": {
           "line": {
            "color": "#2a3f5f"
           }
          },
          "ternary": {
           "aaxis": {
            "gridcolor": "white",
            "linecolor": "white",
            "ticks": ""
           },
           "baxis": {
            "gridcolor": "white",
            "linecolor": "white",
            "ticks": ""
           },
           "bgcolor": "#E5ECF6",
           "caxis": {
            "gridcolor": "white",
            "linecolor": "white",
            "ticks": ""
           }
          },
          "title": {
           "x": 0.05
          },
          "xaxis": {
           "automargin": true,
           "gridcolor": "white",
           "linecolor": "white",
           "ticks": "",
           "title": {
            "standoff": 15
           },
           "zerolinecolor": "white",
           "zerolinewidth": 2
          },
          "yaxis": {
           "automargin": true,
           "gridcolor": "white",
           "linecolor": "white",
           "ticks": "",
           "title": {
            "standoff": 15
           },
           "zerolinecolor": "white",
           "zerolinewidth": 2
          }
         }
        },
        "title": {
         "font": {
          "color": "#4D5663"
         }
        },
        "xaxis": {
         "gridcolor": "#E1E5ED",
         "showgrid": true,
         "tickfont": {
          "color": "#4D5663"
         },
         "title": {
          "font": {
           "color": "#4D5663"
          },
          "text": ""
         },
         "zerolinecolor": "#E1E5ED"
        },
        "yaxis": {
         "gridcolor": "#E1E5ED",
         "showgrid": true,
         "tickfont": {
          "color": "#4D5663"
         },
         "title": {
          "font": {
           "color": "#4D5663"
          },
          "text": ""
         },
         "zerolinecolor": "#E1E5ED"
        }
       }
      },
      "text/html": [
       "<div>\n",
       "        \n",
       "        \n",
       "            <div id=\"090913f9-389d-41e3-b695-ff17623003a3\" class=\"plotly-graph-div\" style=\"height:525px; width:100%;\"></div>\n",
       "            <script type=\"text/javascript\">\n",
       "                require([\"plotly\"], function(Plotly) {\n",
       "                    window.PLOTLYENV=window.PLOTLYENV || {};\n",
       "                    window.PLOTLYENV.BASE_URL='https://plot.ly';\n",
       "                    \n",
       "                if (document.getElementById(\"090913f9-389d-41e3-b695-ff17623003a3\")) {\n",
       "                    Plotly.newPlot(\n",
       "                        '090913f9-389d-41e3-b695-ff17623003a3',\n",
       "                        [{\"marker\": {\"color\": \"rgba(255, 153, 51, 0.6)\", \"line\": {\"color\": \"rgba(255, 153, 51, 1.0)\", \"width\": 1}}, \"name\": \"None\", \"orientation\": \"v\", \"text\": \"\", \"type\": \"bar\", \"x\": [\"A\", \"B\", \"C\", \"D\"], \"y\": [100, 100, 100, 100]}],\n",
       "                        {\"legend\": {\"bgcolor\": \"#F5F6F9\", \"font\": {\"color\": \"#4D5663\"}}, \"paper_bgcolor\": \"#F5F6F9\", \"plot_bgcolor\": \"#F5F6F9\", \"template\": {\"data\": {\"bar\": [{\"error_x\": {\"color\": \"#2a3f5f\"}, \"error_y\": {\"color\": \"#2a3f5f\"}, \"marker\": {\"line\": {\"color\": \"#E5ECF6\", \"width\": 0.5}}, \"type\": \"bar\"}], \"barpolar\": [{\"marker\": {\"line\": {\"color\": \"#E5ECF6\", \"width\": 0.5}}, \"type\": \"barpolar\"}], \"carpet\": [{\"aaxis\": {\"endlinecolor\": \"#2a3f5f\", \"gridcolor\": \"white\", \"linecolor\": \"white\", \"minorgridcolor\": \"white\", \"startlinecolor\": \"#2a3f5f\"}, \"baxis\": {\"endlinecolor\": \"#2a3f5f\", \"gridcolor\": \"white\", \"linecolor\": \"white\", \"minorgridcolor\": \"white\", \"startlinecolor\": \"#2a3f5f\"}, \"type\": \"carpet\"}], \"choropleth\": [{\"colorbar\": {\"outlinewidth\": 0, \"ticks\": \"\"}, \"type\": \"choropleth\"}], \"contour\": [{\"colorbar\": {\"outlinewidth\": 0, \"ticks\": \"\"}, \"colorscale\": [[0.0, \"#0d0887\"], [0.1111111111111111, \"#46039f\"], [0.2222222222222222, \"#7201a8\"], [0.3333333333333333, \"#9c179e\"], [0.4444444444444444, \"#bd3786\"], [0.5555555555555556, \"#d8576b\"], [0.6666666666666666, \"#ed7953\"], [0.7777777777777778, \"#fb9f3a\"], [0.8888888888888888, \"#fdca26\"], [1.0, \"#f0f921\"]], \"type\": \"contour\"}], \"contourcarpet\": [{\"colorbar\": {\"outlinewidth\": 0, \"ticks\": \"\"}, \"type\": \"contourcarpet\"}], \"heatmap\": [{\"colorbar\": {\"outlinewidth\": 0, \"ticks\": \"\"}, \"colorscale\": [[0.0, \"#0d0887\"], [0.1111111111111111, \"#46039f\"], [0.2222222222222222, \"#7201a8\"], [0.3333333333333333, \"#9c179e\"], [0.4444444444444444, \"#bd3786\"], [0.5555555555555556, \"#d8576b\"], [0.6666666666666666, \"#ed7953\"], [0.7777777777777778, \"#fb9f3a\"], [0.8888888888888888, \"#fdca26\"], [1.0, \"#f0f921\"]], \"type\": \"heatmap\"}], \"heatmapgl\": [{\"colorbar\": {\"outlinewidth\": 0, \"ticks\": \"\"}, \"colorscale\": [[0.0, \"#0d0887\"], [0.1111111111111111, \"#46039f\"], [0.2222222222222222, \"#7201a8\"], [0.3333333333333333, \"#9c179e\"], [0.4444444444444444, \"#bd3786\"], [0.5555555555555556, \"#d8576b\"], [0.6666666666666666, \"#ed7953\"], [0.7777777777777778, \"#fb9f3a\"], [0.8888888888888888, \"#fdca26\"], [1.0, \"#f0f921\"]], \"type\": \"heatmapgl\"}], \"histogram\": [{\"marker\": {\"colorbar\": {\"outlinewidth\": 0, \"ticks\": \"\"}}, \"type\": \"histogram\"}], \"histogram2d\": [{\"colorbar\": {\"outlinewidth\": 0, \"ticks\": \"\"}, \"colorscale\": [[0.0, \"#0d0887\"], [0.1111111111111111, \"#46039f\"], [0.2222222222222222, \"#7201a8\"], [0.3333333333333333, \"#9c179e\"], [0.4444444444444444, \"#bd3786\"], [0.5555555555555556, \"#d8576b\"], [0.6666666666666666, \"#ed7953\"], [0.7777777777777778, \"#fb9f3a\"], [0.8888888888888888, \"#fdca26\"], [1.0, \"#f0f921\"]], \"type\": \"histogram2d\"}], \"histogram2dcontour\": [{\"colorbar\": {\"outlinewidth\": 0, \"ticks\": \"\"}, \"colorscale\": [[0.0, \"#0d0887\"], [0.1111111111111111, \"#46039f\"], [0.2222222222222222, \"#7201a8\"], [0.3333333333333333, \"#9c179e\"], [0.4444444444444444, \"#bd3786\"], [0.5555555555555556, \"#d8576b\"], [0.6666666666666666, \"#ed7953\"], [0.7777777777777778, \"#fb9f3a\"], [0.8888888888888888, \"#fdca26\"], [1.0, \"#f0f921\"]], \"type\": \"histogram2dcontour\"}], \"mesh3d\": [{\"colorbar\": {\"outlinewidth\": 0, \"ticks\": \"\"}, \"type\": \"mesh3d\"}], \"parcoords\": [{\"line\": {\"colorbar\": {\"outlinewidth\": 0, \"ticks\": \"\"}}, \"type\": \"parcoords\"}], \"pie\": [{\"automargin\": true, \"type\": \"pie\"}], \"scatter\": [{\"marker\": {\"colorbar\": {\"outlinewidth\": 0, \"ticks\": \"\"}}, \"type\": \"scatter\"}], \"scatter3d\": [{\"line\": {\"colorbar\": {\"outlinewidth\": 0, \"ticks\": \"\"}}, \"marker\": {\"colorbar\": {\"outlinewidth\": 0, \"ticks\": \"\"}}, \"type\": \"scatter3d\"}], \"scattercarpet\": [{\"marker\": {\"colorbar\": {\"outlinewidth\": 0, \"ticks\": \"\"}}, \"type\": \"scattercarpet\"}], \"scattergeo\": [{\"marker\": {\"colorbar\": {\"outlinewidth\": 0, \"ticks\": \"\"}}, \"type\": \"scattergeo\"}], \"scattergl\": [{\"marker\": {\"colorbar\": {\"outlinewidth\": 0, \"ticks\": \"\"}}, \"type\": \"scattergl\"}], \"scattermapbox\": [{\"marker\": {\"colorbar\": {\"outlinewidth\": 0, \"ticks\": \"\"}}, \"type\": \"scattermapbox\"}], \"scatterpolar\": [{\"marker\": {\"colorbar\": {\"outlinewidth\": 0, \"ticks\": \"\"}}, \"type\": \"scatterpolar\"}], \"scatterpolargl\": [{\"marker\": {\"colorbar\": {\"outlinewidth\": 0, \"ticks\": \"\"}}, \"type\": \"scatterpolargl\"}], \"scatterternary\": [{\"marker\": {\"colorbar\": {\"outlinewidth\": 0, \"ticks\": \"\"}}, \"type\": \"scatterternary\"}], \"surface\": [{\"colorbar\": {\"outlinewidth\": 0, \"ticks\": \"\"}, \"colorscale\": [[0.0, \"#0d0887\"], [0.1111111111111111, \"#46039f\"], [0.2222222222222222, \"#7201a8\"], [0.3333333333333333, \"#9c179e\"], [0.4444444444444444, \"#bd3786\"], [0.5555555555555556, \"#d8576b\"], [0.6666666666666666, \"#ed7953\"], [0.7777777777777778, \"#fb9f3a\"], [0.8888888888888888, \"#fdca26\"], [1.0, \"#f0f921\"]], \"type\": \"surface\"}], \"table\": [{\"cells\": {\"fill\": {\"color\": \"#EBF0F8\"}, \"line\": {\"color\": \"white\"}}, \"header\": {\"fill\": {\"color\": \"#C8D4E3\"}, \"line\": {\"color\": \"white\"}}, \"type\": \"table\"}]}, \"layout\": {\"annotationdefaults\": {\"arrowcolor\": \"#2a3f5f\", \"arrowhead\": 0, \"arrowwidth\": 1}, \"coloraxis\": {\"colorbar\": {\"outlinewidth\": 0, \"ticks\": \"\"}}, \"colorscale\": {\"diverging\": [[0, \"#8e0152\"], [0.1, \"#c51b7d\"], [0.2, \"#de77ae\"], [0.3, \"#f1b6da\"], [0.4, \"#fde0ef\"], [0.5, \"#f7f7f7\"], [0.6, \"#e6f5d0\"], [0.7, \"#b8e186\"], [0.8, \"#7fbc41\"], [0.9, \"#4d9221\"], [1, \"#276419\"]], \"sequential\": [[0.0, \"#0d0887\"], [0.1111111111111111, \"#46039f\"], [0.2222222222222222, \"#7201a8\"], [0.3333333333333333, \"#9c179e\"], [0.4444444444444444, \"#bd3786\"], [0.5555555555555556, \"#d8576b\"], [0.6666666666666666, \"#ed7953\"], [0.7777777777777778, \"#fb9f3a\"], [0.8888888888888888, \"#fdca26\"], [1.0, \"#f0f921\"]], \"sequentialminus\": [[0.0, \"#0d0887\"], [0.1111111111111111, \"#46039f\"], [0.2222222222222222, \"#7201a8\"], [0.3333333333333333, \"#9c179e\"], [0.4444444444444444, \"#bd3786\"], [0.5555555555555556, \"#d8576b\"], [0.6666666666666666, \"#ed7953\"], [0.7777777777777778, \"#fb9f3a\"], [0.8888888888888888, \"#fdca26\"], [1.0, \"#f0f921\"]]}, \"colorway\": [\"#636efa\", \"#EF553B\", \"#00cc96\", \"#ab63fa\", \"#FFA15A\", \"#19d3f3\", \"#FF6692\", \"#B6E880\", \"#FF97FF\", \"#FECB52\"], \"font\": {\"color\": \"#2a3f5f\"}, \"geo\": {\"bgcolor\": \"white\", \"lakecolor\": \"white\", \"landcolor\": \"#E5ECF6\", \"showlakes\": true, \"showland\": true, \"subunitcolor\": \"white\"}, \"hoverlabel\": {\"align\": \"left\"}, \"hovermode\": \"closest\", \"mapbox\": {\"style\": \"light\"}, \"paper_bgcolor\": \"white\", \"plot_bgcolor\": \"#E5ECF6\", \"polar\": {\"angularaxis\": {\"gridcolor\": \"white\", \"linecolor\": \"white\", \"ticks\": \"\"}, \"bgcolor\": \"#E5ECF6\", \"radialaxis\": {\"gridcolor\": \"white\", \"linecolor\": \"white\", \"ticks\": \"\"}}, \"scene\": {\"xaxis\": {\"backgroundcolor\": \"#E5ECF6\", \"gridcolor\": \"white\", \"gridwidth\": 2, \"linecolor\": \"white\", \"showbackground\": true, \"ticks\": \"\", \"zerolinecolor\": \"white\"}, \"yaxis\": {\"backgroundcolor\": \"#E5ECF6\", \"gridcolor\": \"white\", \"gridwidth\": 2, \"linecolor\": \"white\", \"showbackground\": true, \"ticks\": \"\", \"zerolinecolor\": \"white\"}, \"zaxis\": {\"backgroundcolor\": \"#E5ECF6\", \"gridcolor\": \"white\", \"gridwidth\": 2, \"linecolor\": \"white\", \"showbackground\": true, \"ticks\": \"\", \"zerolinecolor\": \"white\"}}, \"shapedefaults\": {\"line\": {\"color\": \"#2a3f5f\"}}, \"ternary\": {\"aaxis\": {\"gridcolor\": \"white\", \"linecolor\": \"white\", \"ticks\": \"\"}, \"baxis\": {\"gridcolor\": \"white\", \"linecolor\": \"white\", \"ticks\": \"\"}, \"bgcolor\": \"#E5ECF6\", \"caxis\": {\"gridcolor\": \"white\", \"linecolor\": \"white\", \"ticks\": \"\"}}, \"title\": {\"x\": 0.05}, \"xaxis\": {\"automargin\": true, \"gridcolor\": \"white\", \"linecolor\": \"white\", \"ticks\": \"\", \"title\": {\"standoff\": 15}, \"zerolinecolor\": \"white\", \"zerolinewidth\": 2}, \"yaxis\": {\"automargin\": true, \"gridcolor\": \"white\", \"linecolor\": \"white\", \"ticks\": \"\", \"title\": {\"standoff\": 15}, \"zerolinecolor\": \"white\", \"zerolinewidth\": 2}}}, \"title\": {\"font\": {\"color\": \"#4D5663\"}}, \"xaxis\": {\"gridcolor\": \"#E1E5ED\", \"showgrid\": true, \"tickfont\": {\"color\": \"#4D5663\"}, \"title\": {\"font\": {\"color\": \"#4D5663\"}, \"text\": \"\"}, \"zerolinecolor\": \"#E1E5ED\"}, \"yaxis\": {\"gridcolor\": \"#E1E5ED\", \"showgrid\": true, \"tickfont\": {\"color\": \"#4D5663\"}, \"title\": {\"font\": {\"color\": \"#4D5663\"}, \"text\": \"\"}, \"zerolinecolor\": \"#E1E5ED\"}},\n",
       "                        {\"showLink\": true, \"linkText\": \"Export to plot.ly\", \"plotlyServerURL\": \"https://plot.ly\", \"responsive\": true}\n",
       "                    ).then(function(){\n",
       "                            \n",
       "var gd = document.getElementById('090913f9-389d-41e3-b695-ff17623003a3');\n",
       "var x = new MutationObserver(function (mutations, observer) {{\n",
       "        var display = window.getComputedStyle(gd).display;\n",
       "        if (!display || display === 'none') {{\n",
       "            console.log([gd, 'removed!']);\n",
       "            Plotly.purge(gd);\n",
       "            observer.disconnect();\n",
       "        }}\n",
       "}});\n",
       "\n",
       "// Listen for the removal of the full notebook cells\n",
       "var notebookContainer = gd.closest('#notebook-container');\n",
       "if (notebookContainer) {{\n",
       "    x.observe(notebookContainer, {childList: true});\n",
       "}}\n",
       "\n",
       "// Listen for the clearing of the current output cell\n",
       "var outputEl = gd.closest('.output');\n",
       "if (outputEl) {{\n",
       "    x.observe(outputEl, {childList: true});\n",
       "}}\n",
       "\n",
       "                        })\n",
       "                };\n",
       "                });\n",
       "            </script>\n",
       "        </div>"
      ]
     },
     "metadata": {},
     "output_type": "display_data"
    }
   ],
   "source": [
    "df.count().iplot(kind='bar')"
   ]
  },
  {
   "cell_type": "markdown",
   "metadata": {},
   "source": [
    "## Boxplots"
   ]
  },
  {
   "cell_type": "code",
   "execution_count": 16,
   "metadata": {},
   "outputs": [
    {
     "data": {
      "application/vnd.plotly.v1+json": {
       "config": {
        "linkText": "Export to plot.ly",
        "plotlyServerURL": "https://plot.ly",
        "showLink": true
       },
       "data": [
        {
         "boxpoints": false,
         "line": {
          "width": 1.3
         },
         "marker": {
          "color": "rgba(255, 153, 51, 1.0)"
         },
         "name": "A",
         "orientation": "v",
         "type": "box",
         "y": [
          1.0228643665915085,
          2.078102285193514,
          0.5158761667916655,
          -1.4857226758011213,
          1.1077899573724663,
          0.2928304928477981,
          0.08180311043452258,
          -0.8398530251478752,
          1.3175894476736056,
          1.2978189929523019,
          0.17520201513727157,
          0.13470956074463153,
          -0.018281469699972675,
          0.8636862501760922,
          0.854931415770735,
          -2.31890408029755,
          -0.28203176898922466,
          -0.4174329968596667,
          -1.503218670415323,
          -0.18860321509438102,
          -0.7529022721721581,
          -2.570027995821825,
          -1.2277556562626448,
          1.1348793153157908,
          0.6875961744242264,
          -0.2753527351696327,
          -1.1690704197924868,
          -0.08904043768740891,
          -0.7045947505690036,
          0.7853038385361636,
          -1.8662616235543097,
          -0.6715946774492092,
          0.14140540623443235,
          1.3745450625176414,
          -0.4591638710115532,
          -1.5319228881869125,
          1.2028181597771725,
          1.2393746284609601,
          -0.6500507894760755,
          -0.21417262573551185,
          -0.9313021954607845,
          1.4704143399240799,
          -0.19491831985513233,
          -0.9638924891142663,
          -0.5602620061156413,
          1.068653338611267,
          -0.28644653661110253,
          -1.297988288985895,
          0.6231907143360257,
          0.16444560852194856,
          -2.932907068675399,
          0.3219885191550619,
          -0.028948928296179757,
          1.5784640369464342,
          -1.0274983429401636,
          -0.43916117057086185,
          -0.426287302067674,
          -0.6092424312797955,
          -0.964214418090293,
          0.746369898931979,
          0.7237930721167293,
          -0.10665138799427454,
          1.0654356336753241,
          0.4150648593531338,
          0.5325737757365044,
          1.1434825925461756,
          0.19354088689971932,
          0.9721115249390958,
          0.01669477482715258,
          -0.5505029172817046,
          0.7152130788861849,
          -0.2245739409808382,
          -1.442887718560802,
          0.7569709318575875,
          -0.47768834110432884,
          -0.29411149822300764,
          0.12293170873575046,
          2.6946585797040616,
          0.6374185448442311,
          1.2952490195484176,
          0.02672722368465936,
          0.6707412178690879,
          0.6261665975706423,
          0.9897175184180778,
          -0.6206278701414436,
          -0.39026888701340817,
          0.4893873581585123,
          -1.846657196452513,
          -1.5247262152509458,
          2.3050474743024325,
          -0.8013803613983328,
          0.07982339735858235,
          -1.3690892621838988,
          -0.9644454717774649,
          0.5352164593595689,
          0.94834773112565,
          -1.8003266447589534,
          -1.0044384424427626,
          0.8333440027795855,
          -0.8904685620304708
         ]
        },
        {
         "boxpoints": false,
         "line": {
          "width": 1.3
         },
         "marker": {
          "color": "rgba(55, 128, 191, 1.0)"
         },
         "name": "B",
         "orientation": "v",
         "type": "box",
         "y": [
          1.5141072432731078,
          1.3170923237060794,
          -1.2513598809475768,
          -0.20275432049873324,
          0.04283920687179462,
          -0.08198349502163418,
          -0.17527587292137195,
          -0.16422933085451655,
          -0.10949108877275467,
          0.01078502521025764,
          -0.142156670759665,
          0.535117716801839,
          0.11086446473816583,
          -1.2936877961444537,
          -0.4375644008191952,
          -0.17897112491722345,
          -1.024123352271027,
          -0.33933873174526424,
          0.4260696746455677,
          -0.5625645460881664,
          0.5594555584770827,
          -0.7278302611994535,
          0.2810175524087304,
          0.9491286356166035,
          0.6243073965868807,
          -0.4771339712795888,
          0.3902324728016761,
          -1.0658694939365105,
          -0.49638173288238013,
          -0.7723608586748788,
          -0.3583424525867705,
          1.0109681194818183,
          0.30756936188984574,
          1.439887634410778,
          2.7589740571186803,
          0.013419866304679555,
          -0.8381998836780817,
          0.2809158709836502,
          -0.04285707840302234,
          1.1894315670021485,
          0.4541141891865138,
          0.7365427955903368,
          0.7615628554124507,
          0.7593673768097888,
          -1.456476130196915,
          -0.04274711258224199,
          -1.1169373827498756,
          0.26397190431587925,
          0.267896444013153,
          0.9503102026463995,
          -0.6109902535336791,
          0.9889541101801155,
          0.5394973692501939,
          0.06037484857144976,
          0.9395003143245638,
          1.0746673198039558,
          -1.8919124007160064,
          0.8911063236978104,
          0.7206902756080743,
          -0.05381056467822287,
          -0.07977933156171538,
          1.71482576145405,
          -0.5043033782351627,
          -1.629661959427632,
          0.6808764508865055,
          1.1696252116148629,
          -1.0520992102224875,
          0.687739553848473,
          -0.849204644269452,
          0.4511280211640707,
          -0.20689846332809914,
          -0.9098463581849429,
          1.6987065729946769,
          -0.16512570553715297,
          -0.256922359989604,
          1.7432405215820297,
          1.2967704364685568,
          1.4583072575830145,
          -1.4210266514879522,
          0.1331227414103682,
          1.3085817597898504,
          -0.3959354674886219,
          -1.4911834610915695,
          1.2706198453298128,
          0.6093484061842721,
          0.7111587835583064,
          1.0459312680400894,
          -0.9627794132590002,
          0.04234451007099024,
          2.253503873221812,
          -1.3102931449745447,
          -0.7049178036933245,
          0.32964633934100174,
          0.35516682842767844,
          1.6832239408703678,
          -0.21291187277689125,
          -0.04556588313452348,
          -0.34362920185315665,
          1.8283057057526904,
          -0.6443763600103907
         ]
        },
        {
         "boxpoints": false,
         "line": {
          "width": 1.3
         },
         "marker": {
          "color": "rgba(50, 171, 96, 1.0)"
         },
         "name": "C",
         "orientation": "v",
         "type": "box",
         "y": [
          0.6933789696749599,
          0.8631403208500658,
          0.20816096208387813,
          2.027766626104301,
          -0.43039721645765366,
          0.06385344636256578,
          2.5640511251537306,
          -0.5051416863957513,
          -0.8134108110141528,
          0.00679387045499981,
          0.7925495742162394,
          1.2025333183313203,
          -0.12409543738404143,
          -0.5631671252055999,
          1.159357237357705,
          0.21481290064624406,
          0.40248094518480815,
          -0.5478624432526507,
          -0.5878723235007826,
          0.8239210393142998,
          0.22844507451860518,
          -0.5796130484437046,
          -0.6289658218196122,
          -0.39896079305444293,
          1.2242012867487388,
          0.480892143647502,
          -0.9345506945772835,
          0.8563723470551708,
          -0.8429563250136834,
          2.5663879611310776,
          -0.8349074439915939,
          -2.542199962516889,
          2.2093776405364327,
          1.0528243549219753,
          -1.7468975526346102,
          -0.25439092637621036,
          1.1157755704141765,
          0.3975863593253244,
          -2.915159380217476,
          0.5602693736321325,
          0.6252767815188935,
          -1.2603287680392712,
          1.9546266269764132,
          0.06446636742665764,
          -1.1961102292314647,
          1.1300908450730753,
          0.8017991246560502,
          -0.8567153429967642,
          -2.6069787733253884,
          1.7870865816222623,
          -1.4327244017073455,
          -0.1513720962550858,
          1.2435130089869366,
          0.10397603412197333,
          1.1027143948619815,
          -0.8035922696495199,
          -1.3405883041634505,
          0.6036330942433228,
          0.8349624764080465,
          1.7943772604805983,
          0.9305331236629549,
          0.5571570876592357,
          0.41169386450405815,
          -1.843471820755653,
          0.4267741437543645,
          -1.6629313369516465,
          0.023387109398190234,
          0.820318790097195,
          1.5370355005866672,
          -1.7843303714898866,
          0.15983427026446828,
          -2.704123331773724,
          -1.2079609128161397,
          -0.8939980939056121,
          -0.4862841707576032,
          -0.039068165790167336,
          -0.5471109040973634,
          0.18696330228788802,
          -0.3233368961422661,
          0.016941640794040282,
          0.9644758600278682,
          1.0304756728788678,
          0.27804817571305895,
          -1.352996932479426,
          0.5266185128420701,
          0.6723639358082578,
          -0.5723976462195935,
          -1.2167158818779655,
          -1.0978024544886873,
          -0.3211680756606533,
          1.06714484777027,
          0.08709685036446932,
          0.4458233057506876,
          -0.11935925934861417,
          -0.00038358580139972347,
          -2.2938246723298508,
          1.9453414872458288,
          0.010525767464059817,
          -0.44070070812597006,
          -0.4354376878406088
         ]
        },
        {
         "boxpoints": false,
         "line": {
          "width": 1.3
         },
         "marker": {
          "color": "rgba(128, 0, 128, 1.0)"
         },
         "name": "D",
         "orientation": "v",
         "type": "box",
         "y": [
          0.05618971478538302,
          0.3694284858249701,
          0.9802387463529144,
          0.9626995117409148,
          1.30045524482868,
          -0.5137940100211446,
          -0.8727576999738578,
          0.30029218164598387,
          0.83408008524203,
          1.3408669469958263,
          -1.3479618664091548,
          1.219076070870195,
          -1.3820067078156808,
          1.818736510385948,
          -1.1207157690422458,
          -1.2286560742249966,
          0.31069692010745953,
          -2.0544327377169007,
          0.5657469822365534,
          -0.8001417038095807,
          -0.4024803690289098,
          -0.5370836277167435,
          0.3769729992380329,
          0.9629096725483007,
          0.24550404703639095,
          -1.3493218454371598,
          -1.0484824814980473,
          -0.08174795922658604,
          -0.9049639400993928,
          -0.19055559489371013,
          -2.3020240635680422,
          0.09865730561517631,
          0.3355882950460898,
          -0.8618295678800628,
          -1.6076234369552715,
          0.05769501880594335,
          0.13414990458887333,
          -0.1991937139681864,
          -1.3574325057580163,
          0.7204994001823675,
          -1.991905982953989,
          -0.888703240152274,
          -1.781396367342669,
          0.1562347421120147,
          0.03250033476953922,
          0.7668323467726299,
          -0.5327640820123262,
          -0.17018071968114484,
          1.2578788579865674,
          -0.5672593267071177,
          0.29162768697814406,
          0.2823327240578985,
          -0.9748926108824236,
          -0.5413941125055433,
          -1.1542748134457648,
          -0.1292875199702572,
          -0.12353472830437592,
          1.1402636483728286,
          2.070757130120264,
          -1.3038074604656575,
          0.9929080907393697,
          -0.34786058955174254,
          -1.4984267558072524,
          -0.11316292612166433,
          -0.17997302838796692,
          0.3343294988967631,
          -0.37087020805294657,
          0.5328141753084021,
          0.7086585161444137,
          0.6503420347470119,
          0.25665661168476556,
          -0.8771615056074303,
          0.9034356637533109,
          -0.3590198275238328,
          0.18436478081640245,
          -0.04049176943951113,
          -0.1480869886875453,
          -1.009593236158076,
          0.382409138290801,
          0.22010097957614003,
          0.46354439321035174,
          -1.2665940215408666,
          -0.5362984486095673,
          -0.7370341511332864,
          -0.5682873363739301,
          0.7456559564681564,
          -1.6654813743352137,
          -0.005157936976523277,
          0.09604801537763198,
          -0.24902845482014724,
          0.7500820454229407,
          -2.433195759104504,
          0.6258205399694532,
          0.2970138114157008,
          -0.05935254429281779,
          -2.189513716814099,
          1.8162448625727992,
          -0.16229090436651744,
          -0.5830018764610854,
          -0.88963055125256
         ]
        }
       ],
       "layout": {
        "legend": {
         "bgcolor": "#F5F6F9",
         "font": {
          "color": "#4D5663"
         }
        },
        "paper_bgcolor": "#F5F6F9",
        "plot_bgcolor": "#F5F6F9",
        "template": {
         "data": {
          "bar": [
           {
            "error_x": {
             "color": "#2a3f5f"
            },
            "error_y": {
             "color": "#2a3f5f"
            },
            "marker": {
             "line": {
              "color": "#E5ECF6",
              "width": 0.5
             }
            },
            "type": "bar"
           }
          ],
          "barpolar": [
           {
            "marker": {
             "line": {
              "color": "#E5ECF6",
              "width": 0.5
             }
            },
            "type": "barpolar"
           }
          ],
          "carpet": [
           {
            "aaxis": {
             "endlinecolor": "#2a3f5f",
             "gridcolor": "white",
             "linecolor": "white",
             "minorgridcolor": "white",
             "startlinecolor": "#2a3f5f"
            },
            "baxis": {
             "endlinecolor": "#2a3f5f",
             "gridcolor": "white",
             "linecolor": "white",
             "minorgridcolor": "white",
             "startlinecolor": "#2a3f5f"
            },
            "type": "carpet"
           }
          ],
          "choropleth": [
           {
            "colorbar": {
             "outlinewidth": 0,
             "ticks": ""
            },
            "type": "choropleth"
           }
          ],
          "contour": [
           {
            "colorbar": {
             "outlinewidth": 0,
             "ticks": ""
            },
            "colorscale": [
             [
              0,
              "#0d0887"
             ],
             [
              0.1111111111111111,
              "#46039f"
             ],
             [
              0.2222222222222222,
              "#7201a8"
             ],
             [
              0.3333333333333333,
              "#9c179e"
             ],
             [
              0.4444444444444444,
              "#bd3786"
             ],
             [
              0.5555555555555556,
              "#d8576b"
             ],
             [
              0.6666666666666666,
              "#ed7953"
             ],
             [
              0.7777777777777778,
              "#fb9f3a"
             ],
             [
              0.8888888888888888,
              "#fdca26"
             ],
             [
              1,
              "#f0f921"
             ]
            ],
            "type": "contour"
           }
          ],
          "contourcarpet": [
           {
            "colorbar": {
             "outlinewidth": 0,
             "ticks": ""
            },
            "type": "contourcarpet"
           }
          ],
          "heatmap": [
           {
            "colorbar": {
             "outlinewidth": 0,
             "ticks": ""
            },
            "colorscale": [
             [
              0,
              "#0d0887"
             ],
             [
              0.1111111111111111,
              "#46039f"
             ],
             [
              0.2222222222222222,
              "#7201a8"
             ],
             [
              0.3333333333333333,
              "#9c179e"
             ],
             [
              0.4444444444444444,
              "#bd3786"
             ],
             [
              0.5555555555555556,
              "#d8576b"
             ],
             [
              0.6666666666666666,
              "#ed7953"
             ],
             [
              0.7777777777777778,
              "#fb9f3a"
             ],
             [
              0.8888888888888888,
              "#fdca26"
             ],
             [
              1,
              "#f0f921"
             ]
            ],
            "type": "heatmap"
           }
          ],
          "heatmapgl": [
           {
            "colorbar": {
             "outlinewidth": 0,
             "ticks": ""
            },
            "colorscale": [
             [
              0,
              "#0d0887"
             ],
             [
              0.1111111111111111,
              "#46039f"
             ],
             [
              0.2222222222222222,
              "#7201a8"
             ],
             [
              0.3333333333333333,
              "#9c179e"
             ],
             [
              0.4444444444444444,
              "#bd3786"
             ],
             [
              0.5555555555555556,
              "#d8576b"
             ],
             [
              0.6666666666666666,
              "#ed7953"
             ],
             [
              0.7777777777777778,
              "#fb9f3a"
             ],
             [
              0.8888888888888888,
              "#fdca26"
             ],
             [
              1,
              "#f0f921"
             ]
            ],
            "type": "heatmapgl"
           }
          ],
          "histogram": [
           {
            "marker": {
             "colorbar": {
              "outlinewidth": 0,
              "ticks": ""
             }
            },
            "type": "histogram"
           }
          ],
          "histogram2d": [
           {
            "colorbar": {
             "outlinewidth": 0,
             "ticks": ""
            },
            "colorscale": [
             [
              0,
              "#0d0887"
             ],
             [
              0.1111111111111111,
              "#46039f"
             ],
             [
              0.2222222222222222,
              "#7201a8"
             ],
             [
              0.3333333333333333,
              "#9c179e"
             ],
             [
              0.4444444444444444,
              "#bd3786"
             ],
             [
              0.5555555555555556,
              "#d8576b"
             ],
             [
              0.6666666666666666,
              "#ed7953"
             ],
             [
              0.7777777777777778,
              "#fb9f3a"
             ],
             [
              0.8888888888888888,
              "#fdca26"
             ],
             [
              1,
              "#f0f921"
             ]
            ],
            "type": "histogram2d"
           }
          ],
          "histogram2dcontour": [
           {
            "colorbar": {
             "outlinewidth": 0,
             "ticks": ""
            },
            "colorscale": [
             [
              0,
              "#0d0887"
             ],
             [
              0.1111111111111111,
              "#46039f"
             ],
             [
              0.2222222222222222,
              "#7201a8"
             ],
             [
              0.3333333333333333,
              "#9c179e"
             ],
             [
              0.4444444444444444,
              "#bd3786"
             ],
             [
              0.5555555555555556,
              "#d8576b"
             ],
             [
              0.6666666666666666,
              "#ed7953"
             ],
             [
              0.7777777777777778,
              "#fb9f3a"
             ],
             [
              0.8888888888888888,
              "#fdca26"
             ],
             [
              1,
              "#f0f921"
             ]
            ],
            "type": "histogram2dcontour"
           }
          ],
          "mesh3d": [
           {
            "colorbar": {
             "outlinewidth": 0,
             "ticks": ""
            },
            "type": "mesh3d"
           }
          ],
          "parcoords": [
           {
            "line": {
             "colorbar": {
              "outlinewidth": 0,
              "ticks": ""
             }
            },
            "type": "parcoords"
           }
          ],
          "pie": [
           {
            "automargin": true,
            "type": "pie"
           }
          ],
          "scatter": [
           {
            "marker": {
             "colorbar": {
              "outlinewidth": 0,
              "ticks": ""
             }
            },
            "type": "scatter"
           }
          ],
          "scatter3d": [
           {
            "line": {
             "colorbar": {
              "outlinewidth": 0,
              "ticks": ""
             }
            },
            "marker": {
             "colorbar": {
              "outlinewidth": 0,
              "ticks": ""
             }
            },
            "type": "scatter3d"
           }
          ],
          "scattercarpet": [
           {
            "marker": {
             "colorbar": {
              "outlinewidth": 0,
              "ticks": ""
             }
            },
            "type": "scattercarpet"
           }
          ],
          "scattergeo": [
           {
            "marker": {
             "colorbar": {
              "outlinewidth": 0,
              "ticks": ""
             }
            },
            "type": "scattergeo"
           }
          ],
          "scattergl": [
           {
            "marker": {
             "colorbar": {
              "outlinewidth": 0,
              "ticks": ""
             }
            },
            "type": "scattergl"
           }
          ],
          "scattermapbox": [
           {
            "marker": {
             "colorbar": {
              "outlinewidth": 0,
              "ticks": ""
             }
            },
            "type": "scattermapbox"
           }
          ],
          "scatterpolar": [
           {
            "marker": {
             "colorbar": {
              "outlinewidth": 0,
              "ticks": ""
             }
            },
            "type": "scatterpolar"
           }
          ],
          "scatterpolargl": [
           {
            "marker": {
             "colorbar": {
              "outlinewidth": 0,
              "ticks": ""
             }
            },
            "type": "scatterpolargl"
           }
          ],
          "scatterternary": [
           {
            "marker": {
             "colorbar": {
              "outlinewidth": 0,
              "ticks": ""
             }
            },
            "type": "scatterternary"
           }
          ],
          "surface": [
           {
            "colorbar": {
             "outlinewidth": 0,
             "ticks": ""
            },
            "colorscale": [
             [
              0,
              "#0d0887"
             ],
             [
              0.1111111111111111,
              "#46039f"
             ],
             [
              0.2222222222222222,
              "#7201a8"
             ],
             [
              0.3333333333333333,
              "#9c179e"
             ],
             [
              0.4444444444444444,
              "#bd3786"
             ],
             [
              0.5555555555555556,
              "#d8576b"
             ],
             [
              0.6666666666666666,
              "#ed7953"
             ],
             [
              0.7777777777777778,
              "#fb9f3a"
             ],
             [
              0.8888888888888888,
              "#fdca26"
             ],
             [
              1,
              "#f0f921"
             ]
            ],
            "type": "surface"
           }
          ],
          "table": [
           {
            "cells": {
             "fill": {
              "color": "#EBF0F8"
             },
             "line": {
              "color": "white"
             }
            },
            "header": {
             "fill": {
              "color": "#C8D4E3"
             },
             "line": {
              "color": "white"
             }
            },
            "type": "table"
           }
          ]
         },
         "layout": {
          "annotationdefaults": {
           "arrowcolor": "#2a3f5f",
           "arrowhead": 0,
           "arrowwidth": 1
          },
          "coloraxis": {
           "colorbar": {
            "outlinewidth": 0,
            "ticks": ""
           }
          },
          "colorscale": {
           "diverging": [
            [
             0,
             "#8e0152"
            ],
            [
             0.1,
             "#c51b7d"
            ],
            [
             0.2,
             "#de77ae"
            ],
            [
             0.3,
             "#f1b6da"
            ],
            [
             0.4,
             "#fde0ef"
            ],
            [
             0.5,
             "#f7f7f7"
            ],
            [
             0.6,
             "#e6f5d0"
            ],
            [
             0.7,
             "#b8e186"
            ],
            [
             0.8,
             "#7fbc41"
            ],
            [
             0.9,
             "#4d9221"
            ],
            [
             1,
             "#276419"
            ]
           ],
           "sequential": [
            [
             0,
             "#0d0887"
            ],
            [
             0.1111111111111111,
             "#46039f"
            ],
            [
             0.2222222222222222,
             "#7201a8"
            ],
            [
             0.3333333333333333,
             "#9c179e"
            ],
            [
             0.4444444444444444,
             "#bd3786"
            ],
            [
             0.5555555555555556,
             "#d8576b"
            ],
            [
             0.6666666666666666,
             "#ed7953"
            ],
            [
             0.7777777777777778,
             "#fb9f3a"
            ],
            [
             0.8888888888888888,
             "#fdca26"
            ],
            [
             1,
             "#f0f921"
            ]
           ],
           "sequentialminus": [
            [
             0,
             "#0d0887"
            ],
            [
             0.1111111111111111,
             "#46039f"
            ],
            [
             0.2222222222222222,
             "#7201a8"
            ],
            [
             0.3333333333333333,
             "#9c179e"
            ],
            [
             0.4444444444444444,
             "#bd3786"
            ],
            [
             0.5555555555555556,
             "#d8576b"
            ],
            [
             0.6666666666666666,
             "#ed7953"
            ],
            [
             0.7777777777777778,
             "#fb9f3a"
            ],
            [
             0.8888888888888888,
             "#fdca26"
            ],
            [
             1,
             "#f0f921"
            ]
           ]
          },
          "colorway": [
           "#636efa",
           "#EF553B",
           "#00cc96",
           "#ab63fa",
           "#FFA15A",
           "#19d3f3",
           "#FF6692",
           "#B6E880",
           "#FF97FF",
           "#FECB52"
          ],
          "font": {
           "color": "#2a3f5f"
          },
          "geo": {
           "bgcolor": "white",
           "lakecolor": "white",
           "landcolor": "#E5ECF6",
           "showlakes": true,
           "showland": true,
           "subunitcolor": "white"
          },
          "hoverlabel": {
           "align": "left"
          },
          "hovermode": "closest",
          "mapbox": {
           "style": "light"
          },
          "paper_bgcolor": "white",
          "plot_bgcolor": "#E5ECF6",
          "polar": {
           "angularaxis": {
            "gridcolor": "white",
            "linecolor": "white",
            "ticks": ""
           },
           "bgcolor": "#E5ECF6",
           "radialaxis": {
            "gridcolor": "white",
            "linecolor": "white",
            "ticks": ""
           }
          },
          "scene": {
           "xaxis": {
            "backgroundcolor": "#E5ECF6",
            "gridcolor": "white",
            "gridwidth": 2,
            "linecolor": "white",
            "showbackground": true,
            "ticks": "",
            "zerolinecolor": "white"
           },
           "yaxis": {
            "backgroundcolor": "#E5ECF6",
            "gridcolor": "white",
            "gridwidth": 2,
            "linecolor": "white",
            "showbackground": true,
            "ticks": "",
            "zerolinecolor": "white"
           },
           "zaxis": {
            "backgroundcolor": "#E5ECF6",
            "gridcolor": "white",
            "gridwidth": 2,
            "linecolor": "white",
            "showbackground": true,
            "ticks": "",
            "zerolinecolor": "white"
           }
          },
          "shapedefaults": {
           "line": {
            "color": "#2a3f5f"
           }
          },
          "ternary": {
           "aaxis": {
            "gridcolor": "white",
            "linecolor": "white",
            "ticks": ""
           },
           "baxis": {
            "gridcolor": "white",
            "linecolor": "white",
            "ticks": ""
           },
           "bgcolor": "#E5ECF6",
           "caxis": {
            "gridcolor": "white",
            "linecolor": "white",
            "ticks": ""
           }
          },
          "title": {
           "x": 0.05
          },
          "xaxis": {
           "automargin": true,
           "gridcolor": "white",
           "linecolor": "white",
           "ticks": "",
           "title": {
            "standoff": 15
           },
           "zerolinecolor": "white",
           "zerolinewidth": 2
          },
          "yaxis": {
           "automargin": true,
           "gridcolor": "white",
           "linecolor": "white",
           "ticks": "",
           "title": {
            "standoff": 15
           },
           "zerolinecolor": "white",
           "zerolinewidth": 2
          }
         }
        },
        "title": {
         "font": {
          "color": "#4D5663"
         }
        },
        "xaxis": {
         "gridcolor": "#E1E5ED",
         "showgrid": true,
         "tickfont": {
          "color": "#4D5663"
         },
         "title": {
          "font": {
           "color": "#4D5663"
          },
          "text": ""
         },
         "zerolinecolor": "#E1E5ED"
        },
        "yaxis": {
         "gridcolor": "#E1E5ED",
         "showgrid": true,
         "tickfont": {
          "color": "#4D5663"
         },
         "title": {
          "font": {
           "color": "#4D5663"
          },
          "text": ""
         },
         "zerolinecolor": "#E1E5ED"
        }
       }
      },
      "text/html": [
       "<div>\n",
       "        \n",
       "        \n",
       "            <div id=\"daa748cd-7fd0-432c-86bc-8b66537665c2\" class=\"plotly-graph-div\" style=\"height:525px; width:100%;\"></div>\n",
       "            <script type=\"text/javascript\">\n",
       "                require([\"plotly\"], function(Plotly) {\n",
       "                    window.PLOTLYENV=window.PLOTLYENV || {};\n",
       "                    window.PLOTLYENV.BASE_URL='https://plot.ly';\n",
       "                    \n",
       "                if (document.getElementById(\"daa748cd-7fd0-432c-86bc-8b66537665c2\")) {\n",
       "                    Plotly.newPlot(\n",
       "                        'daa748cd-7fd0-432c-86bc-8b66537665c2',\n",
       "                        [{\"boxpoints\": false, \"line\": {\"width\": 1.3}, \"marker\": {\"color\": \"rgba(255, 153, 51, 1.0)\"}, \"name\": \"A\", \"orientation\": \"v\", \"type\": \"box\", \"y\": [1.0228643665915085, 2.078102285193514, 0.5158761667916655, -1.4857226758011213, 1.1077899573724663, 0.2928304928477981, 0.08180311043452258, -0.8398530251478752, 1.3175894476736056, 1.2978189929523019, 0.17520201513727157, 0.13470956074463153, -0.018281469699972675, 0.8636862501760922, 0.854931415770735, -2.31890408029755, -0.28203176898922466, -0.4174329968596667, -1.503218670415323, -0.18860321509438102, -0.7529022721721581, -2.570027995821825, -1.2277556562626448, 1.1348793153157908, 0.6875961744242264, -0.2753527351696327, -1.1690704197924868, -0.08904043768740891, -0.7045947505690036, 0.7853038385361636, -1.8662616235543097, -0.6715946774492092, 0.14140540623443235, 1.3745450625176414, -0.4591638710115532, -1.5319228881869125, 1.2028181597771725, 1.2393746284609601, -0.6500507894760755, -0.21417262573551185, -0.9313021954607845, 1.4704143399240799, -0.19491831985513233, -0.9638924891142663, -0.5602620061156413, 1.068653338611267, -0.28644653661110253, -1.297988288985895, 0.6231907143360257, 0.16444560852194856, -2.932907068675399, 0.3219885191550619, -0.028948928296179757, 1.5784640369464342, -1.0274983429401636, -0.43916117057086185, -0.426287302067674, -0.6092424312797955, -0.964214418090293, 0.746369898931979, 0.7237930721167293, -0.10665138799427454, 1.0654356336753241, 0.4150648593531338, 0.5325737757365044, 1.1434825925461756, 0.19354088689971932, 0.9721115249390958, 0.01669477482715258, -0.5505029172817046, 0.7152130788861849, -0.2245739409808382, -1.442887718560802, 0.7569709318575875, -0.47768834110432884, -0.29411149822300764, 0.12293170873575046, 2.6946585797040616, 0.6374185448442311, 1.2952490195484176, 0.02672722368465936, 0.6707412178690879, 0.6261665975706423, 0.9897175184180778, -0.6206278701414436, -0.39026888701340817, 0.4893873581585123, -1.846657196452513, -1.5247262152509458, 2.3050474743024325, -0.8013803613983328, 0.07982339735858235, -1.3690892621838988, -0.9644454717774649, 0.5352164593595689, 0.94834773112565, -1.8003266447589534, -1.0044384424427626, 0.8333440027795855, -0.8904685620304708]}, {\"boxpoints\": false, \"line\": {\"width\": 1.3}, \"marker\": {\"color\": \"rgba(55, 128, 191, 1.0)\"}, \"name\": \"B\", \"orientation\": \"v\", \"type\": \"box\", \"y\": [1.5141072432731078, 1.3170923237060794, -1.2513598809475768, -0.20275432049873324, 0.04283920687179462, -0.08198349502163418, -0.17527587292137195, -0.16422933085451655, -0.10949108877275467, 0.01078502521025764, -0.142156670759665, 0.535117716801839, 0.11086446473816583, -1.2936877961444537, -0.4375644008191952, -0.17897112491722345, -1.024123352271027, -0.33933873174526424, 0.4260696746455677, -0.5625645460881664, 0.5594555584770827, -0.7278302611994535, 0.2810175524087304, 0.9491286356166035, 0.6243073965868807, -0.4771339712795888, 0.3902324728016761, -1.0658694939365105, -0.49638173288238013, -0.7723608586748788, -0.3583424525867705, 1.0109681194818183, 0.30756936188984574, 1.439887634410778, 2.7589740571186803, 0.013419866304679555, -0.8381998836780817, 0.2809158709836502, -0.04285707840302234, 1.1894315670021485, 0.4541141891865138, 0.7365427955903368, 0.7615628554124507, 0.7593673768097888, -1.456476130196915, -0.04274711258224199, -1.1169373827498756, 0.26397190431587925, 0.267896444013153, 0.9503102026463995, -0.6109902535336791, 0.9889541101801155, 0.5394973692501939, 0.06037484857144976, 0.9395003143245638, 1.0746673198039558, -1.8919124007160064, 0.8911063236978104, 0.7206902756080743, -0.05381056467822287, -0.07977933156171538, 1.71482576145405, -0.5043033782351627, -1.629661959427632, 0.6808764508865055, 1.1696252116148629, -1.0520992102224875, 0.687739553848473, -0.849204644269452, 0.4511280211640707, -0.20689846332809914, -0.9098463581849429, 1.6987065729946769, -0.16512570553715297, -0.256922359989604, 1.7432405215820297, 1.2967704364685568, 1.4583072575830145, -1.4210266514879522, 0.1331227414103682, 1.3085817597898504, -0.3959354674886219, -1.4911834610915695, 1.2706198453298128, 0.6093484061842721, 0.7111587835583064, 1.0459312680400894, -0.9627794132590002, 0.04234451007099024, 2.253503873221812, -1.3102931449745447, -0.7049178036933245, 0.32964633934100174, 0.35516682842767844, 1.6832239408703678, -0.21291187277689125, -0.04556588313452348, -0.34362920185315665, 1.8283057057526904, -0.6443763600103907]}, {\"boxpoints\": false, \"line\": {\"width\": 1.3}, \"marker\": {\"color\": \"rgba(50, 171, 96, 1.0)\"}, \"name\": \"C\", \"orientation\": \"v\", \"type\": \"box\", \"y\": [0.6933789696749599, 0.8631403208500658, 0.20816096208387813, 2.027766626104301, -0.43039721645765366, 0.06385344636256578, 2.5640511251537306, -0.5051416863957513, -0.8134108110141528, 0.00679387045499981, 0.7925495742162394, 1.2025333183313203, -0.12409543738404143, -0.5631671252055999, 1.159357237357705, 0.21481290064624406, 0.40248094518480815, -0.5478624432526507, -0.5878723235007826, 0.8239210393142998, 0.22844507451860518, -0.5796130484437046, -0.6289658218196122, -0.39896079305444293, 1.2242012867487388, 0.480892143647502, -0.9345506945772835, 0.8563723470551708, -0.8429563250136834, 2.5663879611310776, -0.8349074439915939, -2.542199962516889, 2.2093776405364327, 1.0528243549219753, -1.7468975526346102, -0.25439092637621036, 1.1157755704141765, 0.3975863593253244, -2.915159380217476, 0.5602693736321325, 0.6252767815188935, -1.2603287680392712, 1.9546266269764132, 0.06446636742665764, -1.1961102292314647, 1.1300908450730753, 0.8017991246560502, -0.8567153429967642, -2.6069787733253884, 1.7870865816222623, -1.4327244017073455, -0.1513720962550858, 1.2435130089869366, 0.10397603412197333, 1.1027143948619815, -0.8035922696495199, -1.3405883041634505, 0.6036330942433228, 0.8349624764080465, 1.7943772604805983, 0.9305331236629549, 0.5571570876592357, 0.41169386450405815, -1.843471820755653, 0.4267741437543645, -1.6629313369516465, 0.023387109398190234, 0.820318790097195, 1.5370355005866672, -1.7843303714898866, 0.15983427026446828, -2.704123331773724, -1.2079609128161397, -0.8939980939056121, -0.4862841707576032, -0.039068165790167336, -0.5471109040973634, 0.18696330228788802, -0.3233368961422661, 0.016941640794040282, 0.9644758600278682, 1.0304756728788678, 0.27804817571305895, -1.352996932479426, 0.5266185128420701, 0.6723639358082578, -0.5723976462195935, -1.2167158818779655, -1.0978024544886873, -0.3211680756606533, 1.06714484777027, 0.08709685036446932, 0.4458233057506876, -0.11935925934861417, -0.00038358580139972347, -2.2938246723298508, 1.9453414872458288, 0.010525767464059817, -0.44070070812597006, -0.4354376878406088]}, {\"boxpoints\": false, \"line\": {\"width\": 1.3}, \"marker\": {\"color\": \"rgba(128, 0, 128, 1.0)\"}, \"name\": \"D\", \"orientation\": \"v\", \"type\": \"box\", \"y\": [0.05618971478538302, 0.3694284858249701, 0.9802387463529144, 0.9626995117409148, 1.30045524482868, -0.5137940100211446, -0.8727576999738578, 0.30029218164598387, 0.83408008524203, 1.3408669469958263, -1.3479618664091548, 1.219076070870195, -1.3820067078156808, 1.818736510385948, -1.1207157690422458, -1.2286560742249966, 0.31069692010745953, -2.0544327377169007, 0.5657469822365534, -0.8001417038095807, -0.4024803690289098, -0.5370836277167435, 0.3769729992380329, 0.9629096725483007, 0.24550404703639095, -1.3493218454371598, -1.0484824814980473, -0.08174795922658604, -0.9049639400993928, -0.19055559489371013, -2.3020240635680422, 0.09865730561517631, 0.3355882950460898, -0.8618295678800628, -1.6076234369552715, 0.05769501880594335, 0.13414990458887333, -0.1991937139681864, -1.3574325057580163, 0.7204994001823675, -1.991905982953989, -0.888703240152274, -1.781396367342669, 0.1562347421120147, 0.03250033476953922, 0.7668323467726299, -0.5327640820123262, -0.17018071968114484, 1.2578788579865674, -0.5672593267071177, 0.29162768697814406, 0.2823327240578985, -0.9748926108824236, -0.5413941125055433, -1.1542748134457648, -0.1292875199702572, -0.12353472830437592, 1.1402636483728286, 2.070757130120264, -1.3038074604656575, 0.9929080907393697, -0.34786058955174254, -1.4984267558072524, -0.11316292612166433, -0.17997302838796692, 0.3343294988967631, -0.37087020805294657, 0.5328141753084021, 0.7086585161444137, 0.6503420347470119, 0.25665661168476556, -0.8771615056074303, 0.9034356637533109, -0.3590198275238328, 0.18436478081640245, -0.04049176943951113, -0.1480869886875453, -1.009593236158076, 0.382409138290801, 0.22010097957614003, 0.46354439321035174, -1.2665940215408666, -0.5362984486095673, -0.7370341511332864, -0.5682873363739301, 0.7456559564681564, -1.6654813743352137, -0.005157936976523277, 0.09604801537763198, -0.24902845482014724, 0.7500820454229407, -2.433195759104504, 0.6258205399694532, 0.2970138114157008, -0.05935254429281779, -2.189513716814099, 1.8162448625727992, -0.16229090436651744, -0.5830018764610854, -0.88963055125256]}],\n",
       "                        {\"legend\": {\"bgcolor\": \"#F5F6F9\", \"font\": {\"color\": \"#4D5663\"}}, \"paper_bgcolor\": \"#F5F6F9\", \"plot_bgcolor\": \"#F5F6F9\", \"template\": {\"data\": {\"bar\": [{\"error_x\": {\"color\": \"#2a3f5f\"}, \"error_y\": {\"color\": \"#2a3f5f\"}, \"marker\": {\"line\": {\"color\": \"#E5ECF6\", \"width\": 0.5}}, \"type\": \"bar\"}], \"barpolar\": [{\"marker\": {\"line\": {\"color\": \"#E5ECF6\", \"width\": 0.5}}, \"type\": \"barpolar\"}], \"carpet\": [{\"aaxis\": {\"endlinecolor\": \"#2a3f5f\", \"gridcolor\": \"white\", \"linecolor\": \"white\", \"minorgridcolor\": \"white\", \"startlinecolor\": \"#2a3f5f\"}, \"baxis\": {\"endlinecolor\": \"#2a3f5f\", \"gridcolor\": \"white\", \"linecolor\": \"white\", \"minorgridcolor\": \"white\", \"startlinecolor\": \"#2a3f5f\"}, \"type\": \"carpet\"}], \"choropleth\": [{\"colorbar\": {\"outlinewidth\": 0, \"ticks\": \"\"}, \"type\": \"choropleth\"}], \"contour\": [{\"colorbar\": {\"outlinewidth\": 0, \"ticks\": \"\"}, \"colorscale\": [[0.0, \"#0d0887\"], [0.1111111111111111, \"#46039f\"], [0.2222222222222222, \"#7201a8\"], [0.3333333333333333, \"#9c179e\"], [0.4444444444444444, \"#bd3786\"], [0.5555555555555556, \"#d8576b\"], [0.6666666666666666, \"#ed7953\"], [0.7777777777777778, \"#fb9f3a\"], [0.8888888888888888, \"#fdca26\"], [1.0, \"#f0f921\"]], \"type\": \"contour\"}], \"contourcarpet\": [{\"colorbar\": {\"outlinewidth\": 0, \"ticks\": \"\"}, \"type\": \"contourcarpet\"}], \"heatmap\": [{\"colorbar\": {\"outlinewidth\": 0, \"ticks\": \"\"}, \"colorscale\": [[0.0, \"#0d0887\"], [0.1111111111111111, \"#46039f\"], [0.2222222222222222, \"#7201a8\"], [0.3333333333333333, \"#9c179e\"], [0.4444444444444444, \"#bd3786\"], [0.5555555555555556, \"#d8576b\"], [0.6666666666666666, \"#ed7953\"], [0.7777777777777778, \"#fb9f3a\"], [0.8888888888888888, \"#fdca26\"], [1.0, \"#f0f921\"]], \"type\": \"heatmap\"}], \"heatmapgl\": [{\"colorbar\": {\"outlinewidth\": 0, \"ticks\": \"\"}, \"colorscale\": [[0.0, \"#0d0887\"], [0.1111111111111111, \"#46039f\"], [0.2222222222222222, \"#7201a8\"], [0.3333333333333333, \"#9c179e\"], [0.4444444444444444, \"#bd3786\"], [0.5555555555555556, \"#d8576b\"], [0.6666666666666666, \"#ed7953\"], [0.7777777777777778, \"#fb9f3a\"], [0.8888888888888888, \"#fdca26\"], [1.0, \"#f0f921\"]], \"type\": \"heatmapgl\"}], \"histogram\": [{\"marker\": {\"colorbar\": {\"outlinewidth\": 0, \"ticks\": \"\"}}, \"type\": \"histogram\"}], \"histogram2d\": [{\"colorbar\": {\"outlinewidth\": 0, \"ticks\": \"\"}, \"colorscale\": [[0.0, \"#0d0887\"], [0.1111111111111111, \"#46039f\"], [0.2222222222222222, \"#7201a8\"], [0.3333333333333333, \"#9c179e\"], [0.4444444444444444, \"#bd3786\"], [0.5555555555555556, \"#d8576b\"], [0.6666666666666666, \"#ed7953\"], [0.7777777777777778, \"#fb9f3a\"], [0.8888888888888888, \"#fdca26\"], [1.0, \"#f0f921\"]], \"type\": \"histogram2d\"}], \"histogram2dcontour\": [{\"colorbar\": {\"outlinewidth\": 0, \"ticks\": \"\"}, \"colorscale\": [[0.0, \"#0d0887\"], [0.1111111111111111, \"#46039f\"], [0.2222222222222222, \"#7201a8\"], [0.3333333333333333, \"#9c179e\"], [0.4444444444444444, \"#bd3786\"], [0.5555555555555556, \"#d8576b\"], [0.6666666666666666, \"#ed7953\"], [0.7777777777777778, \"#fb9f3a\"], [0.8888888888888888, \"#fdca26\"], [1.0, \"#f0f921\"]], \"type\": \"histogram2dcontour\"}], \"mesh3d\": [{\"colorbar\": {\"outlinewidth\": 0, \"ticks\": \"\"}, \"type\": \"mesh3d\"}], \"parcoords\": [{\"line\": {\"colorbar\": {\"outlinewidth\": 0, \"ticks\": \"\"}}, \"type\": \"parcoords\"}], \"pie\": [{\"automargin\": true, \"type\": \"pie\"}], \"scatter\": [{\"marker\": {\"colorbar\": {\"outlinewidth\": 0, \"ticks\": \"\"}}, \"type\": \"scatter\"}], \"scatter3d\": [{\"line\": {\"colorbar\": {\"outlinewidth\": 0, \"ticks\": \"\"}}, \"marker\": {\"colorbar\": {\"outlinewidth\": 0, \"ticks\": \"\"}}, \"type\": \"scatter3d\"}], \"scattercarpet\": [{\"marker\": {\"colorbar\": {\"outlinewidth\": 0, \"ticks\": \"\"}}, \"type\": \"scattercarpet\"}], \"scattergeo\": [{\"marker\": {\"colorbar\": {\"outlinewidth\": 0, \"ticks\": \"\"}}, \"type\": \"scattergeo\"}], \"scattergl\": [{\"marker\": {\"colorbar\": {\"outlinewidth\": 0, \"ticks\": \"\"}}, \"type\": \"scattergl\"}], \"scattermapbox\": [{\"marker\": {\"colorbar\": {\"outlinewidth\": 0, \"ticks\": \"\"}}, \"type\": \"scattermapbox\"}], \"scatterpolar\": [{\"marker\": {\"colorbar\": {\"outlinewidth\": 0, \"ticks\": \"\"}}, \"type\": \"scatterpolar\"}], \"scatterpolargl\": [{\"marker\": {\"colorbar\": {\"outlinewidth\": 0, \"ticks\": \"\"}}, \"type\": \"scatterpolargl\"}], \"scatterternary\": [{\"marker\": {\"colorbar\": {\"outlinewidth\": 0, \"ticks\": \"\"}}, \"type\": \"scatterternary\"}], \"surface\": [{\"colorbar\": {\"outlinewidth\": 0, \"ticks\": \"\"}, \"colorscale\": [[0.0, \"#0d0887\"], [0.1111111111111111, \"#46039f\"], [0.2222222222222222, \"#7201a8\"], [0.3333333333333333, \"#9c179e\"], [0.4444444444444444, \"#bd3786\"], [0.5555555555555556, \"#d8576b\"], [0.6666666666666666, \"#ed7953\"], [0.7777777777777778, \"#fb9f3a\"], [0.8888888888888888, \"#fdca26\"], [1.0, \"#f0f921\"]], \"type\": \"surface\"}], \"table\": [{\"cells\": {\"fill\": {\"color\": \"#EBF0F8\"}, \"line\": {\"color\": \"white\"}}, \"header\": {\"fill\": {\"color\": \"#C8D4E3\"}, \"line\": {\"color\": \"white\"}}, \"type\": \"table\"}]}, \"layout\": {\"annotationdefaults\": {\"arrowcolor\": \"#2a3f5f\", \"arrowhead\": 0, \"arrowwidth\": 1}, \"coloraxis\": {\"colorbar\": {\"outlinewidth\": 0, \"ticks\": \"\"}}, \"colorscale\": {\"diverging\": [[0, \"#8e0152\"], [0.1, \"#c51b7d\"], [0.2, \"#de77ae\"], [0.3, \"#f1b6da\"], [0.4, \"#fde0ef\"], [0.5, \"#f7f7f7\"], [0.6, \"#e6f5d0\"], [0.7, \"#b8e186\"], [0.8, \"#7fbc41\"], [0.9, \"#4d9221\"], [1, \"#276419\"]], \"sequential\": [[0.0, \"#0d0887\"], [0.1111111111111111, \"#46039f\"], [0.2222222222222222, \"#7201a8\"], [0.3333333333333333, \"#9c179e\"], [0.4444444444444444, \"#bd3786\"], [0.5555555555555556, \"#d8576b\"], [0.6666666666666666, \"#ed7953\"], [0.7777777777777778, \"#fb9f3a\"], [0.8888888888888888, \"#fdca26\"], [1.0, \"#f0f921\"]], \"sequentialminus\": [[0.0, \"#0d0887\"], [0.1111111111111111, \"#46039f\"], [0.2222222222222222, \"#7201a8\"], [0.3333333333333333, \"#9c179e\"], [0.4444444444444444, \"#bd3786\"], [0.5555555555555556, \"#d8576b\"], [0.6666666666666666, \"#ed7953\"], [0.7777777777777778, \"#fb9f3a\"], [0.8888888888888888, \"#fdca26\"], [1.0, \"#f0f921\"]]}, \"colorway\": [\"#636efa\", \"#EF553B\", \"#00cc96\", \"#ab63fa\", \"#FFA15A\", \"#19d3f3\", \"#FF6692\", \"#B6E880\", \"#FF97FF\", \"#FECB52\"], \"font\": {\"color\": \"#2a3f5f\"}, \"geo\": {\"bgcolor\": \"white\", \"lakecolor\": \"white\", \"landcolor\": \"#E5ECF6\", \"showlakes\": true, \"showland\": true, \"subunitcolor\": \"white\"}, \"hoverlabel\": {\"align\": \"left\"}, \"hovermode\": \"closest\", \"mapbox\": {\"style\": \"light\"}, \"paper_bgcolor\": \"white\", \"plot_bgcolor\": \"#E5ECF6\", \"polar\": {\"angularaxis\": {\"gridcolor\": \"white\", \"linecolor\": \"white\", \"ticks\": \"\"}, \"bgcolor\": \"#E5ECF6\", \"radialaxis\": {\"gridcolor\": \"white\", \"linecolor\": \"white\", \"ticks\": \"\"}}, \"scene\": {\"xaxis\": {\"backgroundcolor\": \"#E5ECF6\", \"gridcolor\": \"white\", \"gridwidth\": 2, \"linecolor\": \"white\", \"showbackground\": true, \"ticks\": \"\", \"zerolinecolor\": \"white\"}, \"yaxis\": {\"backgroundcolor\": \"#E5ECF6\", \"gridcolor\": \"white\", \"gridwidth\": 2, \"linecolor\": \"white\", \"showbackground\": true, \"ticks\": \"\", \"zerolinecolor\": \"white\"}, \"zaxis\": {\"backgroundcolor\": \"#E5ECF6\", \"gridcolor\": \"white\", \"gridwidth\": 2, \"linecolor\": \"white\", \"showbackground\": true, \"ticks\": \"\", \"zerolinecolor\": \"white\"}}, \"shapedefaults\": {\"line\": {\"color\": \"#2a3f5f\"}}, \"ternary\": {\"aaxis\": {\"gridcolor\": \"white\", \"linecolor\": \"white\", \"ticks\": \"\"}, \"baxis\": {\"gridcolor\": \"white\", \"linecolor\": \"white\", \"ticks\": \"\"}, \"bgcolor\": \"#E5ECF6\", \"caxis\": {\"gridcolor\": \"white\", \"linecolor\": \"white\", \"ticks\": \"\"}}, \"title\": {\"x\": 0.05}, \"xaxis\": {\"automargin\": true, \"gridcolor\": \"white\", \"linecolor\": \"white\", \"ticks\": \"\", \"title\": {\"standoff\": 15}, \"zerolinecolor\": \"white\", \"zerolinewidth\": 2}, \"yaxis\": {\"automargin\": true, \"gridcolor\": \"white\", \"linecolor\": \"white\", \"ticks\": \"\", \"title\": {\"standoff\": 15}, \"zerolinecolor\": \"white\", \"zerolinewidth\": 2}}}, \"title\": {\"font\": {\"color\": \"#4D5663\"}}, \"xaxis\": {\"gridcolor\": \"#E1E5ED\", \"showgrid\": true, \"tickfont\": {\"color\": \"#4D5663\"}, \"title\": {\"font\": {\"color\": \"#4D5663\"}, \"text\": \"\"}, \"zerolinecolor\": \"#E1E5ED\"}, \"yaxis\": {\"gridcolor\": \"#E1E5ED\", \"showgrid\": true, \"tickfont\": {\"color\": \"#4D5663\"}, \"title\": {\"font\": {\"color\": \"#4D5663\"}, \"text\": \"\"}, \"zerolinecolor\": \"#E1E5ED\"}},\n",
       "                        {\"showLink\": true, \"linkText\": \"Export to plot.ly\", \"plotlyServerURL\": \"https://plot.ly\", \"responsive\": true}\n",
       "                    ).then(function(){\n",
       "                            \n",
       "var gd = document.getElementById('daa748cd-7fd0-432c-86bc-8b66537665c2');\n",
       "var x = new MutationObserver(function (mutations, observer) {{\n",
       "        var display = window.getComputedStyle(gd).display;\n",
       "        if (!display || display === 'none') {{\n",
       "            console.log([gd, 'removed!']);\n",
       "            Plotly.purge(gd);\n",
       "            observer.disconnect();\n",
       "        }}\n",
       "}});\n",
       "\n",
       "// Listen for the removal of the full notebook cells\n",
       "var notebookContainer = gd.closest('#notebook-container');\n",
       "if (notebookContainer) {{\n",
       "    x.observe(notebookContainer, {childList: true});\n",
       "}}\n",
       "\n",
       "// Listen for the clearing of the current output cell\n",
       "var outputEl = gd.closest('.output');\n",
       "if (outputEl) {{\n",
       "    x.observe(outputEl, {childList: true});\n",
       "}}\n",
       "\n",
       "                        })\n",
       "                };\n",
       "                });\n",
       "            </script>\n",
       "        </div>"
      ]
     },
     "metadata": {},
     "output_type": "display_data"
    }
   ],
   "source": [
    "df.iplot(kind='box')"
   ]
  },
  {
   "cell_type": "markdown",
   "metadata": {},
   "source": [
    "## 3d Surface"
   ]
  },
  {
   "cell_type": "code",
   "execution_count": 17,
   "metadata": {},
   "outputs": [
    {
     "data": {
      "application/vnd.plotly.v1+json": {
       "config": {
        "linkText": "Export to plot.ly",
        "plotlyServerURL": "https://plot.ly",
        "showLink": true
       },
       "data": [
        {
         "colorscale": [
          [
           0,
           "rgb(165,0,38)"
          ],
          [
           0.1,
           "rgb(215,48,39)"
          ],
          [
           0.2,
           "rgb(244,109,67)"
          ],
          [
           0.3,
           "rgb(253,174,97)"
          ],
          [
           0.4,
           "rgb(254,224,144)"
          ],
          [
           0.5,
           "rgb(255,255,191)"
          ],
          [
           0.6,
           "rgb(224,243,248)"
          ],
          [
           0.7,
           "rgb(171,217,233)"
          ],
          [
           0.8,
           "rgb(116,173,209)"
          ],
          [
           0.9,
           "rgb(69,117,180)"
          ],
          [
           1,
           "rgb(49,54,149)"
          ]
         ],
         "type": "surface",
         "x": [
          0,
          1,
          2,
          3,
          4
         ],
         "y": [
          "x",
          "y",
          "z"
         ],
         "z": [
          [
           1,
           2,
           3,
           4,
           5
          ],
          [
           10,
           20,
           30,
           20,
           10
          ],
          [
           5,
           4,
           3,
           2,
           1
          ]
         ]
        }
       ],
       "layout": {
        "legend": {
         "bgcolor": "#F5F6F9",
         "font": {
          "color": "#4D5663"
         }
        },
        "paper_bgcolor": "#F5F6F9",
        "plot_bgcolor": "#F5F6F9",
        "template": {
         "data": {
          "bar": [
           {
            "error_x": {
             "color": "#2a3f5f"
            },
            "error_y": {
             "color": "#2a3f5f"
            },
            "marker": {
             "line": {
              "color": "#E5ECF6",
              "width": 0.5
             }
            },
            "type": "bar"
           }
          ],
          "barpolar": [
           {
            "marker": {
             "line": {
              "color": "#E5ECF6",
              "width": 0.5
             }
            },
            "type": "barpolar"
           }
          ],
          "carpet": [
           {
            "aaxis": {
             "endlinecolor": "#2a3f5f",
             "gridcolor": "white",
             "linecolor": "white",
             "minorgridcolor": "white",
             "startlinecolor": "#2a3f5f"
            },
            "baxis": {
             "endlinecolor": "#2a3f5f",
             "gridcolor": "white",
             "linecolor": "white",
             "minorgridcolor": "white",
             "startlinecolor": "#2a3f5f"
            },
            "type": "carpet"
           }
          ],
          "choropleth": [
           {
            "colorbar": {
             "outlinewidth": 0,
             "ticks": ""
            },
            "type": "choropleth"
           }
          ],
          "contour": [
           {
            "colorbar": {
             "outlinewidth": 0,
             "ticks": ""
            },
            "colorscale": [
             [
              0,
              "#0d0887"
             ],
             [
              0.1111111111111111,
              "#46039f"
             ],
             [
              0.2222222222222222,
              "#7201a8"
             ],
             [
              0.3333333333333333,
              "#9c179e"
             ],
             [
              0.4444444444444444,
              "#bd3786"
             ],
             [
              0.5555555555555556,
              "#d8576b"
             ],
             [
              0.6666666666666666,
              "#ed7953"
             ],
             [
              0.7777777777777778,
              "#fb9f3a"
             ],
             [
              0.8888888888888888,
              "#fdca26"
             ],
             [
              1,
              "#f0f921"
             ]
            ],
            "type": "contour"
           }
          ],
          "contourcarpet": [
           {
            "colorbar": {
             "outlinewidth": 0,
             "ticks": ""
            },
            "type": "contourcarpet"
           }
          ],
          "heatmap": [
           {
            "colorbar": {
             "outlinewidth": 0,
             "ticks": ""
            },
            "colorscale": [
             [
              0,
              "#0d0887"
             ],
             [
              0.1111111111111111,
              "#46039f"
             ],
             [
              0.2222222222222222,
              "#7201a8"
             ],
             [
              0.3333333333333333,
              "#9c179e"
             ],
             [
              0.4444444444444444,
              "#bd3786"
             ],
             [
              0.5555555555555556,
              "#d8576b"
             ],
             [
              0.6666666666666666,
              "#ed7953"
             ],
             [
              0.7777777777777778,
              "#fb9f3a"
             ],
             [
              0.8888888888888888,
              "#fdca26"
             ],
             [
              1,
              "#f0f921"
             ]
            ],
            "type": "heatmap"
           }
          ],
          "heatmapgl": [
           {
            "colorbar": {
             "outlinewidth": 0,
             "ticks": ""
            },
            "colorscale": [
             [
              0,
              "#0d0887"
             ],
             [
              0.1111111111111111,
              "#46039f"
             ],
             [
              0.2222222222222222,
              "#7201a8"
             ],
             [
              0.3333333333333333,
              "#9c179e"
             ],
             [
              0.4444444444444444,
              "#bd3786"
             ],
             [
              0.5555555555555556,
              "#d8576b"
             ],
             [
              0.6666666666666666,
              "#ed7953"
             ],
             [
              0.7777777777777778,
              "#fb9f3a"
             ],
             [
              0.8888888888888888,
              "#fdca26"
             ],
             [
              1,
              "#f0f921"
             ]
            ],
            "type": "heatmapgl"
           }
          ],
          "histogram": [
           {
            "marker": {
             "colorbar": {
              "outlinewidth": 0,
              "ticks": ""
             }
            },
            "type": "histogram"
           }
          ],
          "histogram2d": [
           {
            "colorbar": {
             "outlinewidth": 0,
             "ticks": ""
            },
            "colorscale": [
             [
              0,
              "#0d0887"
             ],
             [
              0.1111111111111111,
              "#46039f"
             ],
             [
              0.2222222222222222,
              "#7201a8"
             ],
             [
              0.3333333333333333,
              "#9c179e"
             ],
             [
              0.4444444444444444,
              "#bd3786"
             ],
             [
              0.5555555555555556,
              "#d8576b"
             ],
             [
              0.6666666666666666,
              "#ed7953"
             ],
             [
              0.7777777777777778,
              "#fb9f3a"
             ],
             [
              0.8888888888888888,
              "#fdca26"
             ],
             [
              1,
              "#f0f921"
             ]
            ],
            "type": "histogram2d"
           }
          ],
          "histogram2dcontour": [
           {
            "colorbar": {
             "outlinewidth": 0,
             "ticks": ""
            },
            "colorscale": [
             [
              0,
              "#0d0887"
             ],
             [
              0.1111111111111111,
              "#46039f"
             ],
             [
              0.2222222222222222,
              "#7201a8"
             ],
             [
              0.3333333333333333,
              "#9c179e"
             ],
             [
              0.4444444444444444,
              "#bd3786"
             ],
             [
              0.5555555555555556,
              "#d8576b"
             ],
             [
              0.6666666666666666,
              "#ed7953"
             ],
             [
              0.7777777777777778,
              "#fb9f3a"
             ],
             [
              0.8888888888888888,
              "#fdca26"
             ],
             [
              1,
              "#f0f921"
             ]
            ],
            "type": "histogram2dcontour"
           }
          ],
          "mesh3d": [
           {
            "colorbar": {
             "outlinewidth": 0,
             "ticks": ""
            },
            "type": "mesh3d"
           }
          ],
          "parcoords": [
           {
            "line": {
             "colorbar": {
              "outlinewidth": 0,
              "ticks": ""
             }
            },
            "type": "parcoords"
           }
          ],
          "pie": [
           {
            "automargin": true,
            "type": "pie"
           }
          ],
          "scatter": [
           {
            "marker": {
             "colorbar": {
              "outlinewidth": 0,
              "ticks": ""
             }
            },
            "type": "scatter"
           }
          ],
          "scatter3d": [
           {
            "line": {
             "colorbar": {
              "outlinewidth": 0,
              "ticks": ""
             }
            },
            "marker": {
             "colorbar": {
              "outlinewidth": 0,
              "ticks": ""
             }
            },
            "type": "scatter3d"
           }
          ],
          "scattercarpet": [
           {
            "marker": {
             "colorbar": {
              "outlinewidth": 0,
              "ticks": ""
             }
            },
            "type": "scattercarpet"
           }
          ],
          "scattergeo": [
           {
            "marker": {
             "colorbar": {
              "outlinewidth": 0,
              "ticks": ""
             }
            },
            "type": "scattergeo"
           }
          ],
          "scattergl": [
           {
            "marker": {
             "colorbar": {
              "outlinewidth": 0,
              "ticks": ""
             }
            },
            "type": "scattergl"
           }
          ],
          "scattermapbox": [
           {
            "marker": {
             "colorbar": {
              "outlinewidth": 0,
              "ticks": ""
             }
            },
            "type": "scattermapbox"
           }
          ],
          "scatterpolar": [
           {
            "marker": {
             "colorbar": {
              "outlinewidth": 0,
              "ticks": ""
             }
            },
            "type": "scatterpolar"
           }
          ],
          "scatterpolargl": [
           {
            "marker": {
             "colorbar": {
              "outlinewidth": 0,
              "ticks": ""
             }
            },
            "type": "scatterpolargl"
           }
          ],
          "scatterternary": [
           {
            "marker": {
             "colorbar": {
              "outlinewidth": 0,
              "ticks": ""
             }
            },
            "type": "scatterternary"
           }
          ],
          "surface": [
           {
            "colorbar": {
             "outlinewidth": 0,
             "ticks": ""
            },
            "colorscale": [
             [
              0,
              "#0d0887"
             ],
             [
              0.1111111111111111,
              "#46039f"
             ],
             [
              0.2222222222222222,
              "#7201a8"
             ],
             [
              0.3333333333333333,
              "#9c179e"
             ],
             [
              0.4444444444444444,
              "#bd3786"
             ],
             [
              0.5555555555555556,
              "#d8576b"
             ],
             [
              0.6666666666666666,
              "#ed7953"
             ],
             [
              0.7777777777777778,
              "#fb9f3a"
             ],
             [
              0.8888888888888888,
              "#fdca26"
             ],
             [
              1,
              "#f0f921"
             ]
            ],
            "type": "surface"
           }
          ],
          "table": [
           {
            "cells": {
             "fill": {
              "color": "#EBF0F8"
             },
             "line": {
              "color": "white"
             }
            },
            "header": {
             "fill": {
              "color": "#C8D4E3"
             },
             "line": {
              "color": "white"
             }
            },
            "type": "table"
           }
          ]
         },
         "layout": {
          "annotationdefaults": {
           "arrowcolor": "#2a3f5f",
           "arrowhead": 0,
           "arrowwidth": 1
          },
          "coloraxis": {
           "colorbar": {
            "outlinewidth": 0,
            "ticks": ""
           }
          },
          "colorscale": {
           "diverging": [
            [
             0,
             "#8e0152"
            ],
            [
             0.1,
             "#c51b7d"
            ],
            [
             0.2,
             "#de77ae"
            ],
            [
             0.3,
             "#f1b6da"
            ],
            [
             0.4,
             "#fde0ef"
            ],
            [
             0.5,
             "#f7f7f7"
            ],
            [
             0.6,
             "#e6f5d0"
            ],
            [
             0.7,
             "#b8e186"
            ],
            [
             0.8,
             "#7fbc41"
            ],
            [
             0.9,
             "#4d9221"
            ],
            [
             1,
             "#276419"
            ]
           ],
           "sequential": [
            [
             0,
             "#0d0887"
            ],
            [
             0.1111111111111111,
             "#46039f"
            ],
            [
             0.2222222222222222,
             "#7201a8"
            ],
            [
             0.3333333333333333,
             "#9c179e"
            ],
            [
             0.4444444444444444,
             "#bd3786"
            ],
            [
             0.5555555555555556,
             "#d8576b"
            ],
            [
             0.6666666666666666,
             "#ed7953"
            ],
            [
             0.7777777777777778,
             "#fb9f3a"
            ],
            [
             0.8888888888888888,
             "#fdca26"
            ],
            [
             1,
             "#f0f921"
            ]
           ],
           "sequentialminus": [
            [
             0,
             "#0d0887"
            ],
            [
             0.1111111111111111,
             "#46039f"
            ],
            [
             0.2222222222222222,
             "#7201a8"
            ],
            [
             0.3333333333333333,
             "#9c179e"
            ],
            [
             0.4444444444444444,
             "#bd3786"
            ],
            [
             0.5555555555555556,
             "#d8576b"
            ],
            [
             0.6666666666666666,
             "#ed7953"
            ],
            [
             0.7777777777777778,
             "#fb9f3a"
            ],
            [
             0.8888888888888888,
             "#fdca26"
            ],
            [
             1,
             "#f0f921"
            ]
           ]
          },
          "colorway": [
           "#636efa",
           "#EF553B",
           "#00cc96",
           "#ab63fa",
           "#FFA15A",
           "#19d3f3",
           "#FF6692",
           "#B6E880",
           "#FF97FF",
           "#FECB52"
          ],
          "font": {
           "color": "#2a3f5f"
          },
          "geo": {
           "bgcolor": "white",
           "lakecolor": "white",
           "landcolor": "#E5ECF6",
           "showlakes": true,
           "showland": true,
           "subunitcolor": "white"
          },
          "hoverlabel": {
           "align": "left"
          },
          "hovermode": "closest",
          "mapbox": {
           "style": "light"
          },
          "paper_bgcolor": "white",
          "plot_bgcolor": "#E5ECF6",
          "polar": {
           "angularaxis": {
            "gridcolor": "white",
            "linecolor": "white",
            "ticks": ""
           },
           "bgcolor": "#E5ECF6",
           "radialaxis": {
            "gridcolor": "white",
            "linecolor": "white",
            "ticks": ""
           }
          },
          "scene": {
           "xaxis": {
            "backgroundcolor": "#E5ECF6",
            "gridcolor": "white",
            "gridwidth": 2,
            "linecolor": "white",
            "showbackground": true,
            "ticks": "",
            "zerolinecolor": "white"
           },
           "yaxis": {
            "backgroundcolor": "#E5ECF6",
            "gridcolor": "white",
            "gridwidth": 2,
            "linecolor": "white",
            "showbackground": true,
            "ticks": "",
            "zerolinecolor": "white"
           },
           "zaxis": {
            "backgroundcolor": "#E5ECF6",
            "gridcolor": "white",
            "gridwidth": 2,
            "linecolor": "white",
            "showbackground": true,
            "ticks": "",
            "zerolinecolor": "white"
           }
          },
          "shapedefaults": {
           "line": {
            "color": "#2a3f5f"
           }
          },
          "ternary": {
           "aaxis": {
            "gridcolor": "white",
            "linecolor": "white",
            "ticks": ""
           },
           "baxis": {
            "gridcolor": "white",
            "linecolor": "white",
            "ticks": ""
           },
           "bgcolor": "#E5ECF6",
           "caxis": {
            "gridcolor": "white",
            "linecolor": "white",
            "ticks": ""
           }
          },
          "title": {
           "x": 0.05
          },
          "xaxis": {
           "automargin": true,
           "gridcolor": "white",
           "linecolor": "white",
           "ticks": "",
           "title": {
            "standoff": 15
           },
           "zerolinecolor": "white",
           "zerolinewidth": 2
          },
          "yaxis": {
           "automargin": true,
           "gridcolor": "white",
           "linecolor": "white",
           "ticks": "",
           "title": {
            "standoff": 15
           },
           "zerolinecolor": "white",
           "zerolinewidth": 2
          }
         }
        },
        "title": {
         "font": {
          "color": "#4D5663"
         }
        },
        "xaxis": {
         "gridcolor": "#E1E5ED",
         "showgrid": true,
         "tickfont": {
          "color": "#4D5663"
         },
         "title": {
          "font": {
           "color": "#4D5663"
          },
          "text": ""
         },
         "zerolinecolor": "#E1E5ED"
        },
        "yaxis": {
         "gridcolor": "#E1E5ED",
         "showgrid": true,
         "tickfont": {
          "color": "#4D5663"
         },
         "title": {
          "font": {
           "color": "#4D5663"
          },
          "text": ""
         },
         "zerolinecolor": "#E1E5ED"
        }
       }
      },
      "text/html": [
       "<div>\n",
       "        \n",
       "        \n",
       "            <div id=\"c2adc303-6c54-4a31-a020-388345f68dd4\" class=\"plotly-graph-div\" style=\"height:525px; width:100%;\"></div>\n",
       "            <script type=\"text/javascript\">\n",
       "                require([\"plotly\"], function(Plotly) {\n",
       "                    window.PLOTLYENV=window.PLOTLYENV || {};\n",
       "                    window.PLOTLYENV.BASE_URL='https://plot.ly';\n",
       "                    \n",
       "                if (document.getElementById(\"c2adc303-6c54-4a31-a020-388345f68dd4\")) {\n",
       "                    Plotly.newPlot(\n",
       "                        'c2adc303-6c54-4a31-a020-388345f68dd4',\n",
       "                        [{\"colorscale\": [[0.0, \"rgb(165,0,38)\"], [0.1, \"rgb(215,48,39)\"], [0.2, \"rgb(244,109,67)\"], [0.3, \"rgb(253,174,97)\"], [0.4, \"rgb(254,224,144)\"], [0.5, \"rgb(255,255,191)\"], [0.6, \"rgb(224,243,248)\"], [0.7, \"rgb(171,217,233)\"], [0.8, \"rgb(116,173,209)\"], [0.9, \"rgb(69,117,180)\"], [1.0, \"rgb(49,54,149)\"]], \"type\": \"surface\", \"x\": [0, 1, 2, 3, 4], \"y\": [\"x\", \"y\", \"z\"], \"z\": [[1, 2, 3, 4, 5], [10, 20, 30, 20, 10], [5, 4, 3, 2, 1]]}],\n",
       "                        {\"legend\": {\"bgcolor\": \"#F5F6F9\", \"font\": {\"color\": \"#4D5663\"}}, \"paper_bgcolor\": \"#F5F6F9\", \"plot_bgcolor\": \"#F5F6F9\", \"template\": {\"data\": {\"bar\": [{\"error_x\": {\"color\": \"#2a3f5f\"}, \"error_y\": {\"color\": \"#2a3f5f\"}, \"marker\": {\"line\": {\"color\": \"#E5ECF6\", \"width\": 0.5}}, \"type\": \"bar\"}], \"barpolar\": [{\"marker\": {\"line\": {\"color\": \"#E5ECF6\", \"width\": 0.5}}, \"type\": \"barpolar\"}], \"carpet\": [{\"aaxis\": {\"endlinecolor\": \"#2a3f5f\", \"gridcolor\": \"white\", \"linecolor\": \"white\", \"minorgridcolor\": \"white\", \"startlinecolor\": \"#2a3f5f\"}, \"baxis\": {\"endlinecolor\": \"#2a3f5f\", \"gridcolor\": \"white\", \"linecolor\": \"white\", \"minorgridcolor\": \"white\", \"startlinecolor\": \"#2a3f5f\"}, \"type\": \"carpet\"}], \"choropleth\": [{\"colorbar\": {\"outlinewidth\": 0, \"ticks\": \"\"}, \"type\": \"choropleth\"}], \"contour\": [{\"colorbar\": {\"outlinewidth\": 0, \"ticks\": \"\"}, \"colorscale\": [[0.0, \"#0d0887\"], [0.1111111111111111, \"#46039f\"], [0.2222222222222222, \"#7201a8\"], [0.3333333333333333, \"#9c179e\"], [0.4444444444444444, \"#bd3786\"], [0.5555555555555556, \"#d8576b\"], [0.6666666666666666, \"#ed7953\"], [0.7777777777777778, \"#fb9f3a\"], [0.8888888888888888, \"#fdca26\"], [1.0, \"#f0f921\"]], \"type\": \"contour\"}], \"contourcarpet\": [{\"colorbar\": {\"outlinewidth\": 0, \"ticks\": \"\"}, \"type\": \"contourcarpet\"}], \"heatmap\": [{\"colorbar\": {\"outlinewidth\": 0, \"ticks\": \"\"}, \"colorscale\": [[0.0, \"#0d0887\"], [0.1111111111111111, \"#46039f\"], [0.2222222222222222, \"#7201a8\"], [0.3333333333333333, \"#9c179e\"], [0.4444444444444444, \"#bd3786\"], [0.5555555555555556, \"#d8576b\"], [0.6666666666666666, \"#ed7953\"], [0.7777777777777778, \"#fb9f3a\"], [0.8888888888888888, \"#fdca26\"], [1.0, \"#f0f921\"]], \"type\": \"heatmap\"}], \"heatmapgl\": [{\"colorbar\": {\"outlinewidth\": 0, \"ticks\": \"\"}, \"colorscale\": [[0.0, \"#0d0887\"], [0.1111111111111111, \"#46039f\"], [0.2222222222222222, \"#7201a8\"], [0.3333333333333333, \"#9c179e\"], [0.4444444444444444, \"#bd3786\"], [0.5555555555555556, \"#d8576b\"], [0.6666666666666666, \"#ed7953\"], [0.7777777777777778, \"#fb9f3a\"], [0.8888888888888888, \"#fdca26\"], [1.0, \"#f0f921\"]], \"type\": \"heatmapgl\"}], \"histogram\": [{\"marker\": {\"colorbar\": {\"outlinewidth\": 0, \"ticks\": \"\"}}, \"type\": \"histogram\"}], \"histogram2d\": [{\"colorbar\": {\"outlinewidth\": 0, \"ticks\": \"\"}, \"colorscale\": [[0.0, \"#0d0887\"], [0.1111111111111111, \"#46039f\"], [0.2222222222222222, \"#7201a8\"], [0.3333333333333333, \"#9c179e\"], [0.4444444444444444, \"#bd3786\"], [0.5555555555555556, \"#d8576b\"], [0.6666666666666666, \"#ed7953\"], [0.7777777777777778, \"#fb9f3a\"], [0.8888888888888888, \"#fdca26\"], [1.0, \"#f0f921\"]], \"type\": \"histogram2d\"}], \"histogram2dcontour\": [{\"colorbar\": {\"outlinewidth\": 0, \"ticks\": \"\"}, \"colorscale\": [[0.0, \"#0d0887\"], [0.1111111111111111, \"#46039f\"], [0.2222222222222222, \"#7201a8\"], [0.3333333333333333, \"#9c179e\"], [0.4444444444444444, \"#bd3786\"], [0.5555555555555556, \"#d8576b\"], [0.6666666666666666, \"#ed7953\"], [0.7777777777777778, \"#fb9f3a\"], [0.8888888888888888, \"#fdca26\"], [1.0, \"#f0f921\"]], \"type\": \"histogram2dcontour\"}], \"mesh3d\": [{\"colorbar\": {\"outlinewidth\": 0, \"ticks\": \"\"}, \"type\": \"mesh3d\"}], \"parcoords\": [{\"line\": {\"colorbar\": {\"outlinewidth\": 0, \"ticks\": \"\"}}, \"type\": \"parcoords\"}], \"pie\": [{\"automargin\": true, \"type\": \"pie\"}], \"scatter\": [{\"marker\": {\"colorbar\": {\"outlinewidth\": 0, \"ticks\": \"\"}}, \"type\": \"scatter\"}], \"scatter3d\": [{\"line\": {\"colorbar\": {\"outlinewidth\": 0, \"ticks\": \"\"}}, \"marker\": {\"colorbar\": {\"outlinewidth\": 0, \"ticks\": \"\"}}, \"type\": \"scatter3d\"}], \"scattercarpet\": [{\"marker\": {\"colorbar\": {\"outlinewidth\": 0, \"ticks\": \"\"}}, \"type\": \"scattercarpet\"}], \"scattergeo\": [{\"marker\": {\"colorbar\": {\"outlinewidth\": 0, \"ticks\": \"\"}}, \"type\": \"scattergeo\"}], \"scattergl\": [{\"marker\": {\"colorbar\": {\"outlinewidth\": 0, \"ticks\": \"\"}}, \"type\": \"scattergl\"}], \"scattermapbox\": [{\"marker\": {\"colorbar\": {\"outlinewidth\": 0, \"ticks\": \"\"}}, \"type\": \"scattermapbox\"}], \"scatterpolar\": [{\"marker\": {\"colorbar\": {\"outlinewidth\": 0, \"ticks\": \"\"}}, \"type\": \"scatterpolar\"}], \"scatterpolargl\": [{\"marker\": {\"colorbar\": {\"outlinewidth\": 0, \"ticks\": \"\"}}, \"type\": \"scatterpolargl\"}], \"scatterternary\": [{\"marker\": {\"colorbar\": {\"outlinewidth\": 0, \"ticks\": \"\"}}, \"type\": \"scatterternary\"}], \"surface\": [{\"colorbar\": {\"outlinewidth\": 0, \"ticks\": \"\"}, \"colorscale\": [[0.0, \"#0d0887\"], [0.1111111111111111, \"#46039f\"], [0.2222222222222222, \"#7201a8\"], [0.3333333333333333, \"#9c179e\"], [0.4444444444444444, \"#bd3786\"], [0.5555555555555556, \"#d8576b\"], [0.6666666666666666, \"#ed7953\"], [0.7777777777777778, \"#fb9f3a\"], [0.8888888888888888, \"#fdca26\"], [1.0, \"#f0f921\"]], \"type\": \"surface\"}], \"table\": [{\"cells\": {\"fill\": {\"color\": \"#EBF0F8\"}, \"line\": {\"color\": \"white\"}}, \"header\": {\"fill\": {\"color\": \"#C8D4E3\"}, \"line\": {\"color\": \"white\"}}, \"type\": \"table\"}]}, \"layout\": {\"annotationdefaults\": {\"arrowcolor\": \"#2a3f5f\", \"arrowhead\": 0, \"arrowwidth\": 1}, \"coloraxis\": {\"colorbar\": {\"outlinewidth\": 0, \"ticks\": \"\"}}, \"colorscale\": {\"diverging\": [[0, \"#8e0152\"], [0.1, \"#c51b7d\"], [0.2, \"#de77ae\"], [0.3, \"#f1b6da\"], [0.4, \"#fde0ef\"], [0.5, \"#f7f7f7\"], [0.6, \"#e6f5d0\"], [0.7, \"#b8e186\"], [0.8, \"#7fbc41\"], [0.9, \"#4d9221\"], [1, \"#276419\"]], \"sequential\": [[0.0, \"#0d0887\"], [0.1111111111111111, \"#46039f\"], [0.2222222222222222, \"#7201a8\"], [0.3333333333333333, \"#9c179e\"], [0.4444444444444444, \"#bd3786\"], [0.5555555555555556, \"#d8576b\"], [0.6666666666666666, \"#ed7953\"], [0.7777777777777778, \"#fb9f3a\"], [0.8888888888888888, \"#fdca26\"], [1.0, \"#f0f921\"]], \"sequentialminus\": [[0.0, \"#0d0887\"], [0.1111111111111111, \"#46039f\"], [0.2222222222222222, \"#7201a8\"], [0.3333333333333333, \"#9c179e\"], [0.4444444444444444, \"#bd3786\"], [0.5555555555555556, \"#d8576b\"], [0.6666666666666666, \"#ed7953\"], [0.7777777777777778, \"#fb9f3a\"], [0.8888888888888888, \"#fdca26\"], [1.0, \"#f0f921\"]]}, \"colorway\": [\"#636efa\", \"#EF553B\", \"#00cc96\", \"#ab63fa\", \"#FFA15A\", \"#19d3f3\", \"#FF6692\", \"#B6E880\", \"#FF97FF\", \"#FECB52\"], \"font\": {\"color\": \"#2a3f5f\"}, \"geo\": {\"bgcolor\": \"white\", \"lakecolor\": \"white\", \"landcolor\": \"#E5ECF6\", \"showlakes\": true, \"showland\": true, \"subunitcolor\": \"white\"}, \"hoverlabel\": {\"align\": \"left\"}, \"hovermode\": \"closest\", \"mapbox\": {\"style\": \"light\"}, \"paper_bgcolor\": \"white\", \"plot_bgcolor\": \"#E5ECF6\", \"polar\": {\"angularaxis\": {\"gridcolor\": \"white\", \"linecolor\": \"white\", \"ticks\": \"\"}, \"bgcolor\": \"#E5ECF6\", \"radialaxis\": {\"gridcolor\": \"white\", \"linecolor\": \"white\", \"ticks\": \"\"}}, \"scene\": {\"xaxis\": {\"backgroundcolor\": \"#E5ECF6\", \"gridcolor\": \"white\", \"gridwidth\": 2, \"linecolor\": \"white\", \"showbackground\": true, \"ticks\": \"\", \"zerolinecolor\": \"white\"}, \"yaxis\": {\"backgroundcolor\": \"#E5ECF6\", \"gridcolor\": \"white\", \"gridwidth\": 2, \"linecolor\": \"white\", \"showbackground\": true, \"ticks\": \"\", \"zerolinecolor\": \"white\"}, \"zaxis\": {\"backgroundcolor\": \"#E5ECF6\", \"gridcolor\": \"white\", \"gridwidth\": 2, \"linecolor\": \"white\", \"showbackground\": true, \"ticks\": \"\", \"zerolinecolor\": \"white\"}}, \"shapedefaults\": {\"line\": {\"color\": \"#2a3f5f\"}}, \"ternary\": {\"aaxis\": {\"gridcolor\": \"white\", \"linecolor\": \"white\", \"ticks\": \"\"}, \"baxis\": {\"gridcolor\": \"white\", \"linecolor\": \"white\", \"ticks\": \"\"}, \"bgcolor\": \"#E5ECF6\", \"caxis\": {\"gridcolor\": \"white\", \"linecolor\": \"white\", \"ticks\": \"\"}}, \"title\": {\"x\": 0.05}, \"xaxis\": {\"automargin\": true, \"gridcolor\": \"white\", \"linecolor\": \"white\", \"ticks\": \"\", \"title\": {\"standoff\": 15}, \"zerolinecolor\": \"white\", \"zerolinewidth\": 2}, \"yaxis\": {\"automargin\": true, \"gridcolor\": \"white\", \"linecolor\": \"white\", \"ticks\": \"\", \"title\": {\"standoff\": 15}, \"zerolinecolor\": \"white\", \"zerolinewidth\": 2}}}, \"title\": {\"font\": {\"color\": \"#4D5663\"}}, \"xaxis\": {\"gridcolor\": \"#E1E5ED\", \"showgrid\": true, \"tickfont\": {\"color\": \"#4D5663\"}, \"title\": {\"font\": {\"color\": \"#4D5663\"}, \"text\": \"\"}, \"zerolinecolor\": \"#E1E5ED\"}, \"yaxis\": {\"gridcolor\": \"#E1E5ED\", \"showgrid\": true, \"tickfont\": {\"color\": \"#4D5663\"}, \"title\": {\"font\": {\"color\": \"#4D5663\"}, \"text\": \"\"}, \"zerolinecolor\": \"#E1E5ED\"}},\n",
       "                        {\"showLink\": true, \"linkText\": \"Export to plot.ly\", \"plotlyServerURL\": \"https://plot.ly\", \"responsive\": true}\n",
       "                    ).then(function(){\n",
       "                            \n",
       "var gd = document.getElementById('c2adc303-6c54-4a31-a020-388345f68dd4');\n",
       "var x = new MutationObserver(function (mutations, observer) {{\n",
       "        var display = window.getComputedStyle(gd).display;\n",
       "        if (!display || display === 'none') {{\n",
       "            console.log([gd, 'removed!']);\n",
       "            Plotly.purge(gd);\n",
       "            observer.disconnect();\n",
       "        }}\n",
       "}});\n",
       "\n",
       "// Listen for the removal of the full notebook cells\n",
       "var notebookContainer = gd.closest('#notebook-container');\n",
       "if (notebookContainer) {{\n",
       "    x.observe(notebookContainer, {childList: true});\n",
       "}}\n",
       "\n",
       "// Listen for the clearing of the current output cell\n",
       "var outputEl = gd.closest('.output');\n",
       "if (outputEl) {{\n",
       "    x.observe(outputEl, {childList: true});\n",
       "}}\n",
       "\n",
       "                        })\n",
       "                };\n",
       "                });\n",
       "            </script>\n",
       "        </div>"
      ]
     },
     "metadata": {},
     "output_type": "display_data"
    }
   ],
   "source": [
    "df3 = pd.DataFrame({'x':[1,2,3,4,5],'y':[10,20,30,20,10],'z':[5,4,3,2,1]})\n",
    "df3.iplot(kind='surface',colorscale='rdylbu')"
   ]
  },
  {
   "cell_type": "markdown",
   "metadata": {},
   "source": [
    "## Spread"
   ]
  },
  {
   "cell_type": "code",
   "execution_count": 18,
   "metadata": {},
   "outputs": [
    {
     "name": "stderr",
     "output_type": "stream",
     "text": [
      "C:\\ProgramData\\Anaconda3\\lib\\site-packages\\cufflinks\\plotlytools.py:849: FutureWarning:\n",
      "\n",
      "The pandas.np module is deprecated and will be removed from pandas in a future version. Import numpy directly instead\n",
      "\n",
      "C:\\ProgramData\\Anaconda3\\lib\\site-packages\\cufflinks\\plotlytools.py:850: FutureWarning:\n",
      "\n",
      "The pandas.np module is deprecated and will be removed from pandas in a future version. Import numpy directly instead\n",
      "\n"
     ]
    },
    {
     "data": {
      "application/vnd.plotly.v1+json": {
       "config": {
        "linkText": "Export to plot.ly",
        "plotlyServerURL": "https://plot.ly",
        "showLink": true
       },
       "data": [
        {
         "line": {
          "color": "rgba(255, 153, 51, 1.0)",
          "dash": "solid",
          "shape": "linear",
          "width": 1.3
         },
         "mode": "lines",
         "name": "A",
         "text": "",
         "type": "scatter",
         "x": [
          0,
          1,
          2,
          3,
          4,
          5,
          6,
          7,
          8,
          9,
          10,
          11,
          12,
          13,
          14,
          15,
          16,
          17,
          18,
          19,
          20,
          21,
          22,
          23,
          24,
          25,
          26,
          27,
          28,
          29,
          30,
          31,
          32,
          33,
          34,
          35,
          36,
          37,
          38,
          39,
          40,
          41,
          42,
          43,
          44,
          45,
          46,
          47,
          48,
          49,
          50,
          51,
          52,
          53,
          54,
          55,
          56,
          57,
          58,
          59,
          60,
          61,
          62,
          63,
          64,
          65,
          66,
          67,
          68,
          69,
          70,
          71,
          72,
          73,
          74,
          75,
          76,
          77,
          78,
          79,
          80,
          81,
          82,
          83,
          84,
          85,
          86,
          87,
          88,
          89,
          90,
          91,
          92,
          93,
          94,
          95,
          96,
          97,
          98,
          99
         ],
         "y": [
          1.0228643665915085,
          2.078102285193514,
          0.5158761667916655,
          -1.4857226758011213,
          1.1077899573724663,
          0.2928304928477981,
          0.08180311043452258,
          -0.8398530251478752,
          1.3175894476736056,
          1.2978189929523019,
          0.17520201513727157,
          0.13470956074463153,
          -0.018281469699972675,
          0.8636862501760922,
          0.854931415770735,
          -2.31890408029755,
          -0.28203176898922466,
          -0.4174329968596667,
          -1.503218670415323,
          -0.18860321509438102,
          -0.7529022721721581,
          -2.570027995821825,
          -1.2277556562626448,
          1.1348793153157908,
          0.6875961744242264,
          -0.2753527351696327,
          -1.1690704197924868,
          -0.08904043768740891,
          -0.7045947505690036,
          0.7853038385361636,
          -1.8662616235543097,
          -0.6715946774492092,
          0.14140540623443235,
          1.3745450625176414,
          -0.4591638710115532,
          -1.5319228881869125,
          1.2028181597771725,
          1.2393746284609601,
          -0.6500507894760755,
          -0.21417262573551185,
          -0.9313021954607845,
          1.4704143399240799,
          -0.19491831985513233,
          -0.9638924891142663,
          -0.5602620061156413,
          1.068653338611267,
          -0.28644653661110253,
          -1.297988288985895,
          0.6231907143360257,
          0.16444560852194856,
          -2.932907068675399,
          0.3219885191550619,
          -0.028948928296179757,
          1.5784640369464342,
          -1.0274983429401636,
          -0.43916117057086185,
          -0.426287302067674,
          -0.6092424312797955,
          -0.964214418090293,
          0.746369898931979,
          0.7237930721167293,
          -0.10665138799427454,
          1.0654356336753241,
          0.4150648593531338,
          0.5325737757365044,
          1.1434825925461756,
          0.19354088689971932,
          0.9721115249390958,
          0.01669477482715258,
          -0.5505029172817046,
          0.7152130788861849,
          -0.2245739409808382,
          -1.442887718560802,
          0.7569709318575875,
          -0.47768834110432884,
          -0.29411149822300764,
          0.12293170873575046,
          2.6946585797040616,
          0.6374185448442311,
          1.2952490195484176,
          0.02672722368465936,
          0.6707412178690879,
          0.6261665975706423,
          0.9897175184180778,
          -0.6206278701414436,
          -0.39026888701340817,
          0.4893873581585123,
          -1.846657196452513,
          -1.5247262152509458,
          2.3050474743024325,
          -0.8013803613983328,
          0.07982339735858235,
          -1.3690892621838988,
          -0.9644454717774649,
          0.5352164593595689,
          0.94834773112565,
          -1.8003266447589534,
          -1.0044384424427626,
          0.8333440027795855,
          -0.8904685620304708
         ]
        },
        {
         "line": {
          "color": "rgba(55, 128, 191, 1.0)",
          "dash": "solid",
          "shape": "linear",
          "width": 1.3
         },
         "mode": "lines",
         "name": "B",
         "text": "",
         "type": "scatter",
         "x": [
          0,
          1,
          2,
          3,
          4,
          5,
          6,
          7,
          8,
          9,
          10,
          11,
          12,
          13,
          14,
          15,
          16,
          17,
          18,
          19,
          20,
          21,
          22,
          23,
          24,
          25,
          26,
          27,
          28,
          29,
          30,
          31,
          32,
          33,
          34,
          35,
          36,
          37,
          38,
          39,
          40,
          41,
          42,
          43,
          44,
          45,
          46,
          47,
          48,
          49,
          50,
          51,
          52,
          53,
          54,
          55,
          56,
          57,
          58,
          59,
          60,
          61,
          62,
          63,
          64,
          65,
          66,
          67,
          68,
          69,
          70,
          71,
          72,
          73,
          74,
          75,
          76,
          77,
          78,
          79,
          80,
          81,
          82,
          83,
          84,
          85,
          86,
          87,
          88,
          89,
          90,
          91,
          92,
          93,
          94,
          95,
          96,
          97,
          98,
          99
         ],
         "y": [
          1.5141072432731078,
          1.3170923237060794,
          -1.2513598809475768,
          -0.20275432049873324,
          0.04283920687179462,
          -0.08198349502163418,
          -0.17527587292137195,
          -0.16422933085451655,
          -0.10949108877275467,
          0.01078502521025764,
          -0.142156670759665,
          0.535117716801839,
          0.11086446473816583,
          -1.2936877961444537,
          -0.4375644008191952,
          -0.17897112491722345,
          -1.024123352271027,
          -0.33933873174526424,
          0.4260696746455677,
          -0.5625645460881664,
          0.5594555584770827,
          -0.7278302611994535,
          0.2810175524087304,
          0.9491286356166035,
          0.6243073965868807,
          -0.4771339712795888,
          0.3902324728016761,
          -1.0658694939365105,
          -0.49638173288238013,
          -0.7723608586748788,
          -0.3583424525867705,
          1.0109681194818183,
          0.30756936188984574,
          1.439887634410778,
          2.7589740571186803,
          0.013419866304679555,
          -0.8381998836780817,
          0.2809158709836502,
          -0.04285707840302234,
          1.1894315670021485,
          0.4541141891865138,
          0.7365427955903368,
          0.7615628554124507,
          0.7593673768097888,
          -1.456476130196915,
          -0.04274711258224199,
          -1.1169373827498756,
          0.26397190431587925,
          0.267896444013153,
          0.9503102026463995,
          -0.6109902535336791,
          0.9889541101801155,
          0.5394973692501939,
          0.06037484857144976,
          0.9395003143245638,
          1.0746673198039558,
          -1.8919124007160064,
          0.8911063236978104,
          0.7206902756080743,
          -0.05381056467822287,
          -0.07977933156171538,
          1.71482576145405,
          -0.5043033782351627,
          -1.629661959427632,
          0.6808764508865055,
          1.1696252116148629,
          -1.0520992102224875,
          0.687739553848473,
          -0.849204644269452,
          0.4511280211640707,
          -0.20689846332809914,
          -0.9098463581849429,
          1.6987065729946769,
          -0.16512570553715297,
          -0.256922359989604,
          1.7432405215820297,
          1.2967704364685568,
          1.4583072575830145,
          -1.4210266514879522,
          0.1331227414103682,
          1.3085817597898504,
          -0.3959354674886219,
          -1.4911834610915695,
          1.2706198453298128,
          0.6093484061842721,
          0.7111587835583064,
          1.0459312680400894,
          -0.9627794132590002,
          0.04234451007099024,
          2.253503873221812,
          -1.3102931449745447,
          -0.7049178036933245,
          0.32964633934100174,
          0.35516682842767844,
          1.6832239408703678,
          -0.21291187277689125,
          -0.04556588313452348,
          -0.34362920185315665,
          1.8283057057526904,
          -0.6443763600103907
         ]
        },
        {
         "connectgaps": false,
         "fill": "tozeroy",
         "line": {
          "color": "green",
          "dash": "solid",
          "shape": "linear",
          "width": 0.5
         },
         "mode": "lines",
         "name": "Spread",
         "showlegend": false,
         "type": "scatter",
         "x": [
          0,
          1,
          2,
          3,
          4,
          5,
          6,
          7,
          8,
          9,
          10,
          11,
          12,
          13,
          14,
          15,
          16,
          17,
          18,
          19,
          20,
          21,
          22,
          23,
          24,
          25,
          26,
          27,
          28,
          29,
          30,
          31,
          32,
          33,
          34,
          35,
          36,
          37,
          38,
          39,
          40,
          41,
          42,
          43,
          44,
          45,
          46,
          47,
          48,
          49,
          50,
          51,
          52,
          53,
          54,
          55,
          56,
          57,
          58,
          59,
          60,
          61,
          62,
          63,
          64,
          65,
          66,
          67,
          68,
          69,
          70,
          71,
          72,
          73,
          74,
          75,
          76,
          77,
          78,
          79,
          80,
          81,
          82,
          83,
          84,
          85,
          86,
          87,
          88,
          89,
          90,
          91,
          92,
          93,
          94,
          95,
          96,
          97,
          98,
          99
         ],
         "xaxis": "x2",
         "y": [
          "",
          0.7610099614874346,
          1.7672360477392424,
          "",
          1.0649507505006717,
          0.3748139878694323,
          0.2570789833558945,
          "",
          1.4270805364463603,
          1.2870339677420441,
          0.3173586858969366,
          "",
          "",
          2.157374046320546,
          1.29249581658993,
          "",
          0.7420915832818022,
          "",
          "",
          0.37396133099378537,
          "",
          "",
          "",
          0.18575067969918724,
          0.06328877783734566,
          0.20178123610995607,
          "",
          0.9768290562491017,
          "",
          1.5576646972110424,
          "",
          "",
          "",
          "",
          "",
          "",
          2.0410180434552543,
          0.95845875747731,
          "",
          "",
          "",
          0.7338715443337431,
          "",
          "",
          0.8962141240812737,
          1.1114004511935092,
          0.8304908461387731,
          "",
          0.3552942703228727,
          "",
          "",
          "",
          "",
          1.5180891883749845,
          "",
          "",
          1.4656250986483323,
          "",
          "",
          0.8001804636102019,
          0.8035724036784446,
          "",
          1.5697390119104868,
          2.0447268187807657,
          "",
          "",
          1.2456400971222068,
          0.28437197109062284,
          0.8658994190966045,
          "",
          0.922111542214284,
          0.6852724172041047,
          "",
          0.9220966373947405,
          "",
          "",
          "",
          1.2363513221210471,
          2.0584451963321833,
          1.1621262781380495,
          "",
          1.0666766853577099,
          2.117350058662212,
          "",
          "",
          "",
          "",
          "",
          "",
          0.051543601080620505,
          0.508912783576212,
          0.7847412010519068,
          "",
          "",
          "",
          1.1612596039025411,
          "",
          "",
          "",
          ""
         ],
         "yaxis": "y2"
        },
        {
         "connectgaps": false,
         "fill": "tozeroy",
         "line": {
          "color": "red",
          "dash": "solid",
          "shape": "linear",
          "width": 0.5
         },
         "mode": "lines",
         "name": "Spread",
         "showlegend": false,
         "type": "scatter",
         "x": [
          0,
          1,
          2,
          3,
          4,
          5,
          6,
          7,
          8,
          9,
          10,
          11,
          12,
          13,
          14,
          15,
          16,
          17,
          18,
          19,
          20,
          21,
          22,
          23,
          24,
          25,
          26,
          27,
          28,
          29,
          30,
          31,
          32,
          33,
          34,
          35,
          36,
          37,
          38,
          39,
          40,
          41,
          42,
          43,
          44,
          45,
          46,
          47,
          48,
          49,
          50,
          51,
          52,
          53,
          54,
          55,
          56,
          57,
          58,
          59,
          60,
          61,
          62,
          63,
          64,
          65,
          66,
          67,
          68,
          69,
          70,
          71,
          72,
          73,
          74,
          75,
          76,
          77,
          78,
          79,
          80,
          81,
          82,
          83,
          84,
          85,
          86,
          87,
          88,
          89,
          90,
          91,
          92,
          93,
          94,
          95,
          96,
          97,
          98,
          99
         ],
         "xaxis": "x2",
         "y": [
          -0.49124287668159927,
          "",
          "",
          -1.282968355302388,
          "",
          "",
          "",
          -0.6756236942933587,
          "",
          "",
          "",
          -0.4004081560572074,
          -0.12914593443813852,
          "",
          "",
          -2.1399329553803264,
          "",
          -0.07809426511440248,
          -1.9292883450608906,
          "",
          -1.312357830649241,
          -1.8421977346223715,
          -1.5087732086713752,
          "",
          "",
          "",
          -1.559302892594163,
          "",
          -0.20821301768662343,
          "",
          -1.5079191709675392,
          -1.6825627969310275,
          -0.1661639556554134,
          -0.06534257189313664,
          -3.2181379281302336,
          -1.545342754491592,
          "",
          "",
          -0.6071937110730532,
          -1.4036041927376603,
          -1.3854163846472982,
          "",
          -0.956481175267583,
          -1.7232598659240552,
          "",
          "",
          "",
          -1.5619601933017742,
          "",
          -0.785864594124451,
          -2.3219168151417198,
          -0.6669655910250536,
          -0.5684462975463737,
          "",
          -1.9669986572647273,
          -1.5138284903748176,
          "",
          -1.500348754977606,
          -1.6849046936983672,
          "",
          "",
          -1.8214771494483246,
          "",
          "",
          -0.14830267515000106,
          -0.02614261906868731,
          "",
          "",
          "",
          -1.0016309384457753,
          "",
          "",
          -3.141594291555479,
          "",
          -0.22076598111472484,
          -2.0373520198050374,
          -1.1738387277328064,
          "",
          "",
          "",
          -1.281854536105191,
          "",
          "",
          -0.280902326911735,
          -1.2299762763257158,
          -1.1014276705717145,
          -0.5565439098815771,
          -0.8838777831935127,
          -1.567070725321936,
          "",
          "",
          "",
          -1.6987356015249007,
          -1.3196123002051432,
          -1.148007481510799,
          "",
          -1.7547607616244298,
          -0.660809240589606,
          -0.9949617029731048,
          -0.2460922020200801
         ],
         "yaxis": "y2"
        }
       ],
       "layout": {
        "hovermode": "x",
        "legend": {
         "bgcolor": "#F5F6F9",
         "font": {
          "color": "#4D5663"
         }
        },
        "paper_bgcolor": "#F5F6F9",
        "plot_bgcolor": "#F5F6F9",
        "template": {
         "data": {
          "bar": [
           {
            "error_x": {
             "color": "#2a3f5f"
            },
            "error_y": {
             "color": "#2a3f5f"
            },
            "marker": {
             "line": {
              "color": "#E5ECF6",
              "width": 0.5
             }
            },
            "type": "bar"
           }
          ],
          "barpolar": [
           {
            "marker": {
             "line": {
              "color": "#E5ECF6",
              "width": 0.5
             }
            },
            "type": "barpolar"
           }
          ],
          "carpet": [
           {
            "aaxis": {
             "endlinecolor": "#2a3f5f",
             "gridcolor": "white",
             "linecolor": "white",
             "minorgridcolor": "white",
             "startlinecolor": "#2a3f5f"
            },
            "baxis": {
             "endlinecolor": "#2a3f5f",
             "gridcolor": "white",
             "linecolor": "white",
             "minorgridcolor": "white",
             "startlinecolor": "#2a3f5f"
            },
            "type": "carpet"
           }
          ],
          "choropleth": [
           {
            "colorbar": {
             "outlinewidth": 0,
             "ticks": ""
            },
            "type": "choropleth"
           }
          ],
          "contour": [
           {
            "colorbar": {
             "outlinewidth": 0,
             "ticks": ""
            },
            "colorscale": [
             [
              0,
              "#0d0887"
             ],
             [
              0.1111111111111111,
              "#46039f"
             ],
             [
              0.2222222222222222,
              "#7201a8"
             ],
             [
              0.3333333333333333,
              "#9c179e"
             ],
             [
              0.4444444444444444,
              "#bd3786"
             ],
             [
              0.5555555555555556,
              "#d8576b"
             ],
             [
              0.6666666666666666,
              "#ed7953"
             ],
             [
              0.7777777777777778,
              "#fb9f3a"
             ],
             [
              0.8888888888888888,
              "#fdca26"
             ],
             [
              1,
              "#f0f921"
             ]
            ],
            "type": "contour"
           }
          ],
          "contourcarpet": [
           {
            "colorbar": {
             "outlinewidth": 0,
             "ticks": ""
            },
            "type": "contourcarpet"
           }
          ],
          "heatmap": [
           {
            "colorbar": {
             "outlinewidth": 0,
             "ticks": ""
            },
            "colorscale": [
             [
              0,
              "#0d0887"
             ],
             [
              0.1111111111111111,
              "#46039f"
             ],
             [
              0.2222222222222222,
              "#7201a8"
             ],
             [
              0.3333333333333333,
              "#9c179e"
             ],
             [
              0.4444444444444444,
              "#bd3786"
             ],
             [
              0.5555555555555556,
              "#d8576b"
             ],
             [
              0.6666666666666666,
              "#ed7953"
             ],
             [
              0.7777777777777778,
              "#fb9f3a"
             ],
             [
              0.8888888888888888,
              "#fdca26"
             ],
             [
              1,
              "#f0f921"
             ]
            ],
            "type": "heatmap"
           }
          ],
          "heatmapgl": [
           {
            "colorbar": {
             "outlinewidth": 0,
             "ticks": ""
            },
            "colorscale": [
             [
              0,
              "#0d0887"
             ],
             [
              0.1111111111111111,
              "#46039f"
             ],
             [
              0.2222222222222222,
              "#7201a8"
             ],
             [
              0.3333333333333333,
              "#9c179e"
             ],
             [
              0.4444444444444444,
              "#bd3786"
             ],
             [
              0.5555555555555556,
              "#d8576b"
             ],
             [
              0.6666666666666666,
              "#ed7953"
             ],
             [
              0.7777777777777778,
              "#fb9f3a"
             ],
             [
              0.8888888888888888,
              "#fdca26"
             ],
             [
              1,
              "#f0f921"
             ]
            ],
            "type": "heatmapgl"
           }
          ],
          "histogram": [
           {
            "marker": {
             "colorbar": {
              "outlinewidth": 0,
              "ticks": ""
             }
            },
            "type": "histogram"
           }
          ],
          "histogram2d": [
           {
            "colorbar": {
             "outlinewidth": 0,
             "ticks": ""
            },
            "colorscale": [
             [
              0,
              "#0d0887"
             ],
             [
              0.1111111111111111,
              "#46039f"
             ],
             [
              0.2222222222222222,
              "#7201a8"
             ],
             [
              0.3333333333333333,
              "#9c179e"
             ],
             [
              0.4444444444444444,
              "#bd3786"
             ],
             [
              0.5555555555555556,
              "#d8576b"
             ],
             [
              0.6666666666666666,
              "#ed7953"
             ],
             [
              0.7777777777777778,
              "#fb9f3a"
             ],
             [
              0.8888888888888888,
              "#fdca26"
             ],
             [
              1,
              "#f0f921"
             ]
            ],
            "type": "histogram2d"
           }
          ],
          "histogram2dcontour": [
           {
            "colorbar": {
             "outlinewidth": 0,
             "ticks": ""
            },
            "colorscale": [
             [
              0,
              "#0d0887"
             ],
             [
              0.1111111111111111,
              "#46039f"
             ],
             [
              0.2222222222222222,
              "#7201a8"
             ],
             [
              0.3333333333333333,
              "#9c179e"
             ],
             [
              0.4444444444444444,
              "#bd3786"
             ],
             [
              0.5555555555555556,
              "#d8576b"
             ],
             [
              0.6666666666666666,
              "#ed7953"
             ],
             [
              0.7777777777777778,
              "#fb9f3a"
             ],
             [
              0.8888888888888888,
              "#fdca26"
             ],
             [
              1,
              "#f0f921"
             ]
            ],
            "type": "histogram2dcontour"
           }
          ],
          "mesh3d": [
           {
            "colorbar": {
             "outlinewidth": 0,
             "ticks": ""
            },
            "type": "mesh3d"
           }
          ],
          "parcoords": [
           {
            "line": {
             "colorbar": {
              "outlinewidth": 0,
              "ticks": ""
             }
            },
            "type": "parcoords"
           }
          ],
          "pie": [
           {
            "automargin": true,
            "type": "pie"
           }
          ],
          "scatter": [
           {
            "marker": {
             "colorbar": {
              "outlinewidth": 0,
              "ticks": ""
             }
            },
            "type": "scatter"
           }
          ],
          "scatter3d": [
           {
            "line": {
             "colorbar": {
              "outlinewidth": 0,
              "ticks": ""
             }
            },
            "marker": {
             "colorbar": {
              "outlinewidth": 0,
              "ticks": ""
             }
            },
            "type": "scatter3d"
           }
          ],
          "scattercarpet": [
           {
            "marker": {
             "colorbar": {
              "outlinewidth": 0,
              "ticks": ""
             }
            },
            "type": "scattercarpet"
           }
          ],
          "scattergeo": [
           {
            "marker": {
             "colorbar": {
              "outlinewidth": 0,
              "ticks": ""
             }
            },
            "type": "scattergeo"
           }
          ],
          "scattergl": [
           {
            "marker": {
             "colorbar": {
              "outlinewidth": 0,
              "ticks": ""
             }
            },
            "type": "scattergl"
           }
          ],
          "scattermapbox": [
           {
            "marker": {
             "colorbar": {
              "outlinewidth": 0,
              "ticks": ""
             }
            },
            "type": "scattermapbox"
           }
          ],
          "scatterpolar": [
           {
            "marker": {
             "colorbar": {
              "outlinewidth": 0,
              "ticks": ""
             }
            },
            "type": "scatterpolar"
           }
          ],
          "scatterpolargl": [
           {
            "marker": {
             "colorbar": {
              "outlinewidth": 0,
              "ticks": ""
             }
            },
            "type": "scatterpolargl"
           }
          ],
          "scatterternary": [
           {
            "marker": {
             "colorbar": {
              "outlinewidth": 0,
              "ticks": ""
             }
            },
            "type": "scatterternary"
           }
          ],
          "surface": [
           {
            "colorbar": {
             "outlinewidth": 0,
             "ticks": ""
            },
            "colorscale": [
             [
              0,
              "#0d0887"
             ],
             [
              0.1111111111111111,
              "#46039f"
             ],
             [
              0.2222222222222222,
              "#7201a8"
             ],
             [
              0.3333333333333333,
              "#9c179e"
             ],
             [
              0.4444444444444444,
              "#bd3786"
             ],
             [
              0.5555555555555556,
              "#d8576b"
             ],
             [
              0.6666666666666666,
              "#ed7953"
             ],
             [
              0.7777777777777778,
              "#fb9f3a"
             ],
             [
              0.8888888888888888,
              "#fdca26"
             ],
             [
              1,
              "#f0f921"
             ]
            ],
            "type": "surface"
           }
          ],
          "table": [
           {
            "cells": {
             "fill": {
              "color": "#EBF0F8"
             },
             "line": {
              "color": "white"
             }
            },
            "header": {
             "fill": {
              "color": "#C8D4E3"
             },
             "line": {
              "color": "white"
             }
            },
            "type": "table"
           }
          ]
         },
         "layout": {
          "annotationdefaults": {
           "arrowcolor": "#2a3f5f",
           "arrowhead": 0,
           "arrowwidth": 1
          },
          "coloraxis": {
           "colorbar": {
            "outlinewidth": 0,
            "ticks": ""
           }
          },
          "colorscale": {
           "diverging": [
            [
             0,
             "#8e0152"
            ],
            [
             0.1,
             "#c51b7d"
            ],
            [
             0.2,
             "#de77ae"
            ],
            [
             0.3,
             "#f1b6da"
            ],
            [
             0.4,
             "#fde0ef"
            ],
            [
             0.5,
             "#f7f7f7"
            ],
            [
             0.6,
             "#e6f5d0"
            ],
            [
             0.7,
             "#b8e186"
            ],
            [
             0.8,
             "#7fbc41"
            ],
            [
             0.9,
             "#4d9221"
            ],
            [
             1,
             "#276419"
            ]
           ],
           "sequential": [
            [
             0,
             "#0d0887"
            ],
            [
             0.1111111111111111,
             "#46039f"
            ],
            [
             0.2222222222222222,
             "#7201a8"
            ],
            [
             0.3333333333333333,
             "#9c179e"
            ],
            [
             0.4444444444444444,
             "#bd3786"
            ],
            [
             0.5555555555555556,
             "#d8576b"
            ],
            [
             0.6666666666666666,
             "#ed7953"
            ],
            [
             0.7777777777777778,
             "#fb9f3a"
            ],
            [
             0.8888888888888888,
             "#fdca26"
            ],
            [
             1,
             "#f0f921"
            ]
           ],
           "sequentialminus": [
            [
             0,
             "#0d0887"
            ],
            [
             0.1111111111111111,
             "#46039f"
            ],
            [
             0.2222222222222222,
             "#7201a8"
            ],
            [
             0.3333333333333333,
             "#9c179e"
            ],
            [
             0.4444444444444444,
             "#bd3786"
            ],
            [
             0.5555555555555556,
             "#d8576b"
            ],
            [
             0.6666666666666666,
             "#ed7953"
            ],
            [
             0.7777777777777778,
             "#fb9f3a"
            ],
            [
             0.8888888888888888,
             "#fdca26"
            ],
            [
             1,
             "#f0f921"
            ]
           ]
          },
          "colorway": [
           "#636efa",
           "#EF553B",
           "#00cc96",
           "#ab63fa",
           "#FFA15A",
           "#19d3f3",
           "#FF6692",
           "#B6E880",
           "#FF97FF",
           "#FECB52"
          ],
          "font": {
           "color": "#2a3f5f"
          },
          "geo": {
           "bgcolor": "white",
           "lakecolor": "white",
           "landcolor": "#E5ECF6",
           "showlakes": true,
           "showland": true,
           "subunitcolor": "white"
          },
          "hoverlabel": {
           "align": "left"
          },
          "hovermode": "closest",
          "mapbox": {
           "style": "light"
          },
          "paper_bgcolor": "white",
          "plot_bgcolor": "#E5ECF6",
          "polar": {
           "angularaxis": {
            "gridcolor": "white",
            "linecolor": "white",
            "ticks": ""
           },
           "bgcolor": "#E5ECF6",
           "radialaxis": {
            "gridcolor": "white",
            "linecolor": "white",
            "ticks": ""
           }
          },
          "scene": {
           "xaxis": {
            "backgroundcolor": "#E5ECF6",
            "gridcolor": "white",
            "gridwidth": 2,
            "linecolor": "white",
            "showbackground": true,
            "ticks": "",
            "zerolinecolor": "white"
           },
           "yaxis": {
            "backgroundcolor": "#E5ECF6",
            "gridcolor": "white",
            "gridwidth": 2,
            "linecolor": "white",
            "showbackground": true,
            "ticks": "",
            "zerolinecolor": "white"
           },
           "zaxis": {
            "backgroundcolor": "#E5ECF6",
            "gridcolor": "white",
            "gridwidth": 2,
            "linecolor": "white",
            "showbackground": true,
            "ticks": "",
            "zerolinecolor": "white"
           }
          },
          "shapedefaults": {
           "line": {
            "color": "#2a3f5f"
           }
          },
          "ternary": {
           "aaxis": {
            "gridcolor": "white",
            "linecolor": "white",
            "ticks": ""
           },
           "baxis": {
            "gridcolor": "white",
            "linecolor": "white",
            "ticks": ""
           },
           "bgcolor": "#E5ECF6",
           "caxis": {
            "gridcolor": "white",
            "linecolor": "white",
            "ticks": ""
           }
          },
          "title": {
           "x": 0.05
          },
          "xaxis": {
           "automargin": true,
           "gridcolor": "white",
           "linecolor": "white",
           "ticks": "",
           "title": {
            "standoff": 15
           },
           "zerolinecolor": "white",
           "zerolinewidth": 2
          },
          "yaxis": {
           "automargin": true,
           "gridcolor": "white",
           "linecolor": "white",
           "ticks": "",
           "title": {
            "standoff": 15
           },
           "zerolinecolor": "white",
           "zerolinewidth": 2
          }
         }
        },
        "title": {
         "font": {
          "color": "#4D5663"
         }
        },
        "xaxis": {
         "gridcolor": "#E1E5ED",
         "showgrid": true,
         "tickfont": {
          "color": "#4D5663"
         },
         "title": {
          "font": {
           "color": "#4D5663"
          },
          "text": ""
         },
         "zerolinecolor": "#E1E5ED"
        },
        "xaxis2": {
         "anchor": "y2",
         "gridcolor": "#E1E5ED",
         "showgrid": true,
         "showticklabels": false,
         "tickfont": {
          "color": "#4D5663"
         },
         "title": {
          "font": {
           "color": "#4D5663"
          },
          "text": ""
         },
         "zerolinecolor": "#E1E5ED"
        },
        "yaxis": {
         "domain": [
          0.3,
          1
         ],
         "gridcolor": "#E1E5ED",
         "showgrid": true,
         "tickfont": {
          "color": "#4D5663"
         },
         "title": {
          "font": {
           "color": "#4D5663"
          },
          "text": ""
         },
         "zerolinecolor": "#E1E5ED"
        },
        "yaxis2": {
         "domain": [
          0,
          0.25
         ],
         "gridcolor": "#E1E5ED",
         "showgrid": true,
         "tickfont": {
          "color": "#4D5663"
         },
         "title": {
          "font": {
           "color": "#4D5663"
          },
          "text": "Spread"
         },
         "zerolinecolor": "#E1E5ED"
        }
       }
      },
      "text/html": [
       "<div>\n",
       "        \n",
       "        \n",
       "            <div id=\"3db79ee1-88c8-474e-ae98-d6e8ee1c4476\" class=\"plotly-graph-div\" style=\"height:525px; width:100%;\"></div>\n",
       "            <script type=\"text/javascript\">\n",
       "                require([\"plotly\"], function(Plotly) {\n",
       "                    window.PLOTLYENV=window.PLOTLYENV || {};\n",
       "                    window.PLOTLYENV.BASE_URL='https://plot.ly';\n",
       "                    \n",
       "                if (document.getElementById(\"3db79ee1-88c8-474e-ae98-d6e8ee1c4476\")) {\n",
       "                    Plotly.newPlot(\n",
       "                        '3db79ee1-88c8-474e-ae98-d6e8ee1c4476',\n",
       "                        [{\"line\": {\"color\": \"rgba(255, 153, 51, 1.0)\", \"dash\": \"solid\", \"shape\": \"linear\", \"width\": 1.3}, \"mode\": \"lines\", \"name\": \"A\", \"text\": \"\", \"type\": \"scatter\", \"x\": [0, 1, 2, 3, 4, 5, 6, 7, 8, 9, 10, 11, 12, 13, 14, 15, 16, 17, 18, 19, 20, 21, 22, 23, 24, 25, 26, 27, 28, 29, 30, 31, 32, 33, 34, 35, 36, 37, 38, 39, 40, 41, 42, 43, 44, 45, 46, 47, 48, 49, 50, 51, 52, 53, 54, 55, 56, 57, 58, 59, 60, 61, 62, 63, 64, 65, 66, 67, 68, 69, 70, 71, 72, 73, 74, 75, 76, 77, 78, 79, 80, 81, 82, 83, 84, 85, 86, 87, 88, 89, 90, 91, 92, 93, 94, 95, 96, 97, 98, 99], \"y\": [1.0228643665915085, 2.078102285193514, 0.5158761667916655, -1.4857226758011213, 1.1077899573724663, 0.2928304928477981, 0.08180311043452258, -0.8398530251478752, 1.3175894476736056, 1.2978189929523019, 0.17520201513727157, 0.13470956074463153, -0.018281469699972675, 0.8636862501760922, 0.854931415770735, -2.31890408029755, -0.28203176898922466, -0.4174329968596667, -1.503218670415323, -0.18860321509438102, -0.7529022721721581, -2.570027995821825, -1.2277556562626448, 1.1348793153157908, 0.6875961744242264, -0.2753527351696327, -1.1690704197924868, -0.08904043768740891, -0.7045947505690036, 0.7853038385361636, -1.8662616235543097, -0.6715946774492092, 0.14140540623443235, 1.3745450625176414, -0.4591638710115532, -1.5319228881869125, 1.2028181597771725, 1.2393746284609601, -0.6500507894760755, -0.21417262573551185, -0.9313021954607845, 1.4704143399240799, -0.19491831985513233, -0.9638924891142663, -0.5602620061156413, 1.068653338611267, -0.28644653661110253, -1.297988288985895, 0.6231907143360257, 0.16444560852194856, -2.932907068675399, 0.3219885191550619, -0.028948928296179757, 1.5784640369464342, -1.0274983429401636, -0.43916117057086185, -0.426287302067674, -0.6092424312797955, -0.964214418090293, 0.746369898931979, 0.7237930721167293, -0.10665138799427454, 1.0654356336753241, 0.4150648593531338, 0.5325737757365044, 1.1434825925461756, 0.19354088689971932, 0.9721115249390958, 0.01669477482715258, -0.5505029172817046, 0.7152130788861849, -0.2245739409808382, -1.442887718560802, 0.7569709318575875, -0.47768834110432884, -0.29411149822300764, 0.12293170873575046, 2.6946585797040616, 0.6374185448442311, 1.2952490195484176, 0.02672722368465936, 0.6707412178690879, 0.6261665975706423, 0.9897175184180778, -0.6206278701414436, -0.39026888701340817, 0.4893873581585123, -1.846657196452513, -1.5247262152509458, 2.3050474743024325, -0.8013803613983328, 0.07982339735858235, -1.3690892621838988, -0.9644454717774649, 0.5352164593595689, 0.94834773112565, -1.8003266447589534, -1.0044384424427626, 0.8333440027795855, -0.8904685620304708]}, {\"line\": {\"color\": \"rgba(55, 128, 191, 1.0)\", \"dash\": \"solid\", \"shape\": \"linear\", \"width\": 1.3}, \"mode\": \"lines\", \"name\": \"B\", \"text\": \"\", \"type\": \"scatter\", \"x\": [0, 1, 2, 3, 4, 5, 6, 7, 8, 9, 10, 11, 12, 13, 14, 15, 16, 17, 18, 19, 20, 21, 22, 23, 24, 25, 26, 27, 28, 29, 30, 31, 32, 33, 34, 35, 36, 37, 38, 39, 40, 41, 42, 43, 44, 45, 46, 47, 48, 49, 50, 51, 52, 53, 54, 55, 56, 57, 58, 59, 60, 61, 62, 63, 64, 65, 66, 67, 68, 69, 70, 71, 72, 73, 74, 75, 76, 77, 78, 79, 80, 81, 82, 83, 84, 85, 86, 87, 88, 89, 90, 91, 92, 93, 94, 95, 96, 97, 98, 99], \"y\": [1.5141072432731078, 1.3170923237060794, -1.2513598809475768, -0.20275432049873324, 0.04283920687179462, -0.08198349502163418, -0.17527587292137195, -0.16422933085451655, -0.10949108877275467, 0.01078502521025764, -0.142156670759665, 0.535117716801839, 0.11086446473816583, -1.2936877961444537, -0.4375644008191952, -0.17897112491722345, -1.024123352271027, -0.33933873174526424, 0.4260696746455677, -0.5625645460881664, 0.5594555584770827, -0.7278302611994535, 0.2810175524087304, 0.9491286356166035, 0.6243073965868807, -0.4771339712795888, 0.3902324728016761, -1.0658694939365105, -0.49638173288238013, -0.7723608586748788, -0.3583424525867705, 1.0109681194818183, 0.30756936188984574, 1.439887634410778, 2.7589740571186803, 0.013419866304679555, -0.8381998836780817, 0.2809158709836502, -0.04285707840302234, 1.1894315670021485, 0.4541141891865138, 0.7365427955903368, 0.7615628554124507, 0.7593673768097888, -1.456476130196915, -0.04274711258224199, -1.1169373827498756, 0.26397190431587925, 0.267896444013153, 0.9503102026463995, -0.6109902535336791, 0.9889541101801155, 0.5394973692501939, 0.06037484857144976, 0.9395003143245638, 1.0746673198039558, -1.8919124007160064, 0.8911063236978104, 0.7206902756080743, -0.05381056467822287, -0.07977933156171538, 1.71482576145405, -0.5043033782351627, -1.629661959427632, 0.6808764508865055, 1.1696252116148629, -1.0520992102224875, 0.687739553848473, -0.849204644269452, 0.4511280211640707, -0.20689846332809914, -0.9098463581849429, 1.6987065729946769, -0.16512570553715297, -0.256922359989604, 1.7432405215820297, 1.2967704364685568, 1.4583072575830145, -1.4210266514879522, 0.1331227414103682, 1.3085817597898504, -0.3959354674886219, -1.4911834610915695, 1.2706198453298128, 0.6093484061842721, 0.7111587835583064, 1.0459312680400894, -0.9627794132590002, 0.04234451007099024, 2.253503873221812, -1.3102931449745447, -0.7049178036933245, 0.32964633934100174, 0.35516682842767844, 1.6832239408703678, -0.21291187277689125, -0.04556588313452348, -0.34362920185315665, 1.8283057057526904, -0.6443763600103907]}, {\"connectgaps\": false, \"fill\": \"tozeroy\", \"line\": {\"color\": \"green\", \"dash\": \"solid\", \"shape\": \"linear\", \"width\": 0.5}, \"mode\": \"lines\", \"name\": \"Spread\", \"showlegend\": false, \"type\": \"scatter\", \"x\": [0, 1, 2, 3, 4, 5, 6, 7, 8, 9, 10, 11, 12, 13, 14, 15, 16, 17, 18, 19, 20, 21, 22, 23, 24, 25, 26, 27, 28, 29, 30, 31, 32, 33, 34, 35, 36, 37, 38, 39, 40, 41, 42, 43, 44, 45, 46, 47, 48, 49, 50, 51, 52, 53, 54, 55, 56, 57, 58, 59, 60, 61, 62, 63, 64, 65, 66, 67, 68, 69, 70, 71, 72, 73, 74, 75, 76, 77, 78, 79, 80, 81, 82, 83, 84, 85, 86, 87, 88, 89, 90, 91, 92, 93, 94, 95, 96, 97, 98, 99], \"xaxis\": \"x2\", \"y\": [\"\", 0.7610099614874346, 1.7672360477392424, \"\", 1.0649507505006717, 0.3748139878694323, 0.2570789833558945, \"\", 1.4270805364463603, 1.2870339677420441, 0.3173586858969366, \"\", \"\", 2.157374046320546, 1.29249581658993, \"\", 0.7420915832818022, \"\", \"\", 0.37396133099378537, \"\", \"\", \"\", 0.18575067969918724, 0.06328877783734566, 0.20178123610995607, \"\", 0.9768290562491017, \"\", 1.5576646972110424, \"\", \"\", \"\", \"\", \"\", \"\", 2.0410180434552543, 0.95845875747731, \"\", \"\", \"\", 0.7338715443337431, \"\", \"\", 0.8962141240812737, 1.1114004511935092, 0.8304908461387731, \"\", 0.3552942703228727, \"\", \"\", \"\", \"\", 1.5180891883749845, \"\", \"\", 1.4656250986483323, \"\", \"\", 0.8001804636102019, 0.8035724036784446, \"\", 1.5697390119104868, 2.0447268187807657, \"\", \"\", 1.2456400971222068, 0.28437197109062284, 0.8658994190966045, \"\", 0.922111542214284, 0.6852724172041047, \"\", 0.9220966373947405, \"\", \"\", \"\", 1.2363513221210471, 2.0584451963321833, 1.1621262781380495, \"\", 1.0666766853577099, 2.117350058662212, \"\", \"\", \"\", \"\", \"\", \"\", 0.051543601080620505, 0.508912783576212, 0.7847412010519068, \"\", \"\", \"\", 1.1612596039025411, \"\", \"\", \"\", \"\"], \"yaxis\": \"y2\"}, {\"connectgaps\": false, \"fill\": \"tozeroy\", \"line\": {\"color\": \"red\", \"dash\": \"solid\", \"shape\": \"linear\", \"width\": 0.5}, \"mode\": \"lines\", \"name\": \"Spread\", \"showlegend\": false, \"type\": \"scatter\", \"x\": [0, 1, 2, 3, 4, 5, 6, 7, 8, 9, 10, 11, 12, 13, 14, 15, 16, 17, 18, 19, 20, 21, 22, 23, 24, 25, 26, 27, 28, 29, 30, 31, 32, 33, 34, 35, 36, 37, 38, 39, 40, 41, 42, 43, 44, 45, 46, 47, 48, 49, 50, 51, 52, 53, 54, 55, 56, 57, 58, 59, 60, 61, 62, 63, 64, 65, 66, 67, 68, 69, 70, 71, 72, 73, 74, 75, 76, 77, 78, 79, 80, 81, 82, 83, 84, 85, 86, 87, 88, 89, 90, 91, 92, 93, 94, 95, 96, 97, 98, 99], \"xaxis\": \"x2\", \"y\": [-0.49124287668159927, \"\", \"\", -1.282968355302388, \"\", \"\", \"\", -0.6756236942933587, \"\", \"\", \"\", -0.4004081560572074, -0.12914593443813852, \"\", \"\", -2.1399329553803264, \"\", -0.07809426511440248, -1.9292883450608906, \"\", -1.312357830649241, -1.8421977346223715, -1.5087732086713752, \"\", \"\", \"\", -1.559302892594163, \"\", -0.20821301768662343, \"\", -1.5079191709675392, -1.6825627969310275, -0.1661639556554134, -0.06534257189313664, -3.2181379281302336, -1.545342754491592, \"\", \"\", -0.6071937110730532, -1.4036041927376603, -1.3854163846472982, \"\", -0.956481175267583, -1.7232598659240552, \"\", \"\", \"\", -1.5619601933017742, \"\", -0.785864594124451, -2.3219168151417198, -0.6669655910250536, -0.5684462975463737, \"\", -1.9669986572647273, -1.5138284903748176, \"\", -1.500348754977606, -1.6849046936983672, \"\", \"\", -1.8214771494483246, \"\", \"\", -0.14830267515000106, -0.02614261906868731, \"\", \"\", \"\", -1.0016309384457753, \"\", \"\", -3.141594291555479, \"\", -0.22076598111472484, -2.0373520198050374, -1.1738387277328064, \"\", \"\", \"\", -1.281854536105191, \"\", \"\", -0.280902326911735, -1.2299762763257158, -1.1014276705717145, -0.5565439098815771, -0.8838777831935127, -1.567070725321936, \"\", \"\", \"\", -1.6987356015249007, -1.3196123002051432, -1.148007481510799, \"\", -1.7547607616244298, -0.660809240589606, -0.9949617029731048, -0.2460922020200801], \"yaxis\": \"y2\"}],\n",
       "                        {\"hovermode\": \"x\", \"legend\": {\"bgcolor\": \"#F5F6F9\", \"font\": {\"color\": \"#4D5663\"}}, \"paper_bgcolor\": \"#F5F6F9\", \"plot_bgcolor\": \"#F5F6F9\", \"template\": {\"data\": {\"bar\": [{\"error_x\": {\"color\": \"#2a3f5f\"}, \"error_y\": {\"color\": \"#2a3f5f\"}, \"marker\": {\"line\": {\"color\": \"#E5ECF6\", \"width\": 0.5}}, \"type\": \"bar\"}], \"barpolar\": [{\"marker\": {\"line\": {\"color\": \"#E5ECF6\", \"width\": 0.5}}, \"type\": \"barpolar\"}], \"carpet\": [{\"aaxis\": {\"endlinecolor\": \"#2a3f5f\", \"gridcolor\": \"white\", \"linecolor\": \"white\", \"minorgridcolor\": \"white\", \"startlinecolor\": \"#2a3f5f\"}, \"baxis\": {\"endlinecolor\": \"#2a3f5f\", \"gridcolor\": \"white\", \"linecolor\": \"white\", \"minorgridcolor\": \"white\", \"startlinecolor\": \"#2a3f5f\"}, \"type\": \"carpet\"}], \"choropleth\": [{\"colorbar\": {\"outlinewidth\": 0, \"ticks\": \"\"}, \"type\": \"choropleth\"}], \"contour\": [{\"colorbar\": {\"outlinewidth\": 0, \"ticks\": \"\"}, \"colorscale\": [[0.0, \"#0d0887\"], [0.1111111111111111, \"#46039f\"], [0.2222222222222222, \"#7201a8\"], [0.3333333333333333, \"#9c179e\"], [0.4444444444444444, \"#bd3786\"], [0.5555555555555556, \"#d8576b\"], [0.6666666666666666, \"#ed7953\"], [0.7777777777777778, \"#fb9f3a\"], [0.8888888888888888, \"#fdca26\"], [1.0, \"#f0f921\"]], \"type\": \"contour\"}], \"contourcarpet\": [{\"colorbar\": {\"outlinewidth\": 0, \"ticks\": \"\"}, \"type\": \"contourcarpet\"}], \"heatmap\": [{\"colorbar\": {\"outlinewidth\": 0, \"ticks\": \"\"}, \"colorscale\": [[0.0, \"#0d0887\"], [0.1111111111111111, \"#46039f\"], [0.2222222222222222, \"#7201a8\"], [0.3333333333333333, \"#9c179e\"], [0.4444444444444444, \"#bd3786\"], [0.5555555555555556, \"#d8576b\"], [0.6666666666666666, \"#ed7953\"], [0.7777777777777778, \"#fb9f3a\"], [0.8888888888888888, \"#fdca26\"], [1.0, \"#f0f921\"]], \"type\": \"heatmap\"}], \"heatmapgl\": [{\"colorbar\": {\"outlinewidth\": 0, \"ticks\": \"\"}, \"colorscale\": [[0.0, \"#0d0887\"], [0.1111111111111111, \"#46039f\"], [0.2222222222222222, \"#7201a8\"], [0.3333333333333333, \"#9c179e\"], [0.4444444444444444, \"#bd3786\"], [0.5555555555555556, \"#d8576b\"], [0.6666666666666666, \"#ed7953\"], [0.7777777777777778, \"#fb9f3a\"], [0.8888888888888888, \"#fdca26\"], [1.0, \"#f0f921\"]], \"type\": \"heatmapgl\"}], \"histogram\": [{\"marker\": {\"colorbar\": {\"outlinewidth\": 0, \"ticks\": \"\"}}, \"type\": \"histogram\"}], \"histogram2d\": [{\"colorbar\": {\"outlinewidth\": 0, \"ticks\": \"\"}, \"colorscale\": [[0.0, \"#0d0887\"], [0.1111111111111111, \"#46039f\"], [0.2222222222222222, \"#7201a8\"], [0.3333333333333333, \"#9c179e\"], [0.4444444444444444, \"#bd3786\"], [0.5555555555555556, \"#d8576b\"], [0.6666666666666666, \"#ed7953\"], [0.7777777777777778, \"#fb9f3a\"], [0.8888888888888888, \"#fdca26\"], [1.0, \"#f0f921\"]], \"type\": \"histogram2d\"}], \"histogram2dcontour\": [{\"colorbar\": {\"outlinewidth\": 0, \"ticks\": \"\"}, \"colorscale\": [[0.0, \"#0d0887\"], [0.1111111111111111, \"#46039f\"], [0.2222222222222222, \"#7201a8\"], [0.3333333333333333, \"#9c179e\"], [0.4444444444444444, \"#bd3786\"], [0.5555555555555556, \"#d8576b\"], [0.6666666666666666, \"#ed7953\"], [0.7777777777777778, \"#fb9f3a\"], [0.8888888888888888, \"#fdca26\"], [1.0, \"#f0f921\"]], \"type\": \"histogram2dcontour\"}], \"mesh3d\": [{\"colorbar\": {\"outlinewidth\": 0, \"ticks\": \"\"}, \"type\": \"mesh3d\"}], \"parcoords\": [{\"line\": {\"colorbar\": {\"outlinewidth\": 0, \"ticks\": \"\"}}, \"type\": \"parcoords\"}], \"pie\": [{\"automargin\": true, \"type\": \"pie\"}], \"scatter\": [{\"marker\": {\"colorbar\": {\"outlinewidth\": 0, \"ticks\": \"\"}}, \"type\": \"scatter\"}], \"scatter3d\": [{\"line\": {\"colorbar\": {\"outlinewidth\": 0, \"ticks\": \"\"}}, \"marker\": {\"colorbar\": {\"outlinewidth\": 0, \"ticks\": \"\"}}, \"type\": \"scatter3d\"}], \"scattercarpet\": [{\"marker\": {\"colorbar\": {\"outlinewidth\": 0, \"ticks\": \"\"}}, \"type\": \"scattercarpet\"}], \"scattergeo\": [{\"marker\": {\"colorbar\": {\"outlinewidth\": 0, \"ticks\": \"\"}}, \"type\": \"scattergeo\"}], \"scattergl\": [{\"marker\": {\"colorbar\": {\"outlinewidth\": 0, \"ticks\": \"\"}}, \"type\": \"scattergl\"}], \"scattermapbox\": [{\"marker\": {\"colorbar\": {\"outlinewidth\": 0, \"ticks\": \"\"}}, \"type\": \"scattermapbox\"}], \"scatterpolar\": [{\"marker\": {\"colorbar\": {\"outlinewidth\": 0, \"ticks\": \"\"}}, \"type\": \"scatterpolar\"}], \"scatterpolargl\": [{\"marker\": {\"colorbar\": {\"outlinewidth\": 0, \"ticks\": \"\"}}, \"type\": \"scatterpolargl\"}], \"scatterternary\": [{\"marker\": {\"colorbar\": {\"outlinewidth\": 0, \"ticks\": \"\"}}, \"type\": \"scatterternary\"}], \"surface\": [{\"colorbar\": {\"outlinewidth\": 0, \"ticks\": \"\"}, \"colorscale\": [[0.0, \"#0d0887\"], [0.1111111111111111, \"#46039f\"], [0.2222222222222222, \"#7201a8\"], [0.3333333333333333, \"#9c179e\"], [0.4444444444444444, \"#bd3786\"], [0.5555555555555556, \"#d8576b\"], [0.6666666666666666, \"#ed7953\"], [0.7777777777777778, \"#fb9f3a\"], [0.8888888888888888, \"#fdca26\"], [1.0, \"#f0f921\"]], \"type\": \"surface\"}], \"table\": [{\"cells\": {\"fill\": {\"color\": \"#EBF0F8\"}, \"line\": {\"color\": \"white\"}}, \"header\": {\"fill\": {\"color\": \"#C8D4E3\"}, \"line\": {\"color\": \"white\"}}, \"type\": \"table\"}]}, \"layout\": {\"annotationdefaults\": {\"arrowcolor\": \"#2a3f5f\", \"arrowhead\": 0, \"arrowwidth\": 1}, \"coloraxis\": {\"colorbar\": {\"outlinewidth\": 0, \"ticks\": \"\"}}, \"colorscale\": {\"diverging\": [[0, \"#8e0152\"], [0.1, \"#c51b7d\"], [0.2, \"#de77ae\"], [0.3, \"#f1b6da\"], [0.4, \"#fde0ef\"], [0.5, \"#f7f7f7\"], [0.6, \"#e6f5d0\"], [0.7, \"#b8e186\"], [0.8, \"#7fbc41\"], [0.9, \"#4d9221\"], [1, \"#276419\"]], \"sequential\": [[0.0, \"#0d0887\"], [0.1111111111111111, \"#46039f\"], [0.2222222222222222, \"#7201a8\"], [0.3333333333333333, \"#9c179e\"], [0.4444444444444444, \"#bd3786\"], [0.5555555555555556, \"#d8576b\"], [0.6666666666666666, \"#ed7953\"], [0.7777777777777778, \"#fb9f3a\"], [0.8888888888888888, \"#fdca26\"], [1.0, \"#f0f921\"]], \"sequentialminus\": [[0.0, \"#0d0887\"], [0.1111111111111111, \"#46039f\"], [0.2222222222222222, \"#7201a8\"], [0.3333333333333333, \"#9c179e\"], [0.4444444444444444, \"#bd3786\"], [0.5555555555555556, \"#d8576b\"], [0.6666666666666666, \"#ed7953\"], [0.7777777777777778, \"#fb9f3a\"], [0.8888888888888888, \"#fdca26\"], [1.0, \"#f0f921\"]]}, \"colorway\": [\"#636efa\", \"#EF553B\", \"#00cc96\", \"#ab63fa\", \"#FFA15A\", \"#19d3f3\", \"#FF6692\", \"#B6E880\", \"#FF97FF\", \"#FECB52\"], \"font\": {\"color\": \"#2a3f5f\"}, \"geo\": {\"bgcolor\": \"white\", \"lakecolor\": \"white\", \"landcolor\": \"#E5ECF6\", \"showlakes\": true, \"showland\": true, \"subunitcolor\": \"white\"}, \"hoverlabel\": {\"align\": \"left\"}, \"hovermode\": \"closest\", \"mapbox\": {\"style\": \"light\"}, \"paper_bgcolor\": \"white\", \"plot_bgcolor\": \"#E5ECF6\", \"polar\": {\"angularaxis\": {\"gridcolor\": \"white\", \"linecolor\": \"white\", \"ticks\": \"\"}, \"bgcolor\": \"#E5ECF6\", \"radialaxis\": {\"gridcolor\": \"white\", \"linecolor\": \"white\", \"ticks\": \"\"}}, \"scene\": {\"xaxis\": {\"backgroundcolor\": \"#E5ECF6\", \"gridcolor\": \"white\", \"gridwidth\": 2, \"linecolor\": \"white\", \"showbackground\": true, \"ticks\": \"\", \"zerolinecolor\": \"white\"}, \"yaxis\": {\"backgroundcolor\": \"#E5ECF6\", \"gridcolor\": \"white\", \"gridwidth\": 2, \"linecolor\": \"white\", \"showbackground\": true, \"ticks\": \"\", \"zerolinecolor\": \"white\"}, \"zaxis\": {\"backgroundcolor\": \"#E5ECF6\", \"gridcolor\": \"white\", \"gridwidth\": 2, \"linecolor\": \"white\", \"showbackground\": true, \"ticks\": \"\", \"zerolinecolor\": \"white\"}}, \"shapedefaults\": {\"line\": {\"color\": \"#2a3f5f\"}}, \"ternary\": {\"aaxis\": {\"gridcolor\": \"white\", \"linecolor\": \"white\", \"ticks\": \"\"}, \"baxis\": {\"gridcolor\": \"white\", \"linecolor\": \"white\", \"ticks\": \"\"}, \"bgcolor\": \"#E5ECF6\", \"caxis\": {\"gridcolor\": \"white\", \"linecolor\": \"white\", \"ticks\": \"\"}}, \"title\": {\"x\": 0.05}, \"xaxis\": {\"automargin\": true, \"gridcolor\": \"white\", \"linecolor\": \"white\", \"ticks\": \"\", \"title\": {\"standoff\": 15}, \"zerolinecolor\": \"white\", \"zerolinewidth\": 2}, \"yaxis\": {\"automargin\": true, \"gridcolor\": \"white\", \"linecolor\": \"white\", \"ticks\": \"\", \"title\": {\"standoff\": 15}, \"zerolinecolor\": \"white\", \"zerolinewidth\": 2}}}, \"title\": {\"font\": {\"color\": \"#4D5663\"}}, \"xaxis\": {\"gridcolor\": \"#E1E5ED\", \"showgrid\": true, \"tickfont\": {\"color\": \"#4D5663\"}, \"title\": {\"font\": {\"color\": \"#4D5663\"}, \"text\": \"\"}, \"zerolinecolor\": \"#E1E5ED\"}, \"xaxis2\": {\"anchor\": \"y2\", \"gridcolor\": \"#E1E5ED\", \"showgrid\": true, \"showticklabels\": false, \"tickfont\": {\"color\": \"#4D5663\"}, \"title\": {\"font\": {\"color\": \"#4D5663\"}, \"text\": \"\"}, \"zerolinecolor\": \"#E1E5ED\"}, \"yaxis\": {\"domain\": [0.3, 1], \"gridcolor\": \"#E1E5ED\", \"showgrid\": true, \"tickfont\": {\"color\": \"#4D5663\"}, \"title\": {\"font\": {\"color\": \"#4D5663\"}, \"text\": \"\"}, \"zerolinecolor\": \"#E1E5ED\"}, \"yaxis2\": {\"domain\": [0, 0.25], \"gridcolor\": \"#E1E5ED\", \"showgrid\": true, \"tickfont\": {\"color\": \"#4D5663\"}, \"title\": {\"font\": {\"color\": \"#4D5663\"}, \"text\": \"Spread\"}, \"zerolinecolor\": \"#E1E5ED\"}},\n",
       "                        {\"showLink\": true, \"linkText\": \"Export to plot.ly\", \"plotlyServerURL\": \"https://plot.ly\", \"responsive\": true}\n",
       "                    ).then(function(){\n",
       "                            \n",
       "var gd = document.getElementById('3db79ee1-88c8-474e-ae98-d6e8ee1c4476');\n",
       "var x = new MutationObserver(function (mutations, observer) {{\n",
       "        var display = window.getComputedStyle(gd).display;\n",
       "        if (!display || display === 'none') {{\n",
       "            console.log([gd, 'removed!']);\n",
       "            Plotly.purge(gd);\n",
       "            observer.disconnect();\n",
       "        }}\n",
       "}});\n",
       "\n",
       "// Listen for the removal of the full notebook cells\n",
       "var notebookContainer = gd.closest('#notebook-container');\n",
       "if (notebookContainer) {{\n",
       "    x.observe(notebookContainer, {childList: true});\n",
       "}}\n",
       "\n",
       "// Listen for the clearing of the current output cell\n",
       "var outputEl = gd.closest('.output');\n",
       "if (outputEl) {{\n",
       "    x.observe(outputEl, {childList: true});\n",
       "}}\n",
       "\n",
       "                        })\n",
       "                };\n",
       "                });\n",
       "            </script>\n",
       "        </div>"
      ]
     },
     "metadata": {},
     "output_type": "display_data"
    }
   ],
   "source": [
    "df[['A','B']].iplot(kind='spread')"
   ]
  },
  {
   "cell_type": "markdown",
   "metadata": {},
   "source": [
    "## histogram"
   ]
  },
  {
   "cell_type": "code",
   "execution_count": 19,
   "metadata": {},
   "outputs": [
    {
     "data": {
      "application/vnd.plotly.v1+json": {
       "config": {
        "linkText": "Export to plot.ly",
        "plotlyServerURL": "https://plot.ly",
        "showLink": true
       },
       "data": [
        {
         "histfunc": "count",
         "histnorm": "",
         "marker": {
          "color": "rgba(255, 153, 51, 1.0)",
          "line": {
           "color": "#4D5663",
           "width": 1.3
          }
         },
         "name": "A",
         "nbinsx": 25,
         "opacity": 0.8,
         "orientation": "v",
         "type": "histogram",
         "x": [
          1.0228643665915085,
          2.078102285193514,
          0.5158761667916655,
          -1.4857226758011213,
          1.1077899573724663,
          0.2928304928477981,
          0.08180311043452258,
          -0.8398530251478752,
          1.3175894476736056,
          1.2978189929523019,
          0.17520201513727157,
          0.13470956074463153,
          -0.018281469699972675,
          0.8636862501760922,
          0.854931415770735,
          -2.31890408029755,
          -0.28203176898922466,
          -0.4174329968596667,
          -1.503218670415323,
          -0.18860321509438102,
          -0.7529022721721581,
          -2.570027995821825,
          -1.2277556562626448,
          1.1348793153157908,
          0.6875961744242264,
          -0.2753527351696327,
          -1.1690704197924868,
          -0.08904043768740891,
          -0.7045947505690036,
          0.7853038385361636,
          -1.8662616235543097,
          -0.6715946774492092,
          0.14140540623443235,
          1.3745450625176414,
          -0.4591638710115532,
          -1.5319228881869125,
          1.2028181597771725,
          1.2393746284609601,
          -0.6500507894760755,
          -0.21417262573551185,
          -0.9313021954607845,
          1.4704143399240799,
          -0.19491831985513233,
          -0.9638924891142663,
          -0.5602620061156413,
          1.068653338611267,
          -0.28644653661110253,
          -1.297988288985895,
          0.6231907143360257,
          0.16444560852194856,
          -2.932907068675399,
          0.3219885191550619,
          -0.028948928296179757,
          1.5784640369464342,
          -1.0274983429401636,
          -0.43916117057086185,
          -0.426287302067674,
          -0.6092424312797955,
          -0.964214418090293,
          0.746369898931979,
          0.7237930721167293,
          -0.10665138799427454,
          1.0654356336753241,
          0.4150648593531338,
          0.5325737757365044,
          1.1434825925461756,
          0.19354088689971932,
          0.9721115249390958,
          0.01669477482715258,
          -0.5505029172817046,
          0.7152130788861849,
          -0.2245739409808382,
          -1.442887718560802,
          0.7569709318575875,
          -0.47768834110432884,
          -0.29411149822300764,
          0.12293170873575046,
          2.6946585797040616,
          0.6374185448442311,
          1.2952490195484176,
          0.02672722368465936,
          0.6707412178690879,
          0.6261665975706423,
          0.9897175184180778,
          -0.6206278701414436,
          -0.39026888701340817,
          0.4893873581585123,
          -1.846657196452513,
          -1.5247262152509458,
          2.3050474743024325,
          -0.8013803613983328,
          0.07982339735858235,
          -1.3690892621838988,
          -0.9644454717774649,
          0.5352164593595689,
          0.94834773112565,
          -1.8003266447589534,
          -1.0044384424427626,
          0.8333440027795855,
          -0.8904685620304708
         ]
        }
       ],
       "layout": {
        "barmode": "overlay",
        "legend": {
         "bgcolor": "#F5F6F9",
         "font": {
          "color": "#4D5663"
         }
        },
        "paper_bgcolor": "#F5F6F9",
        "plot_bgcolor": "#F5F6F9",
        "template": {
         "data": {
          "bar": [
           {
            "error_x": {
             "color": "#2a3f5f"
            },
            "error_y": {
             "color": "#2a3f5f"
            },
            "marker": {
             "line": {
              "color": "#E5ECF6",
              "width": 0.5
             }
            },
            "type": "bar"
           }
          ],
          "barpolar": [
           {
            "marker": {
             "line": {
              "color": "#E5ECF6",
              "width": 0.5
             }
            },
            "type": "barpolar"
           }
          ],
          "carpet": [
           {
            "aaxis": {
             "endlinecolor": "#2a3f5f",
             "gridcolor": "white",
             "linecolor": "white",
             "minorgridcolor": "white",
             "startlinecolor": "#2a3f5f"
            },
            "baxis": {
             "endlinecolor": "#2a3f5f",
             "gridcolor": "white",
             "linecolor": "white",
             "minorgridcolor": "white",
             "startlinecolor": "#2a3f5f"
            },
            "type": "carpet"
           }
          ],
          "choropleth": [
           {
            "colorbar": {
             "outlinewidth": 0,
             "ticks": ""
            },
            "type": "choropleth"
           }
          ],
          "contour": [
           {
            "colorbar": {
             "outlinewidth": 0,
             "ticks": ""
            },
            "colorscale": [
             [
              0,
              "#0d0887"
             ],
             [
              0.1111111111111111,
              "#46039f"
             ],
             [
              0.2222222222222222,
              "#7201a8"
             ],
             [
              0.3333333333333333,
              "#9c179e"
             ],
             [
              0.4444444444444444,
              "#bd3786"
             ],
             [
              0.5555555555555556,
              "#d8576b"
             ],
             [
              0.6666666666666666,
              "#ed7953"
             ],
             [
              0.7777777777777778,
              "#fb9f3a"
             ],
             [
              0.8888888888888888,
              "#fdca26"
             ],
             [
              1,
              "#f0f921"
             ]
            ],
            "type": "contour"
           }
          ],
          "contourcarpet": [
           {
            "colorbar": {
             "outlinewidth": 0,
             "ticks": ""
            },
            "type": "contourcarpet"
           }
          ],
          "heatmap": [
           {
            "colorbar": {
             "outlinewidth": 0,
             "ticks": ""
            },
            "colorscale": [
             [
              0,
              "#0d0887"
             ],
             [
              0.1111111111111111,
              "#46039f"
             ],
             [
              0.2222222222222222,
              "#7201a8"
             ],
             [
              0.3333333333333333,
              "#9c179e"
             ],
             [
              0.4444444444444444,
              "#bd3786"
             ],
             [
              0.5555555555555556,
              "#d8576b"
             ],
             [
              0.6666666666666666,
              "#ed7953"
             ],
             [
              0.7777777777777778,
              "#fb9f3a"
             ],
             [
              0.8888888888888888,
              "#fdca26"
             ],
             [
              1,
              "#f0f921"
             ]
            ],
            "type": "heatmap"
           }
          ],
          "heatmapgl": [
           {
            "colorbar": {
             "outlinewidth": 0,
             "ticks": ""
            },
            "colorscale": [
             [
              0,
              "#0d0887"
             ],
             [
              0.1111111111111111,
              "#46039f"
             ],
             [
              0.2222222222222222,
              "#7201a8"
             ],
             [
              0.3333333333333333,
              "#9c179e"
             ],
             [
              0.4444444444444444,
              "#bd3786"
             ],
             [
              0.5555555555555556,
              "#d8576b"
             ],
             [
              0.6666666666666666,
              "#ed7953"
             ],
             [
              0.7777777777777778,
              "#fb9f3a"
             ],
             [
              0.8888888888888888,
              "#fdca26"
             ],
             [
              1,
              "#f0f921"
             ]
            ],
            "type": "heatmapgl"
           }
          ],
          "histogram": [
           {
            "marker": {
             "colorbar": {
              "outlinewidth": 0,
              "ticks": ""
             }
            },
            "type": "histogram"
           }
          ],
          "histogram2d": [
           {
            "colorbar": {
             "outlinewidth": 0,
             "ticks": ""
            },
            "colorscale": [
             [
              0,
              "#0d0887"
             ],
             [
              0.1111111111111111,
              "#46039f"
             ],
             [
              0.2222222222222222,
              "#7201a8"
             ],
             [
              0.3333333333333333,
              "#9c179e"
             ],
             [
              0.4444444444444444,
              "#bd3786"
             ],
             [
              0.5555555555555556,
              "#d8576b"
             ],
             [
              0.6666666666666666,
              "#ed7953"
             ],
             [
              0.7777777777777778,
              "#fb9f3a"
             ],
             [
              0.8888888888888888,
              "#fdca26"
             ],
             [
              1,
              "#f0f921"
             ]
            ],
            "type": "histogram2d"
           }
          ],
          "histogram2dcontour": [
           {
            "colorbar": {
             "outlinewidth": 0,
             "ticks": ""
            },
            "colorscale": [
             [
              0,
              "#0d0887"
             ],
             [
              0.1111111111111111,
              "#46039f"
             ],
             [
              0.2222222222222222,
              "#7201a8"
             ],
             [
              0.3333333333333333,
              "#9c179e"
             ],
             [
              0.4444444444444444,
              "#bd3786"
             ],
             [
              0.5555555555555556,
              "#d8576b"
             ],
             [
              0.6666666666666666,
              "#ed7953"
             ],
             [
              0.7777777777777778,
              "#fb9f3a"
             ],
             [
              0.8888888888888888,
              "#fdca26"
             ],
             [
              1,
              "#f0f921"
             ]
            ],
            "type": "histogram2dcontour"
           }
          ],
          "mesh3d": [
           {
            "colorbar": {
             "outlinewidth": 0,
             "ticks": ""
            },
            "type": "mesh3d"
           }
          ],
          "parcoords": [
           {
            "line": {
             "colorbar": {
              "outlinewidth": 0,
              "ticks": ""
             }
            },
            "type": "parcoords"
           }
          ],
          "pie": [
           {
            "automargin": true,
            "type": "pie"
           }
          ],
          "scatter": [
           {
            "marker": {
             "colorbar": {
              "outlinewidth": 0,
              "ticks": ""
             }
            },
            "type": "scatter"
           }
          ],
          "scatter3d": [
           {
            "line": {
             "colorbar": {
              "outlinewidth": 0,
              "ticks": ""
             }
            },
            "marker": {
             "colorbar": {
              "outlinewidth": 0,
              "ticks": ""
             }
            },
            "type": "scatter3d"
           }
          ],
          "scattercarpet": [
           {
            "marker": {
             "colorbar": {
              "outlinewidth": 0,
              "ticks": ""
             }
            },
            "type": "scattercarpet"
           }
          ],
          "scattergeo": [
           {
            "marker": {
             "colorbar": {
              "outlinewidth": 0,
              "ticks": ""
             }
            },
            "type": "scattergeo"
           }
          ],
          "scattergl": [
           {
            "marker": {
             "colorbar": {
              "outlinewidth": 0,
              "ticks": ""
             }
            },
            "type": "scattergl"
           }
          ],
          "scattermapbox": [
           {
            "marker": {
             "colorbar": {
              "outlinewidth": 0,
              "ticks": ""
             }
            },
            "type": "scattermapbox"
           }
          ],
          "scatterpolar": [
           {
            "marker": {
             "colorbar": {
              "outlinewidth": 0,
              "ticks": ""
             }
            },
            "type": "scatterpolar"
           }
          ],
          "scatterpolargl": [
           {
            "marker": {
             "colorbar": {
              "outlinewidth": 0,
              "ticks": ""
             }
            },
            "type": "scatterpolargl"
           }
          ],
          "scatterternary": [
           {
            "marker": {
             "colorbar": {
              "outlinewidth": 0,
              "ticks": ""
             }
            },
            "type": "scatterternary"
           }
          ],
          "surface": [
           {
            "colorbar": {
             "outlinewidth": 0,
             "ticks": ""
            },
            "colorscale": [
             [
              0,
              "#0d0887"
             ],
             [
              0.1111111111111111,
              "#46039f"
             ],
             [
              0.2222222222222222,
              "#7201a8"
             ],
             [
              0.3333333333333333,
              "#9c179e"
             ],
             [
              0.4444444444444444,
              "#bd3786"
             ],
             [
              0.5555555555555556,
              "#d8576b"
             ],
             [
              0.6666666666666666,
              "#ed7953"
             ],
             [
              0.7777777777777778,
              "#fb9f3a"
             ],
             [
              0.8888888888888888,
              "#fdca26"
             ],
             [
              1,
              "#f0f921"
             ]
            ],
            "type": "surface"
           }
          ],
          "table": [
           {
            "cells": {
             "fill": {
              "color": "#EBF0F8"
             },
             "line": {
              "color": "white"
             }
            },
            "header": {
             "fill": {
              "color": "#C8D4E3"
             },
             "line": {
              "color": "white"
             }
            },
            "type": "table"
           }
          ]
         },
         "layout": {
          "annotationdefaults": {
           "arrowcolor": "#2a3f5f",
           "arrowhead": 0,
           "arrowwidth": 1
          },
          "coloraxis": {
           "colorbar": {
            "outlinewidth": 0,
            "ticks": ""
           }
          },
          "colorscale": {
           "diverging": [
            [
             0,
             "#8e0152"
            ],
            [
             0.1,
             "#c51b7d"
            ],
            [
             0.2,
             "#de77ae"
            ],
            [
             0.3,
             "#f1b6da"
            ],
            [
             0.4,
             "#fde0ef"
            ],
            [
             0.5,
             "#f7f7f7"
            ],
            [
             0.6,
             "#e6f5d0"
            ],
            [
             0.7,
             "#b8e186"
            ],
            [
             0.8,
             "#7fbc41"
            ],
            [
             0.9,
             "#4d9221"
            ],
            [
             1,
             "#276419"
            ]
           ],
           "sequential": [
            [
             0,
             "#0d0887"
            ],
            [
             0.1111111111111111,
             "#46039f"
            ],
            [
             0.2222222222222222,
             "#7201a8"
            ],
            [
             0.3333333333333333,
             "#9c179e"
            ],
            [
             0.4444444444444444,
             "#bd3786"
            ],
            [
             0.5555555555555556,
             "#d8576b"
            ],
            [
             0.6666666666666666,
             "#ed7953"
            ],
            [
             0.7777777777777778,
             "#fb9f3a"
            ],
            [
             0.8888888888888888,
             "#fdca26"
            ],
            [
             1,
             "#f0f921"
            ]
           ],
           "sequentialminus": [
            [
             0,
             "#0d0887"
            ],
            [
             0.1111111111111111,
             "#46039f"
            ],
            [
             0.2222222222222222,
             "#7201a8"
            ],
            [
             0.3333333333333333,
             "#9c179e"
            ],
            [
             0.4444444444444444,
             "#bd3786"
            ],
            [
             0.5555555555555556,
             "#d8576b"
            ],
            [
             0.6666666666666666,
             "#ed7953"
            ],
            [
             0.7777777777777778,
             "#fb9f3a"
            ],
            [
             0.8888888888888888,
             "#fdca26"
            ],
            [
             1,
             "#f0f921"
            ]
           ]
          },
          "colorway": [
           "#636efa",
           "#EF553B",
           "#00cc96",
           "#ab63fa",
           "#FFA15A",
           "#19d3f3",
           "#FF6692",
           "#B6E880",
           "#FF97FF",
           "#FECB52"
          ],
          "font": {
           "color": "#2a3f5f"
          },
          "geo": {
           "bgcolor": "white",
           "lakecolor": "white",
           "landcolor": "#E5ECF6",
           "showlakes": true,
           "showland": true,
           "subunitcolor": "white"
          },
          "hoverlabel": {
           "align": "left"
          },
          "hovermode": "closest",
          "mapbox": {
           "style": "light"
          },
          "paper_bgcolor": "white",
          "plot_bgcolor": "#E5ECF6",
          "polar": {
           "angularaxis": {
            "gridcolor": "white",
            "linecolor": "white",
            "ticks": ""
           },
           "bgcolor": "#E5ECF6",
           "radialaxis": {
            "gridcolor": "white",
            "linecolor": "white",
            "ticks": ""
           }
          },
          "scene": {
           "xaxis": {
            "backgroundcolor": "#E5ECF6",
            "gridcolor": "white",
            "gridwidth": 2,
            "linecolor": "white",
            "showbackground": true,
            "ticks": "",
            "zerolinecolor": "white"
           },
           "yaxis": {
            "backgroundcolor": "#E5ECF6",
            "gridcolor": "white",
            "gridwidth": 2,
            "linecolor": "white",
            "showbackground": true,
            "ticks": "",
            "zerolinecolor": "white"
           },
           "zaxis": {
            "backgroundcolor": "#E5ECF6",
            "gridcolor": "white",
            "gridwidth": 2,
            "linecolor": "white",
            "showbackground": true,
            "ticks": "",
            "zerolinecolor": "white"
           }
          },
          "shapedefaults": {
           "line": {
            "color": "#2a3f5f"
           }
          },
          "ternary": {
           "aaxis": {
            "gridcolor": "white",
            "linecolor": "white",
            "ticks": ""
           },
           "baxis": {
            "gridcolor": "white",
            "linecolor": "white",
            "ticks": ""
           },
           "bgcolor": "#E5ECF6",
           "caxis": {
            "gridcolor": "white",
            "linecolor": "white",
            "ticks": ""
           }
          },
          "title": {
           "x": 0.05
          },
          "xaxis": {
           "automargin": true,
           "gridcolor": "white",
           "linecolor": "white",
           "ticks": "",
           "title": {
            "standoff": 15
           },
           "zerolinecolor": "white",
           "zerolinewidth": 2
          },
          "yaxis": {
           "automargin": true,
           "gridcolor": "white",
           "linecolor": "white",
           "ticks": "",
           "title": {
            "standoff": 15
           },
           "zerolinecolor": "white",
           "zerolinewidth": 2
          }
         }
        },
        "title": {
         "font": {
          "color": "#4D5663"
         }
        },
        "xaxis": {
         "gridcolor": "#E1E5ED",
         "showgrid": true,
         "tickfont": {
          "color": "#4D5663"
         },
         "title": {
          "font": {
           "color": "#4D5663"
          },
          "text": ""
         },
         "zerolinecolor": "#E1E5ED"
        },
        "yaxis": {
         "gridcolor": "#E1E5ED",
         "showgrid": true,
         "tickfont": {
          "color": "#4D5663"
         },
         "title": {
          "font": {
           "color": "#4D5663"
          },
          "text": ""
         },
         "zerolinecolor": "#E1E5ED"
        }
       }
      },
      "text/html": [
       "<div>\n",
       "        \n",
       "        \n",
       "            <div id=\"24b4c520-5aa0-4467-92e6-945106160284\" class=\"plotly-graph-div\" style=\"height:525px; width:100%;\"></div>\n",
       "            <script type=\"text/javascript\">\n",
       "                require([\"plotly\"], function(Plotly) {\n",
       "                    window.PLOTLYENV=window.PLOTLYENV || {};\n",
       "                    window.PLOTLYENV.BASE_URL='https://plot.ly';\n",
       "                    \n",
       "                if (document.getElementById(\"24b4c520-5aa0-4467-92e6-945106160284\")) {\n",
       "                    Plotly.newPlot(\n",
       "                        '24b4c520-5aa0-4467-92e6-945106160284',\n",
       "                        [{\"histfunc\": \"count\", \"histnorm\": \"\", \"marker\": {\"color\": \"rgba(255, 153, 51, 1.0)\", \"line\": {\"color\": \"#4D5663\", \"width\": 1.3}}, \"name\": \"A\", \"nbinsx\": 25, \"opacity\": 0.8, \"orientation\": \"v\", \"type\": \"histogram\", \"x\": [1.0228643665915085, 2.078102285193514, 0.5158761667916655, -1.4857226758011213, 1.1077899573724663, 0.2928304928477981, 0.08180311043452258, -0.8398530251478752, 1.3175894476736056, 1.2978189929523019, 0.17520201513727157, 0.13470956074463153, -0.018281469699972675, 0.8636862501760922, 0.854931415770735, -2.31890408029755, -0.28203176898922466, -0.4174329968596667, -1.503218670415323, -0.18860321509438102, -0.7529022721721581, -2.570027995821825, -1.2277556562626448, 1.1348793153157908, 0.6875961744242264, -0.2753527351696327, -1.1690704197924868, -0.08904043768740891, -0.7045947505690036, 0.7853038385361636, -1.8662616235543097, -0.6715946774492092, 0.14140540623443235, 1.3745450625176414, -0.4591638710115532, -1.5319228881869125, 1.2028181597771725, 1.2393746284609601, -0.6500507894760755, -0.21417262573551185, -0.9313021954607845, 1.4704143399240799, -0.19491831985513233, -0.9638924891142663, -0.5602620061156413, 1.068653338611267, -0.28644653661110253, -1.297988288985895, 0.6231907143360257, 0.16444560852194856, -2.932907068675399, 0.3219885191550619, -0.028948928296179757, 1.5784640369464342, -1.0274983429401636, -0.43916117057086185, -0.426287302067674, -0.6092424312797955, -0.964214418090293, 0.746369898931979, 0.7237930721167293, -0.10665138799427454, 1.0654356336753241, 0.4150648593531338, 0.5325737757365044, 1.1434825925461756, 0.19354088689971932, 0.9721115249390958, 0.01669477482715258, -0.5505029172817046, 0.7152130788861849, -0.2245739409808382, -1.442887718560802, 0.7569709318575875, -0.47768834110432884, -0.29411149822300764, 0.12293170873575046, 2.6946585797040616, 0.6374185448442311, 1.2952490195484176, 0.02672722368465936, 0.6707412178690879, 0.6261665975706423, 0.9897175184180778, -0.6206278701414436, -0.39026888701340817, 0.4893873581585123, -1.846657196452513, -1.5247262152509458, 2.3050474743024325, -0.8013803613983328, 0.07982339735858235, -1.3690892621838988, -0.9644454717774649, 0.5352164593595689, 0.94834773112565, -1.8003266447589534, -1.0044384424427626, 0.8333440027795855, -0.8904685620304708]}],\n",
       "                        {\"barmode\": \"overlay\", \"legend\": {\"bgcolor\": \"#F5F6F9\", \"font\": {\"color\": \"#4D5663\"}}, \"paper_bgcolor\": \"#F5F6F9\", \"plot_bgcolor\": \"#F5F6F9\", \"template\": {\"data\": {\"bar\": [{\"error_x\": {\"color\": \"#2a3f5f\"}, \"error_y\": {\"color\": \"#2a3f5f\"}, \"marker\": {\"line\": {\"color\": \"#E5ECF6\", \"width\": 0.5}}, \"type\": \"bar\"}], \"barpolar\": [{\"marker\": {\"line\": {\"color\": \"#E5ECF6\", \"width\": 0.5}}, \"type\": \"barpolar\"}], \"carpet\": [{\"aaxis\": {\"endlinecolor\": \"#2a3f5f\", \"gridcolor\": \"white\", \"linecolor\": \"white\", \"minorgridcolor\": \"white\", \"startlinecolor\": \"#2a3f5f\"}, \"baxis\": {\"endlinecolor\": \"#2a3f5f\", \"gridcolor\": \"white\", \"linecolor\": \"white\", \"minorgridcolor\": \"white\", \"startlinecolor\": \"#2a3f5f\"}, \"type\": \"carpet\"}], \"choropleth\": [{\"colorbar\": {\"outlinewidth\": 0, \"ticks\": \"\"}, \"type\": \"choropleth\"}], \"contour\": [{\"colorbar\": {\"outlinewidth\": 0, \"ticks\": \"\"}, \"colorscale\": [[0.0, \"#0d0887\"], [0.1111111111111111, \"#46039f\"], [0.2222222222222222, \"#7201a8\"], [0.3333333333333333, \"#9c179e\"], [0.4444444444444444, \"#bd3786\"], [0.5555555555555556, \"#d8576b\"], [0.6666666666666666, \"#ed7953\"], [0.7777777777777778, \"#fb9f3a\"], [0.8888888888888888, \"#fdca26\"], [1.0, \"#f0f921\"]], \"type\": \"contour\"}], \"contourcarpet\": [{\"colorbar\": {\"outlinewidth\": 0, \"ticks\": \"\"}, \"type\": \"contourcarpet\"}], \"heatmap\": [{\"colorbar\": {\"outlinewidth\": 0, \"ticks\": \"\"}, \"colorscale\": [[0.0, \"#0d0887\"], [0.1111111111111111, \"#46039f\"], [0.2222222222222222, \"#7201a8\"], [0.3333333333333333, \"#9c179e\"], [0.4444444444444444, \"#bd3786\"], [0.5555555555555556, \"#d8576b\"], [0.6666666666666666, \"#ed7953\"], [0.7777777777777778, \"#fb9f3a\"], [0.8888888888888888, \"#fdca26\"], [1.0, \"#f0f921\"]], \"type\": \"heatmap\"}], \"heatmapgl\": [{\"colorbar\": {\"outlinewidth\": 0, \"ticks\": \"\"}, \"colorscale\": [[0.0, \"#0d0887\"], [0.1111111111111111, \"#46039f\"], [0.2222222222222222, \"#7201a8\"], [0.3333333333333333, \"#9c179e\"], [0.4444444444444444, \"#bd3786\"], [0.5555555555555556, \"#d8576b\"], [0.6666666666666666, \"#ed7953\"], [0.7777777777777778, \"#fb9f3a\"], [0.8888888888888888, \"#fdca26\"], [1.0, \"#f0f921\"]], \"type\": \"heatmapgl\"}], \"histogram\": [{\"marker\": {\"colorbar\": {\"outlinewidth\": 0, \"ticks\": \"\"}}, \"type\": \"histogram\"}], \"histogram2d\": [{\"colorbar\": {\"outlinewidth\": 0, \"ticks\": \"\"}, \"colorscale\": [[0.0, \"#0d0887\"], [0.1111111111111111, \"#46039f\"], [0.2222222222222222, \"#7201a8\"], [0.3333333333333333, \"#9c179e\"], [0.4444444444444444, \"#bd3786\"], [0.5555555555555556, \"#d8576b\"], [0.6666666666666666, \"#ed7953\"], [0.7777777777777778, \"#fb9f3a\"], [0.8888888888888888, \"#fdca26\"], [1.0, \"#f0f921\"]], \"type\": \"histogram2d\"}], \"histogram2dcontour\": [{\"colorbar\": {\"outlinewidth\": 0, \"ticks\": \"\"}, \"colorscale\": [[0.0, \"#0d0887\"], [0.1111111111111111, \"#46039f\"], [0.2222222222222222, \"#7201a8\"], [0.3333333333333333, \"#9c179e\"], [0.4444444444444444, \"#bd3786\"], [0.5555555555555556, \"#d8576b\"], [0.6666666666666666, \"#ed7953\"], [0.7777777777777778, \"#fb9f3a\"], [0.8888888888888888, \"#fdca26\"], [1.0, \"#f0f921\"]], \"type\": \"histogram2dcontour\"}], \"mesh3d\": [{\"colorbar\": {\"outlinewidth\": 0, \"ticks\": \"\"}, \"type\": \"mesh3d\"}], \"parcoords\": [{\"line\": {\"colorbar\": {\"outlinewidth\": 0, \"ticks\": \"\"}}, \"type\": \"parcoords\"}], \"pie\": [{\"automargin\": true, \"type\": \"pie\"}], \"scatter\": [{\"marker\": {\"colorbar\": {\"outlinewidth\": 0, \"ticks\": \"\"}}, \"type\": \"scatter\"}], \"scatter3d\": [{\"line\": {\"colorbar\": {\"outlinewidth\": 0, \"ticks\": \"\"}}, \"marker\": {\"colorbar\": {\"outlinewidth\": 0, \"ticks\": \"\"}}, \"type\": \"scatter3d\"}], \"scattercarpet\": [{\"marker\": {\"colorbar\": {\"outlinewidth\": 0, \"ticks\": \"\"}}, \"type\": \"scattercarpet\"}], \"scattergeo\": [{\"marker\": {\"colorbar\": {\"outlinewidth\": 0, \"ticks\": \"\"}}, \"type\": \"scattergeo\"}], \"scattergl\": [{\"marker\": {\"colorbar\": {\"outlinewidth\": 0, \"ticks\": \"\"}}, \"type\": \"scattergl\"}], \"scattermapbox\": [{\"marker\": {\"colorbar\": {\"outlinewidth\": 0, \"ticks\": \"\"}}, \"type\": \"scattermapbox\"}], \"scatterpolar\": [{\"marker\": {\"colorbar\": {\"outlinewidth\": 0, \"ticks\": \"\"}}, \"type\": \"scatterpolar\"}], \"scatterpolargl\": [{\"marker\": {\"colorbar\": {\"outlinewidth\": 0, \"ticks\": \"\"}}, \"type\": \"scatterpolargl\"}], \"scatterternary\": [{\"marker\": {\"colorbar\": {\"outlinewidth\": 0, \"ticks\": \"\"}}, \"type\": \"scatterternary\"}], \"surface\": [{\"colorbar\": {\"outlinewidth\": 0, \"ticks\": \"\"}, \"colorscale\": [[0.0, \"#0d0887\"], [0.1111111111111111, \"#46039f\"], [0.2222222222222222, \"#7201a8\"], [0.3333333333333333, \"#9c179e\"], [0.4444444444444444, \"#bd3786\"], [0.5555555555555556, \"#d8576b\"], [0.6666666666666666, \"#ed7953\"], [0.7777777777777778, \"#fb9f3a\"], [0.8888888888888888, \"#fdca26\"], [1.0, \"#f0f921\"]], \"type\": \"surface\"}], \"table\": [{\"cells\": {\"fill\": {\"color\": \"#EBF0F8\"}, \"line\": {\"color\": \"white\"}}, \"header\": {\"fill\": {\"color\": \"#C8D4E3\"}, \"line\": {\"color\": \"white\"}}, \"type\": \"table\"}]}, \"layout\": {\"annotationdefaults\": {\"arrowcolor\": \"#2a3f5f\", \"arrowhead\": 0, \"arrowwidth\": 1}, \"coloraxis\": {\"colorbar\": {\"outlinewidth\": 0, \"ticks\": \"\"}}, \"colorscale\": {\"diverging\": [[0, \"#8e0152\"], [0.1, \"#c51b7d\"], [0.2, \"#de77ae\"], [0.3, \"#f1b6da\"], [0.4, \"#fde0ef\"], [0.5, \"#f7f7f7\"], [0.6, \"#e6f5d0\"], [0.7, \"#b8e186\"], [0.8, \"#7fbc41\"], [0.9, \"#4d9221\"], [1, \"#276419\"]], \"sequential\": [[0.0, \"#0d0887\"], [0.1111111111111111, \"#46039f\"], [0.2222222222222222, \"#7201a8\"], [0.3333333333333333, \"#9c179e\"], [0.4444444444444444, \"#bd3786\"], [0.5555555555555556, \"#d8576b\"], [0.6666666666666666, \"#ed7953\"], [0.7777777777777778, \"#fb9f3a\"], [0.8888888888888888, \"#fdca26\"], [1.0, \"#f0f921\"]], \"sequentialminus\": [[0.0, \"#0d0887\"], [0.1111111111111111, \"#46039f\"], [0.2222222222222222, \"#7201a8\"], [0.3333333333333333, \"#9c179e\"], [0.4444444444444444, \"#bd3786\"], [0.5555555555555556, \"#d8576b\"], [0.6666666666666666, \"#ed7953\"], [0.7777777777777778, \"#fb9f3a\"], [0.8888888888888888, \"#fdca26\"], [1.0, \"#f0f921\"]]}, \"colorway\": [\"#636efa\", \"#EF553B\", \"#00cc96\", \"#ab63fa\", \"#FFA15A\", \"#19d3f3\", \"#FF6692\", \"#B6E880\", \"#FF97FF\", \"#FECB52\"], \"font\": {\"color\": \"#2a3f5f\"}, \"geo\": {\"bgcolor\": \"white\", \"lakecolor\": \"white\", \"landcolor\": \"#E5ECF6\", \"showlakes\": true, \"showland\": true, \"subunitcolor\": \"white\"}, \"hoverlabel\": {\"align\": \"left\"}, \"hovermode\": \"closest\", \"mapbox\": {\"style\": \"light\"}, \"paper_bgcolor\": \"white\", \"plot_bgcolor\": \"#E5ECF6\", \"polar\": {\"angularaxis\": {\"gridcolor\": \"white\", \"linecolor\": \"white\", \"ticks\": \"\"}, \"bgcolor\": \"#E5ECF6\", \"radialaxis\": {\"gridcolor\": \"white\", \"linecolor\": \"white\", \"ticks\": \"\"}}, \"scene\": {\"xaxis\": {\"backgroundcolor\": \"#E5ECF6\", \"gridcolor\": \"white\", \"gridwidth\": 2, \"linecolor\": \"white\", \"showbackground\": true, \"ticks\": \"\", \"zerolinecolor\": \"white\"}, \"yaxis\": {\"backgroundcolor\": \"#E5ECF6\", \"gridcolor\": \"white\", \"gridwidth\": 2, \"linecolor\": \"white\", \"showbackground\": true, \"ticks\": \"\", \"zerolinecolor\": \"white\"}, \"zaxis\": {\"backgroundcolor\": \"#E5ECF6\", \"gridcolor\": \"white\", \"gridwidth\": 2, \"linecolor\": \"white\", \"showbackground\": true, \"ticks\": \"\", \"zerolinecolor\": \"white\"}}, \"shapedefaults\": {\"line\": {\"color\": \"#2a3f5f\"}}, \"ternary\": {\"aaxis\": {\"gridcolor\": \"white\", \"linecolor\": \"white\", \"ticks\": \"\"}, \"baxis\": {\"gridcolor\": \"white\", \"linecolor\": \"white\", \"ticks\": \"\"}, \"bgcolor\": \"#E5ECF6\", \"caxis\": {\"gridcolor\": \"white\", \"linecolor\": \"white\", \"ticks\": \"\"}}, \"title\": {\"x\": 0.05}, \"xaxis\": {\"automargin\": true, \"gridcolor\": \"white\", \"linecolor\": \"white\", \"ticks\": \"\", \"title\": {\"standoff\": 15}, \"zerolinecolor\": \"white\", \"zerolinewidth\": 2}, \"yaxis\": {\"automargin\": true, \"gridcolor\": \"white\", \"linecolor\": \"white\", \"ticks\": \"\", \"title\": {\"standoff\": 15}, \"zerolinecolor\": \"white\", \"zerolinewidth\": 2}}}, \"title\": {\"font\": {\"color\": \"#4D5663\"}}, \"xaxis\": {\"gridcolor\": \"#E1E5ED\", \"showgrid\": true, \"tickfont\": {\"color\": \"#4D5663\"}, \"title\": {\"font\": {\"color\": \"#4D5663\"}, \"text\": \"\"}, \"zerolinecolor\": \"#E1E5ED\"}, \"yaxis\": {\"gridcolor\": \"#E1E5ED\", \"showgrid\": true, \"tickfont\": {\"color\": \"#4D5663\"}, \"title\": {\"font\": {\"color\": \"#4D5663\"}, \"text\": \"\"}, \"zerolinecolor\": \"#E1E5ED\"}},\n",
       "                        {\"showLink\": true, \"linkText\": \"Export to plot.ly\", \"plotlyServerURL\": \"https://plot.ly\", \"responsive\": true}\n",
       "                    ).then(function(){\n",
       "                            \n",
       "var gd = document.getElementById('24b4c520-5aa0-4467-92e6-945106160284');\n",
       "var x = new MutationObserver(function (mutations, observer) {{\n",
       "        var display = window.getComputedStyle(gd).display;\n",
       "        if (!display || display === 'none') {{\n",
       "            console.log([gd, 'removed!']);\n",
       "            Plotly.purge(gd);\n",
       "            observer.disconnect();\n",
       "        }}\n",
       "}});\n",
       "\n",
       "// Listen for the removal of the full notebook cells\n",
       "var notebookContainer = gd.closest('#notebook-container');\n",
       "if (notebookContainer) {{\n",
       "    x.observe(notebookContainer, {childList: true});\n",
       "}}\n",
       "\n",
       "// Listen for the clearing of the current output cell\n",
       "var outputEl = gd.closest('.output');\n",
       "if (outputEl) {{\n",
       "    x.observe(outputEl, {childList: true});\n",
       "}}\n",
       "\n",
       "                        })\n",
       "                };\n",
       "                });\n",
       "            </script>\n",
       "        </div>"
      ]
     },
     "metadata": {},
     "output_type": "display_data"
    }
   ],
   "source": [
    "df['A'].iplot(kind='hist',bins=25)"
   ]
  },
  {
   "cell_type": "code",
   "execution_count": 20,
   "metadata": {},
   "outputs": [
    {
     "data": {
      "application/vnd.plotly.v1+json": {
       "config": {
        "linkText": "Export to plot.ly",
        "plotlyServerURL": "https://plot.ly",
        "showLink": true
       },
       "data": [
        {
         "marker": {
          "color": [
           "rgb(255, 153, 51)",
           "rgb(55, 128, 191)",
           "rgb(50, 171, 96)",
           "rgb(128, 0, 128)",
           "rgb(219, 64, 82)",
           "rgb(0, 128, 128)",
           "rgb(255, 255, 51)",
           "rgb(128, 128, 0)",
           "rgb(251, 128, 114)",
           "rgb(128, 177, 211)"
          ],
          "line": {
           "width": 1.3
          },
          "size": [
           77,
           80,
           68,
           102,
           57,
           66,
           111,
           55,
           50,
           65,
           79,
           87,
           62,
           54,
           86,
           69,
           72,
           55,
           54,
           80,
           69,
           54,
           53,
           57,
           87,
           73,
           48,
           80,
           49,
           112,
           49,
           18,
           105,
           84,
           33,
           60,
           85,
           72,
           12,
           75,
           76,
           42,
           100,
           66,
           43,
           85,
           79,
           49,
           17,
           97,
           39,
           62,
           87,
           67,
           85,
           50,
           40,
           76,
           80,
           97,
           82,
           75,
           72,
           31,
           72,
           34,
           65,
           80,
           93,
           32,
           68,
           15,
           43,
           48,
           56,
           64,
           55,
           68,
           59,
           65,
           82,
           83,
           70,
           40,
           74,
           77,
           54,
           42,
           45,
           59,
           84,
           66,
           73,
           63,
           65,
           23,
           100,
           65,
           57,
           57
          ],
          "symbol": "circle"
         },
         "mode": "markers",
         "text": "",
         "type": "scatter",
         "x": [
          1.0228643665915085,
          2.078102285193514,
          0.5158761667916655,
          -1.4857226758011213,
          1.1077899573724663,
          0.2928304928477981,
          0.08180311043452258,
          -0.8398530251478752,
          1.3175894476736056,
          1.2978189929523019,
          0.17520201513727157,
          0.13470956074463153,
          -0.018281469699972675,
          0.8636862501760922,
          0.854931415770735,
          -2.31890408029755,
          -0.28203176898922466,
          -0.4174329968596667,
          -1.503218670415323,
          -0.18860321509438102,
          -0.7529022721721581,
          -2.570027995821825,
          -1.2277556562626448,
          1.1348793153157908,
          0.6875961744242264,
          -0.2753527351696327,
          -1.1690704197924868,
          -0.08904043768740891,
          -0.7045947505690036,
          0.7853038385361636,
          -1.8662616235543097,
          -0.6715946774492092,
          0.14140540623443235,
          1.3745450625176414,
          -0.4591638710115532,
          -1.5319228881869125,
          1.2028181597771725,
          1.2393746284609601,
          -0.6500507894760755,
          -0.21417262573551185,
          -0.9313021954607845,
          1.4704143399240799,
          -0.19491831985513233,
          -0.9638924891142663,
          -0.5602620061156413,
          1.068653338611267,
          -0.28644653661110253,
          -1.297988288985895,
          0.6231907143360257,
          0.16444560852194856,
          -2.932907068675399,
          0.3219885191550619,
          -0.028948928296179757,
          1.5784640369464342,
          -1.0274983429401636,
          -0.43916117057086185,
          -0.426287302067674,
          -0.6092424312797955,
          -0.964214418090293,
          0.746369898931979,
          0.7237930721167293,
          -0.10665138799427454,
          1.0654356336753241,
          0.4150648593531338,
          0.5325737757365044,
          1.1434825925461756,
          0.19354088689971932,
          0.9721115249390958,
          0.01669477482715258,
          -0.5505029172817046,
          0.7152130788861849,
          -0.2245739409808382,
          -1.442887718560802,
          0.7569709318575875,
          -0.47768834110432884,
          -0.29411149822300764,
          0.12293170873575046,
          2.6946585797040616,
          0.6374185448442311,
          1.2952490195484176,
          0.02672722368465936,
          0.6707412178690879,
          0.6261665975706423,
          0.9897175184180778,
          -0.6206278701414436,
          -0.39026888701340817,
          0.4893873581585123,
          -1.846657196452513,
          -1.5247262152509458,
          2.3050474743024325,
          -0.8013803613983328,
          0.07982339735858235,
          -1.3690892621838988,
          -0.9644454717774649,
          0.5352164593595689,
          0.94834773112565,
          -1.8003266447589534,
          -1.0044384424427626,
          0.8333440027795855,
          -0.8904685620304708
         ],
         "y": [
          1.5141072432731078,
          1.3170923237060794,
          -1.2513598809475768,
          -0.20275432049873324,
          0.04283920687179462,
          -0.08198349502163418,
          -0.17527587292137195,
          -0.16422933085451655,
          -0.10949108877275467,
          0.01078502521025764,
          -0.142156670759665,
          0.535117716801839,
          0.11086446473816583,
          -1.2936877961444537,
          -0.4375644008191952,
          -0.17897112491722345,
          -1.024123352271027,
          -0.33933873174526424,
          0.4260696746455677,
          -0.5625645460881664,
          0.5594555584770827,
          -0.7278302611994535,
          0.2810175524087304,
          0.9491286356166035,
          0.6243073965868807,
          -0.4771339712795888,
          0.3902324728016761,
          -1.0658694939365105,
          -0.49638173288238013,
          -0.7723608586748788,
          -0.3583424525867705,
          1.0109681194818183,
          0.30756936188984574,
          1.439887634410778,
          2.7589740571186803,
          0.013419866304679555,
          -0.8381998836780817,
          0.2809158709836502,
          -0.04285707840302234,
          1.1894315670021485,
          0.4541141891865138,
          0.7365427955903368,
          0.7615628554124507,
          0.7593673768097888,
          -1.456476130196915,
          -0.04274711258224199,
          -1.1169373827498756,
          0.26397190431587925,
          0.267896444013153,
          0.9503102026463995,
          -0.6109902535336791,
          0.9889541101801155,
          0.5394973692501939,
          0.06037484857144976,
          0.9395003143245638,
          1.0746673198039558,
          -1.8919124007160064,
          0.8911063236978104,
          0.7206902756080743,
          -0.05381056467822287,
          -0.07977933156171538,
          1.71482576145405,
          -0.5043033782351627,
          -1.629661959427632,
          0.6808764508865055,
          1.1696252116148629,
          -1.0520992102224875,
          0.687739553848473,
          -0.849204644269452,
          0.4511280211640707,
          -0.20689846332809914,
          -0.9098463581849429,
          1.6987065729946769,
          -0.16512570553715297,
          -0.256922359989604,
          1.7432405215820297,
          1.2967704364685568,
          1.4583072575830145,
          -1.4210266514879522,
          0.1331227414103682,
          1.3085817597898504,
          -0.3959354674886219,
          -1.4911834610915695,
          1.2706198453298128,
          0.6093484061842721,
          0.7111587835583064,
          1.0459312680400894,
          -0.9627794132590002,
          0.04234451007099024,
          2.253503873221812,
          -1.3102931449745447,
          -0.7049178036933245,
          0.32964633934100174,
          0.35516682842767844,
          1.6832239408703678,
          -0.21291187277689125,
          -0.04556588313452348,
          -0.34362920185315665,
          1.8283057057526904,
          -0.6443763600103907
         ]
        }
       ],
       "layout": {
        "legend": {
         "bgcolor": "#F5F6F9",
         "font": {
          "color": "#4D5663"
         }
        },
        "paper_bgcolor": "#F5F6F9",
        "plot_bgcolor": "#F5F6F9",
        "template": {
         "data": {
          "bar": [
           {
            "error_x": {
             "color": "#2a3f5f"
            },
            "error_y": {
             "color": "#2a3f5f"
            },
            "marker": {
             "line": {
              "color": "#E5ECF6",
              "width": 0.5
             }
            },
            "type": "bar"
           }
          ],
          "barpolar": [
           {
            "marker": {
             "line": {
              "color": "#E5ECF6",
              "width": 0.5
             }
            },
            "type": "barpolar"
           }
          ],
          "carpet": [
           {
            "aaxis": {
             "endlinecolor": "#2a3f5f",
             "gridcolor": "white",
             "linecolor": "white",
             "minorgridcolor": "white",
             "startlinecolor": "#2a3f5f"
            },
            "baxis": {
             "endlinecolor": "#2a3f5f",
             "gridcolor": "white",
             "linecolor": "white",
             "minorgridcolor": "white",
             "startlinecolor": "#2a3f5f"
            },
            "type": "carpet"
           }
          ],
          "choropleth": [
           {
            "colorbar": {
             "outlinewidth": 0,
             "ticks": ""
            },
            "type": "choropleth"
           }
          ],
          "contour": [
           {
            "colorbar": {
             "outlinewidth": 0,
             "ticks": ""
            },
            "colorscale": [
             [
              0,
              "#0d0887"
             ],
             [
              0.1111111111111111,
              "#46039f"
             ],
             [
              0.2222222222222222,
              "#7201a8"
             ],
             [
              0.3333333333333333,
              "#9c179e"
             ],
             [
              0.4444444444444444,
              "#bd3786"
             ],
             [
              0.5555555555555556,
              "#d8576b"
             ],
             [
              0.6666666666666666,
              "#ed7953"
             ],
             [
              0.7777777777777778,
              "#fb9f3a"
             ],
             [
              0.8888888888888888,
              "#fdca26"
             ],
             [
              1,
              "#f0f921"
             ]
            ],
            "type": "contour"
           }
          ],
          "contourcarpet": [
           {
            "colorbar": {
             "outlinewidth": 0,
             "ticks": ""
            },
            "type": "contourcarpet"
           }
          ],
          "heatmap": [
           {
            "colorbar": {
             "outlinewidth": 0,
             "ticks": ""
            },
            "colorscale": [
             [
              0,
              "#0d0887"
             ],
             [
              0.1111111111111111,
              "#46039f"
             ],
             [
              0.2222222222222222,
              "#7201a8"
             ],
             [
              0.3333333333333333,
              "#9c179e"
             ],
             [
              0.4444444444444444,
              "#bd3786"
             ],
             [
              0.5555555555555556,
              "#d8576b"
             ],
             [
              0.6666666666666666,
              "#ed7953"
             ],
             [
              0.7777777777777778,
              "#fb9f3a"
             ],
             [
              0.8888888888888888,
              "#fdca26"
             ],
             [
              1,
              "#f0f921"
             ]
            ],
            "type": "heatmap"
           }
          ],
          "heatmapgl": [
           {
            "colorbar": {
             "outlinewidth": 0,
             "ticks": ""
            },
            "colorscale": [
             [
              0,
              "#0d0887"
             ],
             [
              0.1111111111111111,
              "#46039f"
             ],
             [
              0.2222222222222222,
              "#7201a8"
             ],
             [
              0.3333333333333333,
              "#9c179e"
             ],
             [
              0.4444444444444444,
              "#bd3786"
             ],
             [
              0.5555555555555556,
              "#d8576b"
             ],
             [
              0.6666666666666666,
              "#ed7953"
             ],
             [
              0.7777777777777778,
              "#fb9f3a"
             ],
             [
              0.8888888888888888,
              "#fdca26"
             ],
             [
              1,
              "#f0f921"
             ]
            ],
            "type": "heatmapgl"
           }
          ],
          "histogram": [
           {
            "marker": {
             "colorbar": {
              "outlinewidth": 0,
              "ticks": ""
             }
            },
            "type": "histogram"
           }
          ],
          "histogram2d": [
           {
            "colorbar": {
             "outlinewidth": 0,
             "ticks": ""
            },
            "colorscale": [
             [
              0,
              "#0d0887"
             ],
             [
              0.1111111111111111,
              "#46039f"
             ],
             [
              0.2222222222222222,
              "#7201a8"
             ],
             [
              0.3333333333333333,
              "#9c179e"
             ],
             [
              0.4444444444444444,
              "#bd3786"
             ],
             [
              0.5555555555555556,
              "#d8576b"
             ],
             [
              0.6666666666666666,
              "#ed7953"
             ],
             [
              0.7777777777777778,
              "#fb9f3a"
             ],
             [
              0.8888888888888888,
              "#fdca26"
             ],
             [
              1,
              "#f0f921"
             ]
            ],
            "type": "histogram2d"
           }
          ],
          "histogram2dcontour": [
           {
            "colorbar": {
             "outlinewidth": 0,
             "ticks": ""
            },
            "colorscale": [
             [
              0,
              "#0d0887"
             ],
             [
              0.1111111111111111,
              "#46039f"
             ],
             [
              0.2222222222222222,
              "#7201a8"
             ],
             [
              0.3333333333333333,
              "#9c179e"
             ],
             [
              0.4444444444444444,
              "#bd3786"
             ],
             [
              0.5555555555555556,
              "#d8576b"
             ],
             [
              0.6666666666666666,
              "#ed7953"
             ],
             [
              0.7777777777777778,
              "#fb9f3a"
             ],
             [
              0.8888888888888888,
              "#fdca26"
             ],
             [
              1,
              "#f0f921"
             ]
            ],
            "type": "histogram2dcontour"
           }
          ],
          "mesh3d": [
           {
            "colorbar": {
             "outlinewidth": 0,
             "ticks": ""
            },
            "type": "mesh3d"
           }
          ],
          "parcoords": [
           {
            "line": {
             "colorbar": {
              "outlinewidth": 0,
              "ticks": ""
             }
            },
            "type": "parcoords"
           }
          ],
          "pie": [
           {
            "automargin": true,
            "type": "pie"
           }
          ],
          "scatter": [
           {
            "marker": {
             "colorbar": {
              "outlinewidth": 0,
              "ticks": ""
             }
            },
            "type": "scatter"
           }
          ],
          "scatter3d": [
           {
            "line": {
             "colorbar": {
              "outlinewidth": 0,
              "ticks": ""
             }
            },
            "marker": {
             "colorbar": {
              "outlinewidth": 0,
              "ticks": ""
             }
            },
            "type": "scatter3d"
           }
          ],
          "scattercarpet": [
           {
            "marker": {
             "colorbar": {
              "outlinewidth": 0,
              "ticks": ""
             }
            },
            "type": "scattercarpet"
           }
          ],
          "scattergeo": [
           {
            "marker": {
             "colorbar": {
              "outlinewidth": 0,
              "ticks": ""
             }
            },
            "type": "scattergeo"
           }
          ],
          "scattergl": [
           {
            "marker": {
             "colorbar": {
              "outlinewidth": 0,
              "ticks": ""
             }
            },
            "type": "scattergl"
           }
          ],
          "scattermapbox": [
           {
            "marker": {
             "colorbar": {
              "outlinewidth": 0,
              "ticks": ""
             }
            },
            "type": "scattermapbox"
           }
          ],
          "scatterpolar": [
           {
            "marker": {
             "colorbar": {
              "outlinewidth": 0,
              "ticks": ""
             }
            },
            "type": "scatterpolar"
           }
          ],
          "scatterpolargl": [
           {
            "marker": {
             "colorbar": {
              "outlinewidth": 0,
              "ticks": ""
             }
            },
            "type": "scatterpolargl"
           }
          ],
          "scatterternary": [
           {
            "marker": {
             "colorbar": {
              "outlinewidth": 0,
              "ticks": ""
             }
            },
            "type": "scatterternary"
           }
          ],
          "surface": [
           {
            "colorbar": {
             "outlinewidth": 0,
             "ticks": ""
            },
            "colorscale": [
             [
              0,
              "#0d0887"
             ],
             [
              0.1111111111111111,
              "#46039f"
             ],
             [
              0.2222222222222222,
              "#7201a8"
             ],
             [
              0.3333333333333333,
              "#9c179e"
             ],
             [
              0.4444444444444444,
              "#bd3786"
             ],
             [
              0.5555555555555556,
              "#d8576b"
             ],
             [
              0.6666666666666666,
              "#ed7953"
             ],
             [
              0.7777777777777778,
              "#fb9f3a"
             ],
             [
              0.8888888888888888,
              "#fdca26"
             ],
             [
              1,
              "#f0f921"
             ]
            ],
            "type": "surface"
           }
          ],
          "table": [
           {
            "cells": {
             "fill": {
              "color": "#EBF0F8"
             },
             "line": {
              "color": "white"
             }
            },
            "header": {
             "fill": {
              "color": "#C8D4E3"
             },
             "line": {
              "color": "white"
             }
            },
            "type": "table"
           }
          ]
         },
         "layout": {
          "annotationdefaults": {
           "arrowcolor": "#2a3f5f",
           "arrowhead": 0,
           "arrowwidth": 1
          },
          "coloraxis": {
           "colorbar": {
            "outlinewidth": 0,
            "ticks": ""
           }
          },
          "colorscale": {
           "diverging": [
            [
             0,
             "#8e0152"
            ],
            [
             0.1,
             "#c51b7d"
            ],
            [
             0.2,
             "#de77ae"
            ],
            [
             0.3,
             "#f1b6da"
            ],
            [
             0.4,
             "#fde0ef"
            ],
            [
             0.5,
             "#f7f7f7"
            ],
            [
             0.6,
             "#e6f5d0"
            ],
            [
             0.7,
             "#b8e186"
            ],
            [
             0.8,
             "#7fbc41"
            ],
            [
             0.9,
             "#4d9221"
            ],
            [
             1,
             "#276419"
            ]
           ],
           "sequential": [
            [
             0,
             "#0d0887"
            ],
            [
             0.1111111111111111,
             "#46039f"
            ],
            [
             0.2222222222222222,
             "#7201a8"
            ],
            [
             0.3333333333333333,
             "#9c179e"
            ],
            [
             0.4444444444444444,
             "#bd3786"
            ],
            [
             0.5555555555555556,
             "#d8576b"
            ],
            [
             0.6666666666666666,
             "#ed7953"
            ],
            [
             0.7777777777777778,
             "#fb9f3a"
            ],
            [
             0.8888888888888888,
             "#fdca26"
            ],
            [
             1,
             "#f0f921"
            ]
           ],
           "sequentialminus": [
            [
             0,
             "#0d0887"
            ],
            [
             0.1111111111111111,
             "#46039f"
            ],
            [
             0.2222222222222222,
             "#7201a8"
            ],
            [
             0.3333333333333333,
             "#9c179e"
            ],
            [
             0.4444444444444444,
             "#bd3786"
            ],
            [
             0.5555555555555556,
             "#d8576b"
            ],
            [
             0.6666666666666666,
             "#ed7953"
            ],
            [
             0.7777777777777778,
             "#fb9f3a"
            ],
            [
             0.8888888888888888,
             "#fdca26"
            ],
            [
             1,
             "#f0f921"
            ]
           ]
          },
          "colorway": [
           "#636efa",
           "#EF553B",
           "#00cc96",
           "#ab63fa",
           "#FFA15A",
           "#19d3f3",
           "#FF6692",
           "#B6E880",
           "#FF97FF",
           "#FECB52"
          ],
          "font": {
           "color": "#2a3f5f"
          },
          "geo": {
           "bgcolor": "white",
           "lakecolor": "white",
           "landcolor": "#E5ECF6",
           "showlakes": true,
           "showland": true,
           "subunitcolor": "white"
          },
          "hoverlabel": {
           "align": "left"
          },
          "hovermode": "closest",
          "mapbox": {
           "style": "light"
          },
          "paper_bgcolor": "white",
          "plot_bgcolor": "#E5ECF6",
          "polar": {
           "angularaxis": {
            "gridcolor": "white",
            "linecolor": "white",
            "ticks": ""
           },
           "bgcolor": "#E5ECF6",
           "radialaxis": {
            "gridcolor": "white",
            "linecolor": "white",
            "ticks": ""
           }
          },
          "scene": {
           "xaxis": {
            "backgroundcolor": "#E5ECF6",
            "gridcolor": "white",
            "gridwidth": 2,
            "linecolor": "white",
            "showbackground": true,
            "ticks": "",
            "zerolinecolor": "white"
           },
           "yaxis": {
            "backgroundcolor": "#E5ECF6",
            "gridcolor": "white",
            "gridwidth": 2,
            "linecolor": "white",
            "showbackground": true,
            "ticks": "",
            "zerolinecolor": "white"
           },
           "zaxis": {
            "backgroundcolor": "#E5ECF6",
            "gridcolor": "white",
            "gridwidth": 2,
            "linecolor": "white",
            "showbackground": true,
            "ticks": "",
            "zerolinecolor": "white"
           }
          },
          "shapedefaults": {
           "line": {
            "color": "#2a3f5f"
           }
          },
          "ternary": {
           "aaxis": {
            "gridcolor": "white",
            "linecolor": "white",
            "ticks": ""
           },
           "baxis": {
            "gridcolor": "white",
            "linecolor": "white",
            "ticks": ""
           },
           "bgcolor": "#E5ECF6",
           "caxis": {
            "gridcolor": "white",
            "linecolor": "white",
            "ticks": ""
           }
          },
          "title": {
           "x": 0.05
          },
          "xaxis": {
           "automargin": true,
           "gridcolor": "white",
           "linecolor": "white",
           "ticks": "",
           "title": {
            "standoff": 15
           },
           "zerolinecolor": "white",
           "zerolinewidth": 2
          },
          "yaxis": {
           "automargin": true,
           "gridcolor": "white",
           "linecolor": "white",
           "ticks": "",
           "title": {
            "standoff": 15
           },
           "zerolinecolor": "white",
           "zerolinewidth": 2
          }
         }
        },
        "title": {
         "font": {
          "color": "#4D5663"
         }
        },
        "xaxis": {
         "gridcolor": "#E1E5ED",
         "showgrid": true,
         "tickfont": {
          "color": "#4D5663"
         },
         "title": {
          "font": {
           "color": "#4D5663"
          },
          "text": ""
         },
         "zerolinecolor": "#E1E5ED"
        },
        "yaxis": {
         "gridcolor": "#E1E5ED",
         "showgrid": true,
         "tickfont": {
          "color": "#4D5663"
         },
         "title": {
          "font": {
           "color": "#4D5663"
          },
          "text": ""
         },
         "zerolinecolor": "#E1E5ED"
        }
       }
      },
      "text/html": [
       "<div>\n",
       "        \n",
       "        \n",
       "            <div id=\"69ea0ca6-d9ca-454c-971c-4de9f5505acb\" class=\"plotly-graph-div\" style=\"height:525px; width:100%;\"></div>\n",
       "            <script type=\"text/javascript\">\n",
       "                require([\"plotly\"], function(Plotly) {\n",
       "                    window.PLOTLYENV=window.PLOTLYENV || {};\n",
       "                    window.PLOTLYENV.BASE_URL='https://plot.ly';\n",
       "                    \n",
       "                if (document.getElementById(\"69ea0ca6-d9ca-454c-971c-4de9f5505acb\")) {\n",
       "                    Plotly.newPlot(\n",
       "                        '69ea0ca6-d9ca-454c-971c-4de9f5505acb',\n",
       "                        [{\"marker\": {\"color\": [\"rgb(255, 153, 51)\", \"rgb(55, 128, 191)\", \"rgb(50, 171, 96)\", \"rgb(128, 0, 128)\", \"rgb(219, 64, 82)\", \"rgb(0, 128, 128)\", \"rgb(255, 255, 51)\", \"rgb(128, 128, 0)\", \"rgb(251, 128, 114)\", \"rgb(128, 177, 211)\"], \"line\": {\"width\": 1.3}, \"size\": [77, 80, 68, 102, 57, 66, 111, 55, 50, 65, 79, 87, 62, 54, 86, 69, 72, 55, 54, 80, 69, 54, 53, 57, 87, 73, 48, 80, 49, 112, 49, 18, 105, 84, 33, 60, 85, 72, 12, 75, 76, 42, 100, 66, 43, 85, 79, 49, 17, 97, 39, 62, 87, 67, 85, 50, 40, 76, 80, 97, 82, 75, 72, 31, 72, 34, 65, 80, 93, 32, 68, 15, 43, 48, 56, 64, 55, 68, 59, 65, 82, 83, 70, 40, 74, 77, 54, 42, 45, 59, 84, 66, 73, 63, 65, 23, 100, 65, 57, 57], \"symbol\": \"circle\"}, \"mode\": \"markers\", \"text\": \"\", \"type\": \"scatter\", \"x\": [1.0228643665915085, 2.078102285193514, 0.5158761667916655, -1.4857226758011213, 1.1077899573724663, 0.2928304928477981, 0.08180311043452258, -0.8398530251478752, 1.3175894476736056, 1.2978189929523019, 0.17520201513727157, 0.13470956074463153, -0.018281469699972675, 0.8636862501760922, 0.854931415770735, -2.31890408029755, -0.28203176898922466, -0.4174329968596667, -1.503218670415323, -0.18860321509438102, -0.7529022721721581, -2.570027995821825, -1.2277556562626448, 1.1348793153157908, 0.6875961744242264, -0.2753527351696327, -1.1690704197924868, -0.08904043768740891, -0.7045947505690036, 0.7853038385361636, -1.8662616235543097, -0.6715946774492092, 0.14140540623443235, 1.3745450625176414, -0.4591638710115532, -1.5319228881869125, 1.2028181597771725, 1.2393746284609601, -0.6500507894760755, -0.21417262573551185, -0.9313021954607845, 1.4704143399240799, -0.19491831985513233, -0.9638924891142663, -0.5602620061156413, 1.068653338611267, -0.28644653661110253, -1.297988288985895, 0.6231907143360257, 0.16444560852194856, -2.932907068675399, 0.3219885191550619, -0.028948928296179757, 1.5784640369464342, -1.0274983429401636, -0.43916117057086185, -0.426287302067674, -0.6092424312797955, -0.964214418090293, 0.746369898931979, 0.7237930721167293, -0.10665138799427454, 1.0654356336753241, 0.4150648593531338, 0.5325737757365044, 1.1434825925461756, 0.19354088689971932, 0.9721115249390958, 0.01669477482715258, -0.5505029172817046, 0.7152130788861849, -0.2245739409808382, -1.442887718560802, 0.7569709318575875, -0.47768834110432884, -0.29411149822300764, 0.12293170873575046, 2.6946585797040616, 0.6374185448442311, 1.2952490195484176, 0.02672722368465936, 0.6707412178690879, 0.6261665975706423, 0.9897175184180778, -0.6206278701414436, -0.39026888701340817, 0.4893873581585123, -1.846657196452513, -1.5247262152509458, 2.3050474743024325, -0.8013803613983328, 0.07982339735858235, -1.3690892621838988, -0.9644454717774649, 0.5352164593595689, 0.94834773112565, -1.8003266447589534, -1.0044384424427626, 0.8333440027795855, -0.8904685620304708], \"y\": [1.5141072432731078, 1.3170923237060794, -1.2513598809475768, -0.20275432049873324, 0.04283920687179462, -0.08198349502163418, -0.17527587292137195, -0.16422933085451655, -0.10949108877275467, 0.01078502521025764, -0.142156670759665, 0.535117716801839, 0.11086446473816583, -1.2936877961444537, -0.4375644008191952, -0.17897112491722345, -1.024123352271027, -0.33933873174526424, 0.4260696746455677, -0.5625645460881664, 0.5594555584770827, -0.7278302611994535, 0.2810175524087304, 0.9491286356166035, 0.6243073965868807, -0.4771339712795888, 0.3902324728016761, -1.0658694939365105, -0.49638173288238013, -0.7723608586748788, -0.3583424525867705, 1.0109681194818183, 0.30756936188984574, 1.439887634410778, 2.7589740571186803, 0.013419866304679555, -0.8381998836780817, 0.2809158709836502, -0.04285707840302234, 1.1894315670021485, 0.4541141891865138, 0.7365427955903368, 0.7615628554124507, 0.7593673768097888, -1.456476130196915, -0.04274711258224199, -1.1169373827498756, 0.26397190431587925, 0.267896444013153, 0.9503102026463995, -0.6109902535336791, 0.9889541101801155, 0.5394973692501939, 0.06037484857144976, 0.9395003143245638, 1.0746673198039558, -1.8919124007160064, 0.8911063236978104, 0.7206902756080743, -0.05381056467822287, -0.07977933156171538, 1.71482576145405, -0.5043033782351627, -1.629661959427632, 0.6808764508865055, 1.1696252116148629, -1.0520992102224875, 0.687739553848473, -0.849204644269452, 0.4511280211640707, -0.20689846332809914, -0.9098463581849429, 1.6987065729946769, -0.16512570553715297, -0.256922359989604, 1.7432405215820297, 1.2967704364685568, 1.4583072575830145, -1.4210266514879522, 0.1331227414103682, 1.3085817597898504, -0.3959354674886219, -1.4911834610915695, 1.2706198453298128, 0.6093484061842721, 0.7111587835583064, 1.0459312680400894, -0.9627794132590002, 0.04234451007099024, 2.253503873221812, -1.3102931449745447, -0.7049178036933245, 0.32964633934100174, 0.35516682842767844, 1.6832239408703678, -0.21291187277689125, -0.04556588313452348, -0.34362920185315665, 1.8283057057526904, -0.6443763600103907]}],\n",
       "                        {\"legend\": {\"bgcolor\": \"#F5F6F9\", \"font\": {\"color\": \"#4D5663\"}}, \"paper_bgcolor\": \"#F5F6F9\", \"plot_bgcolor\": \"#F5F6F9\", \"template\": {\"data\": {\"bar\": [{\"error_x\": {\"color\": \"#2a3f5f\"}, \"error_y\": {\"color\": \"#2a3f5f\"}, \"marker\": {\"line\": {\"color\": \"#E5ECF6\", \"width\": 0.5}}, \"type\": \"bar\"}], \"barpolar\": [{\"marker\": {\"line\": {\"color\": \"#E5ECF6\", \"width\": 0.5}}, \"type\": \"barpolar\"}], \"carpet\": [{\"aaxis\": {\"endlinecolor\": \"#2a3f5f\", \"gridcolor\": \"white\", \"linecolor\": \"white\", \"minorgridcolor\": \"white\", \"startlinecolor\": \"#2a3f5f\"}, \"baxis\": {\"endlinecolor\": \"#2a3f5f\", \"gridcolor\": \"white\", \"linecolor\": \"white\", \"minorgridcolor\": \"white\", \"startlinecolor\": \"#2a3f5f\"}, \"type\": \"carpet\"}], \"choropleth\": [{\"colorbar\": {\"outlinewidth\": 0, \"ticks\": \"\"}, \"type\": \"choropleth\"}], \"contour\": [{\"colorbar\": {\"outlinewidth\": 0, \"ticks\": \"\"}, \"colorscale\": [[0.0, \"#0d0887\"], [0.1111111111111111, \"#46039f\"], [0.2222222222222222, \"#7201a8\"], [0.3333333333333333, \"#9c179e\"], [0.4444444444444444, \"#bd3786\"], [0.5555555555555556, \"#d8576b\"], [0.6666666666666666, \"#ed7953\"], [0.7777777777777778, \"#fb9f3a\"], [0.8888888888888888, \"#fdca26\"], [1.0, \"#f0f921\"]], \"type\": \"contour\"}], \"contourcarpet\": [{\"colorbar\": {\"outlinewidth\": 0, \"ticks\": \"\"}, \"type\": \"contourcarpet\"}], \"heatmap\": [{\"colorbar\": {\"outlinewidth\": 0, \"ticks\": \"\"}, \"colorscale\": [[0.0, \"#0d0887\"], [0.1111111111111111, \"#46039f\"], [0.2222222222222222, \"#7201a8\"], [0.3333333333333333, \"#9c179e\"], [0.4444444444444444, \"#bd3786\"], [0.5555555555555556, \"#d8576b\"], [0.6666666666666666, \"#ed7953\"], [0.7777777777777778, \"#fb9f3a\"], [0.8888888888888888, \"#fdca26\"], [1.0, \"#f0f921\"]], \"type\": \"heatmap\"}], \"heatmapgl\": [{\"colorbar\": {\"outlinewidth\": 0, \"ticks\": \"\"}, \"colorscale\": [[0.0, \"#0d0887\"], [0.1111111111111111, \"#46039f\"], [0.2222222222222222, \"#7201a8\"], [0.3333333333333333, \"#9c179e\"], [0.4444444444444444, \"#bd3786\"], [0.5555555555555556, \"#d8576b\"], [0.6666666666666666, \"#ed7953\"], [0.7777777777777778, \"#fb9f3a\"], [0.8888888888888888, \"#fdca26\"], [1.0, \"#f0f921\"]], \"type\": \"heatmapgl\"}], \"histogram\": [{\"marker\": {\"colorbar\": {\"outlinewidth\": 0, \"ticks\": \"\"}}, \"type\": \"histogram\"}], \"histogram2d\": [{\"colorbar\": {\"outlinewidth\": 0, \"ticks\": \"\"}, \"colorscale\": [[0.0, \"#0d0887\"], [0.1111111111111111, \"#46039f\"], [0.2222222222222222, \"#7201a8\"], [0.3333333333333333, \"#9c179e\"], [0.4444444444444444, \"#bd3786\"], [0.5555555555555556, \"#d8576b\"], [0.6666666666666666, \"#ed7953\"], [0.7777777777777778, \"#fb9f3a\"], [0.8888888888888888, \"#fdca26\"], [1.0, \"#f0f921\"]], \"type\": \"histogram2d\"}], \"histogram2dcontour\": [{\"colorbar\": {\"outlinewidth\": 0, \"ticks\": \"\"}, \"colorscale\": [[0.0, \"#0d0887\"], [0.1111111111111111, \"#46039f\"], [0.2222222222222222, \"#7201a8\"], [0.3333333333333333, \"#9c179e\"], [0.4444444444444444, \"#bd3786\"], [0.5555555555555556, \"#d8576b\"], [0.6666666666666666, \"#ed7953\"], [0.7777777777777778, \"#fb9f3a\"], [0.8888888888888888, \"#fdca26\"], [1.0, \"#f0f921\"]], \"type\": \"histogram2dcontour\"}], \"mesh3d\": [{\"colorbar\": {\"outlinewidth\": 0, \"ticks\": \"\"}, \"type\": \"mesh3d\"}], \"parcoords\": [{\"line\": {\"colorbar\": {\"outlinewidth\": 0, \"ticks\": \"\"}}, \"type\": \"parcoords\"}], \"pie\": [{\"automargin\": true, \"type\": \"pie\"}], \"scatter\": [{\"marker\": {\"colorbar\": {\"outlinewidth\": 0, \"ticks\": \"\"}}, \"type\": \"scatter\"}], \"scatter3d\": [{\"line\": {\"colorbar\": {\"outlinewidth\": 0, \"ticks\": \"\"}}, \"marker\": {\"colorbar\": {\"outlinewidth\": 0, \"ticks\": \"\"}}, \"type\": \"scatter3d\"}], \"scattercarpet\": [{\"marker\": {\"colorbar\": {\"outlinewidth\": 0, \"ticks\": \"\"}}, \"type\": \"scattercarpet\"}], \"scattergeo\": [{\"marker\": {\"colorbar\": {\"outlinewidth\": 0, \"ticks\": \"\"}}, \"type\": \"scattergeo\"}], \"scattergl\": [{\"marker\": {\"colorbar\": {\"outlinewidth\": 0, \"ticks\": \"\"}}, \"type\": \"scattergl\"}], \"scattermapbox\": [{\"marker\": {\"colorbar\": {\"outlinewidth\": 0, \"ticks\": \"\"}}, \"type\": \"scattermapbox\"}], \"scatterpolar\": [{\"marker\": {\"colorbar\": {\"outlinewidth\": 0, \"ticks\": \"\"}}, \"type\": \"scatterpolar\"}], \"scatterpolargl\": [{\"marker\": {\"colorbar\": {\"outlinewidth\": 0, \"ticks\": \"\"}}, \"type\": \"scatterpolargl\"}], \"scatterternary\": [{\"marker\": {\"colorbar\": {\"outlinewidth\": 0, \"ticks\": \"\"}}, \"type\": \"scatterternary\"}], \"surface\": [{\"colorbar\": {\"outlinewidth\": 0, \"ticks\": \"\"}, \"colorscale\": [[0.0, \"#0d0887\"], [0.1111111111111111, \"#46039f\"], [0.2222222222222222, \"#7201a8\"], [0.3333333333333333, \"#9c179e\"], [0.4444444444444444, \"#bd3786\"], [0.5555555555555556, \"#d8576b\"], [0.6666666666666666, \"#ed7953\"], [0.7777777777777778, \"#fb9f3a\"], [0.8888888888888888, \"#fdca26\"], [1.0, \"#f0f921\"]], \"type\": \"surface\"}], \"table\": [{\"cells\": {\"fill\": {\"color\": \"#EBF0F8\"}, \"line\": {\"color\": \"white\"}}, \"header\": {\"fill\": {\"color\": \"#C8D4E3\"}, \"line\": {\"color\": \"white\"}}, \"type\": \"table\"}]}, \"layout\": {\"annotationdefaults\": {\"arrowcolor\": \"#2a3f5f\", \"arrowhead\": 0, \"arrowwidth\": 1}, \"coloraxis\": {\"colorbar\": {\"outlinewidth\": 0, \"ticks\": \"\"}}, \"colorscale\": {\"diverging\": [[0, \"#8e0152\"], [0.1, \"#c51b7d\"], [0.2, \"#de77ae\"], [0.3, \"#f1b6da\"], [0.4, \"#fde0ef\"], [0.5, \"#f7f7f7\"], [0.6, \"#e6f5d0\"], [0.7, \"#b8e186\"], [0.8, \"#7fbc41\"], [0.9, \"#4d9221\"], [1, \"#276419\"]], \"sequential\": [[0.0, \"#0d0887\"], [0.1111111111111111, \"#46039f\"], [0.2222222222222222, \"#7201a8\"], [0.3333333333333333, \"#9c179e\"], [0.4444444444444444, \"#bd3786\"], [0.5555555555555556, \"#d8576b\"], [0.6666666666666666, \"#ed7953\"], [0.7777777777777778, \"#fb9f3a\"], [0.8888888888888888, \"#fdca26\"], [1.0, \"#f0f921\"]], \"sequentialminus\": [[0.0, \"#0d0887\"], [0.1111111111111111, \"#46039f\"], [0.2222222222222222, \"#7201a8\"], [0.3333333333333333, \"#9c179e\"], [0.4444444444444444, \"#bd3786\"], [0.5555555555555556, \"#d8576b\"], [0.6666666666666666, \"#ed7953\"], [0.7777777777777778, \"#fb9f3a\"], [0.8888888888888888, \"#fdca26\"], [1.0, \"#f0f921\"]]}, \"colorway\": [\"#636efa\", \"#EF553B\", \"#00cc96\", \"#ab63fa\", \"#FFA15A\", \"#19d3f3\", \"#FF6692\", \"#B6E880\", \"#FF97FF\", \"#FECB52\"], \"font\": {\"color\": \"#2a3f5f\"}, \"geo\": {\"bgcolor\": \"white\", \"lakecolor\": \"white\", \"landcolor\": \"#E5ECF6\", \"showlakes\": true, \"showland\": true, \"subunitcolor\": \"white\"}, \"hoverlabel\": {\"align\": \"left\"}, \"hovermode\": \"closest\", \"mapbox\": {\"style\": \"light\"}, \"paper_bgcolor\": \"white\", \"plot_bgcolor\": \"#E5ECF6\", \"polar\": {\"angularaxis\": {\"gridcolor\": \"white\", \"linecolor\": \"white\", \"ticks\": \"\"}, \"bgcolor\": \"#E5ECF6\", \"radialaxis\": {\"gridcolor\": \"white\", \"linecolor\": \"white\", \"ticks\": \"\"}}, \"scene\": {\"xaxis\": {\"backgroundcolor\": \"#E5ECF6\", \"gridcolor\": \"white\", \"gridwidth\": 2, \"linecolor\": \"white\", \"showbackground\": true, \"ticks\": \"\", \"zerolinecolor\": \"white\"}, \"yaxis\": {\"backgroundcolor\": \"#E5ECF6\", \"gridcolor\": \"white\", \"gridwidth\": 2, \"linecolor\": \"white\", \"showbackground\": true, \"ticks\": \"\", \"zerolinecolor\": \"white\"}, \"zaxis\": {\"backgroundcolor\": \"#E5ECF6\", \"gridcolor\": \"white\", \"gridwidth\": 2, \"linecolor\": \"white\", \"showbackground\": true, \"ticks\": \"\", \"zerolinecolor\": \"white\"}}, \"shapedefaults\": {\"line\": {\"color\": \"#2a3f5f\"}}, \"ternary\": {\"aaxis\": {\"gridcolor\": \"white\", \"linecolor\": \"white\", \"ticks\": \"\"}, \"baxis\": {\"gridcolor\": \"white\", \"linecolor\": \"white\", \"ticks\": \"\"}, \"bgcolor\": \"#E5ECF6\", \"caxis\": {\"gridcolor\": \"white\", \"linecolor\": \"white\", \"ticks\": \"\"}}, \"title\": {\"x\": 0.05}, \"xaxis\": {\"automargin\": true, \"gridcolor\": \"white\", \"linecolor\": \"white\", \"ticks\": \"\", \"title\": {\"standoff\": 15}, \"zerolinecolor\": \"white\", \"zerolinewidth\": 2}, \"yaxis\": {\"automargin\": true, \"gridcolor\": \"white\", \"linecolor\": \"white\", \"ticks\": \"\", \"title\": {\"standoff\": 15}, \"zerolinecolor\": \"white\", \"zerolinewidth\": 2}}}, \"title\": {\"font\": {\"color\": \"#4D5663\"}}, \"xaxis\": {\"gridcolor\": \"#E1E5ED\", \"showgrid\": true, \"tickfont\": {\"color\": \"#4D5663\"}, \"title\": {\"font\": {\"color\": \"#4D5663\"}, \"text\": \"\"}, \"zerolinecolor\": \"#E1E5ED\"}, \"yaxis\": {\"gridcolor\": \"#E1E5ED\", \"showgrid\": true, \"tickfont\": {\"color\": \"#4D5663\"}, \"title\": {\"font\": {\"color\": \"#4D5663\"}, \"text\": \"\"}, \"zerolinecolor\": \"#E1E5ED\"}},\n",
       "                        {\"showLink\": true, \"linkText\": \"Export to plot.ly\", \"plotlyServerURL\": \"https://plot.ly\", \"responsive\": true}\n",
       "                    ).then(function(){\n",
       "                            \n",
       "var gd = document.getElementById('69ea0ca6-d9ca-454c-971c-4de9f5505acb');\n",
       "var x = new MutationObserver(function (mutations, observer) {{\n",
       "        var display = window.getComputedStyle(gd).display;\n",
       "        if (!display || display === 'none') {{\n",
       "            console.log([gd, 'removed!']);\n",
       "            Plotly.purge(gd);\n",
       "            observer.disconnect();\n",
       "        }}\n",
       "}});\n",
       "\n",
       "// Listen for the removal of the full notebook cells\n",
       "var notebookContainer = gd.closest('#notebook-container');\n",
       "if (notebookContainer) {{\n",
       "    x.observe(notebookContainer, {childList: true});\n",
       "}}\n",
       "\n",
       "// Listen for the clearing of the current output cell\n",
       "var outputEl = gd.closest('.output');\n",
       "if (outputEl) {{\n",
       "    x.observe(outputEl, {childList: true});\n",
       "}}\n",
       "\n",
       "                        })\n",
       "                };\n",
       "                });\n",
       "            </script>\n",
       "        </div>"
      ]
     },
     "metadata": {},
     "output_type": "display_data"
    }
   ],
   "source": [
    "df.iplot(kind='bubble',x='A',y='B',size='C')"
   ]
  },
  {
   "cell_type": "markdown",
   "metadata": {},
   "source": [
    "## scatter_matrix()\n",
    "\n",
    "Similar to sns.pairplot()"
   ]
  },
  {
   "cell_type": "code",
   "execution_count": 21,
   "metadata": {},
   "outputs": [
    {
     "data": {
      "application/vnd.plotly.v1+json": {
       "config": {
        "linkText": "Export to plot.ly",
        "plotlyServerURL": "https://plot.ly",
        "showLink": true
       },
       "data": [
        {
         "histfunc": "count",
         "histnorm": "",
         "marker": {
          "color": "rgba(255, 153, 51, 1.0)",
          "line": {
           "color": "#4D5663",
           "width": 1.3
          }
         },
         "name": "A",
         "nbinsx": 10,
         "opacity": 0.8,
         "orientation": "v",
         "type": "histogram",
         "x": [
          1.0228643665915085,
          2.078102285193514,
          0.5158761667916655,
          -1.4857226758011213,
          1.1077899573724663,
          0.2928304928477981,
          0.08180311043452258,
          -0.8398530251478752,
          1.3175894476736056,
          1.2978189929523019,
          0.17520201513727157,
          0.13470956074463153,
          -0.018281469699972675,
          0.8636862501760922,
          0.854931415770735,
          -2.31890408029755,
          -0.28203176898922466,
          -0.4174329968596667,
          -1.503218670415323,
          -0.18860321509438102,
          -0.7529022721721581,
          -2.570027995821825,
          -1.2277556562626448,
          1.1348793153157908,
          0.6875961744242264,
          -0.2753527351696327,
          -1.1690704197924868,
          -0.08904043768740891,
          -0.7045947505690036,
          0.7853038385361636,
          -1.8662616235543097,
          -0.6715946774492092,
          0.14140540623443235,
          1.3745450625176414,
          -0.4591638710115532,
          -1.5319228881869125,
          1.2028181597771725,
          1.2393746284609601,
          -0.6500507894760755,
          -0.21417262573551185,
          -0.9313021954607845,
          1.4704143399240799,
          -0.19491831985513233,
          -0.9638924891142663,
          -0.5602620061156413,
          1.068653338611267,
          -0.28644653661110253,
          -1.297988288985895,
          0.6231907143360257,
          0.16444560852194856,
          -2.932907068675399,
          0.3219885191550619,
          -0.028948928296179757,
          1.5784640369464342,
          -1.0274983429401636,
          -0.43916117057086185,
          -0.426287302067674,
          -0.6092424312797955,
          -0.964214418090293,
          0.746369898931979,
          0.7237930721167293,
          -0.10665138799427454,
          1.0654356336753241,
          0.4150648593531338,
          0.5325737757365044,
          1.1434825925461756,
          0.19354088689971932,
          0.9721115249390958,
          0.01669477482715258,
          -0.5505029172817046,
          0.7152130788861849,
          -0.2245739409808382,
          -1.442887718560802,
          0.7569709318575875,
          -0.47768834110432884,
          -0.29411149822300764,
          0.12293170873575046,
          2.6946585797040616,
          0.6374185448442311,
          1.2952490195484176,
          0.02672722368465936,
          0.6707412178690879,
          0.6261665975706423,
          0.9897175184180778,
          -0.6206278701414436,
          -0.39026888701340817,
          0.4893873581585123,
          -1.846657196452513,
          -1.5247262152509458,
          2.3050474743024325,
          -0.8013803613983328,
          0.07982339735858235,
          -1.3690892621838988,
          -0.9644454717774649,
          0.5352164593595689,
          0.94834773112565,
          -1.8003266447589534,
          -1.0044384424427626,
          0.8333440027795855,
          -0.8904685620304708
         ],
         "xaxis": "x",
         "yaxis": "y"
        },
        {
         "line": {
          "color": "rgba(128, 128, 128, 1.0)",
          "dash": "solid",
          "shape": "linear",
          "width": 1.3
         },
         "marker": {
          "size": 2,
          "symbol": "circle"
         },
         "mode": "markers",
         "name": "A",
         "text": "",
         "type": "scatter",
         "x": [
          1.5141072432731078,
          1.3170923237060794,
          -1.2513598809475768,
          -0.20275432049873324,
          0.04283920687179462,
          -0.08198349502163418,
          -0.17527587292137195,
          -0.16422933085451655,
          -0.10949108877275467,
          0.01078502521025764,
          -0.142156670759665,
          0.535117716801839,
          0.11086446473816583,
          -1.2936877961444537,
          -0.4375644008191952,
          -0.17897112491722345,
          -1.024123352271027,
          -0.33933873174526424,
          0.4260696746455677,
          -0.5625645460881664,
          0.5594555584770827,
          -0.7278302611994535,
          0.2810175524087304,
          0.9491286356166035,
          0.6243073965868807,
          -0.4771339712795888,
          0.3902324728016761,
          -1.0658694939365105,
          -0.49638173288238013,
          -0.7723608586748788,
          -0.3583424525867705,
          1.0109681194818183,
          0.30756936188984574,
          1.439887634410778,
          2.7589740571186803,
          0.013419866304679555,
          -0.8381998836780817,
          0.2809158709836502,
          -0.04285707840302234,
          1.1894315670021485,
          0.4541141891865138,
          0.7365427955903368,
          0.7615628554124507,
          0.7593673768097888,
          -1.456476130196915,
          -0.04274711258224199,
          -1.1169373827498756,
          0.26397190431587925,
          0.267896444013153,
          0.9503102026463995,
          -0.6109902535336791,
          0.9889541101801155,
          0.5394973692501939,
          0.06037484857144976,
          0.9395003143245638,
          1.0746673198039558,
          -1.8919124007160064,
          0.8911063236978104,
          0.7206902756080743,
          -0.05381056467822287,
          -0.07977933156171538,
          1.71482576145405,
          -0.5043033782351627,
          -1.629661959427632,
          0.6808764508865055,
          1.1696252116148629,
          -1.0520992102224875,
          0.687739553848473,
          -0.849204644269452,
          0.4511280211640707,
          -0.20689846332809914,
          -0.9098463581849429,
          1.6987065729946769,
          -0.16512570553715297,
          -0.256922359989604,
          1.7432405215820297,
          1.2967704364685568,
          1.4583072575830145,
          -1.4210266514879522,
          0.1331227414103682,
          1.3085817597898504,
          -0.3959354674886219,
          -1.4911834610915695,
          1.2706198453298128,
          0.6093484061842721,
          0.7111587835583064,
          1.0459312680400894,
          -0.9627794132590002,
          0.04234451007099024,
          2.253503873221812,
          -1.3102931449745447,
          -0.7049178036933245,
          0.32964633934100174,
          0.35516682842767844,
          1.6832239408703678,
          -0.21291187277689125,
          -0.04556588313452348,
          -0.34362920185315665,
          1.8283057057526904,
          -0.6443763600103907
         ],
         "xaxis": "x2",
         "y": [
          1.0228643665915085,
          2.078102285193514,
          0.5158761667916655,
          -1.4857226758011213,
          1.1077899573724663,
          0.2928304928477981,
          0.08180311043452258,
          -0.8398530251478752,
          1.3175894476736056,
          1.2978189929523019,
          0.17520201513727157,
          0.13470956074463153,
          -0.018281469699972675,
          0.8636862501760922,
          0.854931415770735,
          -2.31890408029755,
          -0.28203176898922466,
          -0.4174329968596667,
          -1.503218670415323,
          -0.18860321509438102,
          -0.7529022721721581,
          -2.570027995821825,
          -1.2277556562626448,
          1.1348793153157908,
          0.6875961744242264,
          -0.2753527351696327,
          -1.1690704197924868,
          -0.08904043768740891,
          -0.7045947505690036,
          0.7853038385361636,
          -1.8662616235543097,
          -0.6715946774492092,
          0.14140540623443235,
          1.3745450625176414,
          -0.4591638710115532,
          -1.5319228881869125,
          1.2028181597771725,
          1.2393746284609601,
          -0.6500507894760755,
          -0.21417262573551185,
          -0.9313021954607845,
          1.4704143399240799,
          -0.19491831985513233,
          -0.9638924891142663,
          -0.5602620061156413,
          1.068653338611267,
          -0.28644653661110253,
          -1.297988288985895,
          0.6231907143360257,
          0.16444560852194856,
          -2.932907068675399,
          0.3219885191550619,
          -0.028948928296179757,
          1.5784640369464342,
          -1.0274983429401636,
          -0.43916117057086185,
          -0.426287302067674,
          -0.6092424312797955,
          -0.964214418090293,
          0.746369898931979,
          0.7237930721167293,
          -0.10665138799427454,
          1.0654356336753241,
          0.4150648593531338,
          0.5325737757365044,
          1.1434825925461756,
          0.19354088689971932,
          0.9721115249390958,
          0.01669477482715258,
          -0.5505029172817046,
          0.7152130788861849,
          -0.2245739409808382,
          -1.442887718560802,
          0.7569709318575875,
          -0.47768834110432884,
          -0.29411149822300764,
          0.12293170873575046,
          2.6946585797040616,
          0.6374185448442311,
          1.2952490195484176,
          0.02672722368465936,
          0.6707412178690879,
          0.6261665975706423,
          0.9897175184180778,
          -0.6206278701414436,
          -0.39026888701340817,
          0.4893873581585123,
          -1.846657196452513,
          -1.5247262152509458,
          2.3050474743024325,
          -0.8013803613983328,
          0.07982339735858235,
          -1.3690892621838988,
          -0.9644454717774649,
          0.5352164593595689,
          0.94834773112565,
          -1.8003266447589534,
          -1.0044384424427626,
          0.8333440027795855,
          -0.8904685620304708
         ],
         "yaxis": "y2"
        },
        {
         "line": {
          "color": "rgba(128, 128, 128, 1.0)",
          "dash": "solid",
          "shape": "linear",
          "width": 1.3
         },
         "marker": {
          "size": 2,
          "symbol": "circle"
         },
         "mode": "markers",
         "name": "A",
         "text": "",
         "type": "scatter",
         "x": [
          0.6933789696749599,
          0.8631403208500658,
          0.20816096208387813,
          2.027766626104301,
          -0.43039721645765366,
          0.06385344636256578,
          2.5640511251537306,
          -0.5051416863957513,
          -0.8134108110141528,
          0.00679387045499981,
          0.7925495742162394,
          1.2025333183313203,
          -0.12409543738404143,
          -0.5631671252055999,
          1.159357237357705,
          0.21481290064624406,
          0.40248094518480815,
          -0.5478624432526507,
          -0.5878723235007826,
          0.8239210393142998,
          0.22844507451860518,
          -0.5796130484437046,
          -0.6289658218196122,
          -0.39896079305444293,
          1.2242012867487388,
          0.480892143647502,
          -0.9345506945772835,
          0.8563723470551708,
          -0.8429563250136834,
          2.5663879611310776,
          -0.8349074439915939,
          -2.542199962516889,
          2.2093776405364327,
          1.0528243549219753,
          -1.7468975526346102,
          -0.25439092637621036,
          1.1157755704141765,
          0.3975863593253244,
          -2.915159380217476,
          0.5602693736321325,
          0.6252767815188935,
          -1.2603287680392712,
          1.9546266269764132,
          0.06446636742665764,
          -1.1961102292314647,
          1.1300908450730753,
          0.8017991246560502,
          -0.8567153429967642,
          -2.6069787733253884,
          1.7870865816222623,
          -1.4327244017073455,
          -0.1513720962550858,
          1.2435130089869366,
          0.10397603412197333,
          1.1027143948619815,
          -0.8035922696495199,
          -1.3405883041634505,
          0.6036330942433228,
          0.8349624764080465,
          1.7943772604805983,
          0.9305331236629549,
          0.5571570876592357,
          0.41169386450405815,
          -1.843471820755653,
          0.4267741437543645,
          -1.6629313369516465,
          0.023387109398190234,
          0.820318790097195,
          1.5370355005866672,
          -1.7843303714898866,
          0.15983427026446828,
          -2.704123331773724,
          -1.2079609128161397,
          -0.8939980939056121,
          -0.4862841707576032,
          -0.039068165790167336,
          -0.5471109040973634,
          0.18696330228788802,
          -0.3233368961422661,
          0.016941640794040282,
          0.9644758600278682,
          1.0304756728788678,
          0.27804817571305895,
          -1.352996932479426,
          0.5266185128420701,
          0.6723639358082578,
          -0.5723976462195935,
          -1.2167158818779655,
          -1.0978024544886873,
          -0.3211680756606533,
          1.06714484777027,
          0.08709685036446932,
          0.4458233057506876,
          -0.11935925934861417,
          -0.00038358580139972347,
          -2.2938246723298508,
          1.9453414872458288,
          0.010525767464059817,
          -0.44070070812597006,
          -0.4354376878406088
         ],
         "xaxis": "x3",
         "y": [
          1.0228643665915085,
          2.078102285193514,
          0.5158761667916655,
          -1.4857226758011213,
          1.1077899573724663,
          0.2928304928477981,
          0.08180311043452258,
          -0.8398530251478752,
          1.3175894476736056,
          1.2978189929523019,
          0.17520201513727157,
          0.13470956074463153,
          -0.018281469699972675,
          0.8636862501760922,
          0.854931415770735,
          -2.31890408029755,
          -0.28203176898922466,
          -0.4174329968596667,
          -1.503218670415323,
          -0.18860321509438102,
          -0.7529022721721581,
          -2.570027995821825,
          -1.2277556562626448,
          1.1348793153157908,
          0.6875961744242264,
          -0.2753527351696327,
          -1.1690704197924868,
          -0.08904043768740891,
          -0.7045947505690036,
          0.7853038385361636,
          -1.8662616235543097,
          -0.6715946774492092,
          0.14140540623443235,
          1.3745450625176414,
          -0.4591638710115532,
          -1.5319228881869125,
          1.2028181597771725,
          1.2393746284609601,
          -0.6500507894760755,
          -0.21417262573551185,
          -0.9313021954607845,
          1.4704143399240799,
          -0.19491831985513233,
          -0.9638924891142663,
          -0.5602620061156413,
          1.068653338611267,
          -0.28644653661110253,
          -1.297988288985895,
          0.6231907143360257,
          0.16444560852194856,
          -2.932907068675399,
          0.3219885191550619,
          -0.028948928296179757,
          1.5784640369464342,
          -1.0274983429401636,
          -0.43916117057086185,
          -0.426287302067674,
          -0.6092424312797955,
          -0.964214418090293,
          0.746369898931979,
          0.7237930721167293,
          -0.10665138799427454,
          1.0654356336753241,
          0.4150648593531338,
          0.5325737757365044,
          1.1434825925461756,
          0.19354088689971932,
          0.9721115249390958,
          0.01669477482715258,
          -0.5505029172817046,
          0.7152130788861849,
          -0.2245739409808382,
          -1.442887718560802,
          0.7569709318575875,
          -0.47768834110432884,
          -0.29411149822300764,
          0.12293170873575046,
          2.6946585797040616,
          0.6374185448442311,
          1.2952490195484176,
          0.02672722368465936,
          0.6707412178690879,
          0.6261665975706423,
          0.9897175184180778,
          -0.6206278701414436,
          -0.39026888701340817,
          0.4893873581585123,
          -1.846657196452513,
          -1.5247262152509458,
          2.3050474743024325,
          -0.8013803613983328,
          0.07982339735858235,
          -1.3690892621838988,
          -0.9644454717774649,
          0.5352164593595689,
          0.94834773112565,
          -1.8003266447589534,
          -1.0044384424427626,
          0.8333440027795855,
          -0.8904685620304708
         ],
         "yaxis": "y3"
        },
        {
         "line": {
          "color": "rgba(128, 128, 128, 1.0)",
          "dash": "solid",
          "shape": "linear",
          "width": 1.3
         },
         "marker": {
          "size": 2,
          "symbol": "circle"
         },
         "mode": "markers",
         "name": "A",
         "text": "",
         "type": "scatter",
         "x": [
          0.05618971478538302,
          0.3694284858249701,
          0.9802387463529144,
          0.9626995117409148,
          1.30045524482868,
          -0.5137940100211446,
          -0.8727576999738578,
          0.30029218164598387,
          0.83408008524203,
          1.3408669469958263,
          -1.3479618664091548,
          1.219076070870195,
          -1.3820067078156808,
          1.818736510385948,
          -1.1207157690422458,
          -1.2286560742249966,
          0.31069692010745953,
          -2.0544327377169007,
          0.5657469822365534,
          -0.8001417038095807,
          -0.4024803690289098,
          -0.5370836277167435,
          0.3769729992380329,
          0.9629096725483007,
          0.24550404703639095,
          -1.3493218454371598,
          -1.0484824814980473,
          -0.08174795922658604,
          -0.9049639400993928,
          -0.19055559489371013,
          -2.3020240635680422,
          0.09865730561517631,
          0.3355882950460898,
          -0.8618295678800628,
          -1.6076234369552715,
          0.05769501880594335,
          0.13414990458887333,
          -0.1991937139681864,
          -1.3574325057580163,
          0.7204994001823675,
          -1.991905982953989,
          -0.888703240152274,
          -1.781396367342669,
          0.1562347421120147,
          0.03250033476953922,
          0.7668323467726299,
          -0.5327640820123262,
          -0.17018071968114484,
          1.2578788579865674,
          -0.5672593267071177,
          0.29162768697814406,
          0.2823327240578985,
          -0.9748926108824236,
          -0.5413941125055433,
          -1.1542748134457648,
          -0.1292875199702572,
          -0.12353472830437592,
          1.1402636483728286,
          2.070757130120264,
          -1.3038074604656575,
          0.9929080907393697,
          -0.34786058955174254,
          -1.4984267558072524,
          -0.11316292612166433,
          -0.17997302838796692,
          0.3343294988967631,
          -0.37087020805294657,
          0.5328141753084021,
          0.7086585161444137,
          0.6503420347470119,
          0.25665661168476556,
          -0.8771615056074303,
          0.9034356637533109,
          -0.3590198275238328,
          0.18436478081640245,
          -0.04049176943951113,
          -0.1480869886875453,
          -1.009593236158076,
          0.382409138290801,
          0.22010097957614003,
          0.46354439321035174,
          -1.2665940215408666,
          -0.5362984486095673,
          -0.7370341511332864,
          -0.5682873363739301,
          0.7456559564681564,
          -1.6654813743352137,
          -0.005157936976523277,
          0.09604801537763198,
          -0.24902845482014724,
          0.7500820454229407,
          -2.433195759104504,
          0.6258205399694532,
          0.2970138114157008,
          -0.05935254429281779,
          -2.189513716814099,
          1.8162448625727992,
          -0.16229090436651744,
          -0.5830018764610854,
          -0.88963055125256
         ],
         "xaxis": "x4",
         "y": [
          1.0228643665915085,
          2.078102285193514,
          0.5158761667916655,
          -1.4857226758011213,
          1.1077899573724663,
          0.2928304928477981,
          0.08180311043452258,
          -0.8398530251478752,
          1.3175894476736056,
          1.2978189929523019,
          0.17520201513727157,
          0.13470956074463153,
          -0.018281469699972675,
          0.8636862501760922,
          0.854931415770735,
          -2.31890408029755,
          -0.28203176898922466,
          -0.4174329968596667,
          -1.503218670415323,
          -0.18860321509438102,
          -0.7529022721721581,
          -2.570027995821825,
          -1.2277556562626448,
          1.1348793153157908,
          0.6875961744242264,
          -0.2753527351696327,
          -1.1690704197924868,
          -0.08904043768740891,
          -0.7045947505690036,
          0.7853038385361636,
          -1.8662616235543097,
          -0.6715946774492092,
          0.14140540623443235,
          1.3745450625176414,
          -0.4591638710115532,
          -1.5319228881869125,
          1.2028181597771725,
          1.2393746284609601,
          -0.6500507894760755,
          -0.21417262573551185,
          -0.9313021954607845,
          1.4704143399240799,
          -0.19491831985513233,
          -0.9638924891142663,
          -0.5602620061156413,
          1.068653338611267,
          -0.28644653661110253,
          -1.297988288985895,
          0.6231907143360257,
          0.16444560852194856,
          -2.932907068675399,
          0.3219885191550619,
          -0.028948928296179757,
          1.5784640369464342,
          -1.0274983429401636,
          -0.43916117057086185,
          -0.426287302067674,
          -0.6092424312797955,
          -0.964214418090293,
          0.746369898931979,
          0.7237930721167293,
          -0.10665138799427454,
          1.0654356336753241,
          0.4150648593531338,
          0.5325737757365044,
          1.1434825925461756,
          0.19354088689971932,
          0.9721115249390958,
          0.01669477482715258,
          -0.5505029172817046,
          0.7152130788861849,
          -0.2245739409808382,
          -1.442887718560802,
          0.7569709318575875,
          -0.47768834110432884,
          -0.29411149822300764,
          0.12293170873575046,
          2.6946585797040616,
          0.6374185448442311,
          1.2952490195484176,
          0.02672722368465936,
          0.6707412178690879,
          0.6261665975706423,
          0.9897175184180778,
          -0.6206278701414436,
          -0.39026888701340817,
          0.4893873581585123,
          -1.846657196452513,
          -1.5247262152509458,
          2.3050474743024325,
          -0.8013803613983328,
          0.07982339735858235,
          -1.3690892621838988,
          -0.9644454717774649,
          0.5352164593595689,
          0.94834773112565,
          -1.8003266447589534,
          -1.0044384424427626,
          0.8333440027795855,
          -0.8904685620304708
         ],
         "yaxis": "y4"
        },
        {
         "line": {
          "color": "rgba(128, 128, 128, 1.0)",
          "dash": "solid",
          "shape": "linear",
          "width": 1.3
         },
         "marker": {
          "size": 2,
          "symbol": "circle"
         },
         "mode": "markers",
         "name": "B",
         "text": "",
         "type": "scatter",
         "x": [
          1.0228643665915085,
          2.078102285193514,
          0.5158761667916655,
          -1.4857226758011213,
          1.1077899573724663,
          0.2928304928477981,
          0.08180311043452258,
          -0.8398530251478752,
          1.3175894476736056,
          1.2978189929523019,
          0.17520201513727157,
          0.13470956074463153,
          -0.018281469699972675,
          0.8636862501760922,
          0.854931415770735,
          -2.31890408029755,
          -0.28203176898922466,
          -0.4174329968596667,
          -1.503218670415323,
          -0.18860321509438102,
          -0.7529022721721581,
          -2.570027995821825,
          -1.2277556562626448,
          1.1348793153157908,
          0.6875961744242264,
          -0.2753527351696327,
          -1.1690704197924868,
          -0.08904043768740891,
          -0.7045947505690036,
          0.7853038385361636,
          -1.8662616235543097,
          -0.6715946774492092,
          0.14140540623443235,
          1.3745450625176414,
          -0.4591638710115532,
          -1.5319228881869125,
          1.2028181597771725,
          1.2393746284609601,
          -0.6500507894760755,
          -0.21417262573551185,
          -0.9313021954607845,
          1.4704143399240799,
          -0.19491831985513233,
          -0.9638924891142663,
          -0.5602620061156413,
          1.068653338611267,
          -0.28644653661110253,
          -1.297988288985895,
          0.6231907143360257,
          0.16444560852194856,
          -2.932907068675399,
          0.3219885191550619,
          -0.028948928296179757,
          1.5784640369464342,
          -1.0274983429401636,
          -0.43916117057086185,
          -0.426287302067674,
          -0.6092424312797955,
          -0.964214418090293,
          0.746369898931979,
          0.7237930721167293,
          -0.10665138799427454,
          1.0654356336753241,
          0.4150648593531338,
          0.5325737757365044,
          1.1434825925461756,
          0.19354088689971932,
          0.9721115249390958,
          0.01669477482715258,
          -0.5505029172817046,
          0.7152130788861849,
          -0.2245739409808382,
          -1.442887718560802,
          0.7569709318575875,
          -0.47768834110432884,
          -0.29411149822300764,
          0.12293170873575046,
          2.6946585797040616,
          0.6374185448442311,
          1.2952490195484176,
          0.02672722368465936,
          0.6707412178690879,
          0.6261665975706423,
          0.9897175184180778,
          -0.6206278701414436,
          -0.39026888701340817,
          0.4893873581585123,
          -1.846657196452513,
          -1.5247262152509458,
          2.3050474743024325,
          -0.8013803613983328,
          0.07982339735858235,
          -1.3690892621838988,
          -0.9644454717774649,
          0.5352164593595689,
          0.94834773112565,
          -1.8003266447589534,
          -1.0044384424427626,
          0.8333440027795855,
          -0.8904685620304708
         ],
         "xaxis": "x5",
         "y": [
          1.5141072432731078,
          1.3170923237060794,
          -1.2513598809475768,
          -0.20275432049873324,
          0.04283920687179462,
          -0.08198349502163418,
          -0.17527587292137195,
          -0.16422933085451655,
          -0.10949108877275467,
          0.01078502521025764,
          -0.142156670759665,
          0.535117716801839,
          0.11086446473816583,
          -1.2936877961444537,
          -0.4375644008191952,
          -0.17897112491722345,
          -1.024123352271027,
          -0.33933873174526424,
          0.4260696746455677,
          -0.5625645460881664,
          0.5594555584770827,
          -0.7278302611994535,
          0.2810175524087304,
          0.9491286356166035,
          0.6243073965868807,
          -0.4771339712795888,
          0.3902324728016761,
          -1.0658694939365105,
          -0.49638173288238013,
          -0.7723608586748788,
          -0.3583424525867705,
          1.0109681194818183,
          0.30756936188984574,
          1.439887634410778,
          2.7589740571186803,
          0.013419866304679555,
          -0.8381998836780817,
          0.2809158709836502,
          -0.04285707840302234,
          1.1894315670021485,
          0.4541141891865138,
          0.7365427955903368,
          0.7615628554124507,
          0.7593673768097888,
          -1.456476130196915,
          -0.04274711258224199,
          -1.1169373827498756,
          0.26397190431587925,
          0.267896444013153,
          0.9503102026463995,
          -0.6109902535336791,
          0.9889541101801155,
          0.5394973692501939,
          0.06037484857144976,
          0.9395003143245638,
          1.0746673198039558,
          -1.8919124007160064,
          0.8911063236978104,
          0.7206902756080743,
          -0.05381056467822287,
          -0.07977933156171538,
          1.71482576145405,
          -0.5043033782351627,
          -1.629661959427632,
          0.6808764508865055,
          1.1696252116148629,
          -1.0520992102224875,
          0.687739553848473,
          -0.849204644269452,
          0.4511280211640707,
          -0.20689846332809914,
          -0.9098463581849429,
          1.6987065729946769,
          -0.16512570553715297,
          -0.256922359989604,
          1.7432405215820297,
          1.2967704364685568,
          1.4583072575830145,
          -1.4210266514879522,
          0.1331227414103682,
          1.3085817597898504,
          -0.3959354674886219,
          -1.4911834610915695,
          1.2706198453298128,
          0.6093484061842721,
          0.7111587835583064,
          1.0459312680400894,
          -0.9627794132590002,
          0.04234451007099024,
          2.253503873221812,
          -1.3102931449745447,
          -0.7049178036933245,
          0.32964633934100174,
          0.35516682842767844,
          1.6832239408703678,
          -0.21291187277689125,
          -0.04556588313452348,
          -0.34362920185315665,
          1.8283057057526904,
          -0.6443763600103907
         ],
         "yaxis": "y5"
        },
        {
         "histfunc": "count",
         "histnorm": "",
         "marker": {
          "color": "rgba(55, 128, 191, 1.0)",
          "line": {
           "color": "#4D5663",
           "width": 1.3
          }
         },
         "name": "B",
         "nbinsx": 10,
         "opacity": 0.8,
         "orientation": "v",
         "type": "histogram",
         "x": [
          1.5141072432731078,
          1.3170923237060794,
          -1.2513598809475768,
          -0.20275432049873324,
          0.04283920687179462,
          -0.08198349502163418,
          -0.17527587292137195,
          -0.16422933085451655,
          -0.10949108877275467,
          0.01078502521025764,
          -0.142156670759665,
          0.535117716801839,
          0.11086446473816583,
          -1.2936877961444537,
          -0.4375644008191952,
          -0.17897112491722345,
          -1.024123352271027,
          -0.33933873174526424,
          0.4260696746455677,
          -0.5625645460881664,
          0.5594555584770827,
          -0.7278302611994535,
          0.2810175524087304,
          0.9491286356166035,
          0.6243073965868807,
          -0.4771339712795888,
          0.3902324728016761,
          -1.0658694939365105,
          -0.49638173288238013,
          -0.7723608586748788,
          -0.3583424525867705,
          1.0109681194818183,
          0.30756936188984574,
          1.439887634410778,
          2.7589740571186803,
          0.013419866304679555,
          -0.8381998836780817,
          0.2809158709836502,
          -0.04285707840302234,
          1.1894315670021485,
          0.4541141891865138,
          0.7365427955903368,
          0.7615628554124507,
          0.7593673768097888,
          -1.456476130196915,
          -0.04274711258224199,
          -1.1169373827498756,
          0.26397190431587925,
          0.267896444013153,
          0.9503102026463995,
          -0.6109902535336791,
          0.9889541101801155,
          0.5394973692501939,
          0.06037484857144976,
          0.9395003143245638,
          1.0746673198039558,
          -1.8919124007160064,
          0.8911063236978104,
          0.7206902756080743,
          -0.05381056467822287,
          -0.07977933156171538,
          1.71482576145405,
          -0.5043033782351627,
          -1.629661959427632,
          0.6808764508865055,
          1.1696252116148629,
          -1.0520992102224875,
          0.687739553848473,
          -0.849204644269452,
          0.4511280211640707,
          -0.20689846332809914,
          -0.9098463581849429,
          1.6987065729946769,
          -0.16512570553715297,
          -0.256922359989604,
          1.7432405215820297,
          1.2967704364685568,
          1.4583072575830145,
          -1.4210266514879522,
          0.1331227414103682,
          1.3085817597898504,
          -0.3959354674886219,
          -1.4911834610915695,
          1.2706198453298128,
          0.6093484061842721,
          0.7111587835583064,
          1.0459312680400894,
          -0.9627794132590002,
          0.04234451007099024,
          2.253503873221812,
          -1.3102931449745447,
          -0.7049178036933245,
          0.32964633934100174,
          0.35516682842767844,
          1.6832239408703678,
          -0.21291187277689125,
          -0.04556588313452348,
          -0.34362920185315665,
          1.8283057057526904,
          -0.6443763600103907
         ],
         "xaxis": "x6",
         "yaxis": "y6"
        },
        {
         "line": {
          "color": "rgba(128, 128, 128, 1.0)",
          "dash": "solid",
          "shape": "linear",
          "width": 1.3
         },
         "marker": {
          "size": 2,
          "symbol": "circle"
         },
         "mode": "markers",
         "name": "B",
         "text": "",
         "type": "scatter",
         "x": [
          0.6933789696749599,
          0.8631403208500658,
          0.20816096208387813,
          2.027766626104301,
          -0.43039721645765366,
          0.06385344636256578,
          2.5640511251537306,
          -0.5051416863957513,
          -0.8134108110141528,
          0.00679387045499981,
          0.7925495742162394,
          1.2025333183313203,
          -0.12409543738404143,
          -0.5631671252055999,
          1.159357237357705,
          0.21481290064624406,
          0.40248094518480815,
          -0.5478624432526507,
          -0.5878723235007826,
          0.8239210393142998,
          0.22844507451860518,
          -0.5796130484437046,
          -0.6289658218196122,
          -0.39896079305444293,
          1.2242012867487388,
          0.480892143647502,
          -0.9345506945772835,
          0.8563723470551708,
          -0.8429563250136834,
          2.5663879611310776,
          -0.8349074439915939,
          -2.542199962516889,
          2.2093776405364327,
          1.0528243549219753,
          -1.7468975526346102,
          -0.25439092637621036,
          1.1157755704141765,
          0.3975863593253244,
          -2.915159380217476,
          0.5602693736321325,
          0.6252767815188935,
          -1.2603287680392712,
          1.9546266269764132,
          0.06446636742665764,
          -1.1961102292314647,
          1.1300908450730753,
          0.8017991246560502,
          -0.8567153429967642,
          -2.6069787733253884,
          1.7870865816222623,
          -1.4327244017073455,
          -0.1513720962550858,
          1.2435130089869366,
          0.10397603412197333,
          1.1027143948619815,
          -0.8035922696495199,
          -1.3405883041634505,
          0.6036330942433228,
          0.8349624764080465,
          1.7943772604805983,
          0.9305331236629549,
          0.5571570876592357,
          0.41169386450405815,
          -1.843471820755653,
          0.4267741437543645,
          -1.6629313369516465,
          0.023387109398190234,
          0.820318790097195,
          1.5370355005866672,
          -1.7843303714898866,
          0.15983427026446828,
          -2.704123331773724,
          -1.2079609128161397,
          -0.8939980939056121,
          -0.4862841707576032,
          -0.039068165790167336,
          -0.5471109040973634,
          0.18696330228788802,
          -0.3233368961422661,
          0.016941640794040282,
          0.9644758600278682,
          1.0304756728788678,
          0.27804817571305895,
          -1.352996932479426,
          0.5266185128420701,
          0.6723639358082578,
          -0.5723976462195935,
          -1.2167158818779655,
          -1.0978024544886873,
          -0.3211680756606533,
          1.06714484777027,
          0.08709685036446932,
          0.4458233057506876,
          -0.11935925934861417,
          -0.00038358580139972347,
          -2.2938246723298508,
          1.9453414872458288,
          0.010525767464059817,
          -0.44070070812597006,
          -0.4354376878406088
         ],
         "xaxis": "x7",
         "y": [
          1.5141072432731078,
          1.3170923237060794,
          -1.2513598809475768,
          -0.20275432049873324,
          0.04283920687179462,
          -0.08198349502163418,
          -0.17527587292137195,
          -0.16422933085451655,
          -0.10949108877275467,
          0.01078502521025764,
          -0.142156670759665,
          0.535117716801839,
          0.11086446473816583,
          -1.2936877961444537,
          -0.4375644008191952,
          -0.17897112491722345,
          -1.024123352271027,
          -0.33933873174526424,
          0.4260696746455677,
          -0.5625645460881664,
          0.5594555584770827,
          -0.7278302611994535,
          0.2810175524087304,
          0.9491286356166035,
          0.6243073965868807,
          -0.4771339712795888,
          0.3902324728016761,
          -1.0658694939365105,
          -0.49638173288238013,
          -0.7723608586748788,
          -0.3583424525867705,
          1.0109681194818183,
          0.30756936188984574,
          1.439887634410778,
          2.7589740571186803,
          0.013419866304679555,
          -0.8381998836780817,
          0.2809158709836502,
          -0.04285707840302234,
          1.1894315670021485,
          0.4541141891865138,
          0.7365427955903368,
          0.7615628554124507,
          0.7593673768097888,
          -1.456476130196915,
          -0.04274711258224199,
          -1.1169373827498756,
          0.26397190431587925,
          0.267896444013153,
          0.9503102026463995,
          -0.6109902535336791,
          0.9889541101801155,
          0.5394973692501939,
          0.06037484857144976,
          0.9395003143245638,
          1.0746673198039558,
          -1.8919124007160064,
          0.8911063236978104,
          0.7206902756080743,
          -0.05381056467822287,
          -0.07977933156171538,
          1.71482576145405,
          -0.5043033782351627,
          -1.629661959427632,
          0.6808764508865055,
          1.1696252116148629,
          -1.0520992102224875,
          0.687739553848473,
          -0.849204644269452,
          0.4511280211640707,
          -0.20689846332809914,
          -0.9098463581849429,
          1.6987065729946769,
          -0.16512570553715297,
          -0.256922359989604,
          1.7432405215820297,
          1.2967704364685568,
          1.4583072575830145,
          -1.4210266514879522,
          0.1331227414103682,
          1.3085817597898504,
          -0.3959354674886219,
          -1.4911834610915695,
          1.2706198453298128,
          0.6093484061842721,
          0.7111587835583064,
          1.0459312680400894,
          -0.9627794132590002,
          0.04234451007099024,
          2.253503873221812,
          -1.3102931449745447,
          -0.7049178036933245,
          0.32964633934100174,
          0.35516682842767844,
          1.6832239408703678,
          -0.21291187277689125,
          -0.04556588313452348,
          -0.34362920185315665,
          1.8283057057526904,
          -0.6443763600103907
         ],
         "yaxis": "y7"
        },
        {
         "line": {
          "color": "rgba(128, 128, 128, 1.0)",
          "dash": "solid",
          "shape": "linear",
          "width": 1.3
         },
         "marker": {
          "size": 2,
          "symbol": "circle"
         },
         "mode": "markers",
         "name": "B",
         "text": "",
         "type": "scatter",
         "x": [
          0.05618971478538302,
          0.3694284858249701,
          0.9802387463529144,
          0.9626995117409148,
          1.30045524482868,
          -0.5137940100211446,
          -0.8727576999738578,
          0.30029218164598387,
          0.83408008524203,
          1.3408669469958263,
          -1.3479618664091548,
          1.219076070870195,
          -1.3820067078156808,
          1.818736510385948,
          -1.1207157690422458,
          -1.2286560742249966,
          0.31069692010745953,
          -2.0544327377169007,
          0.5657469822365534,
          -0.8001417038095807,
          -0.4024803690289098,
          -0.5370836277167435,
          0.3769729992380329,
          0.9629096725483007,
          0.24550404703639095,
          -1.3493218454371598,
          -1.0484824814980473,
          -0.08174795922658604,
          -0.9049639400993928,
          -0.19055559489371013,
          -2.3020240635680422,
          0.09865730561517631,
          0.3355882950460898,
          -0.8618295678800628,
          -1.6076234369552715,
          0.05769501880594335,
          0.13414990458887333,
          -0.1991937139681864,
          -1.3574325057580163,
          0.7204994001823675,
          -1.991905982953989,
          -0.888703240152274,
          -1.781396367342669,
          0.1562347421120147,
          0.03250033476953922,
          0.7668323467726299,
          -0.5327640820123262,
          -0.17018071968114484,
          1.2578788579865674,
          -0.5672593267071177,
          0.29162768697814406,
          0.2823327240578985,
          -0.9748926108824236,
          -0.5413941125055433,
          -1.1542748134457648,
          -0.1292875199702572,
          -0.12353472830437592,
          1.1402636483728286,
          2.070757130120264,
          -1.3038074604656575,
          0.9929080907393697,
          -0.34786058955174254,
          -1.4984267558072524,
          -0.11316292612166433,
          -0.17997302838796692,
          0.3343294988967631,
          -0.37087020805294657,
          0.5328141753084021,
          0.7086585161444137,
          0.6503420347470119,
          0.25665661168476556,
          -0.8771615056074303,
          0.9034356637533109,
          -0.3590198275238328,
          0.18436478081640245,
          -0.04049176943951113,
          -0.1480869886875453,
          -1.009593236158076,
          0.382409138290801,
          0.22010097957614003,
          0.46354439321035174,
          -1.2665940215408666,
          -0.5362984486095673,
          -0.7370341511332864,
          -0.5682873363739301,
          0.7456559564681564,
          -1.6654813743352137,
          -0.005157936976523277,
          0.09604801537763198,
          -0.24902845482014724,
          0.7500820454229407,
          -2.433195759104504,
          0.6258205399694532,
          0.2970138114157008,
          -0.05935254429281779,
          -2.189513716814099,
          1.8162448625727992,
          -0.16229090436651744,
          -0.5830018764610854,
          -0.88963055125256
         ],
         "xaxis": "x8",
         "y": [
          1.5141072432731078,
          1.3170923237060794,
          -1.2513598809475768,
          -0.20275432049873324,
          0.04283920687179462,
          -0.08198349502163418,
          -0.17527587292137195,
          -0.16422933085451655,
          -0.10949108877275467,
          0.01078502521025764,
          -0.142156670759665,
          0.535117716801839,
          0.11086446473816583,
          -1.2936877961444537,
          -0.4375644008191952,
          -0.17897112491722345,
          -1.024123352271027,
          -0.33933873174526424,
          0.4260696746455677,
          -0.5625645460881664,
          0.5594555584770827,
          -0.7278302611994535,
          0.2810175524087304,
          0.9491286356166035,
          0.6243073965868807,
          -0.4771339712795888,
          0.3902324728016761,
          -1.0658694939365105,
          -0.49638173288238013,
          -0.7723608586748788,
          -0.3583424525867705,
          1.0109681194818183,
          0.30756936188984574,
          1.439887634410778,
          2.7589740571186803,
          0.013419866304679555,
          -0.8381998836780817,
          0.2809158709836502,
          -0.04285707840302234,
          1.1894315670021485,
          0.4541141891865138,
          0.7365427955903368,
          0.7615628554124507,
          0.7593673768097888,
          -1.456476130196915,
          -0.04274711258224199,
          -1.1169373827498756,
          0.26397190431587925,
          0.267896444013153,
          0.9503102026463995,
          -0.6109902535336791,
          0.9889541101801155,
          0.5394973692501939,
          0.06037484857144976,
          0.9395003143245638,
          1.0746673198039558,
          -1.8919124007160064,
          0.8911063236978104,
          0.7206902756080743,
          -0.05381056467822287,
          -0.07977933156171538,
          1.71482576145405,
          -0.5043033782351627,
          -1.629661959427632,
          0.6808764508865055,
          1.1696252116148629,
          -1.0520992102224875,
          0.687739553848473,
          -0.849204644269452,
          0.4511280211640707,
          -0.20689846332809914,
          -0.9098463581849429,
          1.6987065729946769,
          -0.16512570553715297,
          -0.256922359989604,
          1.7432405215820297,
          1.2967704364685568,
          1.4583072575830145,
          -1.4210266514879522,
          0.1331227414103682,
          1.3085817597898504,
          -0.3959354674886219,
          -1.4911834610915695,
          1.2706198453298128,
          0.6093484061842721,
          0.7111587835583064,
          1.0459312680400894,
          -0.9627794132590002,
          0.04234451007099024,
          2.253503873221812,
          -1.3102931449745447,
          -0.7049178036933245,
          0.32964633934100174,
          0.35516682842767844,
          1.6832239408703678,
          -0.21291187277689125,
          -0.04556588313452348,
          -0.34362920185315665,
          1.8283057057526904,
          -0.6443763600103907
         ],
         "yaxis": "y8"
        },
        {
         "line": {
          "color": "rgba(128, 128, 128, 1.0)",
          "dash": "solid",
          "shape": "linear",
          "width": 1.3
         },
         "marker": {
          "size": 2,
          "symbol": "circle"
         },
         "mode": "markers",
         "name": "C",
         "text": "",
         "type": "scatter",
         "x": [
          1.0228643665915085,
          2.078102285193514,
          0.5158761667916655,
          -1.4857226758011213,
          1.1077899573724663,
          0.2928304928477981,
          0.08180311043452258,
          -0.8398530251478752,
          1.3175894476736056,
          1.2978189929523019,
          0.17520201513727157,
          0.13470956074463153,
          -0.018281469699972675,
          0.8636862501760922,
          0.854931415770735,
          -2.31890408029755,
          -0.28203176898922466,
          -0.4174329968596667,
          -1.503218670415323,
          -0.18860321509438102,
          -0.7529022721721581,
          -2.570027995821825,
          -1.2277556562626448,
          1.1348793153157908,
          0.6875961744242264,
          -0.2753527351696327,
          -1.1690704197924868,
          -0.08904043768740891,
          -0.7045947505690036,
          0.7853038385361636,
          -1.8662616235543097,
          -0.6715946774492092,
          0.14140540623443235,
          1.3745450625176414,
          -0.4591638710115532,
          -1.5319228881869125,
          1.2028181597771725,
          1.2393746284609601,
          -0.6500507894760755,
          -0.21417262573551185,
          -0.9313021954607845,
          1.4704143399240799,
          -0.19491831985513233,
          -0.9638924891142663,
          -0.5602620061156413,
          1.068653338611267,
          -0.28644653661110253,
          -1.297988288985895,
          0.6231907143360257,
          0.16444560852194856,
          -2.932907068675399,
          0.3219885191550619,
          -0.028948928296179757,
          1.5784640369464342,
          -1.0274983429401636,
          -0.43916117057086185,
          -0.426287302067674,
          -0.6092424312797955,
          -0.964214418090293,
          0.746369898931979,
          0.7237930721167293,
          -0.10665138799427454,
          1.0654356336753241,
          0.4150648593531338,
          0.5325737757365044,
          1.1434825925461756,
          0.19354088689971932,
          0.9721115249390958,
          0.01669477482715258,
          -0.5505029172817046,
          0.7152130788861849,
          -0.2245739409808382,
          -1.442887718560802,
          0.7569709318575875,
          -0.47768834110432884,
          -0.29411149822300764,
          0.12293170873575046,
          2.6946585797040616,
          0.6374185448442311,
          1.2952490195484176,
          0.02672722368465936,
          0.6707412178690879,
          0.6261665975706423,
          0.9897175184180778,
          -0.6206278701414436,
          -0.39026888701340817,
          0.4893873581585123,
          -1.846657196452513,
          -1.5247262152509458,
          2.3050474743024325,
          -0.8013803613983328,
          0.07982339735858235,
          -1.3690892621838988,
          -0.9644454717774649,
          0.5352164593595689,
          0.94834773112565,
          -1.8003266447589534,
          -1.0044384424427626,
          0.8333440027795855,
          -0.8904685620304708
         ],
         "xaxis": "x9",
         "y": [
          0.6933789696749599,
          0.8631403208500658,
          0.20816096208387813,
          2.027766626104301,
          -0.43039721645765366,
          0.06385344636256578,
          2.5640511251537306,
          -0.5051416863957513,
          -0.8134108110141528,
          0.00679387045499981,
          0.7925495742162394,
          1.2025333183313203,
          -0.12409543738404143,
          -0.5631671252055999,
          1.159357237357705,
          0.21481290064624406,
          0.40248094518480815,
          -0.5478624432526507,
          -0.5878723235007826,
          0.8239210393142998,
          0.22844507451860518,
          -0.5796130484437046,
          -0.6289658218196122,
          -0.39896079305444293,
          1.2242012867487388,
          0.480892143647502,
          -0.9345506945772835,
          0.8563723470551708,
          -0.8429563250136834,
          2.5663879611310776,
          -0.8349074439915939,
          -2.542199962516889,
          2.2093776405364327,
          1.0528243549219753,
          -1.7468975526346102,
          -0.25439092637621036,
          1.1157755704141765,
          0.3975863593253244,
          -2.915159380217476,
          0.5602693736321325,
          0.6252767815188935,
          -1.2603287680392712,
          1.9546266269764132,
          0.06446636742665764,
          -1.1961102292314647,
          1.1300908450730753,
          0.8017991246560502,
          -0.8567153429967642,
          -2.6069787733253884,
          1.7870865816222623,
          -1.4327244017073455,
          -0.1513720962550858,
          1.2435130089869366,
          0.10397603412197333,
          1.1027143948619815,
          -0.8035922696495199,
          -1.3405883041634505,
          0.6036330942433228,
          0.8349624764080465,
          1.7943772604805983,
          0.9305331236629549,
          0.5571570876592357,
          0.41169386450405815,
          -1.843471820755653,
          0.4267741437543645,
          -1.6629313369516465,
          0.023387109398190234,
          0.820318790097195,
          1.5370355005866672,
          -1.7843303714898866,
          0.15983427026446828,
          -2.704123331773724,
          -1.2079609128161397,
          -0.8939980939056121,
          -0.4862841707576032,
          -0.039068165790167336,
          -0.5471109040973634,
          0.18696330228788802,
          -0.3233368961422661,
          0.016941640794040282,
          0.9644758600278682,
          1.0304756728788678,
          0.27804817571305895,
          -1.352996932479426,
          0.5266185128420701,
          0.6723639358082578,
          -0.5723976462195935,
          -1.2167158818779655,
          -1.0978024544886873,
          -0.3211680756606533,
          1.06714484777027,
          0.08709685036446932,
          0.4458233057506876,
          -0.11935925934861417,
          -0.00038358580139972347,
          -2.2938246723298508,
          1.9453414872458288,
          0.010525767464059817,
          -0.44070070812597006,
          -0.4354376878406088
         ],
         "yaxis": "y9"
        },
        {
         "line": {
          "color": "rgba(128, 128, 128, 1.0)",
          "dash": "solid",
          "shape": "linear",
          "width": 1.3
         },
         "marker": {
          "size": 2,
          "symbol": "circle"
         },
         "mode": "markers",
         "name": "C",
         "text": "",
         "type": "scatter",
         "x": [
          1.5141072432731078,
          1.3170923237060794,
          -1.2513598809475768,
          -0.20275432049873324,
          0.04283920687179462,
          -0.08198349502163418,
          -0.17527587292137195,
          -0.16422933085451655,
          -0.10949108877275467,
          0.01078502521025764,
          -0.142156670759665,
          0.535117716801839,
          0.11086446473816583,
          -1.2936877961444537,
          -0.4375644008191952,
          -0.17897112491722345,
          -1.024123352271027,
          -0.33933873174526424,
          0.4260696746455677,
          -0.5625645460881664,
          0.5594555584770827,
          -0.7278302611994535,
          0.2810175524087304,
          0.9491286356166035,
          0.6243073965868807,
          -0.4771339712795888,
          0.3902324728016761,
          -1.0658694939365105,
          -0.49638173288238013,
          -0.7723608586748788,
          -0.3583424525867705,
          1.0109681194818183,
          0.30756936188984574,
          1.439887634410778,
          2.7589740571186803,
          0.013419866304679555,
          -0.8381998836780817,
          0.2809158709836502,
          -0.04285707840302234,
          1.1894315670021485,
          0.4541141891865138,
          0.7365427955903368,
          0.7615628554124507,
          0.7593673768097888,
          -1.456476130196915,
          -0.04274711258224199,
          -1.1169373827498756,
          0.26397190431587925,
          0.267896444013153,
          0.9503102026463995,
          -0.6109902535336791,
          0.9889541101801155,
          0.5394973692501939,
          0.06037484857144976,
          0.9395003143245638,
          1.0746673198039558,
          -1.8919124007160064,
          0.8911063236978104,
          0.7206902756080743,
          -0.05381056467822287,
          -0.07977933156171538,
          1.71482576145405,
          -0.5043033782351627,
          -1.629661959427632,
          0.6808764508865055,
          1.1696252116148629,
          -1.0520992102224875,
          0.687739553848473,
          -0.849204644269452,
          0.4511280211640707,
          -0.20689846332809914,
          -0.9098463581849429,
          1.6987065729946769,
          -0.16512570553715297,
          -0.256922359989604,
          1.7432405215820297,
          1.2967704364685568,
          1.4583072575830145,
          -1.4210266514879522,
          0.1331227414103682,
          1.3085817597898504,
          -0.3959354674886219,
          -1.4911834610915695,
          1.2706198453298128,
          0.6093484061842721,
          0.7111587835583064,
          1.0459312680400894,
          -0.9627794132590002,
          0.04234451007099024,
          2.253503873221812,
          -1.3102931449745447,
          -0.7049178036933245,
          0.32964633934100174,
          0.35516682842767844,
          1.6832239408703678,
          -0.21291187277689125,
          -0.04556588313452348,
          -0.34362920185315665,
          1.8283057057526904,
          -0.6443763600103907
         ],
         "xaxis": "x10",
         "y": [
          0.6933789696749599,
          0.8631403208500658,
          0.20816096208387813,
          2.027766626104301,
          -0.43039721645765366,
          0.06385344636256578,
          2.5640511251537306,
          -0.5051416863957513,
          -0.8134108110141528,
          0.00679387045499981,
          0.7925495742162394,
          1.2025333183313203,
          -0.12409543738404143,
          -0.5631671252055999,
          1.159357237357705,
          0.21481290064624406,
          0.40248094518480815,
          -0.5478624432526507,
          -0.5878723235007826,
          0.8239210393142998,
          0.22844507451860518,
          -0.5796130484437046,
          -0.6289658218196122,
          -0.39896079305444293,
          1.2242012867487388,
          0.480892143647502,
          -0.9345506945772835,
          0.8563723470551708,
          -0.8429563250136834,
          2.5663879611310776,
          -0.8349074439915939,
          -2.542199962516889,
          2.2093776405364327,
          1.0528243549219753,
          -1.7468975526346102,
          -0.25439092637621036,
          1.1157755704141765,
          0.3975863593253244,
          -2.915159380217476,
          0.5602693736321325,
          0.6252767815188935,
          -1.2603287680392712,
          1.9546266269764132,
          0.06446636742665764,
          -1.1961102292314647,
          1.1300908450730753,
          0.8017991246560502,
          -0.8567153429967642,
          -2.6069787733253884,
          1.7870865816222623,
          -1.4327244017073455,
          -0.1513720962550858,
          1.2435130089869366,
          0.10397603412197333,
          1.1027143948619815,
          -0.8035922696495199,
          -1.3405883041634505,
          0.6036330942433228,
          0.8349624764080465,
          1.7943772604805983,
          0.9305331236629549,
          0.5571570876592357,
          0.41169386450405815,
          -1.843471820755653,
          0.4267741437543645,
          -1.6629313369516465,
          0.023387109398190234,
          0.820318790097195,
          1.5370355005866672,
          -1.7843303714898866,
          0.15983427026446828,
          -2.704123331773724,
          -1.2079609128161397,
          -0.8939980939056121,
          -0.4862841707576032,
          -0.039068165790167336,
          -0.5471109040973634,
          0.18696330228788802,
          -0.3233368961422661,
          0.016941640794040282,
          0.9644758600278682,
          1.0304756728788678,
          0.27804817571305895,
          -1.352996932479426,
          0.5266185128420701,
          0.6723639358082578,
          -0.5723976462195935,
          -1.2167158818779655,
          -1.0978024544886873,
          -0.3211680756606533,
          1.06714484777027,
          0.08709685036446932,
          0.4458233057506876,
          -0.11935925934861417,
          -0.00038358580139972347,
          -2.2938246723298508,
          1.9453414872458288,
          0.010525767464059817,
          -0.44070070812597006,
          -0.4354376878406088
         ],
         "yaxis": "y10"
        },
        {
         "histfunc": "count",
         "histnorm": "",
         "marker": {
          "color": "rgba(50, 171, 96, 1.0)",
          "line": {
           "color": "#4D5663",
           "width": 1.3
          }
         },
         "name": "C",
         "nbinsx": 10,
         "opacity": 0.8,
         "orientation": "v",
         "type": "histogram",
         "x": [
          0.6933789696749599,
          0.8631403208500658,
          0.20816096208387813,
          2.027766626104301,
          -0.43039721645765366,
          0.06385344636256578,
          2.5640511251537306,
          -0.5051416863957513,
          -0.8134108110141528,
          0.00679387045499981,
          0.7925495742162394,
          1.2025333183313203,
          -0.12409543738404143,
          -0.5631671252055999,
          1.159357237357705,
          0.21481290064624406,
          0.40248094518480815,
          -0.5478624432526507,
          -0.5878723235007826,
          0.8239210393142998,
          0.22844507451860518,
          -0.5796130484437046,
          -0.6289658218196122,
          -0.39896079305444293,
          1.2242012867487388,
          0.480892143647502,
          -0.9345506945772835,
          0.8563723470551708,
          -0.8429563250136834,
          2.5663879611310776,
          -0.8349074439915939,
          -2.542199962516889,
          2.2093776405364327,
          1.0528243549219753,
          -1.7468975526346102,
          -0.25439092637621036,
          1.1157755704141765,
          0.3975863593253244,
          -2.915159380217476,
          0.5602693736321325,
          0.6252767815188935,
          -1.2603287680392712,
          1.9546266269764132,
          0.06446636742665764,
          -1.1961102292314647,
          1.1300908450730753,
          0.8017991246560502,
          -0.8567153429967642,
          -2.6069787733253884,
          1.7870865816222623,
          -1.4327244017073455,
          -0.1513720962550858,
          1.2435130089869366,
          0.10397603412197333,
          1.1027143948619815,
          -0.8035922696495199,
          -1.3405883041634505,
          0.6036330942433228,
          0.8349624764080465,
          1.7943772604805983,
          0.9305331236629549,
          0.5571570876592357,
          0.41169386450405815,
          -1.843471820755653,
          0.4267741437543645,
          -1.6629313369516465,
          0.023387109398190234,
          0.820318790097195,
          1.5370355005866672,
          -1.7843303714898866,
          0.15983427026446828,
          -2.704123331773724,
          -1.2079609128161397,
          -0.8939980939056121,
          -0.4862841707576032,
          -0.039068165790167336,
          -0.5471109040973634,
          0.18696330228788802,
          -0.3233368961422661,
          0.016941640794040282,
          0.9644758600278682,
          1.0304756728788678,
          0.27804817571305895,
          -1.352996932479426,
          0.5266185128420701,
          0.6723639358082578,
          -0.5723976462195935,
          -1.2167158818779655,
          -1.0978024544886873,
          -0.3211680756606533,
          1.06714484777027,
          0.08709685036446932,
          0.4458233057506876,
          -0.11935925934861417,
          -0.00038358580139972347,
          -2.2938246723298508,
          1.9453414872458288,
          0.010525767464059817,
          -0.44070070812597006,
          -0.4354376878406088
         ],
         "xaxis": "x11",
         "yaxis": "y11"
        },
        {
         "line": {
          "color": "rgba(128, 128, 128, 1.0)",
          "dash": "solid",
          "shape": "linear",
          "width": 1.3
         },
         "marker": {
          "size": 2,
          "symbol": "circle"
         },
         "mode": "markers",
         "name": "C",
         "text": "",
         "type": "scatter",
         "x": [
          0.05618971478538302,
          0.3694284858249701,
          0.9802387463529144,
          0.9626995117409148,
          1.30045524482868,
          -0.5137940100211446,
          -0.8727576999738578,
          0.30029218164598387,
          0.83408008524203,
          1.3408669469958263,
          -1.3479618664091548,
          1.219076070870195,
          -1.3820067078156808,
          1.818736510385948,
          -1.1207157690422458,
          -1.2286560742249966,
          0.31069692010745953,
          -2.0544327377169007,
          0.5657469822365534,
          -0.8001417038095807,
          -0.4024803690289098,
          -0.5370836277167435,
          0.3769729992380329,
          0.9629096725483007,
          0.24550404703639095,
          -1.3493218454371598,
          -1.0484824814980473,
          -0.08174795922658604,
          -0.9049639400993928,
          -0.19055559489371013,
          -2.3020240635680422,
          0.09865730561517631,
          0.3355882950460898,
          -0.8618295678800628,
          -1.6076234369552715,
          0.05769501880594335,
          0.13414990458887333,
          -0.1991937139681864,
          -1.3574325057580163,
          0.7204994001823675,
          -1.991905982953989,
          -0.888703240152274,
          -1.781396367342669,
          0.1562347421120147,
          0.03250033476953922,
          0.7668323467726299,
          -0.5327640820123262,
          -0.17018071968114484,
          1.2578788579865674,
          -0.5672593267071177,
          0.29162768697814406,
          0.2823327240578985,
          -0.9748926108824236,
          -0.5413941125055433,
          -1.1542748134457648,
          -0.1292875199702572,
          -0.12353472830437592,
          1.1402636483728286,
          2.070757130120264,
          -1.3038074604656575,
          0.9929080907393697,
          -0.34786058955174254,
          -1.4984267558072524,
          -0.11316292612166433,
          -0.17997302838796692,
          0.3343294988967631,
          -0.37087020805294657,
          0.5328141753084021,
          0.7086585161444137,
          0.6503420347470119,
          0.25665661168476556,
          -0.8771615056074303,
          0.9034356637533109,
          -0.3590198275238328,
          0.18436478081640245,
          -0.04049176943951113,
          -0.1480869886875453,
          -1.009593236158076,
          0.382409138290801,
          0.22010097957614003,
          0.46354439321035174,
          -1.2665940215408666,
          -0.5362984486095673,
          -0.7370341511332864,
          -0.5682873363739301,
          0.7456559564681564,
          -1.6654813743352137,
          -0.005157936976523277,
          0.09604801537763198,
          -0.24902845482014724,
          0.7500820454229407,
          -2.433195759104504,
          0.6258205399694532,
          0.2970138114157008,
          -0.05935254429281779,
          -2.189513716814099,
          1.8162448625727992,
          -0.16229090436651744,
          -0.5830018764610854,
          -0.88963055125256
         ],
         "xaxis": "x12",
         "y": [
          0.6933789696749599,
          0.8631403208500658,
          0.20816096208387813,
          2.027766626104301,
          -0.43039721645765366,
          0.06385344636256578,
          2.5640511251537306,
          -0.5051416863957513,
          -0.8134108110141528,
          0.00679387045499981,
          0.7925495742162394,
          1.2025333183313203,
          -0.12409543738404143,
          -0.5631671252055999,
          1.159357237357705,
          0.21481290064624406,
          0.40248094518480815,
          -0.5478624432526507,
          -0.5878723235007826,
          0.8239210393142998,
          0.22844507451860518,
          -0.5796130484437046,
          -0.6289658218196122,
          -0.39896079305444293,
          1.2242012867487388,
          0.480892143647502,
          -0.9345506945772835,
          0.8563723470551708,
          -0.8429563250136834,
          2.5663879611310776,
          -0.8349074439915939,
          -2.542199962516889,
          2.2093776405364327,
          1.0528243549219753,
          -1.7468975526346102,
          -0.25439092637621036,
          1.1157755704141765,
          0.3975863593253244,
          -2.915159380217476,
          0.5602693736321325,
          0.6252767815188935,
          -1.2603287680392712,
          1.9546266269764132,
          0.06446636742665764,
          -1.1961102292314647,
          1.1300908450730753,
          0.8017991246560502,
          -0.8567153429967642,
          -2.6069787733253884,
          1.7870865816222623,
          -1.4327244017073455,
          -0.1513720962550858,
          1.2435130089869366,
          0.10397603412197333,
          1.1027143948619815,
          -0.8035922696495199,
          -1.3405883041634505,
          0.6036330942433228,
          0.8349624764080465,
          1.7943772604805983,
          0.9305331236629549,
          0.5571570876592357,
          0.41169386450405815,
          -1.843471820755653,
          0.4267741437543645,
          -1.6629313369516465,
          0.023387109398190234,
          0.820318790097195,
          1.5370355005866672,
          -1.7843303714898866,
          0.15983427026446828,
          -2.704123331773724,
          -1.2079609128161397,
          -0.8939980939056121,
          -0.4862841707576032,
          -0.039068165790167336,
          -0.5471109040973634,
          0.18696330228788802,
          -0.3233368961422661,
          0.016941640794040282,
          0.9644758600278682,
          1.0304756728788678,
          0.27804817571305895,
          -1.352996932479426,
          0.5266185128420701,
          0.6723639358082578,
          -0.5723976462195935,
          -1.2167158818779655,
          -1.0978024544886873,
          -0.3211680756606533,
          1.06714484777027,
          0.08709685036446932,
          0.4458233057506876,
          -0.11935925934861417,
          -0.00038358580139972347,
          -2.2938246723298508,
          1.9453414872458288,
          0.010525767464059817,
          -0.44070070812597006,
          -0.4354376878406088
         ],
         "yaxis": "y12"
        },
        {
         "line": {
          "color": "rgba(128, 128, 128, 1.0)",
          "dash": "solid",
          "shape": "linear",
          "width": 1.3
         },
         "marker": {
          "size": 2,
          "symbol": "circle"
         },
         "mode": "markers",
         "name": "D",
         "text": "",
         "type": "scatter",
         "x": [
          1.0228643665915085,
          2.078102285193514,
          0.5158761667916655,
          -1.4857226758011213,
          1.1077899573724663,
          0.2928304928477981,
          0.08180311043452258,
          -0.8398530251478752,
          1.3175894476736056,
          1.2978189929523019,
          0.17520201513727157,
          0.13470956074463153,
          -0.018281469699972675,
          0.8636862501760922,
          0.854931415770735,
          -2.31890408029755,
          -0.28203176898922466,
          -0.4174329968596667,
          -1.503218670415323,
          -0.18860321509438102,
          -0.7529022721721581,
          -2.570027995821825,
          -1.2277556562626448,
          1.1348793153157908,
          0.6875961744242264,
          -0.2753527351696327,
          -1.1690704197924868,
          -0.08904043768740891,
          -0.7045947505690036,
          0.7853038385361636,
          -1.8662616235543097,
          -0.6715946774492092,
          0.14140540623443235,
          1.3745450625176414,
          -0.4591638710115532,
          -1.5319228881869125,
          1.2028181597771725,
          1.2393746284609601,
          -0.6500507894760755,
          -0.21417262573551185,
          -0.9313021954607845,
          1.4704143399240799,
          -0.19491831985513233,
          -0.9638924891142663,
          -0.5602620061156413,
          1.068653338611267,
          -0.28644653661110253,
          -1.297988288985895,
          0.6231907143360257,
          0.16444560852194856,
          -2.932907068675399,
          0.3219885191550619,
          -0.028948928296179757,
          1.5784640369464342,
          -1.0274983429401636,
          -0.43916117057086185,
          -0.426287302067674,
          -0.6092424312797955,
          -0.964214418090293,
          0.746369898931979,
          0.7237930721167293,
          -0.10665138799427454,
          1.0654356336753241,
          0.4150648593531338,
          0.5325737757365044,
          1.1434825925461756,
          0.19354088689971932,
          0.9721115249390958,
          0.01669477482715258,
          -0.5505029172817046,
          0.7152130788861849,
          -0.2245739409808382,
          -1.442887718560802,
          0.7569709318575875,
          -0.47768834110432884,
          -0.29411149822300764,
          0.12293170873575046,
          2.6946585797040616,
          0.6374185448442311,
          1.2952490195484176,
          0.02672722368465936,
          0.6707412178690879,
          0.6261665975706423,
          0.9897175184180778,
          -0.6206278701414436,
          -0.39026888701340817,
          0.4893873581585123,
          -1.846657196452513,
          -1.5247262152509458,
          2.3050474743024325,
          -0.8013803613983328,
          0.07982339735858235,
          -1.3690892621838988,
          -0.9644454717774649,
          0.5352164593595689,
          0.94834773112565,
          -1.8003266447589534,
          -1.0044384424427626,
          0.8333440027795855,
          -0.8904685620304708
         ],
         "xaxis": "x13",
         "y": [
          0.05618971478538302,
          0.3694284858249701,
          0.9802387463529144,
          0.9626995117409148,
          1.30045524482868,
          -0.5137940100211446,
          -0.8727576999738578,
          0.30029218164598387,
          0.83408008524203,
          1.3408669469958263,
          -1.3479618664091548,
          1.219076070870195,
          -1.3820067078156808,
          1.818736510385948,
          -1.1207157690422458,
          -1.2286560742249966,
          0.31069692010745953,
          -2.0544327377169007,
          0.5657469822365534,
          -0.8001417038095807,
          -0.4024803690289098,
          -0.5370836277167435,
          0.3769729992380329,
          0.9629096725483007,
          0.24550404703639095,
          -1.3493218454371598,
          -1.0484824814980473,
          -0.08174795922658604,
          -0.9049639400993928,
          -0.19055559489371013,
          -2.3020240635680422,
          0.09865730561517631,
          0.3355882950460898,
          -0.8618295678800628,
          -1.6076234369552715,
          0.05769501880594335,
          0.13414990458887333,
          -0.1991937139681864,
          -1.3574325057580163,
          0.7204994001823675,
          -1.991905982953989,
          -0.888703240152274,
          -1.781396367342669,
          0.1562347421120147,
          0.03250033476953922,
          0.7668323467726299,
          -0.5327640820123262,
          -0.17018071968114484,
          1.2578788579865674,
          -0.5672593267071177,
          0.29162768697814406,
          0.2823327240578985,
          -0.9748926108824236,
          -0.5413941125055433,
          -1.1542748134457648,
          -0.1292875199702572,
          -0.12353472830437592,
          1.1402636483728286,
          2.070757130120264,
          -1.3038074604656575,
          0.9929080907393697,
          -0.34786058955174254,
          -1.4984267558072524,
          -0.11316292612166433,
          -0.17997302838796692,
          0.3343294988967631,
          -0.37087020805294657,
          0.5328141753084021,
          0.7086585161444137,
          0.6503420347470119,
          0.25665661168476556,
          -0.8771615056074303,
          0.9034356637533109,
          -0.3590198275238328,
          0.18436478081640245,
          -0.04049176943951113,
          -0.1480869886875453,
          -1.009593236158076,
          0.382409138290801,
          0.22010097957614003,
          0.46354439321035174,
          -1.2665940215408666,
          -0.5362984486095673,
          -0.7370341511332864,
          -0.5682873363739301,
          0.7456559564681564,
          -1.6654813743352137,
          -0.005157936976523277,
          0.09604801537763198,
          -0.24902845482014724,
          0.7500820454229407,
          -2.433195759104504,
          0.6258205399694532,
          0.2970138114157008,
          -0.05935254429281779,
          -2.189513716814099,
          1.8162448625727992,
          -0.16229090436651744,
          -0.5830018764610854,
          -0.88963055125256
         ],
         "yaxis": "y13"
        },
        {
         "line": {
          "color": "rgba(128, 128, 128, 1.0)",
          "dash": "solid",
          "shape": "linear",
          "width": 1.3
         },
         "marker": {
          "size": 2,
          "symbol": "circle"
         },
         "mode": "markers",
         "name": "D",
         "text": "",
         "type": "scatter",
         "x": [
          1.5141072432731078,
          1.3170923237060794,
          -1.2513598809475768,
          -0.20275432049873324,
          0.04283920687179462,
          -0.08198349502163418,
          -0.17527587292137195,
          -0.16422933085451655,
          -0.10949108877275467,
          0.01078502521025764,
          -0.142156670759665,
          0.535117716801839,
          0.11086446473816583,
          -1.2936877961444537,
          -0.4375644008191952,
          -0.17897112491722345,
          -1.024123352271027,
          -0.33933873174526424,
          0.4260696746455677,
          -0.5625645460881664,
          0.5594555584770827,
          -0.7278302611994535,
          0.2810175524087304,
          0.9491286356166035,
          0.6243073965868807,
          -0.4771339712795888,
          0.3902324728016761,
          -1.0658694939365105,
          -0.49638173288238013,
          -0.7723608586748788,
          -0.3583424525867705,
          1.0109681194818183,
          0.30756936188984574,
          1.439887634410778,
          2.7589740571186803,
          0.013419866304679555,
          -0.8381998836780817,
          0.2809158709836502,
          -0.04285707840302234,
          1.1894315670021485,
          0.4541141891865138,
          0.7365427955903368,
          0.7615628554124507,
          0.7593673768097888,
          -1.456476130196915,
          -0.04274711258224199,
          -1.1169373827498756,
          0.26397190431587925,
          0.267896444013153,
          0.9503102026463995,
          -0.6109902535336791,
          0.9889541101801155,
          0.5394973692501939,
          0.06037484857144976,
          0.9395003143245638,
          1.0746673198039558,
          -1.8919124007160064,
          0.8911063236978104,
          0.7206902756080743,
          -0.05381056467822287,
          -0.07977933156171538,
          1.71482576145405,
          -0.5043033782351627,
          -1.629661959427632,
          0.6808764508865055,
          1.1696252116148629,
          -1.0520992102224875,
          0.687739553848473,
          -0.849204644269452,
          0.4511280211640707,
          -0.20689846332809914,
          -0.9098463581849429,
          1.6987065729946769,
          -0.16512570553715297,
          -0.256922359989604,
          1.7432405215820297,
          1.2967704364685568,
          1.4583072575830145,
          -1.4210266514879522,
          0.1331227414103682,
          1.3085817597898504,
          -0.3959354674886219,
          -1.4911834610915695,
          1.2706198453298128,
          0.6093484061842721,
          0.7111587835583064,
          1.0459312680400894,
          -0.9627794132590002,
          0.04234451007099024,
          2.253503873221812,
          -1.3102931449745447,
          -0.7049178036933245,
          0.32964633934100174,
          0.35516682842767844,
          1.6832239408703678,
          -0.21291187277689125,
          -0.04556588313452348,
          -0.34362920185315665,
          1.8283057057526904,
          -0.6443763600103907
         ],
         "xaxis": "x14",
         "y": [
          0.05618971478538302,
          0.3694284858249701,
          0.9802387463529144,
          0.9626995117409148,
          1.30045524482868,
          -0.5137940100211446,
          -0.8727576999738578,
          0.30029218164598387,
          0.83408008524203,
          1.3408669469958263,
          -1.3479618664091548,
          1.219076070870195,
          -1.3820067078156808,
          1.818736510385948,
          -1.1207157690422458,
          -1.2286560742249966,
          0.31069692010745953,
          -2.0544327377169007,
          0.5657469822365534,
          -0.8001417038095807,
          -0.4024803690289098,
          -0.5370836277167435,
          0.3769729992380329,
          0.9629096725483007,
          0.24550404703639095,
          -1.3493218454371598,
          -1.0484824814980473,
          -0.08174795922658604,
          -0.9049639400993928,
          -0.19055559489371013,
          -2.3020240635680422,
          0.09865730561517631,
          0.3355882950460898,
          -0.8618295678800628,
          -1.6076234369552715,
          0.05769501880594335,
          0.13414990458887333,
          -0.1991937139681864,
          -1.3574325057580163,
          0.7204994001823675,
          -1.991905982953989,
          -0.888703240152274,
          -1.781396367342669,
          0.1562347421120147,
          0.03250033476953922,
          0.7668323467726299,
          -0.5327640820123262,
          -0.17018071968114484,
          1.2578788579865674,
          -0.5672593267071177,
          0.29162768697814406,
          0.2823327240578985,
          -0.9748926108824236,
          -0.5413941125055433,
          -1.1542748134457648,
          -0.1292875199702572,
          -0.12353472830437592,
          1.1402636483728286,
          2.070757130120264,
          -1.3038074604656575,
          0.9929080907393697,
          -0.34786058955174254,
          -1.4984267558072524,
          -0.11316292612166433,
          -0.17997302838796692,
          0.3343294988967631,
          -0.37087020805294657,
          0.5328141753084021,
          0.7086585161444137,
          0.6503420347470119,
          0.25665661168476556,
          -0.8771615056074303,
          0.9034356637533109,
          -0.3590198275238328,
          0.18436478081640245,
          -0.04049176943951113,
          -0.1480869886875453,
          -1.009593236158076,
          0.382409138290801,
          0.22010097957614003,
          0.46354439321035174,
          -1.2665940215408666,
          -0.5362984486095673,
          -0.7370341511332864,
          -0.5682873363739301,
          0.7456559564681564,
          -1.6654813743352137,
          -0.005157936976523277,
          0.09604801537763198,
          -0.24902845482014724,
          0.7500820454229407,
          -2.433195759104504,
          0.6258205399694532,
          0.2970138114157008,
          -0.05935254429281779,
          -2.189513716814099,
          1.8162448625727992,
          -0.16229090436651744,
          -0.5830018764610854,
          -0.88963055125256
         ],
         "yaxis": "y14"
        },
        {
         "line": {
          "color": "rgba(128, 128, 128, 1.0)",
          "dash": "solid",
          "shape": "linear",
          "width": 1.3
         },
         "marker": {
          "size": 2,
          "symbol": "circle"
         },
         "mode": "markers",
         "name": "D",
         "text": "",
         "type": "scatter",
         "x": [
          0.6933789696749599,
          0.8631403208500658,
          0.20816096208387813,
          2.027766626104301,
          -0.43039721645765366,
          0.06385344636256578,
          2.5640511251537306,
          -0.5051416863957513,
          -0.8134108110141528,
          0.00679387045499981,
          0.7925495742162394,
          1.2025333183313203,
          -0.12409543738404143,
          -0.5631671252055999,
          1.159357237357705,
          0.21481290064624406,
          0.40248094518480815,
          -0.5478624432526507,
          -0.5878723235007826,
          0.8239210393142998,
          0.22844507451860518,
          -0.5796130484437046,
          -0.6289658218196122,
          -0.39896079305444293,
          1.2242012867487388,
          0.480892143647502,
          -0.9345506945772835,
          0.8563723470551708,
          -0.8429563250136834,
          2.5663879611310776,
          -0.8349074439915939,
          -2.542199962516889,
          2.2093776405364327,
          1.0528243549219753,
          -1.7468975526346102,
          -0.25439092637621036,
          1.1157755704141765,
          0.3975863593253244,
          -2.915159380217476,
          0.5602693736321325,
          0.6252767815188935,
          -1.2603287680392712,
          1.9546266269764132,
          0.06446636742665764,
          -1.1961102292314647,
          1.1300908450730753,
          0.8017991246560502,
          -0.8567153429967642,
          -2.6069787733253884,
          1.7870865816222623,
          -1.4327244017073455,
          -0.1513720962550858,
          1.2435130089869366,
          0.10397603412197333,
          1.1027143948619815,
          -0.8035922696495199,
          -1.3405883041634505,
          0.6036330942433228,
          0.8349624764080465,
          1.7943772604805983,
          0.9305331236629549,
          0.5571570876592357,
          0.41169386450405815,
          -1.843471820755653,
          0.4267741437543645,
          -1.6629313369516465,
          0.023387109398190234,
          0.820318790097195,
          1.5370355005866672,
          -1.7843303714898866,
          0.15983427026446828,
          -2.704123331773724,
          -1.2079609128161397,
          -0.8939980939056121,
          -0.4862841707576032,
          -0.039068165790167336,
          -0.5471109040973634,
          0.18696330228788802,
          -0.3233368961422661,
          0.016941640794040282,
          0.9644758600278682,
          1.0304756728788678,
          0.27804817571305895,
          -1.352996932479426,
          0.5266185128420701,
          0.6723639358082578,
          -0.5723976462195935,
          -1.2167158818779655,
          -1.0978024544886873,
          -0.3211680756606533,
          1.06714484777027,
          0.08709685036446932,
          0.4458233057506876,
          -0.11935925934861417,
          -0.00038358580139972347,
          -2.2938246723298508,
          1.9453414872458288,
          0.010525767464059817,
          -0.44070070812597006,
          -0.4354376878406088
         ],
         "xaxis": "x15",
         "y": [
          0.05618971478538302,
          0.3694284858249701,
          0.9802387463529144,
          0.9626995117409148,
          1.30045524482868,
          -0.5137940100211446,
          -0.8727576999738578,
          0.30029218164598387,
          0.83408008524203,
          1.3408669469958263,
          -1.3479618664091548,
          1.219076070870195,
          -1.3820067078156808,
          1.818736510385948,
          -1.1207157690422458,
          -1.2286560742249966,
          0.31069692010745953,
          -2.0544327377169007,
          0.5657469822365534,
          -0.8001417038095807,
          -0.4024803690289098,
          -0.5370836277167435,
          0.3769729992380329,
          0.9629096725483007,
          0.24550404703639095,
          -1.3493218454371598,
          -1.0484824814980473,
          -0.08174795922658604,
          -0.9049639400993928,
          -0.19055559489371013,
          -2.3020240635680422,
          0.09865730561517631,
          0.3355882950460898,
          -0.8618295678800628,
          -1.6076234369552715,
          0.05769501880594335,
          0.13414990458887333,
          -0.1991937139681864,
          -1.3574325057580163,
          0.7204994001823675,
          -1.991905982953989,
          -0.888703240152274,
          -1.781396367342669,
          0.1562347421120147,
          0.03250033476953922,
          0.7668323467726299,
          -0.5327640820123262,
          -0.17018071968114484,
          1.2578788579865674,
          -0.5672593267071177,
          0.29162768697814406,
          0.2823327240578985,
          -0.9748926108824236,
          -0.5413941125055433,
          -1.1542748134457648,
          -0.1292875199702572,
          -0.12353472830437592,
          1.1402636483728286,
          2.070757130120264,
          -1.3038074604656575,
          0.9929080907393697,
          -0.34786058955174254,
          -1.4984267558072524,
          -0.11316292612166433,
          -0.17997302838796692,
          0.3343294988967631,
          -0.37087020805294657,
          0.5328141753084021,
          0.7086585161444137,
          0.6503420347470119,
          0.25665661168476556,
          -0.8771615056074303,
          0.9034356637533109,
          -0.3590198275238328,
          0.18436478081640245,
          -0.04049176943951113,
          -0.1480869886875453,
          -1.009593236158076,
          0.382409138290801,
          0.22010097957614003,
          0.46354439321035174,
          -1.2665940215408666,
          -0.5362984486095673,
          -0.7370341511332864,
          -0.5682873363739301,
          0.7456559564681564,
          -1.6654813743352137,
          -0.005157936976523277,
          0.09604801537763198,
          -0.24902845482014724,
          0.7500820454229407,
          -2.433195759104504,
          0.6258205399694532,
          0.2970138114157008,
          -0.05935254429281779,
          -2.189513716814099,
          1.8162448625727992,
          -0.16229090436651744,
          -0.5830018764610854,
          -0.88963055125256
         ],
         "yaxis": "y15"
        },
        {
         "histfunc": "count",
         "histnorm": "",
         "marker": {
          "color": "rgba(128, 0, 128, 1.0)",
          "line": {
           "color": "#4D5663",
           "width": 1.3
          }
         },
         "name": "D",
         "nbinsx": 10,
         "opacity": 0.8,
         "orientation": "v",
         "type": "histogram",
         "x": [
          0.05618971478538302,
          0.3694284858249701,
          0.9802387463529144,
          0.9626995117409148,
          1.30045524482868,
          -0.5137940100211446,
          -0.8727576999738578,
          0.30029218164598387,
          0.83408008524203,
          1.3408669469958263,
          -1.3479618664091548,
          1.219076070870195,
          -1.3820067078156808,
          1.818736510385948,
          -1.1207157690422458,
          -1.2286560742249966,
          0.31069692010745953,
          -2.0544327377169007,
          0.5657469822365534,
          -0.8001417038095807,
          -0.4024803690289098,
          -0.5370836277167435,
          0.3769729992380329,
          0.9629096725483007,
          0.24550404703639095,
          -1.3493218454371598,
          -1.0484824814980473,
          -0.08174795922658604,
          -0.9049639400993928,
          -0.19055559489371013,
          -2.3020240635680422,
          0.09865730561517631,
          0.3355882950460898,
          -0.8618295678800628,
          -1.6076234369552715,
          0.05769501880594335,
          0.13414990458887333,
          -0.1991937139681864,
          -1.3574325057580163,
          0.7204994001823675,
          -1.991905982953989,
          -0.888703240152274,
          -1.781396367342669,
          0.1562347421120147,
          0.03250033476953922,
          0.7668323467726299,
          -0.5327640820123262,
          -0.17018071968114484,
          1.2578788579865674,
          -0.5672593267071177,
          0.29162768697814406,
          0.2823327240578985,
          -0.9748926108824236,
          -0.5413941125055433,
          -1.1542748134457648,
          -0.1292875199702572,
          -0.12353472830437592,
          1.1402636483728286,
          2.070757130120264,
          -1.3038074604656575,
          0.9929080907393697,
          -0.34786058955174254,
          -1.4984267558072524,
          -0.11316292612166433,
          -0.17997302838796692,
          0.3343294988967631,
          -0.37087020805294657,
          0.5328141753084021,
          0.7086585161444137,
          0.6503420347470119,
          0.25665661168476556,
          -0.8771615056074303,
          0.9034356637533109,
          -0.3590198275238328,
          0.18436478081640245,
          -0.04049176943951113,
          -0.1480869886875453,
          -1.009593236158076,
          0.382409138290801,
          0.22010097957614003,
          0.46354439321035174,
          -1.2665940215408666,
          -0.5362984486095673,
          -0.7370341511332864,
          -0.5682873363739301,
          0.7456559564681564,
          -1.6654813743352137,
          -0.005157936976523277,
          0.09604801537763198,
          -0.24902845482014724,
          0.7500820454229407,
          -2.433195759104504,
          0.6258205399694532,
          0.2970138114157008,
          -0.05935254429281779,
          -2.189513716814099,
          1.8162448625727992,
          -0.16229090436651744,
          -0.5830018764610854,
          -0.88963055125256
         ],
         "xaxis": "x16",
         "yaxis": "y16"
        }
       ],
       "layout": {
        "bargap": 0.02,
        "legend": {
         "bgcolor": "#F5F6F9",
         "font": {
          "color": "#4D5663"
         }
        },
        "paper_bgcolor": "#F5F6F9",
        "plot_bgcolor": "#F5F6F9",
        "showlegend": false,
        "template": {
         "data": {
          "bar": [
           {
            "error_x": {
             "color": "#2a3f5f"
            },
            "error_y": {
             "color": "#2a3f5f"
            },
            "marker": {
             "line": {
              "color": "#E5ECF6",
              "width": 0.5
             }
            },
            "type": "bar"
           }
          ],
          "barpolar": [
           {
            "marker": {
             "line": {
              "color": "#E5ECF6",
              "width": 0.5
             }
            },
            "type": "barpolar"
           }
          ],
          "carpet": [
           {
            "aaxis": {
             "endlinecolor": "#2a3f5f",
             "gridcolor": "white",
             "linecolor": "white",
             "minorgridcolor": "white",
             "startlinecolor": "#2a3f5f"
            },
            "baxis": {
             "endlinecolor": "#2a3f5f",
             "gridcolor": "white",
             "linecolor": "white",
             "minorgridcolor": "white",
             "startlinecolor": "#2a3f5f"
            },
            "type": "carpet"
           }
          ],
          "choropleth": [
           {
            "colorbar": {
             "outlinewidth": 0,
             "ticks": ""
            },
            "type": "choropleth"
           }
          ],
          "contour": [
           {
            "colorbar": {
             "outlinewidth": 0,
             "ticks": ""
            },
            "colorscale": [
             [
              0,
              "#0d0887"
             ],
             [
              0.1111111111111111,
              "#46039f"
             ],
             [
              0.2222222222222222,
              "#7201a8"
             ],
             [
              0.3333333333333333,
              "#9c179e"
             ],
             [
              0.4444444444444444,
              "#bd3786"
             ],
             [
              0.5555555555555556,
              "#d8576b"
             ],
             [
              0.6666666666666666,
              "#ed7953"
             ],
             [
              0.7777777777777778,
              "#fb9f3a"
             ],
             [
              0.8888888888888888,
              "#fdca26"
             ],
             [
              1,
              "#f0f921"
             ]
            ],
            "type": "contour"
           }
          ],
          "contourcarpet": [
           {
            "colorbar": {
             "outlinewidth": 0,
             "ticks": ""
            },
            "type": "contourcarpet"
           }
          ],
          "heatmap": [
           {
            "colorbar": {
             "outlinewidth": 0,
             "ticks": ""
            },
            "colorscale": [
             [
              0,
              "#0d0887"
             ],
             [
              0.1111111111111111,
              "#46039f"
             ],
             [
              0.2222222222222222,
              "#7201a8"
             ],
             [
              0.3333333333333333,
              "#9c179e"
             ],
             [
              0.4444444444444444,
              "#bd3786"
             ],
             [
              0.5555555555555556,
              "#d8576b"
             ],
             [
              0.6666666666666666,
              "#ed7953"
             ],
             [
              0.7777777777777778,
              "#fb9f3a"
             ],
             [
              0.8888888888888888,
              "#fdca26"
             ],
             [
              1,
              "#f0f921"
             ]
            ],
            "type": "heatmap"
           }
          ],
          "heatmapgl": [
           {
            "colorbar": {
             "outlinewidth": 0,
             "ticks": ""
            },
            "colorscale": [
             [
              0,
              "#0d0887"
             ],
             [
              0.1111111111111111,
              "#46039f"
             ],
             [
              0.2222222222222222,
              "#7201a8"
             ],
             [
              0.3333333333333333,
              "#9c179e"
             ],
             [
              0.4444444444444444,
              "#bd3786"
             ],
             [
              0.5555555555555556,
              "#d8576b"
             ],
             [
              0.6666666666666666,
              "#ed7953"
             ],
             [
              0.7777777777777778,
              "#fb9f3a"
             ],
             [
              0.8888888888888888,
              "#fdca26"
             ],
             [
              1,
              "#f0f921"
             ]
            ],
            "type": "heatmapgl"
           }
          ],
          "histogram": [
           {
            "marker": {
             "colorbar": {
              "outlinewidth": 0,
              "ticks": ""
             }
            },
            "type": "histogram"
           }
          ],
          "histogram2d": [
           {
            "colorbar": {
             "outlinewidth": 0,
             "ticks": ""
            },
            "colorscale": [
             [
              0,
              "#0d0887"
             ],
             [
              0.1111111111111111,
              "#46039f"
             ],
             [
              0.2222222222222222,
              "#7201a8"
             ],
             [
              0.3333333333333333,
              "#9c179e"
             ],
             [
              0.4444444444444444,
              "#bd3786"
             ],
             [
              0.5555555555555556,
              "#d8576b"
             ],
             [
              0.6666666666666666,
              "#ed7953"
             ],
             [
              0.7777777777777778,
              "#fb9f3a"
             ],
             [
              0.8888888888888888,
              "#fdca26"
             ],
             [
              1,
              "#f0f921"
             ]
            ],
            "type": "histogram2d"
           }
          ],
          "histogram2dcontour": [
           {
            "colorbar": {
             "outlinewidth": 0,
             "ticks": ""
            },
            "colorscale": [
             [
              0,
              "#0d0887"
             ],
             [
              0.1111111111111111,
              "#46039f"
             ],
             [
              0.2222222222222222,
              "#7201a8"
             ],
             [
              0.3333333333333333,
              "#9c179e"
             ],
             [
              0.4444444444444444,
              "#bd3786"
             ],
             [
              0.5555555555555556,
              "#d8576b"
             ],
             [
              0.6666666666666666,
              "#ed7953"
             ],
             [
              0.7777777777777778,
              "#fb9f3a"
             ],
             [
              0.8888888888888888,
              "#fdca26"
             ],
             [
              1,
              "#f0f921"
             ]
            ],
            "type": "histogram2dcontour"
           }
          ],
          "mesh3d": [
           {
            "colorbar": {
             "outlinewidth": 0,
             "ticks": ""
            },
            "type": "mesh3d"
           }
          ],
          "parcoords": [
           {
            "line": {
             "colorbar": {
              "outlinewidth": 0,
              "ticks": ""
             }
            },
            "type": "parcoords"
           }
          ],
          "pie": [
           {
            "automargin": true,
            "type": "pie"
           }
          ],
          "scatter": [
           {
            "marker": {
             "colorbar": {
              "outlinewidth": 0,
              "ticks": ""
             }
            },
            "type": "scatter"
           }
          ],
          "scatter3d": [
           {
            "line": {
             "colorbar": {
              "outlinewidth": 0,
              "ticks": ""
             }
            },
            "marker": {
             "colorbar": {
              "outlinewidth": 0,
              "ticks": ""
             }
            },
            "type": "scatter3d"
           }
          ],
          "scattercarpet": [
           {
            "marker": {
             "colorbar": {
              "outlinewidth": 0,
              "ticks": ""
             }
            },
            "type": "scattercarpet"
           }
          ],
          "scattergeo": [
           {
            "marker": {
             "colorbar": {
              "outlinewidth": 0,
              "ticks": ""
             }
            },
            "type": "scattergeo"
           }
          ],
          "scattergl": [
           {
            "marker": {
             "colorbar": {
              "outlinewidth": 0,
              "ticks": ""
             }
            },
            "type": "scattergl"
           }
          ],
          "scattermapbox": [
           {
            "marker": {
             "colorbar": {
              "outlinewidth": 0,
              "ticks": ""
             }
            },
            "type": "scattermapbox"
           }
          ],
          "scatterpolar": [
           {
            "marker": {
             "colorbar": {
              "outlinewidth": 0,
              "ticks": ""
             }
            },
            "type": "scatterpolar"
           }
          ],
          "scatterpolargl": [
           {
            "marker": {
             "colorbar": {
              "outlinewidth": 0,
              "ticks": ""
             }
            },
            "type": "scatterpolargl"
           }
          ],
          "scatterternary": [
           {
            "marker": {
             "colorbar": {
              "outlinewidth": 0,
              "ticks": ""
             }
            },
            "type": "scatterternary"
           }
          ],
          "surface": [
           {
            "colorbar": {
             "outlinewidth": 0,
             "ticks": ""
            },
            "colorscale": [
             [
              0,
              "#0d0887"
             ],
             [
              0.1111111111111111,
              "#46039f"
             ],
             [
              0.2222222222222222,
              "#7201a8"
             ],
             [
              0.3333333333333333,
              "#9c179e"
             ],
             [
              0.4444444444444444,
              "#bd3786"
             ],
             [
              0.5555555555555556,
              "#d8576b"
             ],
             [
              0.6666666666666666,
              "#ed7953"
             ],
             [
              0.7777777777777778,
              "#fb9f3a"
             ],
             [
              0.8888888888888888,
              "#fdca26"
             ],
             [
              1,
              "#f0f921"
             ]
            ],
            "type": "surface"
           }
          ],
          "table": [
           {
            "cells": {
             "fill": {
              "color": "#EBF0F8"
             },
             "line": {
              "color": "white"
             }
            },
            "header": {
             "fill": {
              "color": "#C8D4E3"
             },
             "line": {
              "color": "white"
             }
            },
            "type": "table"
           }
          ]
         },
         "layout": {
          "annotationdefaults": {
           "arrowcolor": "#2a3f5f",
           "arrowhead": 0,
           "arrowwidth": 1
          },
          "coloraxis": {
           "colorbar": {
            "outlinewidth": 0,
            "ticks": ""
           }
          },
          "colorscale": {
           "diverging": [
            [
             0,
             "#8e0152"
            ],
            [
             0.1,
             "#c51b7d"
            ],
            [
             0.2,
             "#de77ae"
            ],
            [
             0.3,
             "#f1b6da"
            ],
            [
             0.4,
             "#fde0ef"
            ],
            [
             0.5,
             "#f7f7f7"
            ],
            [
             0.6,
             "#e6f5d0"
            ],
            [
             0.7,
             "#b8e186"
            ],
            [
             0.8,
             "#7fbc41"
            ],
            [
             0.9,
             "#4d9221"
            ],
            [
             1,
             "#276419"
            ]
           ],
           "sequential": [
            [
             0,
             "#0d0887"
            ],
            [
             0.1111111111111111,
             "#46039f"
            ],
            [
             0.2222222222222222,
             "#7201a8"
            ],
            [
             0.3333333333333333,
             "#9c179e"
            ],
            [
             0.4444444444444444,
             "#bd3786"
            ],
            [
             0.5555555555555556,
             "#d8576b"
            ],
            [
             0.6666666666666666,
             "#ed7953"
            ],
            [
             0.7777777777777778,
             "#fb9f3a"
            ],
            [
             0.8888888888888888,
             "#fdca26"
            ],
            [
             1,
             "#f0f921"
            ]
           ],
           "sequentialminus": [
            [
             0,
             "#0d0887"
            ],
            [
             0.1111111111111111,
             "#46039f"
            ],
            [
             0.2222222222222222,
             "#7201a8"
            ],
            [
             0.3333333333333333,
             "#9c179e"
            ],
            [
             0.4444444444444444,
             "#bd3786"
            ],
            [
             0.5555555555555556,
             "#d8576b"
            ],
            [
             0.6666666666666666,
             "#ed7953"
            ],
            [
             0.7777777777777778,
             "#fb9f3a"
            ],
            [
             0.8888888888888888,
             "#fdca26"
            ],
            [
             1,
             "#f0f921"
            ]
           ]
          },
          "colorway": [
           "#636efa",
           "#EF553B",
           "#00cc96",
           "#ab63fa",
           "#FFA15A",
           "#19d3f3",
           "#FF6692",
           "#B6E880",
           "#FF97FF",
           "#FECB52"
          ],
          "font": {
           "color": "#2a3f5f"
          },
          "geo": {
           "bgcolor": "white",
           "lakecolor": "white",
           "landcolor": "#E5ECF6",
           "showlakes": true,
           "showland": true,
           "subunitcolor": "white"
          },
          "hoverlabel": {
           "align": "left"
          },
          "hovermode": "closest",
          "mapbox": {
           "style": "light"
          },
          "paper_bgcolor": "white",
          "plot_bgcolor": "#E5ECF6",
          "polar": {
           "angularaxis": {
            "gridcolor": "white",
            "linecolor": "white",
            "ticks": ""
           },
           "bgcolor": "#E5ECF6",
           "radialaxis": {
            "gridcolor": "white",
            "linecolor": "white",
            "ticks": ""
           }
          },
          "scene": {
           "xaxis": {
            "backgroundcolor": "#E5ECF6",
            "gridcolor": "white",
            "gridwidth": 2,
            "linecolor": "white",
            "showbackground": true,
            "ticks": "",
            "zerolinecolor": "white"
           },
           "yaxis": {
            "backgroundcolor": "#E5ECF6",
            "gridcolor": "white",
            "gridwidth": 2,
            "linecolor": "white",
            "showbackground": true,
            "ticks": "",
            "zerolinecolor": "white"
           },
           "zaxis": {
            "backgroundcolor": "#E5ECF6",
            "gridcolor": "white",
            "gridwidth": 2,
            "linecolor": "white",
            "showbackground": true,
            "ticks": "",
            "zerolinecolor": "white"
           }
          },
          "shapedefaults": {
           "line": {
            "color": "#2a3f5f"
           }
          },
          "ternary": {
           "aaxis": {
            "gridcolor": "white",
            "linecolor": "white",
            "ticks": ""
           },
           "baxis": {
            "gridcolor": "white",
            "linecolor": "white",
            "ticks": ""
           },
           "bgcolor": "#E5ECF6",
           "caxis": {
            "gridcolor": "white",
            "linecolor": "white",
            "ticks": ""
           }
          },
          "title": {
           "x": 0.05
          },
          "xaxis": {
           "automargin": true,
           "gridcolor": "white",
           "linecolor": "white",
           "ticks": "",
           "title": {
            "standoff": 15
           },
           "zerolinecolor": "white",
           "zerolinewidth": 2
          },
          "yaxis": {
           "automargin": true,
           "gridcolor": "white",
           "linecolor": "white",
           "ticks": "",
           "title": {
            "standoff": 15
           },
           "zerolinecolor": "white",
           "zerolinewidth": 2
          }
         }
        },
        "title": {
         "font": {
          "color": "#4D5663"
         }
        },
        "xaxis": {
         "anchor": "y",
         "domain": [
          0,
          0.2125
         ],
         "gridcolor": "#E1E5ED",
         "showgrid": false,
         "tickfont": {
          "color": "#4D5663"
         },
         "title": {
          "font": {
           "color": "#4D5663"
          },
          "text": ""
         },
         "zerolinecolor": "#E1E5ED"
        },
        "xaxis10": {
         "anchor": "y10",
         "domain": [
          0.2625,
          0.475
         ],
         "gridcolor": "#E1E5ED",
         "showgrid": false,
         "tickfont": {
          "color": "#4D5663"
         },
         "title": {
          "font": {
           "color": "#4D5663"
          },
          "text": ""
         },
         "zerolinecolor": "#E1E5ED"
        },
        "xaxis11": {
         "anchor": "y11",
         "domain": [
          0.525,
          0.7375
         ],
         "gridcolor": "#E1E5ED",
         "showgrid": false,
         "tickfont": {
          "color": "#4D5663"
         },
         "title": {
          "font": {
           "color": "#4D5663"
          },
          "text": ""
         },
         "zerolinecolor": "#E1E5ED"
        },
        "xaxis12": {
         "anchor": "y12",
         "domain": [
          0.7875,
          1
         ],
         "gridcolor": "#E1E5ED",
         "showgrid": false,
         "tickfont": {
          "color": "#4D5663"
         },
         "title": {
          "font": {
           "color": "#4D5663"
          },
          "text": ""
         },
         "zerolinecolor": "#E1E5ED"
        },
        "xaxis13": {
         "anchor": "y13",
         "domain": [
          0,
          0.2125
         ],
         "gridcolor": "#E1E5ED",
         "showgrid": false,
         "tickfont": {
          "color": "#4D5663"
         },
         "title": {
          "font": {
           "color": "#4D5663"
          },
          "text": ""
         },
         "zerolinecolor": "#E1E5ED"
        },
        "xaxis14": {
         "anchor": "y14",
         "domain": [
          0.2625,
          0.475
         ],
         "gridcolor": "#E1E5ED",
         "showgrid": false,
         "tickfont": {
          "color": "#4D5663"
         },
         "title": {
          "font": {
           "color": "#4D5663"
          },
          "text": ""
         },
         "zerolinecolor": "#E1E5ED"
        },
        "xaxis15": {
         "anchor": "y15",
         "domain": [
          0.525,
          0.7375
         ],
         "gridcolor": "#E1E5ED",
         "showgrid": false,
         "tickfont": {
          "color": "#4D5663"
         },
         "title": {
          "font": {
           "color": "#4D5663"
          },
          "text": ""
         },
         "zerolinecolor": "#E1E5ED"
        },
        "xaxis16": {
         "anchor": "y16",
         "domain": [
          0.7875,
          1
         ],
         "gridcolor": "#E1E5ED",
         "showgrid": false,
         "tickfont": {
          "color": "#4D5663"
         },
         "title": {
          "font": {
           "color": "#4D5663"
          },
          "text": ""
         },
         "zerolinecolor": "#E1E5ED"
        },
        "xaxis2": {
         "anchor": "y2",
         "domain": [
          0.2625,
          0.475
         ],
         "gridcolor": "#E1E5ED",
         "showgrid": false,
         "tickfont": {
          "color": "#4D5663"
         },
         "title": {
          "font": {
           "color": "#4D5663"
          },
          "text": ""
         },
         "zerolinecolor": "#E1E5ED"
        },
        "xaxis3": {
         "anchor": "y3",
         "domain": [
          0.525,
          0.7375
         ],
         "gridcolor": "#E1E5ED",
         "showgrid": false,
         "tickfont": {
          "color": "#4D5663"
         },
         "title": {
          "font": {
           "color": "#4D5663"
          },
          "text": ""
         },
         "zerolinecolor": "#E1E5ED"
        },
        "xaxis4": {
         "anchor": "y4",
         "domain": [
          0.7875,
          1
         ],
         "gridcolor": "#E1E5ED",
         "showgrid": false,
         "tickfont": {
          "color": "#4D5663"
         },
         "title": {
          "font": {
           "color": "#4D5663"
          },
          "text": ""
         },
         "zerolinecolor": "#E1E5ED"
        },
        "xaxis5": {
         "anchor": "y5",
         "domain": [
          0,
          0.2125
         ],
         "gridcolor": "#E1E5ED",
         "showgrid": false,
         "tickfont": {
          "color": "#4D5663"
         },
         "title": {
          "font": {
           "color": "#4D5663"
          },
          "text": ""
         },
         "zerolinecolor": "#E1E5ED"
        },
        "xaxis6": {
         "anchor": "y6",
         "domain": [
          0.2625,
          0.475
         ],
         "gridcolor": "#E1E5ED",
         "showgrid": false,
         "tickfont": {
          "color": "#4D5663"
         },
         "title": {
          "font": {
           "color": "#4D5663"
          },
          "text": ""
         },
         "zerolinecolor": "#E1E5ED"
        },
        "xaxis7": {
         "anchor": "y7",
         "domain": [
          0.525,
          0.7375
         ],
         "gridcolor": "#E1E5ED",
         "showgrid": false,
         "tickfont": {
          "color": "#4D5663"
         },
         "title": {
          "font": {
           "color": "#4D5663"
          },
          "text": ""
         },
         "zerolinecolor": "#E1E5ED"
        },
        "xaxis8": {
         "anchor": "y8",
         "domain": [
          0.7875,
          1
         ],
         "gridcolor": "#E1E5ED",
         "showgrid": false,
         "tickfont": {
          "color": "#4D5663"
         },
         "title": {
          "font": {
           "color": "#4D5663"
          },
          "text": ""
         },
         "zerolinecolor": "#E1E5ED"
        },
        "xaxis9": {
         "anchor": "y9",
         "domain": [
          0,
          0.2125
         ],
         "gridcolor": "#E1E5ED",
         "showgrid": false,
         "tickfont": {
          "color": "#4D5663"
         },
         "title": {
          "font": {
           "color": "#4D5663"
          },
          "text": ""
         },
         "zerolinecolor": "#E1E5ED"
        },
        "yaxis": {
         "anchor": "x",
         "domain": [
          0.8025,
          1
         ],
         "gridcolor": "#E1E5ED",
         "showgrid": false,
         "tickfont": {
          "color": "#4D5663"
         },
         "title": {
          "font": {
           "color": "#4D5663"
          },
          "text": ""
         },
         "zerolinecolor": "#E1E5ED"
        },
        "yaxis10": {
         "anchor": "x10",
         "domain": [
          0.2675,
          0.465
         ],
         "gridcolor": "#E1E5ED",
         "showgrid": false,
         "tickfont": {
          "color": "#4D5663"
         },
         "title": {
          "font": {
           "color": "#4D5663"
          },
          "text": ""
         },
         "zerolinecolor": "#E1E5ED"
        },
        "yaxis11": {
         "anchor": "x11",
         "domain": [
          0.2675,
          0.465
         ],
         "gridcolor": "#E1E5ED",
         "showgrid": false,
         "tickfont": {
          "color": "#4D5663"
         },
         "title": {
          "font": {
           "color": "#4D5663"
          },
          "text": ""
         },
         "zerolinecolor": "#E1E5ED"
        },
        "yaxis12": {
         "anchor": "x12",
         "domain": [
          0.2675,
          0.465
         ],
         "gridcolor": "#E1E5ED",
         "showgrid": false,
         "tickfont": {
          "color": "#4D5663"
         },
         "title": {
          "font": {
           "color": "#4D5663"
          },
          "text": ""
         },
         "zerolinecolor": "#E1E5ED"
        },
        "yaxis13": {
         "anchor": "x13",
         "domain": [
          0,
          0.1975
         ],
         "gridcolor": "#E1E5ED",
         "showgrid": false,
         "tickfont": {
          "color": "#4D5663"
         },
         "title": {
          "font": {
           "color": "#4D5663"
          },
          "text": ""
         },
         "zerolinecolor": "#E1E5ED"
        },
        "yaxis14": {
         "anchor": "x14",
         "domain": [
          0,
          0.1975
         ],
         "gridcolor": "#E1E5ED",
         "showgrid": false,
         "tickfont": {
          "color": "#4D5663"
         },
         "title": {
          "font": {
           "color": "#4D5663"
          },
          "text": ""
         },
         "zerolinecolor": "#E1E5ED"
        },
        "yaxis15": {
         "anchor": "x15",
         "domain": [
          0,
          0.1975
         ],
         "gridcolor": "#E1E5ED",
         "showgrid": false,
         "tickfont": {
          "color": "#4D5663"
         },
         "title": {
          "font": {
           "color": "#4D5663"
          },
          "text": ""
         },
         "zerolinecolor": "#E1E5ED"
        },
        "yaxis16": {
         "anchor": "x16",
         "domain": [
          0,
          0.1975
         ],
         "gridcolor": "#E1E5ED",
         "showgrid": false,
         "tickfont": {
          "color": "#4D5663"
         },
         "title": {
          "font": {
           "color": "#4D5663"
          },
          "text": ""
         },
         "zerolinecolor": "#E1E5ED"
        },
        "yaxis2": {
         "anchor": "x2",
         "domain": [
          0.8025,
          1
         ],
         "gridcolor": "#E1E5ED",
         "showgrid": false,
         "tickfont": {
          "color": "#4D5663"
         },
         "title": {
          "font": {
           "color": "#4D5663"
          },
          "text": ""
         },
         "zerolinecolor": "#E1E5ED"
        },
        "yaxis3": {
         "anchor": "x3",
         "domain": [
          0.8025,
          1
         ],
         "gridcolor": "#E1E5ED",
         "showgrid": false,
         "tickfont": {
          "color": "#4D5663"
         },
         "title": {
          "font": {
           "color": "#4D5663"
          },
          "text": ""
         },
         "zerolinecolor": "#E1E5ED"
        },
        "yaxis4": {
         "anchor": "x4",
         "domain": [
          0.8025,
          1
         ],
         "gridcolor": "#E1E5ED",
         "showgrid": false,
         "tickfont": {
          "color": "#4D5663"
         },
         "title": {
          "font": {
           "color": "#4D5663"
          },
          "text": ""
         },
         "zerolinecolor": "#E1E5ED"
        },
        "yaxis5": {
         "anchor": "x5",
         "domain": [
          0.535,
          0.7325
         ],
         "gridcolor": "#E1E5ED",
         "showgrid": false,
         "tickfont": {
          "color": "#4D5663"
         },
         "title": {
          "font": {
           "color": "#4D5663"
          },
          "text": ""
         },
         "zerolinecolor": "#E1E5ED"
        },
        "yaxis6": {
         "anchor": "x6",
         "domain": [
          0.535,
          0.7325
         ],
         "gridcolor": "#E1E5ED",
         "showgrid": false,
         "tickfont": {
          "color": "#4D5663"
         },
         "title": {
          "font": {
           "color": "#4D5663"
          },
          "text": ""
         },
         "zerolinecolor": "#E1E5ED"
        },
        "yaxis7": {
         "anchor": "x7",
         "domain": [
          0.535,
          0.7325
         ],
         "gridcolor": "#E1E5ED",
         "showgrid": false,
         "tickfont": {
          "color": "#4D5663"
         },
         "title": {
          "font": {
           "color": "#4D5663"
          },
          "text": ""
         },
         "zerolinecolor": "#E1E5ED"
        },
        "yaxis8": {
         "anchor": "x8",
         "domain": [
          0.535,
          0.7325
         ],
         "gridcolor": "#E1E5ED",
         "showgrid": false,
         "tickfont": {
          "color": "#4D5663"
         },
         "title": {
          "font": {
           "color": "#4D5663"
          },
          "text": ""
         },
         "zerolinecolor": "#E1E5ED"
        },
        "yaxis9": {
         "anchor": "x9",
         "domain": [
          0.2675,
          0.465
         ],
         "gridcolor": "#E1E5ED",
         "showgrid": false,
         "tickfont": {
          "color": "#4D5663"
         },
         "title": {
          "font": {
           "color": "#4D5663"
          },
          "text": ""
         },
         "zerolinecolor": "#E1E5ED"
        }
       }
      },
      "text/html": [
       "<div>\n",
       "        \n",
       "        \n",
       "            <div id=\"a6565520-2d95-42f4-b113-dc3a3ae68f83\" class=\"plotly-graph-div\" style=\"height:525px; width:100%;\"></div>\n",
       "            <script type=\"text/javascript\">\n",
       "                require([\"plotly\"], function(Plotly) {\n",
       "                    window.PLOTLYENV=window.PLOTLYENV || {};\n",
       "                    window.PLOTLYENV.BASE_URL='https://plot.ly';\n",
       "                    \n",
       "                if (document.getElementById(\"a6565520-2d95-42f4-b113-dc3a3ae68f83\")) {\n",
       "                    Plotly.newPlot(\n",
       "                        'a6565520-2d95-42f4-b113-dc3a3ae68f83',\n",
       "                        [{\"histfunc\": \"count\", \"histnorm\": \"\", \"marker\": {\"color\": \"rgba(255, 153, 51, 1.0)\", \"line\": {\"color\": \"#4D5663\", \"width\": 1.3}}, \"name\": \"A\", \"nbinsx\": 10, \"opacity\": 0.8, \"orientation\": \"v\", \"type\": \"histogram\", \"x\": [1.0228643665915085, 2.078102285193514, 0.5158761667916655, -1.4857226758011213, 1.1077899573724663, 0.2928304928477981, 0.08180311043452258, -0.8398530251478752, 1.3175894476736056, 1.2978189929523019, 0.17520201513727157, 0.13470956074463153, -0.018281469699972675, 0.8636862501760922, 0.854931415770735, -2.31890408029755, -0.28203176898922466, -0.4174329968596667, -1.503218670415323, -0.18860321509438102, -0.7529022721721581, -2.570027995821825, -1.2277556562626448, 1.1348793153157908, 0.6875961744242264, -0.2753527351696327, -1.1690704197924868, -0.08904043768740891, -0.7045947505690036, 0.7853038385361636, -1.8662616235543097, -0.6715946774492092, 0.14140540623443235, 1.3745450625176414, -0.4591638710115532, -1.5319228881869125, 1.2028181597771725, 1.2393746284609601, -0.6500507894760755, -0.21417262573551185, -0.9313021954607845, 1.4704143399240799, -0.19491831985513233, -0.9638924891142663, -0.5602620061156413, 1.068653338611267, -0.28644653661110253, -1.297988288985895, 0.6231907143360257, 0.16444560852194856, -2.932907068675399, 0.3219885191550619, -0.028948928296179757, 1.5784640369464342, -1.0274983429401636, -0.43916117057086185, -0.426287302067674, -0.6092424312797955, -0.964214418090293, 0.746369898931979, 0.7237930721167293, -0.10665138799427454, 1.0654356336753241, 0.4150648593531338, 0.5325737757365044, 1.1434825925461756, 0.19354088689971932, 0.9721115249390958, 0.01669477482715258, -0.5505029172817046, 0.7152130788861849, -0.2245739409808382, -1.442887718560802, 0.7569709318575875, -0.47768834110432884, -0.29411149822300764, 0.12293170873575046, 2.6946585797040616, 0.6374185448442311, 1.2952490195484176, 0.02672722368465936, 0.6707412178690879, 0.6261665975706423, 0.9897175184180778, -0.6206278701414436, -0.39026888701340817, 0.4893873581585123, -1.846657196452513, -1.5247262152509458, 2.3050474743024325, -0.8013803613983328, 0.07982339735858235, -1.3690892621838988, -0.9644454717774649, 0.5352164593595689, 0.94834773112565, -1.8003266447589534, -1.0044384424427626, 0.8333440027795855, -0.8904685620304708], \"xaxis\": \"x\", \"yaxis\": \"y\"}, {\"line\": {\"color\": \"rgba(128, 128, 128, 1.0)\", \"dash\": \"solid\", \"shape\": \"linear\", \"width\": 1.3}, \"marker\": {\"size\": 2, \"symbol\": \"circle\"}, \"mode\": \"markers\", \"name\": \"A\", \"text\": \"\", \"type\": \"scatter\", \"x\": [1.5141072432731078, 1.3170923237060794, -1.2513598809475768, -0.20275432049873324, 0.04283920687179462, -0.08198349502163418, -0.17527587292137195, -0.16422933085451655, -0.10949108877275467, 0.01078502521025764, -0.142156670759665, 0.535117716801839, 0.11086446473816583, -1.2936877961444537, -0.4375644008191952, -0.17897112491722345, -1.024123352271027, -0.33933873174526424, 0.4260696746455677, -0.5625645460881664, 0.5594555584770827, -0.7278302611994535, 0.2810175524087304, 0.9491286356166035, 0.6243073965868807, -0.4771339712795888, 0.3902324728016761, -1.0658694939365105, -0.49638173288238013, -0.7723608586748788, -0.3583424525867705, 1.0109681194818183, 0.30756936188984574, 1.439887634410778, 2.7589740571186803, 0.013419866304679555, -0.8381998836780817, 0.2809158709836502, -0.04285707840302234, 1.1894315670021485, 0.4541141891865138, 0.7365427955903368, 0.7615628554124507, 0.7593673768097888, -1.456476130196915, -0.04274711258224199, -1.1169373827498756, 0.26397190431587925, 0.267896444013153, 0.9503102026463995, -0.6109902535336791, 0.9889541101801155, 0.5394973692501939, 0.06037484857144976, 0.9395003143245638, 1.0746673198039558, -1.8919124007160064, 0.8911063236978104, 0.7206902756080743, -0.05381056467822287, -0.07977933156171538, 1.71482576145405, -0.5043033782351627, -1.629661959427632, 0.6808764508865055, 1.1696252116148629, -1.0520992102224875, 0.687739553848473, -0.849204644269452, 0.4511280211640707, -0.20689846332809914, -0.9098463581849429, 1.6987065729946769, -0.16512570553715297, -0.256922359989604, 1.7432405215820297, 1.2967704364685568, 1.4583072575830145, -1.4210266514879522, 0.1331227414103682, 1.3085817597898504, -0.3959354674886219, -1.4911834610915695, 1.2706198453298128, 0.6093484061842721, 0.7111587835583064, 1.0459312680400894, -0.9627794132590002, 0.04234451007099024, 2.253503873221812, -1.3102931449745447, -0.7049178036933245, 0.32964633934100174, 0.35516682842767844, 1.6832239408703678, -0.21291187277689125, -0.04556588313452348, -0.34362920185315665, 1.8283057057526904, -0.6443763600103907], \"xaxis\": \"x2\", \"y\": [1.0228643665915085, 2.078102285193514, 0.5158761667916655, -1.4857226758011213, 1.1077899573724663, 0.2928304928477981, 0.08180311043452258, -0.8398530251478752, 1.3175894476736056, 1.2978189929523019, 0.17520201513727157, 0.13470956074463153, -0.018281469699972675, 0.8636862501760922, 0.854931415770735, -2.31890408029755, -0.28203176898922466, -0.4174329968596667, -1.503218670415323, -0.18860321509438102, -0.7529022721721581, -2.570027995821825, -1.2277556562626448, 1.1348793153157908, 0.6875961744242264, -0.2753527351696327, -1.1690704197924868, -0.08904043768740891, -0.7045947505690036, 0.7853038385361636, -1.8662616235543097, -0.6715946774492092, 0.14140540623443235, 1.3745450625176414, -0.4591638710115532, -1.5319228881869125, 1.2028181597771725, 1.2393746284609601, -0.6500507894760755, -0.21417262573551185, -0.9313021954607845, 1.4704143399240799, -0.19491831985513233, -0.9638924891142663, -0.5602620061156413, 1.068653338611267, -0.28644653661110253, -1.297988288985895, 0.6231907143360257, 0.16444560852194856, -2.932907068675399, 0.3219885191550619, -0.028948928296179757, 1.5784640369464342, -1.0274983429401636, -0.43916117057086185, -0.426287302067674, -0.6092424312797955, -0.964214418090293, 0.746369898931979, 0.7237930721167293, -0.10665138799427454, 1.0654356336753241, 0.4150648593531338, 0.5325737757365044, 1.1434825925461756, 0.19354088689971932, 0.9721115249390958, 0.01669477482715258, -0.5505029172817046, 0.7152130788861849, -0.2245739409808382, -1.442887718560802, 0.7569709318575875, -0.47768834110432884, -0.29411149822300764, 0.12293170873575046, 2.6946585797040616, 0.6374185448442311, 1.2952490195484176, 0.02672722368465936, 0.6707412178690879, 0.6261665975706423, 0.9897175184180778, -0.6206278701414436, -0.39026888701340817, 0.4893873581585123, -1.846657196452513, -1.5247262152509458, 2.3050474743024325, -0.8013803613983328, 0.07982339735858235, -1.3690892621838988, -0.9644454717774649, 0.5352164593595689, 0.94834773112565, -1.8003266447589534, -1.0044384424427626, 0.8333440027795855, -0.8904685620304708], \"yaxis\": \"y2\"}, {\"line\": {\"color\": \"rgba(128, 128, 128, 1.0)\", \"dash\": \"solid\", \"shape\": \"linear\", \"width\": 1.3}, \"marker\": {\"size\": 2, \"symbol\": \"circle\"}, \"mode\": \"markers\", \"name\": \"A\", \"text\": \"\", \"type\": \"scatter\", \"x\": [0.6933789696749599, 0.8631403208500658, 0.20816096208387813, 2.027766626104301, -0.43039721645765366, 0.06385344636256578, 2.5640511251537306, -0.5051416863957513, -0.8134108110141528, 0.00679387045499981, 0.7925495742162394, 1.2025333183313203, -0.12409543738404143, -0.5631671252055999, 1.159357237357705, 0.21481290064624406, 0.40248094518480815, -0.5478624432526507, -0.5878723235007826, 0.8239210393142998, 0.22844507451860518, -0.5796130484437046, -0.6289658218196122, -0.39896079305444293, 1.2242012867487388, 0.480892143647502, -0.9345506945772835, 0.8563723470551708, -0.8429563250136834, 2.5663879611310776, -0.8349074439915939, -2.542199962516889, 2.2093776405364327, 1.0528243549219753, -1.7468975526346102, -0.25439092637621036, 1.1157755704141765, 0.3975863593253244, -2.915159380217476, 0.5602693736321325, 0.6252767815188935, -1.2603287680392712, 1.9546266269764132, 0.06446636742665764, -1.1961102292314647, 1.1300908450730753, 0.8017991246560502, -0.8567153429967642, -2.6069787733253884, 1.7870865816222623, -1.4327244017073455, -0.1513720962550858, 1.2435130089869366, 0.10397603412197333, 1.1027143948619815, -0.8035922696495199, -1.3405883041634505, 0.6036330942433228, 0.8349624764080465, 1.7943772604805983, 0.9305331236629549, 0.5571570876592357, 0.41169386450405815, -1.843471820755653, 0.4267741437543645, -1.6629313369516465, 0.023387109398190234, 0.820318790097195, 1.5370355005866672, -1.7843303714898866, 0.15983427026446828, -2.704123331773724, -1.2079609128161397, -0.8939980939056121, -0.4862841707576032, -0.039068165790167336, -0.5471109040973634, 0.18696330228788802, -0.3233368961422661, 0.016941640794040282, 0.9644758600278682, 1.0304756728788678, 0.27804817571305895, -1.352996932479426, 0.5266185128420701, 0.6723639358082578, -0.5723976462195935, -1.2167158818779655, -1.0978024544886873, -0.3211680756606533, 1.06714484777027, 0.08709685036446932, 0.4458233057506876, -0.11935925934861417, -0.00038358580139972347, -2.2938246723298508, 1.9453414872458288, 0.010525767464059817, -0.44070070812597006, -0.4354376878406088], \"xaxis\": \"x3\", \"y\": [1.0228643665915085, 2.078102285193514, 0.5158761667916655, -1.4857226758011213, 1.1077899573724663, 0.2928304928477981, 0.08180311043452258, -0.8398530251478752, 1.3175894476736056, 1.2978189929523019, 0.17520201513727157, 0.13470956074463153, -0.018281469699972675, 0.8636862501760922, 0.854931415770735, -2.31890408029755, -0.28203176898922466, -0.4174329968596667, -1.503218670415323, -0.18860321509438102, -0.7529022721721581, -2.570027995821825, -1.2277556562626448, 1.1348793153157908, 0.6875961744242264, -0.2753527351696327, -1.1690704197924868, -0.08904043768740891, -0.7045947505690036, 0.7853038385361636, -1.8662616235543097, -0.6715946774492092, 0.14140540623443235, 1.3745450625176414, -0.4591638710115532, -1.5319228881869125, 1.2028181597771725, 1.2393746284609601, -0.6500507894760755, -0.21417262573551185, -0.9313021954607845, 1.4704143399240799, -0.19491831985513233, -0.9638924891142663, -0.5602620061156413, 1.068653338611267, -0.28644653661110253, -1.297988288985895, 0.6231907143360257, 0.16444560852194856, -2.932907068675399, 0.3219885191550619, -0.028948928296179757, 1.5784640369464342, -1.0274983429401636, -0.43916117057086185, -0.426287302067674, -0.6092424312797955, -0.964214418090293, 0.746369898931979, 0.7237930721167293, -0.10665138799427454, 1.0654356336753241, 0.4150648593531338, 0.5325737757365044, 1.1434825925461756, 0.19354088689971932, 0.9721115249390958, 0.01669477482715258, -0.5505029172817046, 0.7152130788861849, -0.2245739409808382, -1.442887718560802, 0.7569709318575875, -0.47768834110432884, -0.29411149822300764, 0.12293170873575046, 2.6946585797040616, 0.6374185448442311, 1.2952490195484176, 0.02672722368465936, 0.6707412178690879, 0.6261665975706423, 0.9897175184180778, -0.6206278701414436, -0.39026888701340817, 0.4893873581585123, -1.846657196452513, -1.5247262152509458, 2.3050474743024325, -0.8013803613983328, 0.07982339735858235, -1.3690892621838988, -0.9644454717774649, 0.5352164593595689, 0.94834773112565, -1.8003266447589534, -1.0044384424427626, 0.8333440027795855, -0.8904685620304708], \"yaxis\": \"y3\"}, {\"line\": {\"color\": \"rgba(128, 128, 128, 1.0)\", \"dash\": \"solid\", \"shape\": \"linear\", \"width\": 1.3}, \"marker\": {\"size\": 2, \"symbol\": \"circle\"}, \"mode\": \"markers\", \"name\": \"A\", \"text\": \"\", \"type\": \"scatter\", \"x\": [0.05618971478538302, 0.3694284858249701, 0.9802387463529144, 0.9626995117409148, 1.30045524482868, -0.5137940100211446, -0.8727576999738578, 0.30029218164598387, 0.83408008524203, 1.3408669469958263, -1.3479618664091548, 1.219076070870195, -1.3820067078156808, 1.818736510385948, -1.1207157690422458, -1.2286560742249966, 0.31069692010745953, -2.0544327377169007, 0.5657469822365534, -0.8001417038095807, -0.4024803690289098, -0.5370836277167435, 0.3769729992380329, 0.9629096725483007, 0.24550404703639095, -1.3493218454371598, -1.0484824814980473, -0.08174795922658604, -0.9049639400993928, -0.19055559489371013, -2.3020240635680422, 0.09865730561517631, 0.3355882950460898, -0.8618295678800628, -1.6076234369552715, 0.05769501880594335, 0.13414990458887333, -0.1991937139681864, -1.3574325057580163, 0.7204994001823675, -1.991905982953989, -0.888703240152274, -1.781396367342669, 0.1562347421120147, 0.03250033476953922, 0.7668323467726299, -0.5327640820123262, -0.17018071968114484, 1.2578788579865674, -0.5672593267071177, 0.29162768697814406, 0.2823327240578985, -0.9748926108824236, -0.5413941125055433, -1.1542748134457648, -0.1292875199702572, -0.12353472830437592, 1.1402636483728286, 2.070757130120264, -1.3038074604656575, 0.9929080907393697, -0.34786058955174254, -1.4984267558072524, -0.11316292612166433, -0.17997302838796692, 0.3343294988967631, -0.37087020805294657, 0.5328141753084021, 0.7086585161444137, 0.6503420347470119, 0.25665661168476556, -0.8771615056074303, 0.9034356637533109, -0.3590198275238328, 0.18436478081640245, -0.04049176943951113, -0.1480869886875453, -1.009593236158076, 0.382409138290801, 0.22010097957614003, 0.46354439321035174, -1.2665940215408666, -0.5362984486095673, -0.7370341511332864, -0.5682873363739301, 0.7456559564681564, -1.6654813743352137, -0.005157936976523277, 0.09604801537763198, -0.24902845482014724, 0.7500820454229407, -2.433195759104504, 0.6258205399694532, 0.2970138114157008, -0.05935254429281779, -2.189513716814099, 1.8162448625727992, -0.16229090436651744, -0.5830018764610854, -0.88963055125256], \"xaxis\": \"x4\", \"y\": [1.0228643665915085, 2.078102285193514, 0.5158761667916655, -1.4857226758011213, 1.1077899573724663, 0.2928304928477981, 0.08180311043452258, -0.8398530251478752, 1.3175894476736056, 1.2978189929523019, 0.17520201513727157, 0.13470956074463153, -0.018281469699972675, 0.8636862501760922, 0.854931415770735, -2.31890408029755, -0.28203176898922466, -0.4174329968596667, -1.503218670415323, -0.18860321509438102, -0.7529022721721581, -2.570027995821825, -1.2277556562626448, 1.1348793153157908, 0.6875961744242264, -0.2753527351696327, -1.1690704197924868, -0.08904043768740891, -0.7045947505690036, 0.7853038385361636, -1.8662616235543097, -0.6715946774492092, 0.14140540623443235, 1.3745450625176414, -0.4591638710115532, -1.5319228881869125, 1.2028181597771725, 1.2393746284609601, -0.6500507894760755, -0.21417262573551185, -0.9313021954607845, 1.4704143399240799, -0.19491831985513233, -0.9638924891142663, -0.5602620061156413, 1.068653338611267, -0.28644653661110253, -1.297988288985895, 0.6231907143360257, 0.16444560852194856, -2.932907068675399, 0.3219885191550619, -0.028948928296179757, 1.5784640369464342, -1.0274983429401636, -0.43916117057086185, -0.426287302067674, -0.6092424312797955, -0.964214418090293, 0.746369898931979, 0.7237930721167293, -0.10665138799427454, 1.0654356336753241, 0.4150648593531338, 0.5325737757365044, 1.1434825925461756, 0.19354088689971932, 0.9721115249390958, 0.01669477482715258, -0.5505029172817046, 0.7152130788861849, -0.2245739409808382, -1.442887718560802, 0.7569709318575875, -0.47768834110432884, -0.29411149822300764, 0.12293170873575046, 2.6946585797040616, 0.6374185448442311, 1.2952490195484176, 0.02672722368465936, 0.6707412178690879, 0.6261665975706423, 0.9897175184180778, -0.6206278701414436, -0.39026888701340817, 0.4893873581585123, -1.846657196452513, -1.5247262152509458, 2.3050474743024325, -0.8013803613983328, 0.07982339735858235, -1.3690892621838988, -0.9644454717774649, 0.5352164593595689, 0.94834773112565, -1.8003266447589534, -1.0044384424427626, 0.8333440027795855, -0.8904685620304708], \"yaxis\": \"y4\"}, {\"line\": {\"color\": \"rgba(128, 128, 128, 1.0)\", \"dash\": \"solid\", \"shape\": \"linear\", \"width\": 1.3}, \"marker\": {\"size\": 2, \"symbol\": \"circle\"}, \"mode\": \"markers\", \"name\": \"B\", \"text\": \"\", \"type\": \"scatter\", \"x\": [1.0228643665915085, 2.078102285193514, 0.5158761667916655, -1.4857226758011213, 1.1077899573724663, 0.2928304928477981, 0.08180311043452258, -0.8398530251478752, 1.3175894476736056, 1.2978189929523019, 0.17520201513727157, 0.13470956074463153, -0.018281469699972675, 0.8636862501760922, 0.854931415770735, -2.31890408029755, -0.28203176898922466, -0.4174329968596667, -1.503218670415323, -0.18860321509438102, -0.7529022721721581, -2.570027995821825, -1.2277556562626448, 1.1348793153157908, 0.6875961744242264, -0.2753527351696327, -1.1690704197924868, -0.08904043768740891, -0.7045947505690036, 0.7853038385361636, -1.8662616235543097, -0.6715946774492092, 0.14140540623443235, 1.3745450625176414, -0.4591638710115532, -1.5319228881869125, 1.2028181597771725, 1.2393746284609601, -0.6500507894760755, -0.21417262573551185, -0.9313021954607845, 1.4704143399240799, -0.19491831985513233, -0.9638924891142663, -0.5602620061156413, 1.068653338611267, -0.28644653661110253, -1.297988288985895, 0.6231907143360257, 0.16444560852194856, -2.932907068675399, 0.3219885191550619, -0.028948928296179757, 1.5784640369464342, -1.0274983429401636, -0.43916117057086185, -0.426287302067674, -0.6092424312797955, -0.964214418090293, 0.746369898931979, 0.7237930721167293, -0.10665138799427454, 1.0654356336753241, 0.4150648593531338, 0.5325737757365044, 1.1434825925461756, 0.19354088689971932, 0.9721115249390958, 0.01669477482715258, -0.5505029172817046, 0.7152130788861849, -0.2245739409808382, -1.442887718560802, 0.7569709318575875, -0.47768834110432884, -0.29411149822300764, 0.12293170873575046, 2.6946585797040616, 0.6374185448442311, 1.2952490195484176, 0.02672722368465936, 0.6707412178690879, 0.6261665975706423, 0.9897175184180778, -0.6206278701414436, -0.39026888701340817, 0.4893873581585123, -1.846657196452513, -1.5247262152509458, 2.3050474743024325, -0.8013803613983328, 0.07982339735858235, -1.3690892621838988, -0.9644454717774649, 0.5352164593595689, 0.94834773112565, -1.8003266447589534, -1.0044384424427626, 0.8333440027795855, -0.8904685620304708], \"xaxis\": \"x5\", \"y\": [1.5141072432731078, 1.3170923237060794, -1.2513598809475768, -0.20275432049873324, 0.04283920687179462, -0.08198349502163418, -0.17527587292137195, -0.16422933085451655, -0.10949108877275467, 0.01078502521025764, -0.142156670759665, 0.535117716801839, 0.11086446473816583, -1.2936877961444537, -0.4375644008191952, -0.17897112491722345, -1.024123352271027, -0.33933873174526424, 0.4260696746455677, -0.5625645460881664, 0.5594555584770827, -0.7278302611994535, 0.2810175524087304, 0.9491286356166035, 0.6243073965868807, -0.4771339712795888, 0.3902324728016761, -1.0658694939365105, -0.49638173288238013, -0.7723608586748788, -0.3583424525867705, 1.0109681194818183, 0.30756936188984574, 1.439887634410778, 2.7589740571186803, 0.013419866304679555, -0.8381998836780817, 0.2809158709836502, -0.04285707840302234, 1.1894315670021485, 0.4541141891865138, 0.7365427955903368, 0.7615628554124507, 0.7593673768097888, -1.456476130196915, -0.04274711258224199, -1.1169373827498756, 0.26397190431587925, 0.267896444013153, 0.9503102026463995, -0.6109902535336791, 0.9889541101801155, 0.5394973692501939, 0.06037484857144976, 0.9395003143245638, 1.0746673198039558, -1.8919124007160064, 0.8911063236978104, 0.7206902756080743, -0.05381056467822287, -0.07977933156171538, 1.71482576145405, -0.5043033782351627, -1.629661959427632, 0.6808764508865055, 1.1696252116148629, -1.0520992102224875, 0.687739553848473, -0.849204644269452, 0.4511280211640707, -0.20689846332809914, -0.9098463581849429, 1.6987065729946769, -0.16512570553715297, -0.256922359989604, 1.7432405215820297, 1.2967704364685568, 1.4583072575830145, -1.4210266514879522, 0.1331227414103682, 1.3085817597898504, -0.3959354674886219, -1.4911834610915695, 1.2706198453298128, 0.6093484061842721, 0.7111587835583064, 1.0459312680400894, -0.9627794132590002, 0.04234451007099024, 2.253503873221812, -1.3102931449745447, -0.7049178036933245, 0.32964633934100174, 0.35516682842767844, 1.6832239408703678, -0.21291187277689125, -0.04556588313452348, -0.34362920185315665, 1.8283057057526904, -0.6443763600103907], \"yaxis\": \"y5\"}, {\"histfunc\": \"count\", \"histnorm\": \"\", \"marker\": {\"color\": \"rgba(55, 128, 191, 1.0)\", \"line\": {\"color\": \"#4D5663\", \"width\": 1.3}}, \"name\": \"B\", \"nbinsx\": 10, \"opacity\": 0.8, \"orientation\": \"v\", \"type\": \"histogram\", \"x\": [1.5141072432731078, 1.3170923237060794, -1.2513598809475768, -0.20275432049873324, 0.04283920687179462, -0.08198349502163418, -0.17527587292137195, -0.16422933085451655, -0.10949108877275467, 0.01078502521025764, -0.142156670759665, 0.535117716801839, 0.11086446473816583, -1.2936877961444537, -0.4375644008191952, -0.17897112491722345, -1.024123352271027, -0.33933873174526424, 0.4260696746455677, -0.5625645460881664, 0.5594555584770827, -0.7278302611994535, 0.2810175524087304, 0.9491286356166035, 0.6243073965868807, -0.4771339712795888, 0.3902324728016761, -1.0658694939365105, -0.49638173288238013, -0.7723608586748788, -0.3583424525867705, 1.0109681194818183, 0.30756936188984574, 1.439887634410778, 2.7589740571186803, 0.013419866304679555, -0.8381998836780817, 0.2809158709836502, -0.04285707840302234, 1.1894315670021485, 0.4541141891865138, 0.7365427955903368, 0.7615628554124507, 0.7593673768097888, -1.456476130196915, -0.04274711258224199, -1.1169373827498756, 0.26397190431587925, 0.267896444013153, 0.9503102026463995, -0.6109902535336791, 0.9889541101801155, 0.5394973692501939, 0.06037484857144976, 0.9395003143245638, 1.0746673198039558, -1.8919124007160064, 0.8911063236978104, 0.7206902756080743, -0.05381056467822287, -0.07977933156171538, 1.71482576145405, -0.5043033782351627, -1.629661959427632, 0.6808764508865055, 1.1696252116148629, -1.0520992102224875, 0.687739553848473, -0.849204644269452, 0.4511280211640707, -0.20689846332809914, -0.9098463581849429, 1.6987065729946769, -0.16512570553715297, -0.256922359989604, 1.7432405215820297, 1.2967704364685568, 1.4583072575830145, -1.4210266514879522, 0.1331227414103682, 1.3085817597898504, -0.3959354674886219, -1.4911834610915695, 1.2706198453298128, 0.6093484061842721, 0.7111587835583064, 1.0459312680400894, -0.9627794132590002, 0.04234451007099024, 2.253503873221812, -1.3102931449745447, -0.7049178036933245, 0.32964633934100174, 0.35516682842767844, 1.6832239408703678, -0.21291187277689125, -0.04556588313452348, -0.34362920185315665, 1.8283057057526904, -0.6443763600103907], \"xaxis\": \"x6\", \"yaxis\": \"y6\"}, {\"line\": {\"color\": \"rgba(128, 128, 128, 1.0)\", \"dash\": \"solid\", \"shape\": \"linear\", \"width\": 1.3}, \"marker\": {\"size\": 2, \"symbol\": \"circle\"}, \"mode\": \"markers\", \"name\": \"B\", \"text\": \"\", \"type\": \"scatter\", \"x\": [0.6933789696749599, 0.8631403208500658, 0.20816096208387813, 2.027766626104301, -0.43039721645765366, 0.06385344636256578, 2.5640511251537306, -0.5051416863957513, -0.8134108110141528, 0.00679387045499981, 0.7925495742162394, 1.2025333183313203, -0.12409543738404143, -0.5631671252055999, 1.159357237357705, 0.21481290064624406, 0.40248094518480815, -0.5478624432526507, -0.5878723235007826, 0.8239210393142998, 0.22844507451860518, -0.5796130484437046, -0.6289658218196122, -0.39896079305444293, 1.2242012867487388, 0.480892143647502, -0.9345506945772835, 0.8563723470551708, -0.8429563250136834, 2.5663879611310776, -0.8349074439915939, -2.542199962516889, 2.2093776405364327, 1.0528243549219753, -1.7468975526346102, -0.25439092637621036, 1.1157755704141765, 0.3975863593253244, -2.915159380217476, 0.5602693736321325, 0.6252767815188935, -1.2603287680392712, 1.9546266269764132, 0.06446636742665764, -1.1961102292314647, 1.1300908450730753, 0.8017991246560502, -0.8567153429967642, -2.6069787733253884, 1.7870865816222623, -1.4327244017073455, -0.1513720962550858, 1.2435130089869366, 0.10397603412197333, 1.1027143948619815, -0.8035922696495199, -1.3405883041634505, 0.6036330942433228, 0.8349624764080465, 1.7943772604805983, 0.9305331236629549, 0.5571570876592357, 0.41169386450405815, -1.843471820755653, 0.4267741437543645, -1.6629313369516465, 0.023387109398190234, 0.820318790097195, 1.5370355005866672, -1.7843303714898866, 0.15983427026446828, -2.704123331773724, -1.2079609128161397, -0.8939980939056121, -0.4862841707576032, -0.039068165790167336, -0.5471109040973634, 0.18696330228788802, -0.3233368961422661, 0.016941640794040282, 0.9644758600278682, 1.0304756728788678, 0.27804817571305895, -1.352996932479426, 0.5266185128420701, 0.6723639358082578, -0.5723976462195935, -1.2167158818779655, -1.0978024544886873, -0.3211680756606533, 1.06714484777027, 0.08709685036446932, 0.4458233057506876, -0.11935925934861417, -0.00038358580139972347, -2.2938246723298508, 1.9453414872458288, 0.010525767464059817, -0.44070070812597006, -0.4354376878406088], \"xaxis\": \"x7\", \"y\": [1.5141072432731078, 1.3170923237060794, -1.2513598809475768, -0.20275432049873324, 0.04283920687179462, -0.08198349502163418, -0.17527587292137195, -0.16422933085451655, -0.10949108877275467, 0.01078502521025764, -0.142156670759665, 0.535117716801839, 0.11086446473816583, -1.2936877961444537, -0.4375644008191952, -0.17897112491722345, -1.024123352271027, -0.33933873174526424, 0.4260696746455677, -0.5625645460881664, 0.5594555584770827, -0.7278302611994535, 0.2810175524087304, 0.9491286356166035, 0.6243073965868807, -0.4771339712795888, 0.3902324728016761, -1.0658694939365105, -0.49638173288238013, -0.7723608586748788, -0.3583424525867705, 1.0109681194818183, 0.30756936188984574, 1.439887634410778, 2.7589740571186803, 0.013419866304679555, -0.8381998836780817, 0.2809158709836502, -0.04285707840302234, 1.1894315670021485, 0.4541141891865138, 0.7365427955903368, 0.7615628554124507, 0.7593673768097888, -1.456476130196915, -0.04274711258224199, -1.1169373827498756, 0.26397190431587925, 0.267896444013153, 0.9503102026463995, -0.6109902535336791, 0.9889541101801155, 0.5394973692501939, 0.06037484857144976, 0.9395003143245638, 1.0746673198039558, -1.8919124007160064, 0.8911063236978104, 0.7206902756080743, -0.05381056467822287, -0.07977933156171538, 1.71482576145405, -0.5043033782351627, -1.629661959427632, 0.6808764508865055, 1.1696252116148629, -1.0520992102224875, 0.687739553848473, -0.849204644269452, 0.4511280211640707, -0.20689846332809914, -0.9098463581849429, 1.6987065729946769, -0.16512570553715297, -0.256922359989604, 1.7432405215820297, 1.2967704364685568, 1.4583072575830145, -1.4210266514879522, 0.1331227414103682, 1.3085817597898504, -0.3959354674886219, -1.4911834610915695, 1.2706198453298128, 0.6093484061842721, 0.7111587835583064, 1.0459312680400894, -0.9627794132590002, 0.04234451007099024, 2.253503873221812, -1.3102931449745447, -0.7049178036933245, 0.32964633934100174, 0.35516682842767844, 1.6832239408703678, -0.21291187277689125, -0.04556588313452348, -0.34362920185315665, 1.8283057057526904, -0.6443763600103907], \"yaxis\": \"y7\"}, {\"line\": {\"color\": \"rgba(128, 128, 128, 1.0)\", \"dash\": \"solid\", \"shape\": \"linear\", \"width\": 1.3}, \"marker\": {\"size\": 2, \"symbol\": \"circle\"}, \"mode\": \"markers\", \"name\": \"B\", \"text\": \"\", \"type\": \"scatter\", \"x\": [0.05618971478538302, 0.3694284858249701, 0.9802387463529144, 0.9626995117409148, 1.30045524482868, -0.5137940100211446, -0.8727576999738578, 0.30029218164598387, 0.83408008524203, 1.3408669469958263, -1.3479618664091548, 1.219076070870195, -1.3820067078156808, 1.818736510385948, -1.1207157690422458, -1.2286560742249966, 0.31069692010745953, -2.0544327377169007, 0.5657469822365534, -0.8001417038095807, -0.4024803690289098, -0.5370836277167435, 0.3769729992380329, 0.9629096725483007, 0.24550404703639095, -1.3493218454371598, -1.0484824814980473, -0.08174795922658604, -0.9049639400993928, -0.19055559489371013, -2.3020240635680422, 0.09865730561517631, 0.3355882950460898, -0.8618295678800628, -1.6076234369552715, 0.05769501880594335, 0.13414990458887333, -0.1991937139681864, -1.3574325057580163, 0.7204994001823675, -1.991905982953989, -0.888703240152274, -1.781396367342669, 0.1562347421120147, 0.03250033476953922, 0.7668323467726299, -0.5327640820123262, -0.17018071968114484, 1.2578788579865674, -0.5672593267071177, 0.29162768697814406, 0.2823327240578985, -0.9748926108824236, -0.5413941125055433, -1.1542748134457648, -0.1292875199702572, -0.12353472830437592, 1.1402636483728286, 2.070757130120264, -1.3038074604656575, 0.9929080907393697, -0.34786058955174254, -1.4984267558072524, -0.11316292612166433, -0.17997302838796692, 0.3343294988967631, -0.37087020805294657, 0.5328141753084021, 0.7086585161444137, 0.6503420347470119, 0.25665661168476556, -0.8771615056074303, 0.9034356637533109, -0.3590198275238328, 0.18436478081640245, -0.04049176943951113, -0.1480869886875453, -1.009593236158076, 0.382409138290801, 0.22010097957614003, 0.46354439321035174, -1.2665940215408666, -0.5362984486095673, -0.7370341511332864, -0.5682873363739301, 0.7456559564681564, -1.6654813743352137, -0.005157936976523277, 0.09604801537763198, -0.24902845482014724, 0.7500820454229407, -2.433195759104504, 0.6258205399694532, 0.2970138114157008, -0.05935254429281779, -2.189513716814099, 1.8162448625727992, -0.16229090436651744, -0.5830018764610854, -0.88963055125256], \"xaxis\": \"x8\", \"y\": [1.5141072432731078, 1.3170923237060794, -1.2513598809475768, -0.20275432049873324, 0.04283920687179462, -0.08198349502163418, -0.17527587292137195, -0.16422933085451655, -0.10949108877275467, 0.01078502521025764, -0.142156670759665, 0.535117716801839, 0.11086446473816583, -1.2936877961444537, -0.4375644008191952, -0.17897112491722345, -1.024123352271027, -0.33933873174526424, 0.4260696746455677, -0.5625645460881664, 0.5594555584770827, -0.7278302611994535, 0.2810175524087304, 0.9491286356166035, 0.6243073965868807, -0.4771339712795888, 0.3902324728016761, -1.0658694939365105, -0.49638173288238013, -0.7723608586748788, -0.3583424525867705, 1.0109681194818183, 0.30756936188984574, 1.439887634410778, 2.7589740571186803, 0.013419866304679555, -0.8381998836780817, 0.2809158709836502, -0.04285707840302234, 1.1894315670021485, 0.4541141891865138, 0.7365427955903368, 0.7615628554124507, 0.7593673768097888, -1.456476130196915, -0.04274711258224199, -1.1169373827498756, 0.26397190431587925, 0.267896444013153, 0.9503102026463995, -0.6109902535336791, 0.9889541101801155, 0.5394973692501939, 0.06037484857144976, 0.9395003143245638, 1.0746673198039558, -1.8919124007160064, 0.8911063236978104, 0.7206902756080743, -0.05381056467822287, -0.07977933156171538, 1.71482576145405, -0.5043033782351627, -1.629661959427632, 0.6808764508865055, 1.1696252116148629, -1.0520992102224875, 0.687739553848473, -0.849204644269452, 0.4511280211640707, -0.20689846332809914, -0.9098463581849429, 1.6987065729946769, -0.16512570553715297, -0.256922359989604, 1.7432405215820297, 1.2967704364685568, 1.4583072575830145, -1.4210266514879522, 0.1331227414103682, 1.3085817597898504, -0.3959354674886219, -1.4911834610915695, 1.2706198453298128, 0.6093484061842721, 0.7111587835583064, 1.0459312680400894, -0.9627794132590002, 0.04234451007099024, 2.253503873221812, -1.3102931449745447, -0.7049178036933245, 0.32964633934100174, 0.35516682842767844, 1.6832239408703678, -0.21291187277689125, -0.04556588313452348, -0.34362920185315665, 1.8283057057526904, -0.6443763600103907], \"yaxis\": \"y8\"}, {\"line\": {\"color\": \"rgba(128, 128, 128, 1.0)\", \"dash\": \"solid\", \"shape\": \"linear\", \"width\": 1.3}, \"marker\": {\"size\": 2, \"symbol\": \"circle\"}, \"mode\": \"markers\", \"name\": \"C\", \"text\": \"\", \"type\": \"scatter\", \"x\": [1.0228643665915085, 2.078102285193514, 0.5158761667916655, -1.4857226758011213, 1.1077899573724663, 0.2928304928477981, 0.08180311043452258, -0.8398530251478752, 1.3175894476736056, 1.2978189929523019, 0.17520201513727157, 0.13470956074463153, -0.018281469699972675, 0.8636862501760922, 0.854931415770735, -2.31890408029755, -0.28203176898922466, -0.4174329968596667, -1.503218670415323, -0.18860321509438102, -0.7529022721721581, -2.570027995821825, -1.2277556562626448, 1.1348793153157908, 0.6875961744242264, -0.2753527351696327, -1.1690704197924868, -0.08904043768740891, -0.7045947505690036, 0.7853038385361636, -1.8662616235543097, -0.6715946774492092, 0.14140540623443235, 1.3745450625176414, -0.4591638710115532, -1.5319228881869125, 1.2028181597771725, 1.2393746284609601, -0.6500507894760755, -0.21417262573551185, -0.9313021954607845, 1.4704143399240799, -0.19491831985513233, -0.9638924891142663, -0.5602620061156413, 1.068653338611267, -0.28644653661110253, -1.297988288985895, 0.6231907143360257, 0.16444560852194856, -2.932907068675399, 0.3219885191550619, -0.028948928296179757, 1.5784640369464342, -1.0274983429401636, -0.43916117057086185, -0.426287302067674, -0.6092424312797955, -0.964214418090293, 0.746369898931979, 0.7237930721167293, -0.10665138799427454, 1.0654356336753241, 0.4150648593531338, 0.5325737757365044, 1.1434825925461756, 0.19354088689971932, 0.9721115249390958, 0.01669477482715258, -0.5505029172817046, 0.7152130788861849, -0.2245739409808382, -1.442887718560802, 0.7569709318575875, -0.47768834110432884, -0.29411149822300764, 0.12293170873575046, 2.6946585797040616, 0.6374185448442311, 1.2952490195484176, 0.02672722368465936, 0.6707412178690879, 0.6261665975706423, 0.9897175184180778, -0.6206278701414436, -0.39026888701340817, 0.4893873581585123, -1.846657196452513, -1.5247262152509458, 2.3050474743024325, -0.8013803613983328, 0.07982339735858235, -1.3690892621838988, -0.9644454717774649, 0.5352164593595689, 0.94834773112565, -1.8003266447589534, -1.0044384424427626, 0.8333440027795855, -0.8904685620304708], \"xaxis\": \"x9\", \"y\": [0.6933789696749599, 0.8631403208500658, 0.20816096208387813, 2.027766626104301, -0.43039721645765366, 0.06385344636256578, 2.5640511251537306, -0.5051416863957513, -0.8134108110141528, 0.00679387045499981, 0.7925495742162394, 1.2025333183313203, -0.12409543738404143, -0.5631671252055999, 1.159357237357705, 0.21481290064624406, 0.40248094518480815, -0.5478624432526507, -0.5878723235007826, 0.8239210393142998, 0.22844507451860518, -0.5796130484437046, -0.6289658218196122, -0.39896079305444293, 1.2242012867487388, 0.480892143647502, -0.9345506945772835, 0.8563723470551708, -0.8429563250136834, 2.5663879611310776, -0.8349074439915939, -2.542199962516889, 2.2093776405364327, 1.0528243549219753, -1.7468975526346102, -0.25439092637621036, 1.1157755704141765, 0.3975863593253244, -2.915159380217476, 0.5602693736321325, 0.6252767815188935, -1.2603287680392712, 1.9546266269764132, 0.06446636742665764, -1.1961102292314647, 1.1300908450730753, 0.8017991246560502, -0.8567153429967642, -2.6069787733253884, 1.7870865816222623, -1.4327244017073455, -0.1513720962550858, 1.2435130089869366, 0.10397603412197333, 1.1027143948619815, -0.8035922696495199, -1.3405883041634505, 0.6036330942433228, 0.8349624764080465, 1.7943772604805983, 0.9305331236629549, 0.5571570876592357, 0.41169386450405815, -1.843471820755653, 0.4267741437543645, -1.6629313369516465, 0.023387109398190234, 0.820318790097195, 1.5370355005866672, -1.7843303714898866, 0.15983427026446828, -2.704123331773724, -1.2079609128161397, -0.8939980939056121, -0.4862841707576032, -0.039068165790167336, -0.5471109040973634, 0.18696330228788802, -0.3233368961422661, 0.016941640794040282, 0.9644758600278682, 1.0304756728788678, 0.27804817571305895, -1.352996932479426, 0.5266185128420701, 0.6723639358082578, -0.5723976462195935, -1.2167158818779655, -1.0978024544886873, -0.3211680756606533, 1.06714484777027, 0.08709685036446932, 0.4458233057506876, -0.11935925934861417, -0.00038358580139972347, -2.2938246723298508, 1.9453414872458288, 0.010525767464059817, -0.44070070812597006, -0.4354376878406088], \"yaxis\": \"y9\"}, {\"line\": {\"color\": \"rgba(128, 128, 128, 1.0)\", \"dash\": \"solid\", \"shape\": \"linear\", \"width\": 1.3}, \"marker\": {\"size\": 2, \"symbol\": \"circle\"}, \"mode\": \"markers\", \"name\": \"C\", \"text\": \"\", \"type\": \"scatter\", \"x\": [1.5141072432731078, 1.3170923237060794, -1.2513598809475768, -0.20275432049873324, 0.04283920687179462, -0.08198349502163418, -0.17527587292137195, -0.16422933085451655, -0.10949108877275467, 0.01078502521025764, -0.142156670759665, 0.535117716801839, 0.11086446473816583, -1.2936877961444537, -0.4375644008191952, -0.17897112491722345, -1.024123352271027, -0.33933873174526424, 0.4260696746455677, -0.5625645460881664, 0.5594555584770827, -0.7278302611994535, 0.2810175524087304, 0.9491286356166035, 0.6243073965868807, -0.4771339712795888, 0.3902324728016761, -1.0658694939365105, -0.49638173288238013, -0.7723608586748788, -0.3583424525867705, 1.0109681194818183, 0.30756936188984574, 1.439887634410778, 2.7589740571186803, 0.013419866304679555, -0.8381998836780817, 0.2809158709836502, -0.04285707840302234, 1.1894315670021485, 0.4541141891865138, 0.7365427955903368, 0.7615628554124507, 0.7593673768097888, -1.456476130196915, -0.04274711258224199, -1.1169373827498756, 0.26397190431587925, 0.267896444013153, 0.9503102026463995, -0.6109902535336791, 0.9889541101801155, 0.5394973692501939, 0.06037484857144976, 0.9395003143245638, 1.0746673198039558, -1.8919124007160064, 0.8911063236978104, 0.7206902756080743, -0.05381056467822287, -0.07977933156171538, 1.71482576145405, -0.5043033782351627, -1.629661959427632, 0.6808764508865055, 1.1696252116148629, -1.0520992102224875, 0.687739553848473, -0.849204644269452, 0.4511280211640707, -0.20689846332809914, -0.9098463581849429, 1.6987065729946769, -0.16512570553715297, -0.256922359989604, 1.7432405215820297, 1.2967704364685568, 1.4583072575830145, -1.4210266514879522, 0.1331227414103682, 1.3085817597898504, -0.3959354674886219, -1.4911834610915695, 1.2706198453298128, 0.6093484061842721, 0.7111587835583064, 1.0459312680400894, -0.9627794132590002, 0.04234451007099024, 2.253503873221812, -1.3102931449745447, -0.7049178036933245, 0.32964633934100174, 0.35516682842767844, 1.6832239408703678, -0.21291187277689125, -0.04556588313452348, -0.34362920185315665, 1.8283057057526904, -0.6443763600103907], \"xaxis\": \"x10\", \"y\": [0.6933789696749599, 0.8631403208500658, 0.20816096208387813, 2.027766626104301, -0.43039721645765366, 0.06385344636256578, 2.5640511251537306, -0.5051416863957513, -0.8134108110141528, 0.00679387045499981, 0.7925495742162394, 1.2025333183313203, -0.12409543738404143, -0.5631671252055999, 1.159357237357705, 0.21481290064624406, 0.40248094518480815, -0.5478624432526507, -0.5878723235007826, 0.8239210393142998, 0.22844507451860518, -0.5796130484437046, -0.6289658218196122, -0.39896079305444293, 1.2242012867487388, 0.480892143647502, -0.9345506945772835, 0.8563723470551708, -0.8429563250136834, 2.5663879611310776, -0.8349074439915939, -2.542199962516889, 2.2093776405364327, 1.0528243549219753, -1.7468975526346102, -0.25439092637621036, 1.1157755704141765, 0.3975863593253244, -2.915159380217476, 0.5602693736321325, 0.6252767815188935, -1.2603287680392712, 1.9546266269764132, 0.06446636742665764, -1.1961102292314647, 1.1300908450730753, 0.8017991246560502, -0.8567153429967642, -2.6069787733253884, 1.7870865816222623, -1.4327244017073455, -0.1513720962550858, 1.2435130089869366, 0.10397603412197333, 1.1027143948619815, -0.8035922696495199, -1.3405883041634505, 0.6036330942433228, 0.8349624764080465, 1.7943772604805983, 0.9305331236629549, 0.5571570876592357, 0.41169386450405815, -1.843471820755653, 0.4267741437543645, -1.6629313369516465, 0.023387109398190234, 0.820318790097195, 1.5370355005866672, -1.7843303714898866, 0.15983427026446828, -2.704123331773724, -1.2079609128161397, -0.8939980939056121, -0.4862841707576032, -0.039068165790167336, -0.5471109040973634, 0.18696330228788802, -0.3233368961422661, 0.016941640794040282, 0.9644758600278682, 1.0304756728788678, 0.27804817571305895, -1.352996932479426, 0.5266185128420701, 0.6723639358082578, -0.5723976462195935, -1.2167158818779655, -1.0978024544886873, -0.3211680756606533, 1.06714484777027, 0.08709685036446932, 0.4458233057506876, -0.11935925934861417, -0.00038358580139972347, -2.2938246723298508, 1.9453414872458288, 0.010525767464059817, -0.44070070812597006, -0.4354376878406088], \"yaxis\": \"y10\"}, {\"histfunc\": \"count\", \"histnorm\": \"\", \"marker\": {\"color\": \"rgba(50, 171, 96, 1.0)\", \"line\": {\"color\": \"#4D5663\", \"width\": 1.3}}, \"name\": \"C\", \"nbinsx\": 10, \"opacity\": 0.8, \"orientation\": \"v\", \"type\": \"histogram\", \"x\": [0.6933789696749599, 0.8631403208500658, 0.20816096208387813, 2.027766626104301, -0.43039721645765366, 0.06385344636256578, 2.5640511251537306, -0.5051416863957513, -0.8134108110141528, 0.00679387045499981, 0.7925495742162394, 1.2025333183313203, -0.12409543738404143, -0.5631671252055999, 1.159357237357705, 0.21481290064624406, 0.40248094518480815, -0.5478624432526507, -0.5878723235007826, 0.8239210393142998, 0.22844507451860518, -0.5796130484437046, -0.6289658218196122, -0.39896079305444293, 1.2242012867487388, 0.480892143647502, -0.9345506945772835, 0.8563723470551708, -0.8429563250136834, 2.5663879611310776, -0.8349074439915939, -2.542199962516889, 2.2093776405364327, 1.0528243549219753, -1.7468975526346102, -0.25439092637621036, 1.1157755704141765, 0.3975863593253244, -2.915159380217476, 0.5602693736321325, 0.6252767815188935, -1.2603287680392712, 1.9546266269764132, 0.06446636742665764, -1.1961102292314647, 1.1300908450730753, 0.8017991246560502, -0.8567153429967642, -2.6069787733253884, 1.7870865816222623, -1.4327244017073455, -0.1513720962550858, 1.2435130089869366, 0.10397603412197333, 1.1027143948619815, -0.8035922696495199, -1.3405883041634505, 0.6036330942433228, 0.8349624764080465, 1.7943772604805983, 0.9305331236629549, 0.5571570876592357, 0.41169386450405815, -1.843471820755653, 0.4267741437543645, -1.6629313369516465, 0.023387109398190234, 0.820318790097195, 1.5370355005866672, -1.7843303714898866, 0.15983427026446828, -2.704123331773724, -1.2079609128161397, -0.8939980939056121, -0.4862841707576032, -0.039068165790167336, -0.5471109040973634, 0.18696330228788802, -0.3233368961422661, 0.016941640794040282, 0.9644758600278682, 1.0304756728788678, 0.27804817571305895, -1.352996932479426, 0.5266185128420701, 0.6723639358082578, -0.5723976462195935, -1.2167158818779655, -1.0978024544886873, -0.3211680756606533, 1.06714484777027, 0.08709685036446932, 0.4458233057506876, -0.11935925934861417, -0.00038358580139972347, -2.2938246723298508, 1.9453414872458288, 0.010525767464059817, -0.44070070812597006, -0.4354376878406088], \"xaxis\": \"x11\", \"yaxis\": \"y11\"}, {\"line\": {\"color\": \"rgba(128, 128, 128, 1.0)\", \"dash\": \"solid\", \"shape\": \"linear\", \"width\": 1.3}, \"marker\": {\"size\": 2, \"symbol\": \"circle\"}, \"mode\": \"markers\", \"name\": \"C\", \"text\": \"\", \"type\": \"scatter\", \"x\": [0.05618971478538302, 0.3694284858249701, 0.9802387463529144, 0.9626995117409148, 1.30045524482868, -0.5137940100211446, -0.8727576999738578, 0.30029218164598387, 0.83408008524203, 1.3408669469958263, -1.3479618664091548, 1.219076070870195, -1.3820067078156808, 1.818736510385948, -1.1207157690422458, -1.2286560742249966, 0.31069692010745953, -2.0544327377169007, 0.5657469822365534, -0.8001417038095807, -0.4024803690289098, -0.5370836277167435, 0.3769729992380329, 0.9629096725483007, 0.24550404703639095, -1.3493218454371598, -1.0484824814980473, -0.08174795922658604, -0.9049639400993928, -0.19055559489371013, -2.3020240635680422, 0.09865730561517631, 0.3355882950460898, -0.8618295678800628, -1.6076234369552715, 0.05769501880594335, 0.13414990458887333, -0.1991937139681864, -1.3574325057580163, 0.7204994001823675, -1.991905982953989, -0.888703240152274, -1.781396367342669, 0.1562347421120147, 0.03250033476953922, 0.7668323467726299, -0.5327640820123262, -0.17018071968114484, 1.2578788579865674, -0.5672593267071177, 0.29162768697814406, 0.2823327240578985, -0.9748926108824236, -0.5413941125055433, -1.1542748134457648, -0.1292875199702572, -0.12353472830437592, 1.1402636483728286, 2.070757130120264, -1.3038074604656575, 0.9929080907393697, -0.34786058955174254, -1.4984267558072524, -0.11316292612166433, -0.17997302838796692, 0.3343294988967631, -0.37087020805294657, 0.5328141753084021, 0.7086585161444137, 0.6503420347470119, 0.25665661168476556, -0.8771615056074303, 0.9034356637533109, -0.3590198275238328, 0.18436478081640245, -0.04049176943951113, -0.1480869886875453, -1.009593236158076, 0.382409138290801, 0.22010097957614003, 0.46354439321035174, -1.2665940215408666, -0.5362984486095673, -0.7370341511332864, -0.5682873363739301, 0.7456559564681564, -1.6654813743352137, -0.005157936976523277, 0.09604801537763198, -0.24902845482014724, 0.7500820454229407, -2.433195759104504, 0.6258205399694532, 0.2970138114157008, -0.05935254429281779, -2.189513716814099, 1.8162448625727992, -0.16229090436651744, -0.5830018764610854, -0.88963055125256], \"xaxis\": \"x12\", \"y\": [0.6933789696749599, 0.8631403208500658, 0.20816096208387813, 2.027766626104301, -0.43039721645765366, 0.06385344636256578, 2.5640511251537306, -0.5051416863957513, -0.8134108110141528, 0.00679387045499981, 0.7925495742162394, 1.2025333183313203, -0.12409543738404143, -0.5631671252055999, 1.159357237357705, 0.21481290064624406, 0.40248094518480815, -0.5478624432526507, -0.5878723235007826, 0.8239210393142998, 0.22844507451860518, -0.5796130484437046, -0.6289658218196122, -0.39896079305444293, 1.2242012867487388, 0.480892143647502, -0.9345506945772835, 0.8563723470551708, -0.8429563250136834, 2.5663879611310776, -0.8349074439915939, -2.542199962516889, 2.2093776405364327, 1.0528243549219753, -1.7468975526346102, -0.25439092637621036, 1.1157755704141765, 0.3975863593253244, -2.915159380217476, 0.5602693736321325, 0.6252767815188935, -1.2603287680392712, 1.9546266269764132, 0.06446636742665764, -1.1961102292314647, 1.1300908450730753, 0.8017991246560502, -0.8567153429967642, -2.6069787733253884, 1.7870865816222623, -1.4327244017073455, -0.1513720962550858, 1.2435130089869366, 0.10397603412197333, 1.1027143948619815, -0.8035922696495199, -1.3405883041634505, 0.6036330942433228, 0.8349624764080465, 1.7943772604805983, 0.9305331236629549, 0.5571570876592357, 0.41169386450405815, -1.843471820755653, 0.4267741437543645, -1.6629313369516465, 0.023387109398190234, 0.820318790097195, 1.5370355005866672, -1.7843303714898866, 0.15983427026446828, -2.704123331773724, -1.2079609128161397, -0.8939980939056121, -0.4862841707576032, -0.039068165790167336, -0.5471109040973634, 0.18696330228788802, -0.3233368961422661, 0.016941640794040282, 0.9644758600278682, 1.0304756728788678, 0.27804817571305895, -1.352996932479426, 0.5266185128420701, 0.6723639358082578, -0.5723976462195935, -1.2167158818779655, -1.0978024544886873, -0.3211680756606533, 1.06714484777027, 0.08709685036446932, 0.4458233057506876, -0.11935925934861417, -0.00038358580139972347, -2.2938246723298508, 1.9453414872458288, 0.010525767464059817, -0.44070070812597006, -0.4354376878406088], \"yaxis\": \"y12\"}, {\"line\": {\"color\": \"rgba(128, 128, 128, 1.0)\", \"dash\": \"solid\", \"shape\": \"linear\", \"width\": 1.3}, \"marker\": {\"size\": 2, \"symbol\": \"circle\"}, \"mode\": \"markers\", \"name\": \"D\", \"text\": \"\", \"type\": \"scatter\", \"x\": [1.0228643665915085, 2.078102285193514, 0.5158761667916655, -1.4857226758011213, 1.1077899573724663, 0.2928304928477981, 0.08180311043452258, -0.8398530251478752, 1.3175894476736056, 1.2978189929523019, 0.17520201513727157, 0.13470956074463153, -0.018281469699972675, 0.8636862501760922, 0.854931415770735, -2.31890408029755, -0.28203176898922466, -0.4174329968596667, -1.503218670415323, -0.18860321509438102, -0.7529022721721581, -2.570027995821825, -1.2277556562626448, 1.1348793153157908, 0.6875961744242264, -0.2753527351696327, -1.1690704197924868, -0.08904043768740891, -0.7045947505690036, 0.7853038385361636, -1.8662616235543097, -0.6715946774492092, 0.14140540623443235, 1.3745450625176414, -0.4591638710115532, -1.5319228881869125, 1.2028181597771725, 1.2393746284609601, -0.6500507894760755, -0.21417262573551185, -0.9313021954607845, 1.4704143399240799, -0.19491831985513233, -0.9638924891142663, -0.5602620061156413, 1.068653338611267, -0.28644653661110253, -1.297988288985895, 0.6231907143360257, 0.16444560852194856, -2.932907068675399, 0.3219885191550619, -0.028948928296179757, 1.5784640369464342, -1.0274983429401636, -0.43916117057086185, -0.426287302067674, -0.6092424312797955, -0.964214418090293, 0.746369898931979, 0.7237930721167293, -0.10665138799427454, 1.0654356336753241, 0.4150648593531338, 0.5325737757365044, 1.1434825925461756, 0.19354088689971932, 0.9721115249390958, 0.01669477482715258, -0.5505029172817046, 0.7152130788861849, -0.2245739409808382, -1.442887718560802, 0.7569709318575875, -0.47768834110432884, -0.29411149822300764, 0.12293170873575046, 2.6946585797040616, 0.6374185448442311, 1.2952490195484176, 0.02672722368465936, 0.6707412178690879, 0.6261665975706423, 0.9897175184180778, -0.6206278701414436, -0.39026888701340817, 0.4893873581585123, -1.846657196452513, -1.5247262152509458, 2.3050474743024325, -0.8013803613983328, 0.07982339735858235, -1.3690892621838988, -0.9644454717774649, 0.5352164593595689, 0.94834773112565, -1.8003266447589534, -1.0044384424427626, 0.8333440027795855, -0.8904685620304708], \"xaxis\": \"x13\", \"y\": [0.05618971478538302, 0.3694284858249701, 0.9802387463529144, 0.9626995117409148, 1.30045524482868, -0.5137940100211446, -0.8727576999738578, 0.30029218164598387, 0.83408008524203, 1.3408669469958263, -1.3479618664091548, 1.219076070870195, -1.3820067078156808, 1.818736510385948, -1.1207157690422458, -1.2286560742249966, 0.31069692010745953, -2.0544327377169007, 0.5657469822365534, -0.8001417038095807, -0.4024803690289098, -0.5370836277167435, 0.3769729992380329, 0.9629096725483007, 0.24550404703639095, -1.3493218454371598, -1.0484824814980473, -0.08174795922658604, -0.9049639400993928, -0.19055559489371013, -2.3020240635680422, 0.09865730561517631, 0.3355882950460898, -0.8618295678800628, -1.6076234369552715, 0.05769501880594335, 0.13414990458887333, -0.1991937139681864, -1.3574325057580163, 0.7204994001823675, -1.991905982953989, -0.888703240152274, -1.781396367342669, 0.1562347421120147, 0.03250033476953922, 0.7668323467726299, -0.5327640820123262, -0.17018071968114484, 1.2578788579865674, -0.5672593267071177, 0.29162768697814406, 0.2823327240578985, -0.9748926108824236, -0.5413941125055433, -1.1542748134457648, -0.1292875199702572, -0.12353472830437592, 1.1402636483728286, 2.070757130120264, -1.3038074604656575, 0.9929080907393697, -0.34786058955174254, -1.4984267558072524, -0.11316292612166433, -0.17997302838796692, 0.3343294988967631, -0.37087020805294657, 0.5328141753084021, 0.7086585161444137, 0.6503420347470119, 0.25665661168476556, -0.8771615056074303, 0.9034356637533109, -0.3590198275238328, 0.18436478081640245, -0.04049176943951113, -0.1480869886875453, -1.009593236158076, 0.382409138290801, 0.22010097957614003, 0.46354439321035174, -1.2665940215408666, -0.5362984486095673, -0.7370341511332864, -0.5682873363739301, 0.7456559564681564, -1.6654813743352137, -0.005157936976523277, 0.09604801537763198, -0.24902845482014724, 0.7500820454229407, -2.433195759104504, 0.6258205399694532, 0.2970138114157008, -0.05935254429281779, -2.189513716814099, 1.8162448625727992, -0.16229090436651744, -0.5830018764610854, -0.88963055125256], \"yaxis\": \"y13\"}, {\"line\": {\"color\": \"rgba(128, 128, 128, 1.0)\", \"dash\": \"solid\", \"shape\": \"linear\", \"width\": 1.3}, \"marker\": {\"size\": 2, \"symbol\": \"circle\"}, \"mode\": \"markers\", \"name\": \"D\", \"text\": \"\", \"type\": \"scatter\", \"x\": [1.5141072432731078, 1.3170923237060794, -1.2513598809475768, -0.20275432049873324, 0.04283920687179462, -0.08198349502163418, -0.17527587292137195, -0.16422933085451655, -0.10949108877275467, 0.01078502521025764, -0.142156670759665, 0.535117716801839, 0.11086446473816583, -1.2936877961444537, -0.4375644008191952, -0.17897112491722345, -1.024123352271027, -0.33933873174526424, 0.4260696746455677, -0.5625645460881664, 0.5594555584770827, -0.7278302611994535, 0.2810175524087304, 0.9491286356166035, 0.6243073965868807, -0.4771339712795888, 0.3902324728016761, -1.0658694939365105, -0.49638173288238013, -0.7723608586748788, -0.3583424525867705, 1.0109681194818183, 0.30756936188984574, 1.439887634410778, 2.7589740571186803, 0.013419866304679555, -0.8381998836780817, 0.2809158709836502, -0.04285707840302234, 1.1894315670021485, 0.4541141891865138, 0.7365427955903368, 0.7615628554124507, 0.7593673768097888, -1.456476130196915, -0.04274711258224199, -1.1169373827498756, 0.26397190431587925, 0.267896444013153, 0.9503102026463995, -0.6109902535336791, 0.9889541101801155, 0.5394973692501939, 0.06037484857144976, 0.9395003143245638, 1.0746673198039558, -1.8919124007160064, 0.8911063236978104, 0.7206902756080743, -0.05381056467822287, -0.07977933156171538, 1.71482576145405, -0.5043033782351627, -1.629661959427632, 0.6808764508865055, 1.1696252116148629, -1.0520992102224875, 0.687739553848473, -0.849204644269452, 0.4511280211640707, -0.20689846332809914, -0.9098463581849429, 1.6987065729946769, -0.16512570553715297, -0.256922359989604, 1.7432405215820297, 1.2967704364685568, 1.4583072575830145, -1.4210266514879522, 0.1331227414103682, 1.3085817597898504, -0.3959354674886219, -1.4911834610915695, 1.2706198453298128, 0.6093484061842721, 0.7111587835583064, 1.0459312680400894, -0.9627794132590002, 0.04234451007099024, 2.253503873221812, -1.3102931449745447, -0.7049178036933245, 0.32964633934100174, 0.35516682842767844, 1.6832239408703678, -0.21291187277689125, -0.04556588313452348, -0.34362920185315665, 1.8283057057526904, -0.6443763600103907], \"xaxis\": \"x14\", \"y\": [0.05618971478538302, 0.3694284858249701, 0.9802387463529144, 0.9626995117409148, 1.30045524482868, -0.5137940100211446, -0.8727576999738578, 0.30029218164598387, 0.83408008524203, 1.3408669469958263, -1.3479618664091548, 1.219076070870195, -1.3820067078156808, 1.818736510385948, -1.1207157690422458, -1.2286560742249966, 0.31069692010745953, -2.0544327377169007, 0.5657469822365534, -0.8001417038095807, -0.4024803690289098, -0.5370836277167435, 0.3769729992380329, 0.9629096725483007, 0.24550404703639095, -1.3493218454371598, -1.0484824814980473, -0.08174795922658604, -0.9049639400993928, -0.19055559489371013, -2.3020240635680422, 0.09865730561517631, 0.3355882950460898, -0.8618295678800628, -1.6076234369552715, 0.05769501880594335, 0.13414990458887333, -0.1991937139681864, -1.3574325057580163, 0.7204994001823675, -1.991905982953989, -0.888703240152274, -1.781396367342669, 0.1562347421120147, 0.03250033476953922, 0.7668323467726299, -0.5327640820123262, -0.17018071968114484, 1.2578788579865674, -0.5672593267071177, 0.29162768697814406, 0.2823327240578985, -0.9748926108824236, -0.5413941125055433, -1.1542748134457648, -0.1292875199702572, -0.12353472830437592, 1.1402636483728286, 2.070757130120264, -1.3038074604656575, 0.9929080907393697, -0.34786058955174254, -1.4984267558072524, -0.11316292612166433, -0.17997302838796692, 0.3343294988967631, -0.37087020805294657, 0.5328141753084021, 0.7086585161444137, 0.6503420347470119, 0.25665661168476556, -0.8771615056074303, 0.9034356637533109, -0.3590198275238328, 0.18436478081640245, -0.04049176943951113, -0.1480869886875453, -1.009593236158076, 0.382409138290801, 0.22010097957614003, 0.46354439321035174, -1.2665940215408666, -0.5362984486095673, -0.7370341511332864, -0.5682873363739301, 0.7456559564681564, -1.6654813743352137, -0.005157936976523277, 0.09604801537763198, -0.24902845482014724, 0.7500820454229407, -2.433195759104504, 0.6258205399694532, 0.2970138114157008, -0.05935254429281779, -2.189513716814099, 1.8162448625727992, -0.16229090436651744, -0.5830018764610854, -0.88963055125256], \"yaxis\": \"y14\"}, {\"line\": {\"color\": \"rgba(128, 128, 128, 1.0)\", \"dash\": \"solid\", \"shape\": \"linear\", \"width\": 1.3}, \"marker\": {\"size\": 2, \"symbol\": \"circle\"}, \"mode\": \"markers\", \"name\": \"D\", \"text\": \"\", \"type\": \"scatter\", \"x\": [0.6933789696749599, 0.8631403208500658, 0.20816096208387813, 2.027766626104301, -0.43039721645765366, 0.06385344636256578, 2.5640511251537306, -0.5051416863957513, -0.8134108110141528, 0.00679387045499981, 0.7925495742162394, 1.2025333183313203, -0.12409543738404143, -0.5631671252055999, 1.159357237357705, 0.21481290064624406, 0.40248094518480815, -0.5478624432526507, -0.5878723235007826, 0.8239210393142998, 0.22844507451860518, -0.5796130484437046, -0.6289658218196122, -0.39896079305444293, 1.2242012867487388, 0.480892143647502, -0.9345506945772835, 0.8563723470551708, -0.8429563250136834, 2.5663879611310776, -0.8349074439915939, -2.542199962516889, 2.2093776405364327, 1.0528243549219753, -1.7468975526346102, -0.25439092637621036, 1.1157755704141765, 0.3975863593253244, -2.915159380217476, 0.5602693736321325, 0.6252767815188935, -1.2603287680392712, 1.9546266269764132, 0.06446636742665764, -1.1961102292314647, 1.1300908450730753, 0.8017991246560502, -0.8567153429967642, -2.6069787733253884, 1.7870865816222623, -1.4327244017073455, -0.1513720962550858, 1.2435130089869366, 0.10397603412197333, 1.1027143948619815, -0.8035922696495199, -1.3405883041634505, 0.6036330942433228, 0.8349624764080465, 1.7943772604805983, 0.9305331236629549, 0.5571570876592357, 0.41169386450405815, -1.843471820755653, 0.4267741437543645, -1.6629313369516465, 0.023387109398190234, 0.820318790097195, 1.5370355005866672, -1.7843303714898866, 0.15983427026446828, -2.704123331773724, -1.2079609128161397, -0.8939980939056121, -0.4862841707576032, -0.039068165790167336, -0.5471109040973634, 0.18696330228788802, -0.3233368961422661, 0.016941640794040282, 0.9644758600278682, 1.0304756728788678, 0.27804817571305895, -1.352996932479426, 0.5266185128420701, 0.6723639358082578, -0.5723976462195935, -1.2167158818779655, -1.0978024544886873, -0.3211680756606533, 1.06714484777027, 0.08709685036446932, 0.4458233057506876, -0.11935925934861417, -0.00038358580139972347, -2.2938246723298508, 1.9453414872458288, 0.010525767464059817, -0.44070070812597006, -0.4354376878406088], \"xaxis\": \"x15\", \"y\": [0.05618971478538302, 0.3694284858249701, 0.9802387463529144, 0.9626995117409148, 1.30045524482868, -0.5137940100211446, -0.8727576999738578, 0.30029218164598387, 0.83408008524203, 1.3408669469958263, -1.3479618664091548, 1.219076070870195, -1.3820067078156808, 1.818736510385948, -1.1207157690422458, -1.2286560742249966, 0.31069692010745953, -2.0544327377169007, 0.5657469822365534, -0.8001417038095807, -0.4024803690289098, -0.5370836277167435, 0.3769729992380329, 0.9629096725483007, 0.24550404703639095, -1.3493218454371598, -1.0484824814980473, -0.08174795922658604, -0.9049639400993928, -0.19055559489371013, -2.3020240635680422, 0.09865730561517631, 0.3355882950460898, -0.8618295678800628, -1.6076234369552715, 0.05769501880594335, 0.13414990458887333, -0.1991937139681864, -1.3574325057580163, 0.7204994001823675, -1.991905982953989, -0.888703240152274, -1.781396367342669, 0.1562347421120147, 0.03250033476953922, 0.7668323467726299, -0.5327640820123262, -0.17018071968114484, 1.2578788579865674, -0.5672593267071177, 0.29162768697814406, 0.2823327240578985, -0.9748926108824236, -0.5413941125055433, -1.1542748134457648, -0.1292875199702572, -0.12353472830437592, 1.1402636483728286, 2.070757130120264, -1.3038074604656575, 0.9929080907393697, -0.34786058955174254, -1.4984267558072524, -0.11316292612166433, -0.17997302838796692, 0.3343294988967631, -0.37087020805294657, 0.5328141753084021, 0.7086585161444137, 0.6503420347470119, 0.25665661168476556, -0.8771615056074303, 0.9034356637533109, -0.3590198275238328, 0.18436478081640245, -0.04049176943951113, -0.1480869886875453, -1.009593236158076, 0.382409138290801, 0.22010097957614003, 0.46354439321035174, -1.2665940215408666, -0.5362984486095673, -0.7370341511332864, -0.5682873363739301, 0.7456559564681564, -1.6654813743352137, -0.005157936976523277, 0.09604801537763198, -0.24902845482014724, 0.7500820454229407, -2.433195759104504, 0.6258205399694532, 0.2970138114157008, -0.05935254429281779, -2.189513716814099, 1.8162448625727992, -0.16229090436651744, -0.5830018764610854, -0.88963055125256], \"yaxis\": \"y15\"}, {\"histfunc\": \"count\", \"histnorm\": \"\", \"marker\": {\"color\": \"rgba(128, 0, 128, 1.0)\", \"line\": {\"color\": \"#4D5663\", \"width\": 1.3}}, \"name\": \"D\", \"nbinsx\": 10, \"opacity\": 0.8, \"orientation\": \"v\", \"type\": \"histogram\", \"x\": [0.05618971478538302, 0.3694284858249701, 0.9802387463529144, 0.9626995117409148, 1.30045524482868, -0.5137940100211446, -0.8727576999738578, 0.30029218164598387, 0.83408008524203, 1.3408669469958263, -1.3479618664091548, 1.219076070870195, -1.3820067078156808, 1.818736510385948, -1.1207157690422458, -1.2286560742249966, 0.31069692010745953, -2.0544327377169007, 0.5657469822365534, -0.8001417038095807, -0.4024803690289098, -0.5370836277167435, 0.3769729992380329, 0.9629096725483007, 0.24550404703639095, -1.3493218454371598, -1.0484824814980473, -0.08174795922658604, -0.9049639400993928, -0.19055559489371013, -2.3020240635680422, 0.09865730561517631, 0.3355882950460898, -0.8618295678800628, -1.6076234369552715, 0.05769501880594335, 0.13414990458887333, -0.1991937139681864, -1.3574325057580163, 0.7204994001823675, -1.991905982953989, -0.888703240152274, -1.781396367342669, 0.1562347421120147, 0.03250033476953922, 0.7668323467726299, -0.5327640820123262, -0.17018071968114484, 1.2578788579865674, -0.5672593267071177, 0.29162768697814406, 0.2823327240578985, -0.9748926108824236, -0.5413941125055433, -1.1542748134457648, -0.1292875199702572, -0.12353472830437592, 1.1402636483728286, 2.070757130120264, -1.3038074604656575, 0.9929080907393697, -0.34786058955174254, -1.4984267558072524, -0.11316292612166433, -0.17997302838796692, 0.3343294988967631, -0.37087020805294657, 0.5328141753084021, 0.7086585161444137, 0.6503420347470119, 0.25665661168476556, -0.8771615056074303, 0.9034356637533109, -0.3590198275238328, 0.18436478081640245, -0.04049176943951113, -0.1480869886875453, -1.009593236158076, 0.382409138290801, 0.22010097957614003, 0.46354439321035174, -1.2665940215408666, -0.5362984486095673, -0.7370341511332864, -0.5682873363739301, 0.7456559564681564, -1.6654813743352137, -0.005157936976523277, 0.09604801537763198, -0.24902845482014724, 0.7500820454229407, -2.433195759104504, 0.6258205399694532, 0.2970138114157008, -0.05935254429281779, -2.189513716814099, 1.8162448625727992, -0.16229090436651744, -0.5830018764610854, -0.88963055125256], \"xaxis\": \"x16\", \"yaxis\": \"y16\"}],\n",
       "                        {\"bargap\": 0.02, \"legend\": {\"bgcolor\": \"#F5F6F9\", \"font\": {\"color\": \"#4D5663\"}}, \"paper_bgcolor\": \"#F5F6F9\", \"plot_bgcolor\": \"#F5F6F9\", \"showlegend\": false, \"template\": {\"data\": {\"bar\": [{\"error_x\": {\"color\": \"#2a3f5f\"}, \"error_y\": {\"color\": \"#2a3f5f\"}, \"marker\": {\"line\": {\"color\": \"#E5ECF6\", \"width\": 0.5}}, \"type\": \"bar\"}], \"barpolar\": [{\"marker\": {\"line\": {\"color\": \"#E5ECF6\", \"width\": 0.5}}, \"type\": \"barpolar\"}], \"carpet\": [{\"aaxis\": {\"endlinecolor\": \"#2a3f5f\", \"gridcolor\": \"white\", \"linecolor\": \"white\", \"minorgridcolor\": \"white\", \"startlinecolor\": \"#2a3f5f\"}, \"baxis\": {\"endlinecolor\": \"#2a3f5f\", \"gridcolor\": \"white\", \"linecolor\": \"white\", \"minorgridcolor\": \"white\", \"startlinecolor\": \"#2a3f5f\"}, \"type\": \"carpet\"}], \"choropleth\": [{\"colorbar\": {\"outlinewidth\": 0, \"ticks\": \"\"}, \"type\": \"choropleth\"}], \"contour\": [{\"colorbar\": {\"outlinewidth\": 0, \"ticks\": \"\"}, \"colorscale\": [[0.0, \"#0d0887\"], [0.1111111111111111, \"#46039f\"], [0.2222222222222222, \"#7201a8\"], [0.3333333333333333, \"#9c179e\"], [0.4444444444444444, \"#bd3786\"], [0.5555555555555556, \"#d8576b\"], [0.6666666666666666, \"#ed7953\"], [0.7777777777777778, \"#fb9f3a\"], [0.8888888888888888, \"#fdca26\"], [1.0, \"#f0f921\"]], \"type\": \"contour\"}], \"contourcarpet\": [{\"colorbar\": {\"outlinewidth\": 0, \"ticks\": \"\"}, \"type\": \"contourcarpet\"}], \"heatmap\": [{\"colorbar\": {\"outlinewidth\": 0, \"ticks\": \"\"}, \"colorscale\": [[0.0, \"#0d0887\"], [0.1111111111111111, \"#46039f\"], [0.2222222222222222, \"#7201a8\"], [0.3333333333333333, \"#9c179e\"], [0.4444444444444444, \"#bd3786\"], [0.5555555555555556, \"#d8576b\"], [0.6666666666666666, \"#ed7953\"], [0.7777777777777778, \"#fb9f3a\"], [0.8888888888888888, \"#fdca26\"], [1.0, \"#f0f921\"]], \"type\": \"heatmap\"}], \"heatmapgl\": [{\"colorbar\": {\"outlinewidth\": 0, \"ticks\": \"\"}, \"colorscale\": [[0.0, \"#0d0887\"], [0.1111111111111111, \"#46039f\"], [0.2222222222222222, \"#7201a8\"], [0.3333333333333333, \"#9c179e\"], [0.4444444444444444, \"#bd3786\"], [0.5555555555555556, \"#d8576b\"], [0.6666666666666666, \"#ed7953\"], [0.7777777777777778, \"#fb9f3a\"], [0.8888888888888888, \"#fdca26\"], [1.0, \"#f0f921\"]], \"type\": \"heatmapgl\"}], \"histogram\": [{\"marker\": {\"colorbar\": {\"outlinewidth\": 0, \"ticks\": \"\"}}, \"type\": \"histogram\"}], \"histogram2d\": [{\"colorbar\": {\"outlinewidth\": 0, \"ticks\": \"\"}, \"colorscale\": [[0.0, \"#0d0887\"], [0.1111111111111111, \"#46039f\"], [0.2222222222222222, \"#7201a8\"], [0.3333333333333333, \"#9c179e\"], [0.4444444444444444, \"#bd3786\"], [0.5555555555555556, \"#d8576b\"], [0.6666666666666666, \"#ed7953\"], [0.7777777777777778, \"#fb9f3a\"], [0.8888888888888888, \"#fdca26\"], [1.0, \"#f0f921\"]], \"type\": \"histogram2d\"}], \"histogram2dcontour\": [{\"colorbar\": {\"outlinewidth\": 0, \"ticks\": \"\"}, \"colorscale\": [[0.0, \"#0d0887\"], [0.1111111111111111, \"#46039f\"], [0.2222222222222222, \"#7201a8\"], [0.3333333333333333, \"#9c179e\"], [0.4444444444444444, \"#bd3786\"], [0.5555555555555556, \"#d8576b\"], [0.6666666666666666, \"#ed7953\"], [0.7777777777777778, \"#fb9f3a\"], [0.8888888888888888, \"#fdca26\"], [1.0, \"#f0f921\"]], \"type\": \"histogram2dcontour\"}], \"mesh3d\": [{\"colorbar\": {\"outlinewidth\": 0, \"ticks\": \"\"}, \"type\": \"mesh3d\"}], \"parcoords\": [{\"line\": {\"colorbar\": {\"outlinewidth\": 0, \"ticks\": \"\"}}, \"type\": \"parcoords\"}], \"pie\": [{\"automargin\": true, \"type\": \"pie\"}], \"scatter\": [{\"marker\": {\"colorbar\": {\"outlinewidth\": 0, \"ticks\": \"\"}}, \"type\": \"scatter\"}], \"scatter3d\": [{\"line\": {\"colorbar\": {\"outlinewidth\": 0, \"ticks\": \"\"}}, \"marker\": {\"colorbar\": {\"outlinewidth\": 0, \"ticks\": \"\"}}, \"type\": \"scatter3d\"}], \"scattercarpet\": [{\"marker\": {\"colorbar\": {\"outlinewidth\": 0, \"ticks\": \"\"}}, \"type\": \"scattercarpet\"}], \"scattergeo\": [{\"marker\": {\"colorbar\": {\"outlinewidth\": 0, \"ticks\": \"\"}}, \"type\": \"scattergeo\"}], \"scattergl\": [{\"marker\": {\"colorbar\": {\"outlinewidth\": 0, \"ticks\": \"\"}}, \"type\": \"scattergl\"}], \"scattermapbox\": [{\"marker\": {\"colorbar\": {\"outlinewidth\": 0, \"ticks\": \"\"}}, \"type\": \"scattermapbox\"}], \"scatterpolar\": [{\"marker\": {\"colorbar\": {\"outlinewidth\": 0, \"ticks\": \"\"}}, \"type\": \"scatterpolar\"}], \"scatterpolargl\": [{\"marker\": {\"colorbar\": {\"outlinewidth\": 0, \"ticks\": \"\"}}, \"type\": \"scatterpolargl\"}], \"scatterternary\": [{\"marker\": {\"colorbar\": {\"outlinewidth\": 0, \"ticks\": \"\"}}, \"type\": \"scatterternary\"}], \"surface\": [{\"colorbar\": {\"outlinewidth\": 0, \"ticks\": \"\"}, \"colorscale\": [[0.0, \"#0d0887\"], [0.1111111111111111, \"#46039f\"], [0.2222222222222222, \"#7201a8\"], [0.3333333333333333, \"#9c179e\"], [0.4444444444444444, \"#bd3786\"], [0.5555555555555556, \"#d8576b\"], [0.6666666666666666, \"#ed7953\"], [0.7777777777777778, \"#fb9f3a\"], [0.8888888888888888, \"#fdca26\"], [1.0, \"#f0f921\"]], \"type\": \"surface\"}], \"table\": [{\"cells\": {\"fill\": {\"color\": \"#EBF0F8\"}, \"line\": {\"color\": \"white\"}}, \"header\": {\"fill\": {\"color\": \"#C8D4E3\"}, \"line\": {\"color\": \"white\"}}, \"type\": \"table\"}]}, \"layout\": {\"annotationdefaults\": {\"arrowcolor\": \"#2a3f5f\", \"arrowhead\": 0, \"arrowwidth\": 1}, \"coloraxis\": {\"colorbar\": {\"outlinewidth\": 0, \"ticks\": \"\"}}, \"colorscale\": {\"diverging\": [[0, \"#8e0152\"], [0.1, \"#c51b7d\"], [0.2, \"#de77ae\"], [0.3, \"#f1b6da\"], [0.4, \"#fde0ef\"], [0.5, \"#f7f7f7\"], [0.6, \"#e6f5d0\"], [0.7, \"#b8e186\"], [0.8, \"#7fbc41\"], [0.9, \"#4d9221\"], [1, \"#276419\"]], \"sequential\": [[0.0, \"#0d0887\"], [0.1111111111111111, \"#46039f\"], [0.2222222222222222, \"#7201a8\"], [0.3333333333333333, \"#9c179e\"], [0.4444444444444444, \"#bd3786\"], [0.5555555555555556, \"#d8576b\"], [0.6666666666666666, \"#ed7953\"], [0.7777777777777778, \"#fb9f3a\"], [0.8888888888888888, \"#fdca26\"], [1.0, \"#f0f921\"]], \"sequentialminus\": [[0.0, \"#0d0887\"], [0.1111111111111111, \"#46039f\"], [0.2222222222222222, \"#7201a8\"], [0.3333333333333333, \"#9c179e\"], [0.4444444444444444, \"#bd3786\"], [0.5555555555555556, \"#d8576b\"], [0.6666666666666666, \"#ed7953\"], [0.7777777777777778, \"#fb9f3a\"], [0.8888888888888888, \"#fdca26\"], [1.0, \"#f0f921\"]]}, \"colorway\": [\"#636efa\", \"#EF553B\", \"#00cc96\", \"#ab63fa\", \"#FFA15A\", \"#19d3f3\", \"#FF6692\", \"#B6E880\", \"#FF97FF\", \"#FECB52\"], \"font\": {\"color\": \"#2a3f5f\"}, \"geo\": {\"bgcolor\": \"white\", \"lakecolor\": \"white\", \"landcolor\": \"#E5ECF6\", \"showlakes\": true, \"showland\": true, \"subunitcolor\": \"white\"}, \"hoverlabel\": {\"align\": \"left\"}, \"hovermode\": \"closest\", \"mapbox\": {\"style\": \"light\"}, \"paper_bgcolor\": \"white\", \"plot_bgcolor\": \"#E5ECF6\", \"polar\": {\"angularaxis\": {\"gridcolor\": \"white\", \"linecolor\": \"white\", \"ticks\": \"\"}, \"bgcolor\": \"#E5ECF6\", \"radialaxis\": {\"gridcolor\": \"white\", \"linecolor\": \"white\", \"ticks\": \"\"}}, \"scene\": {\"xaxis\": {\"backgroundcolor\": \"#E5ECF6\", \"gridcolor\": \"white\", \"gridwidth\": 2, \"linecolor\": \"white\", \"showbackground\": true, \"ticks\": \"\", \"zerolinecolor\": \"white\"}, \"yaxis\": {\"backgroundcolor\": \"#E5ECF6\", \"gridcolor\": \"white\", \"gridwidth\": 2, \"linecolor\": \"white\", \"showbackground\": true, \"ticks\": \"\", \"zerolinecolor\": \"white\"}, \"zaxis\": {\"backgroundcolor\": \"#E5ECF6\", \"gridcolor\": \"white\", \"gridwidth\": 2, \"linecolor\": \"white\", \"showbackground\": true, \"ticks\": \"\", \"zerolinecolor\": \"white\"}}, \"shapedefaults\": {\"line\": {\"color\": \"#2a3f5f\"}}, \"ternary\": {\"aaxis\": {\"gridcolor\": \"white\", \"linecolor\": \"white\", \"ticks\": \"\"}, \"baxis\": {\"gridcolor\": \"white\", \"linecolor\": \"white\", \"ticks\": \"\"}, \"bgcolor\": \"#E5ECF6\", \"caxis\": {\"gridcolor\": \"white\", \"linecolor\": \"white\", \"ticks\": \"\"}}, \"title\": {\"x\": 0.05}, \"xaxis\": {\"automargin\": true, \"gridcolor\": \"white\", \"linecolor\": \"white\", \"ticks\": \"\", \"title\": {\"standoff\": 15}, \"zerolinecolor\": \"white\", \"zerolinewidth\": 2}, \"yaxis\": {\"automargin\": true, \"gridcolor\": \"white\", \"linecolor\": \"white\", \"ticks\": \"\", \"title\": {\"standoff\": 15}, \"zerolinecolor\": \"white\", \"zerolinewidth\": 2}}}, \"title\": {\"font\": {\"color\": \"#4D5663\"}}, \"xaxis\": {\"anchor\": \"y\", \"domain\": [0.0, 0.2125], \"gridcolor\": \"#E1E5ED\", \"showgrid\": false, \"tickfont\": {\"color\": \"#4D5663\"}, \"title\": {\"font\": {\"color\": \"#4D5663\"}, \"text\": \"\"}, \"zerolinecolor\": \"#E1E5ED\"}, \"xaxis10\": {\"anchor\": \"y10\", \"domain\": [0.2625, 0.475], \"gridcolor\": \"#E1E5ED\", \"showgrid\": false, \"tickfont\": {\"color\": \"#4D5663\"}, \"title\": {\"font\": {\"color\": \"#4D5663\"}, \"text\": \"\"}, \"zerolinecolor\": \"#E1E5ED\"}, \"xaxis11\": {\"anchor\": \"y11\", \"domain\": [0.525, 0.7375], \"gridcolor\": \"#E1E5ED\", \"showgrid\": false, \"tickfont\": {\"color\": \"#4D5663\"}, \"title\": {\"font\": {\"color\": \"#4D5663\"}, \"text\": \"\"}, \"zerolinecolor\": \"#E1E5ED\"}, \"xaxis12\": {\"anchor\": \"y12\", \"domain\": [0.7875, 1.0], \"gridcolor\": \"#E1E5ED\", \"showgrid\": false, \"tickfont\": {\"color\": \"#4D5663\"}, \"title\": {\"font\": {\"color\": \"#4D5663\"}, \"text\": \"\"}, \"zerolinecolor\": \"#E1E5ED\"}, \"xaxis13\": {\"anchor\": \"y13\", \"domain\": [0.0, 0.2125], \"gridcolor\": \"#E1E5ED\", \"showgrid\": false, \"tickfont\": {\"color\": \"#4D5663\"}, \"title\": {\"font\": {\"color\": \"#4D5663\"}, \"text\": \"\"}, \"zerolinecolor\": \"#E1E5ED\"}, \"xaxis14\": {\"anchor\": \"y14\", \"domain\": [0.2625, 0.475], \"gridcolor\": \"#E1E5ED\", \"showgrid\": false, \"tickfont\": {\"color\": \"#4D5663\"}, \"title\": {\"font\": {\"color\": \"#4D5663\"}, \"text\": \"\"}, \"zerolinecolor\": \"#E1E5ED\"}, \"xaxis15\": {\"anchor\": \"y15\", \"domain\": [0.525, 0.7375], \"gridcolor\": \"#E1E5ED\", \"showgrid\": false, \"tickfont\": {\"color\": \"#4D5663\"}, \"title\": {\"font\": {\"color\": \"#4D5663\"}, \"text\": \"\"}, \"zerolinecolor\": \"#E1E5ED\"}, \"xaxis16\": {\"anchor\": \"y16\", \"domain\": [0.7875, 1.0], \"gridcolor\": \"#E1E5ED\", \"showgrid\": false, \"tickfont\": {\"color\": \"#4D5663\"}, \"title\": {\"font\": {\"color\": \"#4D5663\"}, \"text\": \"\"}, \"zerolinecolor\": \"#E1E5ED\"}, \"xaxis2\": {\"anchor\": \"y2\", \"domain\": [0.2625, 0.475], \"gridcolor\": \"#E1E5ED\", \"showgrid\": false, \"tickfont\": {\"color\": \"#4D5663\"}, \"title\": {\"font\": {\"color\": \"#4D5663\"}, \"text\": \"\"}, \"zerolinecolor\": \"#E1E5ED\"}, \"xaxis3\": {\"anchor\": \"y3\", \"domain\": [0.525, 0.7375], \"gridcolor\": \"#E1E5ED\", \"showgrid\": false, \"tickfont\": {\"color\": \"#4D5663\"}, \"title\": {\"font\": {\"color\": \"#4D5663\"}, \"text\": \"\"}, \"zerolinecolor\": \"#E1E5ED\"}, \"xaxis4\": {\"anchor\": \"y4\", \"domain\": [0.7875, 1.0], \"gridcolor\": \"#E1E5ED\", \"showgrid\": false, \"tickfont\": {\"color\": \"#4D5663\"}, \"title\": {\"font\": {\"color\": \"#4D5663\"}, \"text\": \"\"}, \"zerolinecolor\": \"#E1E5ED\"}, \"xaxis5\": {\"anchor\": \"y5\", \"domain\": [0.0, 0.2125], \"gridcolor\": \"#E1E5ED\", \"showgrid\": false, \"tickfont\": {\"color\": \"#4D5663\"}, \"title\": {\"font\": {\"color\": \"#4D5663\"}, \"text\": \"\"}, \"zerolinecolor\": \"#E1E5ED\"}, \"xaxis6\": {\"anchor\": \"y6\", \"domain\": [0.2625, 0.475], \"gridcolor\": \"#E1E5ED\", \"showgrid\": false, \"tickfont\": {\"color\": \"#4D5663\"}, \"title\": {\"font\": {\"color\": \"#4D5663\"}, \"text\": \"\"}, \"zerolinecolor\": \"#E1E5ED\"}, \"xaxis7\": {\"anchor\": \"y7\", \"domain\": [0.525, 0.7375], \"gridcolor\": \"#E1E5ED\", \"showgrid\": false, \"tickfont\": {\"color\": \"#4D5663\"}, \"title\": {\"font\": {\"color\": \"#4D5663\"}, \"text\": \"\"}, \"zerolinecolor\": \"#E1E5ED\"}, \"xaxis8\": {\"anchor\": \"y8\", \"domain\": [0.7875, 1.0], \"gridcolor\": \"#E1E5ED\", \"showgrid\": false, \"tickfont\": {\"color\": \"#4D5663\"}, \"title\": {\"font\": {\"color\": \"#4D5663\"}, \"text\": \"\"}, \"zerolinecolor\": \"#E1E5ED\"}, \"xaxis9\": {\"anchor\": \"y9\", \"domain\": [0.0, 0.2125], \"gridcolor\": \"#E1E5ED\", \"showgrid\": false, \"tickfont\": {\"color\": \"#4D5663\"}, \"title\": {\"font\": {\"color\": \"#4D5663\"}, \"text\": \"\"}, \"zerolinecolor\": \"#E1E5ED\"}, \"yaxis\": {\"anchor\": \"x\", \"domain\": [0.8025, 1.0], \"gridcolor\": \"#E1E5ED\", \"showgrid\": false, \"tickfont\": {\"color\": \"#4D5663\"}, \"title\": {\"font\": {\"color\": \"#4D5663\"}, \"text\": \"\"}, \"zerolinecolor\": \"#E1E5ED\"}, \"yaxis10\": {\"anchor\": \"x10\", \"domain\": [0.2675, 0.465], \"gridcolor\": \"#E1E5ED\", \"showgrid\": false, \"tickfont\": {\"color\": \"#4D5663\"}, \"title\": {\"font\": {\"color\": \"#4D5663\"}, \"text\": \"\"}, \"zerolinecolor\": \"#E1E5ED\"}, \"yaxis11\": {\"anchor\": \"x11\", \"domain\": [0.2675, 0.465], \"gridcolor\": \"#E1E5ED\", \"showgrid\": false, \"tickfont\": {\"color\": \"#4D5663\"}, \"title\": {\"font\": {\"color\": \"#4D5663\"}, \"text\": \"\"}, \"zerolinecolor\": \"#E1E5ED\"}, \"yaxis12\": {\"anchor\": \"x12\", \"domain\": [0.2675, 0.465], \"gridcolor\": \"#E1E5ED\", \"showgrid\": false, \"tickfont\": {\"color\": \"#4D5663\"}, \"title\": {\"font\": {\"color\": \"#4D5663\"}, \"text\": \"\"}, \"zerolinecolor\": \"#E1E5ED\"}, \"yaxis13\": {\"anchor\": \"x13\", \"domain\": [0.0, 0.1975], \"gridcolor\": \"#E1E5ED\", \"showgrid\": false, \"tickfont\": {\"color\": \"#4D5663\"}, \"title\": {\"font\": {\"color\": \"#4D5663\"}, \"text\": \"\"}, \"zerolinecolor\": \"#E1E5ED\"}, \"yaxis14\": {\"anchor\": \"x14\", \"domain\": [0.0, 0.1975], \"gridcolor\": \"#E1E5ED\", \"showgrid\": false, \"tickfont\": {\"color\": \"#4D5663\"}, \"title\": {\"font\": {\"color\": \"#4D5663\"}, \"text\": \"\"}, \"zerolinecolor\": \"#E1E5ED\"}, \"yaxis15\": {\"anchor\": \"x15\", \"domain\": [0.0, 0.1975], \"gridcolor\": \"#E1E5ED\", \"showgrid\": false, \"tickfont\": {\"color\": \"#4D5663\"}, \"title\": {\"font\": {\"color\": \"#4D5663\"}, \"text\": \"\"}, \"zerolinecolor\": \"#E1E5ED\"}, \"yaxis16\": {\"anchor\": \"x16\", \"domain\": [0.0, 0.1975], \"gridcolor\": \"#E1E5ED\", \"showgrid\": false, \"tickfont\": {\"color\": \"#4D5663\"}, \"title\": {\"font\": {\"color\": \"#4D5663\"}, \"text\": \"\"}, \"zerolinecolor\": \"#E1E5ED\"}, \"yaxis2\": {\"anchor\": \"x2\", \"domain\": [0.8025, 1.0], \"gridcolor\": \"#E1E5ED\", \"showgrid\": false, \"tickfont\": {\"color\": \"#4D5663\"}, \"title\": {\"font\": {\"color\": \"#4D5663\"}, \"text\": \"\"}, \"zerolinecolor\": \"#E1E5ED\"}, \"yaxis3\": {\"anchor\": \"x3\", \"domain\": [0.8025, 1.0], \"gridcolor\": \"#E1E5ED\", \"showgrid\": false, \"tickfont\": {\"color\": \"#4D5663\"}, \"title\": {\"font\": {\"color\": \"#4D5663\"}, \"text\": \"\"}, \"zerolinecolor\": \"#E1E5ED\"}, \"yaxis4\": {\"anchor\": \"x4\", \"domain\": [0.8025, 1.0], \"gridcolor\": \"#E1E5ED\", \"showgrid\": false, \"tickfont\": {\"color\": \"#4D5663\"}, \"title\": {\"font\": {\"color\": \"#4D5663\"}, \"text\": \"\"}, \"zerolinecolor\": \"#E1E5ED\"}, \"yaxis5\": {\"anchor\": \"x5\", \"domain\": [0.535, 0.7325], \"gridcolor\": \"#E1E5ED\", \"showgrid\": false, \"tickfont\": {\"color\": \"#4D5663\"}, \"title\": {\"font\": {\"color\": \"#4D5663\"}, \"text\": \"\"}, \"zerolinecolor\": \"#E1E5ED\"}, \"yaxis6\": {\"anchor\": \"x6\", \"domain\": [0.535, 0.7325], \"gridcolor\": \"#E1E5ED\", \"showgrid\": false, \"tickfont\": {\"color\": \"#4D5663\"}, \"title\": {\"font\": {\"color\": \"#4D5663\"}, \"text\": \"\"}, \"zerolinecolor\": \"#E1E5ED\"}, \"yaxis7\": {\"anchor\": \"x7\", \"domain\": [0.535, 0.7325], \"gridcolor\": \"#E1E5ED\", \"showgrid\": false, \"tickfont\": {\"color\": \"#4D5663\"}, \"title\": {\"font\": {\"color\": \"#4D5663\"}, \"text\": \"\"}, \"zerolinecolor\": \"#E1E5ED\"}, \"yaxis8\": {\"anchor\": \"x8\", \"domain\": [0.535, 0.7325], \"gridcolor\": \"#E1E5ED\", \"showgrid\": false, \"tickfont\": {\"color\": \"#4D5663\"}, \"title\": {\"font\": {\"color\": \"#4D5663\"}, \"text\": \"\"}, \"zerolinecolor\": \"#E1E5ED\"}, \"yaxis9\": {\"anchor\": \"x9\", \"domain\": [0.2675, 0.465], \"gridcolor\": \"#E1E5ED\", \"showgrid\": false, \"tickfont\": {\"color\": \"#4D5663\"}, \"title\": {\"font\": {\"color\": \"#4D5663\"}, \"text\": \"\"}, \"zerolinecolor\": \"#E1E5ED\"}},\n",
       "                        {\"showLink\": true, \"linkText\": \"Export to plot.ly\", \"plotlyServerURL\": \"https://plot.ly\", \"responsive\": true}\n",
       "                    ).then(function(){\n",
       "                            \n",
       "var gd = document.getElementById('a6565520-2d95-42f4-b113-dc3a3ae68f83');\n",
       "var x = new MutationObserver(function (mutations, observer) {{\n",
       "        var display = window.getComputedStyle(gd).display;\n",
       "        if (!display || display === 'none') {{\n",
       "            console.log([gd, 'removed!']);\n",
       "            Plotly.purge(gd);\n",
       "            observer.disconnect();\n",
       "        }}\n",
       "}});\n",
       "\n",
       "// Listen for the removal of the full notebook cells\n",
       "var notebookContainer = gd.closest('#notebook-container');\n",
       "if (notebookContainer) {{\n",
       "    x.observe(notebookContainer, {childList: true});\n",
       "}}\n",
       "\n",
       "// Listen for the clearing of the current output cell\n",
       "var outputEl = gd.closest('.output');\n",
       "if (outputEl) {{\n",
       "    x.observe(outputEl, {childList: true});\n",
       "}}\n",
       "\n",
       "                        })\n",
       "                };\n",
       "                });\n",
       "            </script>\n",
       "        </div>"
      ]
     },
     "metadata": {},
     "output_type": "display_data"
    }
   ],
   "source": [
    "df.scatter_matrix()"
   ]
  }
 ],
 "metadata": {
  "kernelspec": {
   "display_name": "Python 3",
   "language": "python",
   "name": "python3"
  },
  "language_info": {
   "codemirror_mode": {
    "name": "ipython",
    "version": 3
   },
   "file_extension": ".py",
   "mimetype": "text/x-python",
   "name": "python",
   "nbconvert_exporter": "python",
   "pygments_lexer": "ipython3",
   "version": "3.7.7"
  }
 },
 "nbformat": 4,
 "nbformat_minor": 1
}
